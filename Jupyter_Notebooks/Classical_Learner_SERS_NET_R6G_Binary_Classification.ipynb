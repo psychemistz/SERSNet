{
 "cells": [
  {
   "cell_type": "markdown",
   "metadata": {},
   "source": [
    "## 1. Load Datasets"
   ]
  },
  {
   "cell_type": "code",
   "execution_count": 1,
   "metadata": {},
   "outputs": [],
   "source": [
    "## Utils\n",
    "import re\n",
    "import numpy as np\n",
    "import pandas as pd\n",
    "import itertools\n",
    "\n",
    "## Classical Learner\n",
    "from sklearn.model_selection import train_test_split\n",
    "from sklearn.svm import SVC\n",
    "from sklearn.linear_model import LogisticRegression, SGDClassifier\n",
    "from sklearn.ensemble import RandomForestClassifier\n",
    "from sklearn.model_selection import cross_val_score, cross_validate"
   ]
  },
  {
   "cell_type": "code",
   "execution_count": 2,
   "metadata": {},
   "outputs": [],
   "source": [
    "\"\"\"Dataset Parameter Setting\"\"\"\n",
    "\"\"\"Load Dataset\"\"\"\n",
    "r6g_dset = pd.read_csv(\"C:/Users/sypark/Desktop/Projects/w_MinSeok/1SERSNet/2data/_preprocessed/sersnet_devset.csv\")\n",
    "r6g_tset1 = pd.read_csv(\"C:/Users/sypark/Desktop/Projects/w_MinSeok/1SERSNet/2data/_preprocessed/sersnet_batch1_devset.csv\")\n",
    "r6g_tset2 = pd.read_csv(\"C:/Users/sypark/Desktop/Projects/w_MinSeok/1SERSNet/2data/_preprocessed/sersnet_devse_batch3_1.csv\")\n",
    "r6g_tset3 = pd.read_csv(\"C:/Users/sypark/Desktop/Projects/w_MinSeok/1SERSNet/2data/_preprocessed/sersnet_devse_batch3_2.csv\")\n",
    "r6g_tset4 = pd.read_csv(\"C:/Users/sypark/Desktop/Projects/w_MinSeok/1SERSNet/2data/_preprocessed/sersnet_devse_batch3_3.csv\")\n",
    "\n",
    "\"\"\"Set Output Path\"\"\"\n",
    "fileout = \"C:/Users/sypark/Desktop/Projects/w_MinSeok/1SERSNet/3results/R6G_Classification/raw_data/baseline_r6g_model_output_dev_to_test.csv\""
   ]
  },
  {
   "cell_type": "code",
   "execution_count": 3,
   "metadata": {},
   "outputs": [],
   "source": [
    "r6g_dset = r6g_dset.iloc[:,1:]\n",
    "r6g_tset1 = r6g_tset1.iloc[:,2:]"
   ]
  },
  {
   "cell_type": "code",
   "execution_count": 4,
   "metadata": {},
   "outputs": [],
   "source": [
    "X_dset = r6g_dset.iloc[:, 1:].to_numpy(dtype='float32')\n",
    "X_tset1 = r6g_tset1.iloc[:, 1:].to_numpy(dtype='float32')\n",
    "X_tset2 = r6g_tset2.iloc[:, 1:].to_numpy(dtype='float32')\n",
    "X_tset3 = r6g_tset3.iloc[:, 1:].to_numpy(dtype='float32')\n",
    "X_tset4 = r6g_tset4.iloc[:, 1:].to_numpy(dtype='float32')\n",
    "\n",
    "y_dset = (r6g_dset.label>=1).to_numpy(dtype='int64') ## 0: DI-water vs 1:R6G 10 mM, 10 uM\n",
    "y_tset1 = r6g_tset1.iloc[:,0].to_numpy()              ## 0: DI-water vs 1:R6G 10 mM, 10 uM\n",
    "y_tset2 = r6g_tset2.iloc[:,0].to_numpy()\n",
    "y_tset3 = r6g_tset3.iloc[:,0].to_numpy()\n",
    "y_tset4 = r6g_tset4.iloc[:,0].to_numpy()"
   ]
  },
  {
   "cell_type": "code",
   "execution_count": 5,
   "metadata": {},
   "outputs": [],
   "source": [
    "# from sklearn.decomposition import PCA\n",
    "# pca = PCA(n_components=10)\n",
    "# pca.fit(X_dset)\n",
    "# X_dset = pca.transform(X_dset)\n",
    "# X_tset1 = pca.transform(X_tset1)\n",
    "# X_tset2 = pca.transform(X_tset2)\n",
    "# X_tset3 = pca.transform(X_tset3)\n",
    "# X_tset4 = pca.transform(X_tset4)"
   ]
  },
  {
   "cell_type": "markdown",
   "metadata": {},
   "source": [
    "## 2. Train Test Split"
   ]
  },
  {
   "cell_type": "code",
   "execution_count": 6,
   "metadata": {},
   "outputs": [],
   "source": [
    "## 4.4 train and test split for Classical Learner\n",
    "X_train, X_test, y_train, y_test = train_test_split(X_dset, y_dset, test_size = 0.2, \n",
    "                                                    random_state=123)"
   ]
  },
  {
   "cell_type": "markdown",
   "metadata": {},
   "source": [
    "## 3. Classical Learner"
   ]
  },
  {
   "cell_type": "markdown",
   "metadata": {},
   "source": [
    "### 3.1 Naive Bayes"
   ]
  },
  {
   "cell_type": "code",
   "execution_count": 7,
   "metadata": {},
   "outputs": [],
   "source": [
    "from sklearn.preprocessing import StandardScaler\n",
    "from sklearn.naive_bayes import BernoulliNB"
   ]
  },
  {
   "cell_type": "code",
   "execution_count": 8,
   "metadata": {},
   "outputs": [
    {
     "data": {
      "text/plain": [
       "BernoulliNB(alpha=1.0, binarize=0.0, class_prior=None, fit_prior=True)"
      ]
     },
     "execution_count": 8,
     "metadata": {},
     "output_type": "execute_result"
    }
   ],
   "source": [
    "## Learn Classifier\n",
    "scaler = StandardScaler()\n",
    "clf = BernoulliNB()\n",
    "scaler.fit(X_train)\n",
    "X_train_sds = scaler.transform(X_train)\n",
    "X_test_sds = scaler.transform(X_test)\n",
    "clf.fit(X_train_sds, y_train)"
   ]
  },
  {
   "cell_type": "code",
   "execution_count": 9,
   "metadata": {},
   "outputs": [
    {
     "name": "stdout",
     "output_type": "stream",
     "text": [
      "\u001b[1mConfusion Matrix\u001b[0m\n",
      "[[ 94   0]\n",
      " [ 91 115]]\n",
      "\u001b[1mMetrics\u001b[0m\n",
      "ACC: 0.697\n",
      "BACC: 0.779\n",
      "F1: 0.717\n",
      "AUROC: 0.782\n",
      "AP: 0.863\n",
      "MCC: 0.533\n",
      "Precision: 1.0\n",
      "Recall: 0.558\n"
     ]
    }
   ],
   "source": [
    "### Test within batch\n",
    "from sklearn.metrics import confusion_matrix, accuracy_score, balanced_accuracy_score, f1_score \n",
    "from sklearn.metrics import roc_auc_score, precision_score, recall_score, matthews_corrcoef, average_precision_score\n",
    "\n",
    "yp_test = clf.predict(X_test_sds)\n",
    "ys_test = clf.predict_proba(X_test_sds)\n",
    "ys_test = ys_test[:,1]\n",
    "\n",
    "print('\\033[1m' + 'Confusion Matrix' + '\\033[0m')\n",
    "print(confusion_matrix(y_test, yp_test))\n",
    "\n",
    "print('\\033[1m' + 'Metrics' + '\\033[0m')\n",
    "print('ACC: {}'.format(round(accuracy_score(y_test, yp_test), 3)))\n",
    "print('BACC: {}'.format(round(balanced_accuracy_score(y_test, yp_test), 3)))\n",
    "print('F1: {}'.format(round(f1_score(y_test, yp_test),3)))\n",
    "print('AUROC: {}'.format(round(roc_auc_score(y_test, ys_test),3)))\n",
    "print('AP: {}'.format(round(average_precision_score(y_test, ys_test),3)))\n",
    "print('MCC: {}'.format(round(matthews_corrcoef(y_test, yp_test),3)))\n",
    "print('Precision: {}'.format(round(precision_score(y_test, yp_test),3)))\n",
    "print('Recall: {}'.format(round(recall_score(y_test, yp_test),3)))"
   ]
  },
  {
   "cell_type": "code",
   "execution_count": 10,
   "metadata": {},
   "outputs": [],
   "source": [
    "NB_devset_res = [round(accuracy_score(y_test, yp_test), 3), round(balanced_accuracy_score(y_test, yp_test), 3),\n",
    "                 round(f1_score(y_test, yp_test),3), round(roc_auc_score(y_test, ys_test),3),\n",
    "                 round(average_precision_score(y_test, ys_test),3), round(matthews_corrcoef(y_test, yp_test),3),\n",
    "                 round(precision_score(y_test, yp_test),3), round(recall_score(y_test, yp_test),3)]"
   ]
  },
  {
   "cell_type": "code",
   "execution_count": 11,
   "metadata": {},
   "outputs": [
    {
     "name": "stdout",
     "output_type": "stream",
     "text": [
      "\u001b[1mConfusion Matrix\u001b[0m\n",
      "[[500   0]\n",
      " [142 409]]\n",
      "\u001b[1mMetrics\u001b[0m\n",
      "ACC: 0.865\n",
      "BACC: 0.871\n",
      "F1: 0.852\n",
      "AUROC: 0.896\n",
      "AP: 0.901\n",
      "MCC: 0.76\n",
      "Precision: 1.0\n",
      "Recall: 0.742\n"
     ]
    }
   ],
   "source": [
    "### Independent Test Result\n",
    "X_tset_sds = scaler.transform(X_tset1)\n",
    "y_tset = y_tset1\n",
    "yp_test = clf.predict(X_tset_sds)\n",
    "ys_test = clf.predict_proba(X_tset_sds)\n",
    "ys_test = ys_test[:,1]\n",
    "\n",
    "print('\\033[1m' + 'Confusion Matrix' + '\\033[0m')\n",
    "print(confusion_matrix(y_tset, yp_test))\n",
    "\n",
    "print('\\033[1m' + 'Metrics' + '\\033[0m')\n",
    "print('ACC: {}'.format(round(accuracy_score(y_tset, yp_test), 3)))\n",
    "print('BACC: {}'.format(round(balanced_accuracy_score(y_tset, yp_test), 3)))\n",
    "print('F1: {}'.format(round(f1_score(y_tset, yp_test),3)))\n",
    "print('AUROC: {}'.format(round(roc_auc_score(y_tset, ys_test),3)))\n",
    "print('AP: {}'.format(round(average_precision_score(y_tset, ys_test),3)))\n",
    "print('MCC: {}'.format(round(matthews_corrcoef(y_tset, yp_test),3)))\n",
    "print('Precision: {}'.format(round(precision_score(y_tset, yp_test),3)))\n",
    "print('Recall: {}'.format(round(recall_score(y_tset, yp_test),3)))"
   ]
  },
  {
   "cell_type": "code",
   "execution_count": 12,
   "metadata": {},
   "outputs": [],
   "source": [
    "NB_tset1_res = [round(accuracy_score(y_tset, yp_test), 3), round(balanced_accuracy_score(y_tset, yp_test), 3),\n",
    "                 round(f1_score(y_tset, yp_test),3), round(roc_auc_score(y_tset, ys_test),3),\n",
    "                 round(average_precision_score(y_tset, ys_test),3), round(matthews_corrcoef(y_tset, yp_test),3),\n",
    "                 round(precision_score(y_tset, yp_test),3), round(recall_score(y_tset, yp_test),3)]"
   ]
  },
  {
   "cell_type": "code",
   "execution_count": 13,
   "metadata": {},
   "outputs": [
    {
     "name": "stdout",
     "output_type": "stream",
     "text": [
      "\u001b[1mConfusion Matrix\u001b[0m\n",
      "[[499   1]\n",
      " [  0 500]]\n",
      "\u001b[1mMetrics\u001b[0m\n",
      "ACC: 0.999\n",
      "BACC: 0.999\n",
      "F1: 0.999\n",
      "AUROC: 0.999\n",
      "AP: 0.998\n",
      "MCC: 0.998\n",
      "Precision: 0.998\n",
      "Recall: 1.0\n"
     ]
    }
   ],
   "source": [
    "### Independent Test Result\n",
    "X_tset_sds = scaler.transform(X_tset2)\n",
    "y_tset = y_tset2\n",
    "yp_test = clf.predict(X_tset_sds)\n",
    "ys_test = clf.predict_proba(X_tset_sds)\n",
    "ys_test = ys_test[:,1]\n",
    "\n",
    "print('\\033[1m' + 'Confusion Matrix' + '\\033[0m')\n",
    "print(confusion_matrix(y_tset, yp_test))\n",
    "\n",
    "print('\\033[1m' + 'Metrics' + '\\033[0m')\n",
    "print('ACC: {}'.format(round(accuracy_score(y_tset, yp_test), 3)))\n",
    "print('BACC: {}'.format(round(balanced_accuracy_score(y_tset, yp_test), 3)))\n",
    "print('F1: {}'.format(round(f1_score(y_tset, yp_test),3)))\n",
    "print('AUROC: {}'.format(round(roc_auc_score(y_tset, ys_test),3)))\n",
    "print('AP: {}'.format(round(average_precision_score(y_tset, ys_test),3)))\n",
    "print('MCC: {}'.format(round(matthews_corrcoef(y_tset, yp_test),3)))\n",
    "print('Precision: {}'.format(round(precision_score(y_tset, yp_test),3)))\n",
    "print('Recall: {}'.format(round(recall_score(y_tset, yp_test),3)))"
   ]
  },
  {
   "cell_type": "code",
   "execution_count": 14,
   "metadata": {},
   "outputs": [],
   "source": [
    "NB_tset2_res = [round(accuracy_score(y_tset, yp_test), 3), round(balanced_accuracy_score(y_tset, yp_test), 3),\n",
    "                 round(f1_score(y_tset, yp_test),3), round(roc_auc_score(y_tset, ys_test),3),\n",
    "                 round(average_precision_score(y_tset, ys_test),3), round(matthews_corrcoef(y_tset, yp_test),3),\n",
    "                 round(precision_score(y_tset, yp_test),3), round(recall_score(y_tset, yp_test),3)]"
   ]
  },
  {
   "cell_type": "code",
   "execution_count": 15,
   "metadata": {},
   "outputs": [
    {
     "name": "stdout",
     "output_type": "stream",
     "text": [
      "\u001b[1mConfusion Matrix\u001b[0m\n",
      "[[499   1]\n",
      " [500   0]]\n",
      "\u001b[1mMetrics\u001b[0m\n",
      "ACC: 0.499\n",
      "BACC: 0.499\n",
      "F1: 0.0\n",
      "AUROC: 0.499\n",
      "AP: 0.5\n",
      "MCC: -0.032\n",
      "Precision: 0.0\n",
      "Recall: 0.0\n"
     ]
    }
   ],
   "source": [
    "### Independent Test Result\n",
    "X_tset_sds = scaler.transform(X_tset3)\n",
    "y_tset = y_tset3\n",
    "yp_test = clf.predict(X_tset_sds)\n",
    "ys_test = clf.predict_proba(X_tset_sds)\n",
    "ys_test = ys_test[:,1]\n",
    "\n",
    "print('\\033[1m' + 'Confusion Matrix' + '\\033[0m')\n",
    "print(confusion_matrix(y_tset, yp_test))\n",
    "\n",
    "print('\\033[1m' + 'Metrics' + '\\033[0m')\n",
    "print('ACC: {}'.format(round(accuracy_score(y_tset, yp_test), 3)))\n",
    "print('BACC: {}'.format(round(balanced_accuracy_score(y_tset, yp_test), 3)))\n",
    "print('F1: {}'.format(round(f1_score(y_tset, yp_test),3)))\n",
    "print('AUROC: {}'.format(round(roc_auc_score(y_tset, ys_test),3)))\n",
    "print('AP: {}'.format(round(average_precision_score(y_tset, ys_test),3)))\n",
    "print('MCC: {}'.format(round(matthews_corrcoef(y_tset, yp_test),3)))\n",
    "print('Precision: {}'.format(round(precision_score(y_tset, yp_test),3)))\n",
    "print('Recall: {}'.format(round(recall_score(y_tset, yp_test),3)))"
   ]
  },
  {
   "cell_type": "code",
   "execution_count": 16,
   "metadata": {},
   "outputs": [],
   "source": [
    "NB_tset3_res = [round(accuracy_score(y_tset, yp_test), 3), round(balanced_accuracy_score(y_tset, yp_test), 3),\n",
    "                 round(f1_score(y_tset, yp_test),3), round(roc_auc_score(y_tset, ys_test),3),\n",
    "                 round(average_precision_score(y_tset, ys_test),3), round(matthews_corrcoef(y_tset, yp_test),3),\n",
    "                 round(precision_score(y_tset, yp_test),3), round(recall_score(y_tset, yp_test),3)]"
   ]
  },
  {
   "cell_type": "code",
   "execution_count": 17,
   "metadata": {},
   "outputs": [
    {
     "name": "stdout",
     "output_type": "stream",
     "text": [
      "\u001b[1mConfusion Matrix\u001b[0m\n",
      "[[499   1]\n",
      " [500   0]]\n",
      "\u001b[1mMetrics\u001b[0m\n",
      "ACC: 0.499\n",
      "BACC: 0.499\n",
      "F1: 0.0\n",
      "AUROC: 0.499\n",
      "AP: 0.5\n",
      "MCC: -0.032\n",
      "Precision: 0.0\n",
      "Recall: 0.0\n"
     ]
    }
   ],
   "source": [
    "### Independent Test Result\n",
    "X_tset_sds = scaler.transform(X_tset4)\n",
    "y_tset = y_tset4\n",
    "yp_test = clf.predict(X_tset_sds)\n",
    "ys_test = clf.predict_proba(X_tset_sds)\n",
    "ys_test = ys_test[:,1]\n",
    "\n",
    "print('\\033[1m' + 'Confusion Matrix' + '\\033[0m')\n",
    "print(confusion_matrix(y_tset, yp_test))\n",
    "\n",
    "print('\\033[1m' + 'Metrics' + '\\033[0m')\n",
    "print('ACC: {}'.format(round(accuracy_score(y_tset, yp_test), 3)))\n",
    "print('BACC: {}'.format(round(balanced_accuracy_score(y_tset, yp_test), 3)))\n",
    "print('F1: {}'.format(round(f1_score(y_tset, yp_test),3)))\n",
    "print('AUROC: {}'.format(round(roc_auc_score(y_tset, ys_test),3)))\n",
    "print('AP: {}'.format(round(average_precision_score(y_tset, ys_test),3)))\n",
    "print('MCC: {}'.format(round(matthews_corrcoef(y_tset, yp_test),3)))\n",
    "print('Precision: {}'.format(round(precision_score(y_tset, yp_test),3)))\n",
    "print('Recall: {}'.format(round(recall_score(y_tset, yp_test),3)))"
   ]
  },
  {
   "cell_type": "code",
   "execution_count": 18,
   "metadata": {},
   "outputs": [],
   "source": [
    "NB_tset4_res = [round(accuracy_score(y_tset, yp_test), 3), round(balanced_accuracy_score(y_tset, yp_test), 3),\n",
    "                 round(f1_score(y_tset, yp_test),3), round(roc_auc_score(y_tset, ys_test),3),\n",
    "                 round(average_precision_score(y_tset, ys_test),3), round(matthews_corrcoef(y_tset, yp_test),3),\n",
    "                 round(precision_score(y_tset, yp_test),3), round(recall_score(y_tset, yp_test),3)]"
   ]
  },
  {
   "cell_type": "code",
   "execution_count": 19,
   "metadata": {},
   "outputs": [],
   "source": [
    "outF = open(fileout, \"a\")\n",
    "outF.write(\"Naive Bayes, \")\n",
    "outF.write(\"ACC, BACC, F1, AUROC, Average_Precision, MCC, Precision, Recall\\n\")\n",
    "outF.write('DevSet, ')\n",
    "outF.write(', '.join(map(str, NB_devset_res)))\n",
    "outF.write('\\n')\n",
    "outF.write('IndSet1, ')\n",
    "outF.write(', '.join(map(str, NB_tset1_res)))\n",
    "outF.write('\\n')\n",
    "outF.write('IndSet2, ')\n",
    "outF.write(', '.join(map(str, NB_tset2_res)))\n",
    "outF.write('\\n')\n",
    "outF.write('IndSet3, ')\n",
    "outF.write(', '.join(map(str, NB_tset3_res)))\n",
    "outF.write('\\n')\n",
    "outF.write('IndSet4, ')\n",
    "outF.write(', '.join(map(str, NB_tset4_res)))\n",
    "outF.write('\\n')\n",
    "outF.close()"
   ]
  },
  {
   "cell_type": "markdown",
   "metadata": {},
   "source": [
    "### 3.2 Decision Tree"
   ]
  },
  {
   "cell_type": "code",
   "execution_count": 20,
   "metadata": {},
   "outputs": [],
   "source": [
    "from sklearn.preprocessing import StandardScaler\n",
    "from sklearn.tree import DecisionTreeClassifier"
   ]
  },
  {
   "cell_type": "code",
   "execution_count": 21,
   "metadata": {},
   "outputs": [
    {
     "data": {
      "text/plain": [
       "DecisionTreeClassifier(ccp_alpha=0.0, class_weight=None, criterion='gini',\n",
       "                       max_depth=None, max_features=None, max_leaf_nodes=None,\n",
       "                       min_impurity_decrease=0.0, min_impurity_split=None,\n",
       "                       min_samples_leaf=1, min_samples_split=2,\n",
       "                       min_weight_fraction_leaf=0.0, presort='deprecated',\n",
       "                       random_state=None, splitter='best')"
      ]
     },
     "execution_count": 21,
     "metadata": {},
     "output_type": "execute_result"
    }
   ],
   "source": [
    "## Learn Classifier\n",
    "scaler = StandardScaler()\n",
    "clf = DecisionTreeClassifier()\n",
    "scaler.fit(X_train)\n",
    "X_train_sds = scaler.transform(X_train)\n",
    "X_test_sds = scaler.transform(X_test)\n",
    "clf.fit(X_train_sds, y_train)"
   ]
  },
  {
   "cell_type": "code",
   "execution_count": 22,
   "metadata": {},
   "outputs": [
    {
     "name": "stdout",
     "output_type": "stream",
     "text": [
      "\u001b[1mConfusion Matrix\u001b[0m\n",
      "[[ 94   0]\n",
      " [  1 205]]\n",
      "\u001b[1mMetrics\u001b[0m\n",
      "ACC: 0.997\n",
      "BACC: 0.998\n",
      "F1: 0.998\n",
      "AUROC: 0.998\n",
      "AP: 0.998\n",
      "MCC: 0.992\n",
      "Precision: 1.0\n",
      "Recall: 0.995\n"
     ]
    }
   ],
   "source": [
    "### Test within batch\n",
    "from sklearn.metrics import confusion_matrix, accuracy_score, balanced_accuracy_score, f1_score \n",
    "from sklearn.metrics import roc_auc_score, precision_score, recall_score, matthews_corrcoef, average_precision_score\n",
    "\n",
    "yp_test = clf.predict(X_test_sds)\n",
    "ys_test = clf.predict_proba(X_test_sds)\n",
    "ys_test = ys_test[:,1]\n",
    "\n",
    "print('\\033[1m' + 'Confusion Matrix' + '\\033[0m')\n",
    "print(confusion_matrix(y_test, yp_test))\n",
    "\n",
    "print('\\033[1m' + 'Metrics' + '\\033[0m')\n",
    "print('ACC: {}'.format(round(accuracy_score(y_test, yp_test), 3)))\n",
    "print('BACC: {}'.format(round(balanced_accuracy_score(y_test, yp_test), 3)))\n",
    "print('F1: {}'.format(round(f1_score(y_test, yp_test),3)))\n",
    "print('AUROC: {}'.format(round(roc_auc_score(y_test, ys_test),3)))\n",
    "print('AP: {}'.format(round(average_precision_score(y_test, yp_test),3)))\n",
    "print('MCC: {}'.format(round(matthews_corrcoef(y_test, yp_test),3)))\n",
    "print('Precision: {}'.format(round(precision_score(y_test, yp_test),3)))\n",
    "print('Recall: {}'.format(round(recall_score(y_test, yp_test),3)))"
   ]
  },
  {
   "cell_type": "code",
   "execution_count": 23,
   "metadata": {},
   "outputs": [],
   "source": [
    "DT_devset_res = [round(accuracy_score(y_test, yp_test), 3), round(balanced_accuracy_score(y_test, yp_test), 3),\n",
    "                 round(f1_score(y_test, yp_test),3), round(roc_auc_score(y_test, ys_test),3),\n",
    "                 round(average_precision_score(y_test, ys_test),3), round(matthews_corrcoef(y_test, yp_test),3),\n",
    "                 round(precision_score(y_test, yp_test),3), round(recall_score(y_test, yp_test),3)]"
   ]
  },
  {
   "cell_type": "code",
   "execution_count": 24,
   "metadata": {},
   "outputs": [
    {
     "name": "stdout",
     "output_type": "stream",
     "text": [
      "\u001b[1mConfusion Matrix\u001b[0m\n",
      "[[500   0]\n",
      " [ 81 470]]\n",
      "\u001b[1mMetrics\u001b[0m\n",
      "ACC: 0.923\n",
      "BACC: 0.926\n",
      "F1: 0.921\n",
      "AUROC: 0.926\n",
      "AP: 0.93\n",
      "MCC: 0.857\n",
      "Precision: 1.0\n",
      "Recall: 0.853\n"
     ]
    }
   ],
   "source": [
    "### Independent Test Result\n",
    "X_tset_sds = scaler.transform(X_tset1)\n",
    "y_tset = y_tset1\n",
    "yp_test = clf.predict(X_tset_sds)\n",
    "ys_test = clf.predict_proba(X_tset_sds)\n",
    "ys_test = ys_test[:,1]\n",
    "\n",
    "print('\\033[1m' + 'Confusion Matrix' + '\\033[0m')\n",
    "print(confusion_matrix(y_tset, yp_test))\n",
    "\n",
    "print('\\033[1m' + 'Metrics' + '\\033[0m')\n",
    "print('ACC: {}'.format(round(accuracy_score(y_tset, yp_test), 3)))\n",
    "print('BACC: {}'.format(round(balanced_accuracy_score(y_tset, yp_test), 3)))\n",
    "print('F1: {}'.format(round(f1_score(y_tset, yp_test),3)))\n",
    "print('AUROC: {}'.format(round(roc_auc_score(y_tset, ys_test),3)))\n",
    "print('AP: {}'.format(round(average_precision_score(y_tset, ys_test),3)))\n",
    "print('MCC: {}'.format(round(matthews_corrcoef(y_tset, yp_test),3)))\n",
    "print('Precision: {}'.format(round(precision_score(y_tset, yp_test),3)))\n",
    "print('Recall: {}'.format(round(recall_score(y_tset, yp_test),3)))"
   ]
  },
  {
   "cell_type": "code",
   "execution_count": 25,
   "metadata": {},
   "outputs": [],
   "source": [
    "DT_tset1_res = [round(accuracy_score(y_tset, yp_test), 3), round(balanced_accuracy_score(y_tset, yp_test), 3),\n",
    "                 round(f1_score(y_tset, yp_test),3), round(roc_auc_score(y_tset, ys_test),3),\n",
    "                 round(average_precision_score(y_tset, ys_test),3), round(matthews_corrcoef(y_tset, yp_test),3),\n",
    "                 round(precision_score(y_tset, yp_test),3), round(recall_score(y_tset, yp_test),3)]"
   ]
  },
  {
   "cell_type": "code",
   "execution_count": 26,
   "metadata": {},
   "outputs": [
    {
     "name": "stdout",
     "output_type": "stream",
     "text": [
      "\u001b[1mConfusion Matrix\u001b[0m\n",
      "[[485  15]\n",
      " [  0 500]]\n",
      "\u001b[1mMetrics\u001b[0m\n",
      "ACC: 0.985\n",
      "BACC: 0.985\n",
      "F1: 0.985\n",
      "AUROC: 0.985\n",
      "AP: 0.971\n",
      "MCC: 0.97\n",
      "Precision: 0.971\n",
      "Recall: 1.0\n"
     ]
    }
   ],
   "source": [
    "### Independent Test Result\n",
    "X_tset_sds = scaler.transform(X_tset2)\n",
    "y_tset = y_tset2\n",
    "yp_test = clf.predict(X_tset_sds)\n",
    "ys_test = clf.predict_proba(X_tset_sds)\n",
    "ys_test = ys_test[:,1]\n",
    "\n",
    "print('\\033[1m' + 'Confusion Matrix' + '\\033[0m')\n",
    "print(confusion_matrix(y_tset, yp_test))\n",
    "\n",
    "print('\\033[1m' + 'Metrics' + '\\033[0m')\n",
    "print('ACC: {}'.format(round(accuracy_score(y_tset, yp_test), 3)))\n",
    "print('BACC: {}'.format(round(balanced_accuracy_score(y_tset, yp_test), 3)))\n",
    "print('F1: {}'.format(round(f1_score(y_tset, yp_test),3)))\n",
    "print('AUROC: {}'.format(round(roc_auc_score(y_tset, ys_test),3)))\n",
    "print('AP: {}'.format(round(average_precision_score(y_tset, ys_test),3)))\n",
    "print('MCC: {}'.format(round(matthews_corrcoef(y_tset, yp_test),3)))\n",
    "print('Precision: {}'.format(round(precision_score(y_tset, yp_test),3)))\n",
    "print('Recall: {}'.format(round(recall_score(y_tset, yp_test),3)))"
   ]
  },
  {
   "cell_type": "code",
   "execution_count": 27,
   "metadata": {},
   "outputs": [],
   "source": [
    "DT_tset2_res = [round(accuracy_score(y_tset, yp_test), 3), round(balanced_accuracy_score(y_tset, yp_test), 3),\n",
    "                 round(f1_score(y_tset, yp_test),3), round(roc_auc_score(y_tset, ys_test),3),\n",
    "                 round(average_precision_score(y_tset, ys_test),3), round(matthews_corrcoef(y_tset, yp_test),3),\n",
    "                 round(precision_score(y_tset, yp_test),3), round(recall_score(y_tset, yp_test),3)]"
   ]
  },
  {
   "cell_type": "code",
   "execution_count": 28,
   "metadata": {},
   "outputs": [
    {
     "name": "stdout",
     "output_type": "stream",
     "text": [
      "\u001b[1mConfusion Matrix\u001b[0m\n",
      "[[485  15]\n",
      " [  0 500]]\n",
      "\u001b[1mMetrics\u001b[0m\n",
      "ACC: 0.985\n",
      "BACC: 0.985\n",
      "F1: 0.985\n",
      "AUROC: 0.985\n",
      "AP: 0.971\n",
      "MCC: 0.97\n",
      "Precision: 0.971\n",
      "Recall: 1.0\n"
     ]
    }
   ],
   "source": [
    "### Independent Test Result\n",
    "X_tset_sds = scaler.transform(X_tset3)\n",
    "y_tset = y_tset3\n",
    "yp_test = clf.predict(X_tset_sds)\n",
    "ys_test = clf.predict_proba(X_tset_sds)\n",
    "ys_test = ys_test[:,1]\n",
    "\n",
    "print('\\033[1m' + 'Confusion Matrix' + '\\033[0m')\n",
    "print(confusion_matrix(y_tset, yp_test))\n",
    "\n",
    "print('\\033[1m' + 'Metrics' + '\\033[0m')\n",
    "print('ACC: {}'.format(round(accuracy_score(y_tset, yp_test), 3)))\n",
    "print('BACC: {}'.format(round(balanced_accuracy_score(y_tset, yp_test), 3)))\n",
    "print('F1: {}'.format(round(f1_score(y_tset, yp_test),3)))\n",
    "print('AUROC: {}'.format(round(roc_auc_score(y_tset, ys_test),3)))\n",
    "print('AP: {}'.format(round(average_precision_score(y_tset, ys_test),3)))\n",
    "print('MCC: {}'.format(round(matthews_corrcoef(y_tset, yp_test),3)))\n",
    "print('Precision: {}'.format(round(precision_score(y_tset, yp_test),3)))\n",
    "print('Recall: {}'.format(round(recall_score(y_tset, yp_test),3)))"
   ]
  },
  {
   "cell_type": "code",
   "execution_count": 29,
   "metadata": {},
   "outputs": [],
   "source": [
    "DT_tset3_res = [round(accuracy_score(y_tset, yp_test), 3), round(balanced_accuracy_score(y_tset, yp_test), 3),\n",
    "                 round(f1_score(y_tset, yp_test),3), round(roc_auc_score(y_tset, ys_test),3),\n",
    "                 round(average_precision_score(y_tset, ys_test),3), round(matthews_corrcoef(y_tset, yp_test),3),\n",
    "                 round(precision_score(y_tset, yp_test),3), round(recall_score(y_tset, yp_test),3)]"
   ]
  },
  {
   "cell_type": "code",
   "execution_count": 30,
   "metadata": {},
   "outputs": [
    {
     "name": "stdout",
     "output_type": "stream",
     "text": [
      "\u001b[1mConfusion Matrix\u001b[0m\n",
      "[[485  15]\n",
      " [  0 500]]\n",
      "\u001b[1mMetrics\u001b[0m\n",
      "ACC: 0.985\n",
      "BACC: 0.985\n",
      "F1: 0.985\n",
      "AUROC: 0.985\n",
      "AP: 0.971\n",
      "MCC: 0.97\n",
      "Precision: 0.971\n",
      "Recall: 1.0\n"
     ]
    }
   ],
   "source": [
    "### Independent Test Result\n",
    "X_tset_sds = scaler.transform(X_tset4)\n",
    "y_tset = y_tset4\n",
    "yp_test = clf.predict(X_tset_sds)\n",
    "ys_test = clf.predict_proba(X_tset_sds)\n",
    "ys_test = ys_test[:,1]\n",
    "\n",
    "print('\\033[1m' + 'Confusion Matrix' + '\\033[0m')\n",
    "print(confusion_matrix(y_tset, yp_test))\n",
    "\n",
    "print('\\033[1m' + 'Metrics' + '\\033[0m')\n",
    "print('ACC: {}'.format(round(accuracy_score(y_tset, yp_test), 3)))\n",
    "print('BACC: {}'.format(round(balanced_accuracy_score(y_tset, yp_test), 3)))\n",
    "print('F1: {}'.format(round(f1_score(y_tset, yp_test),3)))\n",
    "print('AUROC: {}'.format(round(roc_auc_score(y_tset, ys_test),3)))\n",
    "print('AP: {}'.format(round(average_precision_score(y_tset, ys_test),3)))\n",
    "print('MCC: {}'.format(round(matthews_corrcoef(y_tset, yp_test),3)))\n",
    "print('Precision: {}'.format(round(precision_score(y_tset, yp_test),3)))\n",
    "print('Recall: {}'.format(round(recall_score(y_tset, yp_test),3)))"
   ]
  },
  {
   "cell_type": "code",
   "execution_count": 31,
   "metadata": {},
   "outputs": [],
   "source": [
    "DT_tset4_res = [round(accuracy_score(y_tset, yp_test), 3), round(balanced_accuracy_score(y_tset, yp_test), 3),\n",
    "                 round(f1_score(y_tset, yp_test),3), round(roc_auc_score(y_tset, ys_test),3),\n",
    "                 round(average_precision_score(y_tset, ys_test),3), round(matthews_corrcoef(y_tset, yp_test),3),\n",
    "                 round(precision_score(y_tset, yp_test),3), round(recall_score(y_tset, yp_test),3)]"
   ]
  },
  {
   "cell_type": "code",
   "execution_count": 32,
   "metadata": {},
   "outputs": [],
   "source": [
    "outF = open(fileout, \"a\")\n",
    "outF.write(\"Decision_Tree, \")\n",
    "outF.write(\"ACC, BACC, F1, AUROC, Average_Precision, MCC, Precision, Recall\\n\")\n",
    "outF.write('DevSet, ')\n",
    "outF.write(', '.join(map(str, DT_devset_res)))\n",
    "outF.write('\\n')\n",
    "outF.write('IndSet1, ')\n",
    "outF.write(', '.join(map(str, DT_tset1_res)))\n",
    "outF.write('\\n')\n",
    "outF.write('IndSet2, ')\n",
    "outF.write(', '.join(map(str, DT_tset2_res)))\n",
    "outF.write('\\n')\n",
    "outF.write('IndSet3, ')\n",
    "outF.write(', '.join(map(str, DT_tset3_res)))\n",
    "outF.write('\\n')\n",
    "outF.write('IndSet4, ')\n",
    "outF.write(', '.join(map(str, DT_tset4_res)))\n",
    "outF.write('\\n')\n",
    "outF.close()"
   ]
  },
  {
   "cell_type": "markdown",
   "metadata": {},
   "source": [
    "### 3.3 Logistic Regression Classifier"
   ]
  },
  {
   "cell_type": "code",
   "execution_count": 33,
   "metadata": {},
   "outputs": [],
   "source": [
    "from sklearn.preprocessing import StandardScaler\n",
    "from sklearn.linear_model import LogisticRegression"
   ]
  },
  {
   "cell_type": "code",
   "execution_count": 34,
   "metadata": {},
   "outputs": [
    {
     "name": "stderr",
     "output_type": "stream",
     "text": [
      "C:\\ProgramData\\Anaconda3\\lib\\site-packages\\sklearn\\linear_model\\_logistic.py:940: ConvergenceWarning: lbfgs failed to converge (status=1):\n",
      "STOP: TOTAL NO. of ITERATIONS REACHED LIMIT.\n",
      "\n",
      "Increase the number of iterations (max_iter) or scale the data as shown in:\n",
      "    https://scikit-learn.org/stable/modules/preprocessing.html\n",
      "Please also refer to the documentation for alternative solver options:\n",
      "    https://scikit-learn.org/stable/modules/linear_model.html#logistic-regression\n",
      "  extra_warning_msg=_LOGISTIC_SOLVER_CONVERGENCE_MSG)\n"
     ]
    },
    {
     "data": {
      "text/plain": [
       "LogisticRegression(C=1.0, class_weight=None, dual=False, fit_intercept=True,\n",
       "                   intercept_scaling=1, l1_ratio=None, max_iter=100,\n",
       "                   multi_class='auto', n_jobs=None, penalty='l2',\n",
       "                   random_state=None, solver='lbfgs', tol=0.0001, verbose=0,\n",
       "                   warm_start=False)"
      ]
     },
     "execution_count": 34,
     "metadata": {},
     "output_type": "execute_result"
    }
   ],
   "source": [
    "## Learn Classifier\n",
    "scaler = StandardScaler()\n",
    "clf = LogisticRegression()\n",
    "scaler.fit(X_train)\n",
    "X_train_sds = scaler.transform(X_train)\n",
    "X_test_sds = scaler.transform(X_test)\n",
    "clf.fit(X_train_sds, y_train)"
   ]
  },
  {
   "cell_type": "code",
   "execution_count": 35,
   "metadata": {},
   "outputs": [
    {
     "name": "stdout",
     "output_type": "stream",
     "text": [
      "\u001b[1mConfusion Matrix\u001b[0m\n",
      "[[ 94   0]\n",
      " [  0 206]]\n",
      "\u001b[1mMetrics\u001b[0m\n",
      "ACC: 1.0\n",
      "BACC: 1.0\n",
      "F1: 1.0\n",
      "AUROC: 1.0\n",
      "AP: 1.0\n",
      "MCC: 1.0\n",
      "Precision: 1.0\n",
      "Recall: 1.0\n"
     ]
    }
   ],
   "source": [
    "### Test within batch\n",
    "from sklearn.metrics import confusion_matrix, accuracy_score, balanced_accuracy_score, f1_score \n",
    "from sklearn.metrics import roc_auc_score, precision_score, recall_score, matthews_corrcoef, average_precision_score\n",
    "\n",
    "yp_test = clf.predict(X_test_sds)\n",
    "ys_test = clf.predict_proba(X_test_sds)\n",
    "ys_test = ys_test[:,1]\n",
    "\n",
    "print('\\033[1m' + 'Confusion Matrix' + '\\033[0m')\n",
    "print(confusion_matrix(y_test, yp_test))\n",
    "\n",
    "print('\\033[1m' + 'Metrics' + '\\033[0m')\n",
    "print('ACC: {}'.format(round(accuracy_score(y_test, yp_test), 3)))\n",
    "print('BACC: {}'.format(round(balanced_accuracy_score(y_test, yp_test), 3)))\n",
    "print('F1: {}'.format(round(f1_score(y_test, yp_test),3)))\n",
    "print('AUROC: {}'.format(round(roc_auc_score(y_test, ys_test),3)))\n",
    "print('AP: {}'.format(round(average_precision_score(y_test, yp_test),3)))\n",
    "print('MCC: {}'.format(round(matthews_corrcoef(y_test, yp_test),3)))\n",
    "print('Precision: {}'.format(round(precision_score(y_test, yp_test),3)))\n",
    "print('Recall: {}'.format(round(recall_score(y_test, yp_test),3)))"
   ]
  },
  {
   "cell_type": "code",
   "execution_count": 36,
   "metadata": {},
   "outputs": [],
   "source": [
    "LR_devset_res = [round(accuracy_score(y_test, yp_test), 3), round(balanced_accuracy_score(y_test, yp_test), 3),\n",
    "                 round(f1_score(y_test, yp_test),3), round(roc_auc_score(y_test, ys_test),3),\n",
    "                 round(average_precision_score(y_test, ys_test),3), round(matthews_corrcoef(y_test, yp_test),3),\n",
    "                 round(precision_score(y_test, yp_test),3), round(recall_score(y_test, yp_test),3)]"
   ]
  },
  {
   "cell_type": "code",
   "execution_count": 37,
   "metadata": {},
   "outputs": [
    {
     "name": "stdout",
     "output_type": "stream",
     "text": [
      "\u001b[1mConfusion Matrix\u001b[0m\n",
      "[[500   0]\n",
      " [  0 551]]\n",
      "\u001b[1mMetrics\u001b[0m\n",
      "ACC: 1.0\n",
      "BACC: 1.0\n",
      "F1: 1.0\n",
      "AUROC: 1.0\n",
      "AP: 1.0\n",
      "MCC: 1.0\n",
      "Precision: 1.0\n",
      "Recall: 1.0\n"
     ]
    }
   ],
   "source": [
    "### Independent Test Result\n",
    "X_tset_sds = scaler.transform(X_tset1)\n",
    "y_tset = y_tset1\n",
    "yp_test = clf.predict(X_tset_sds)\n",
    "ys_test = clf.predict_proba(X_tset_sds)\n",
    "ys_test = ys_test[:,1]\n",
    "\n",
    "print('\\033[1m' + 'Confusion Matrix' + '\\033[0m')\n",
    "print(confusion_matrix(y_tset, yp_test))\n",
    "\n",
    "print('\\033[1m' + 'Metrics' + '\\033[0m')\n",
    "print('ACC: {}'.format(round(accuracy_score(y_tset, yp_test), 3)))\n",
    "print('BACC: {}'.format(round(balanced_accuracy_score(y_tset, yp_test), 3)))\n",
    "print('F1: {}'.format(round(f1_score(y_tset, yp_test),3)))\n",
    "print('AUROC: {}'.format(round(roc_auc_score(y_tset, ys_test),3)))\n",
    "print('AP: {}'.format(round(average_precision_score(y_tset, ys_test),3)))\n",
    "print('MCC: {}'.format(round(matthews_corrcoef(y_tset, yp_test),3)))\n",
    "print('Precision: {}'.format(round(precision_score(y_tset, yp_test),3)))\n",
    "print('Recall: {}'.format(round(recall_score(y_tset, yp_test),3)))"
   ]
  },
  {
   "cell_type": "code",
   "execution_count": 38,
   "metadata": {},
   "outputs": [],
   "source": [
    "LR_tset1_res = [round(accuracy_score(y_tset, yp_test), 3), round(balanced_accuracy_score(y_tset, yp_test), 3),\n",
    "                 round(f1_score(y_tset, yp_test),3), round(roc_auc_score(y_tset, ys_test),3),\n",
    "                 round(average_precision_score(y_tset, ys_test),3), round(matthews_corrcoef(y_tset, yp_test),3),\n",
    "                 round(precision_score(y_tset, yp_test),3), round(recall_score(y_tset, yp_test),3)]"
   ]
  },
  {
   "cell_type": "code",
   "execution_count": 39,
   "metadata": {},
   "outputs": [
    {
     "name": "stdout",
     "output_type": "stream",
     "text": [
      "\u001b[1mConfusion Matrix\u001b[0m\n",
      "[[500   0]\n",
      " [  0 500]]\n",
      "\u001b[1mMetrics\u001b[0m\n",
      "ACC: 1.0\n",
      "BACC: 1.0\n",
      "F1: 1.0\n",
      "AUROC: 1.0\n",
      "AP: 1.0\n",
      "MCC: 1.0\n",
      "Precision: 1.0\n",
      "Recall: 1.0\n"
     ]
    }
   ],
   "source": [
    "### Independent Test Result\n",
    "X_tset_sds = scaler.transform(X_tset2)\n",
    "y_tset = y_tset2\n",
    "yp_test = clf.predict(X_tset_sds)\n",
    "ys_test = clf.predict_proba(X_tset_sds)\n",
    "ys_test = ys_test[:,1]\n",
    "\n",
    "print('\\033[1m' + 'Confusion Matrix' + '\\033[0m')\n",
    "print(confusion_matrix(y_tset, yp_test))\n",
    "\n",
    "print('\\033[1m' + 'Metrics' + '\\033[0m')\n",
    "print('ACC: {}'.format(round(accuracy_score(y_tset, yp_test), 3)))\n",
    "print('BACC: {}'.format(round(balanced_accuracy_score(y_tset, yp_test), 3)))\n",
    "print('F1: {}'.format(round(f1_score(y_tset, yp_test),3)))\n",
    "print('AUROC: {}'.format(round(roc_auc_score(y_tset, ys_test),3)))\n",
    "print('AP: {}'.format(round(average_precision_score(y_tset, ys_test),3)))\n",
    "print('MCC: {}'.format(round(matthews_corrcoef(y_tset, yp_test),3)))\n",
    "print('Precision: {}'.format(round(precision_score(y_tset, yp_test),3)))\n",
    "print('Recall: {}'.format(round(recall_score(y_tset, yp_test),3)))"
   ]
  },
  {
   "cell_type": "code",
   "execution_count": 40,
   "metadata": {},
   "outputs": [],
   "source": [
    "LR_tset2_res = [round(accuracy_score(y_tset, yp_test), 3), round(balanced_accuracy_score(y_tset, yp_test), 3),\n",
    "                 round(f1_score(y_tset, yp_test),3), round(roc_auc_score(y_tset, ys_test),3),\n",
    "                 round(average_precision_score(y_tset, ys_test),3), round(matthews_corrcoef(y_tset, yp_test),3),\n",
    "                 round(precision_score(y_tset, yp_test),3), round(recall_score(y_tset, yp_test),3)]"
   ]
  },
  {
   "cell_type": "code",
   "execution_count": 41,
   "metadata": {},
   "outputs": [
    {
     "name": "stdout",
     "output_type": "stream",
     "text": [
      "\u001b[1mConfusion Matrix\u001b[0m\n",
      "[[500   0]\n",
      " [  0 500]]\n",
      "\u001b[1mMetrics\u001b[0m\n",
      "ACC: 1.0\n",
      "BACC: 1.0\n",
      "F1: 1.0\n",
      "AUROC: 1.0\n",
      "AP: 1.0\n",
      "MCC: 1.0\n",
      "Precision: 1.0\n",
      "Recall: 1.0\n"
     ]
    }
   ],
   "source": [
    "### Independent Test Result\n",
    "X_tset_sds = scaler.transform(X_tset3)\n",
    "y_tset = y_tset3\n",
    "yp_test = clf.predict(X_tset_sds)\n",
    "ys_test = clf.predict_proba(X_tset_sds)\n",
    "ys_test = ys_test[:,1]\n",
    "\n",
    "print('\\033[1m' + 'Confusion Matrix' + '\\033[0m')\n",
    "print(confusion_matrix(y_tset, yp_test))\n",
    "\n",
    "print('\\033[1m' + 'Metrics' + '\\033[0m')\n",
    "print('ACC: {}'.format(round(accuracy_score(y_tset, yp_test), 3)))\n",
    "print('BACC: {}'.format(round(balanced_accuracy_score(y_tset, yp_test), 3)))\n",
    "print('F1: {}'.format(round(f1_score(y_tset, yp_test),3)))\n",
    "print('AUROC: {}'.format(round(roc_auc_score(y_tset, ys_test),3)))\n",
    "print('AP: {}'.format(round(average_precision_score(y_tset, ys_test),3)))\n",
    "print('MCC: {}'.format(round(matthews_corrcoef(y_tset, yp_test),3)))\n",
    "print('Precision: {}'.format(round(precision_score(y_tset, yp_test),3)))\n",
    "print('Recall: {}'.format(round(recall_score(y_tset, yp_test),3)))"
   ]
  },
  {
   "cell_type": "code",
   "execution_count": 42,
   "metadata": {},
   "outputs": [],
   "source": [
    "LR_tset3_res = [round(accuracy_score(y_tset, yp_test), 3), round(balanced_accuracy_score(y_tset, yp_test), 3),\n",
    "                 round(f1_score(y_tset, yp_test),3), round(roc_auc_score(y_tset, ys_test),3),\n",
    "                 round(average_precision_score(y_tset, ys_test),3), round(matthews_corrcoef(y_tset, yp_test),3),\n",
    "                 round(precision_score(y_tset, yp_test),3), round(recall_score(y_tset, yp_test),3)]"
   ]
  },
  {
   "cell_type": "code",
   "execution_count": 43,
   "metadata": {},
   "outputs": [
    {
     "name": "stdout",
     "output_type": "stream",
     "text": [
      "\u001b[1mConfusion Matrix\u001b[0m\n",
      "[[500   0]\n",
      " [  0 500]]\n",
      "\u001b[1mMetrics\u001b[0m\n",
      "ACC: 1.0\n",
      "BACC: 1.0\n",
      "F1: 1.0\n",
      "AUROC: 1.0\n",
      "AP: 1.0\n",
      "MCC: 1.0\n",
      "Precision: 1.0\n",
      "Recall: 1.0\n"
     ]
    }
   ],
   "source": [
    "### Independent Test Result\n",
    "X_tset_sds = scaler.transform(X_tset4)\n",
    "y_tset = y_tset4\n",
    "yp_test = clf.predict(X_tset_sds)\n",
    "ys_test = clf.predict_proba(X_tset_sds)\n",
    "ys_test = ys_test[:,1]\n",
    "\n",
    "print('\\033[1m' + 'Confusion Matrix' + '\\033[0m')\n",
    "print(confusion_matrix(y_tset, yp_test))\n",
    "\n",
    "print('\\033[1m' + 'Metrics' + '\\033[0m')\n",
    "print('ACC: {}'.format(round(accuracy_score(y_tset, yp_test), 3)))\n",
    "print('BACC: {}'.format(round(balanced_accuracy_score(y_tset, yp_test), 3)))\n",
    "print('F1: {}'.format(round(f1_score(y_tset, yp_test),3)))\n",
    "print('AUROC: {}'.format(round(roc_auc_score(y_tset, ys_test),3)))\n",
    "print('AP: {}'.format(round(average_precision_score(y_tset, ys_test),3)))\n",
    "print('MCC: {}'.format(round(matthews_corrcoef(y_tset, yp_test),3)))\n",
    "print('Precision: {}'.format(round(precision_score(y_tset, yp_test),3)))\n",
    "print('Recall: {}'.format(round(recall_score(y_tset, yp_test),3)))"
   ]
  },
  {
   "cell_type": "code",
   "execution_count": 44,
   "metadata": {},
   "outputs": [],
   "source": [
    "LR_tset4_res = [round(accuracy_score(y_tset, yp_test), 3), round(balanced_accuracy_score(y_tset, yp_test), 3),\n",
    "                 round(f1_score(y_tset, yp_test),3), round(roc_auc_score(y_tset, ys_test),3),\n",
    "                 round(average_precision_score(y_tset, ys_test),3), round(matthews_corrcoef(y_tset, yp_test),3),\n",
    "                 round(precision_score(y_tset, yp_test),3), round(recall_score(y_tset, yp_test),3)]"
   ]
  },
  {
   "cell_type": "code",
   "execution_count": 45,
   "metadata": {},
   "outputs": [],
   "source": [
    "outF = open(fileout, \"a\")\n",
    "outF.write(\"Logistic_Regression, \")\n",
    "outF.write(\"ACC, BACC, F1, AUROC, Average_Precision, MCC, Precision, Recall\\n\")\n",
    "outF.write('DevSet, ')\n",
    "outF.write(', '.join(map(str, LR_devset_res)))\n",
    "outF.write('\\n')\n",
    "outF.write('IndSet1, ')\n",
    "outF.write(', '.join(map(str, LR_tset1_res)))\n",
    "outF.write('\\n')\n",
    "outF.write('IndSet2, ')\n",
    "outF.write(', '.join(map(str, LR_tset2_res)))\n",
    "outF.write('\\n')\n",
    "outF.write('IndSet3, ')\n",
    "outF.write(', '.join(map(str, LR_tset3_res)))\n",
    "outF.write('\\n')\n",
    "outF.write('IndSet4, ')\n",
    "outF.write(', '.join(map(str, LR_tset4_res)))\n",
    "outF.write('\\n')\n",
    "outF.close()"
   ]
  },
  {
   "cell_type": "markdown",
   "metadata": {},
   "source": [
    "### 3.3 Logistic Regression with CV"
   ]
  },
  {
   "cell_type": "code",
   "execution_count": 46,
   "metadata": {},
   "outputs": [],
   "source": [
    "from sklearn.preprocessing import StandardScaler\n",
    "from sklearn.linear_model import LogisticRegressionCV"
   ]
  },
  {
   "cell_type": "code",
   "execution_count": 47,
   "metadata": {},
   "outputs": [
    {
     "data": {
      "text/plain": [
       "LogisticRegressionCV(Cs=10, class_weight=None, cv=None, dual=False,\n",
       "                     fit_intercept=True, intercept_scaling=1.0, l1_ratios=None,\n",
       "                     max_iter=100, multi_class='auto', n_jobs=None,\n",
       "                     penalty='l2', random_state=None, refit=True, scoring=None,\n",
       "                     solver='lbfgs', tol=0.0001, verbose=0)"
      ]
     },
     "execution_count": 47,
     "metadata": {},
     "output_type": "execute_result"
    }
   ],
   "source": [
    "## Learn Classifier\n",
    "scaler = StandardScaler()\n",
    "clf = LogisticRegressionCV()\n",
    "scaler.fit(X_train)\n",
    "X_train_sds = scaler.transform(X_train)\n",
    "X_test_sds = scaler.transform(X_test)\n",
    "clf.fit(X_train_sds, y_train)"
   ]
  },
  {
   "cell_type": "code",
   "execution_count": 48,
   "metadata": {},
   "outputs": [
    {
     "name": "stdout",
     "output_type": "stream",
     "text": [
      "\u001b[1mConfusion Matrix\u001b[0m\n",
      "[[ 94   0]\n",
      " [  0 206]]\n",
      "\u001b[1mMetrics\u001b[0m\n",
      "ACC: 1.0\n",
      "BACC: 1.0\n",
      "F1: 1.0\n",
      "AUROC: 1.0\n",
      "AP: 1.0\n",
      "MCC: 1.0\n",
      "Precision: 1.0\n",
      "Recall: 1.0\n"
     ]
    }
   ],
   "source": [
    "### Test within batch\n",
    "from sklearn.metrics import confusion_matrix, accuracy_score, balanced_accuracy_score, f1_score \n",
    "from sklearn.metrics import roc_auc_score, precision_score, recall_score, matthews_corrcoef, average_precision_score\n",
    "\n",
    "yp_test = clf.predict(X_test_sds)\n",
    "ys_test = clf.predict_proba(X_test_sds)\n",
    "ys_test = ys_test[:,1]\n",
    "\n",
    "print('\\033[1m' + 'Confusion Matrix' + '\\033[0m')\n",
    "print(confusion_matrix(y_test, yp_test))\n",
    "\n",
    "print('\\033[1m' + 'Metrics' + '\\033[0m')\n",
    "print('ACC: {}'.format(round(accuracy_score(y_test, yp_test), 3)))\n",
    "print('BACC: {}'.format(round(balanced_accuracy_score(y_test, yp_test), 3)))\n",
    "print('F1: {}'.format(round(f1_score(y_test, yp_test),3)))\n",
    "print('AUROC: {}'.format(round(roc_auc_score(y_test, ys_test),3)))\n",
    "print('AP: {}'.format(round(average_precision_score(y_test, yp_test),3)))\n",
    "print('MCC: {}'.format(round(matthews_corrcoef(y_test, yp_test),3)))\n",
    "print('Precision: {}'.format(round(precision_score(y_test, yp_test),3)))\n",
    "print('Recall: {}'.format(round(recall_score(y_test, yp_test),3)))"
   ]
  },
  {
   "cell_type": "code",
   "execution_count": 49,
   "metadata": {},
   "outputs": [],
   "source": [
    "LR_CV_devset_res = [round(accuracy_score(y_test, yp_test), 3), round(balanced_accuracy_score(y_test, yp_test), 3),\n",
    "                 round(f1_score(y_test, yp_test),3), round(roc_auc_score(y_test, ys_test),3),\n",
    "                 round(average_precision_score(y_test, ys_test),3), round(matthews_corrcoef(y_test, yp_test),3),\n",
    "                 round(precision_score(y_test, yp_test),3), round(recall_score(y_test, yp_test),3)]"
   ]
  },
  {
   "cell_type": "code",
   "execution_count": 50,
   "metadata": {},
   "outputs": [
    {
     "name": "stdout",
     "output_type": "stream",
     "text": [
      "\u001b[1mConfusion Matrix\u001b[0m\n",
      "[[500   0]\n",
      " [ 14 537]]\n",
      "\u001b[1mMetrics\u001b[0m\n",
      "ACC: 0.987\n",
      "BACC: 0.987\n",
      "F1: 0.987\n",
      "AUROC: 0.999\n",
      "AP: 0.999\n",
      "MCC: 0.974\n",
      "Precision: 1.0\n",
      "Recall: 0.975\n"
     ]
    }
   ],
   "source": [
    "### Independent Test Result\n",
    "X_tset_sds = scaler.transform(X_tset1)\n",
    "y_tset = y_tset1\n",
    "yp_test = clf.predict(X_tset_sds)\n",
    "ys_test = clf.predict_proba(X_tset_sds)\n",
    "ys_test = ys_test[:,1]\n",
    "\n",
    "print('\\033[1m' + 'Confusion Matrix' + '\\033[0m')\n",
    "print(confusion_matrix(y_tset, yp_test))\n",
    "\n",
    "print('\\033[1m' + 'Metrics' + '\\033[0m')\n",
    "print('ACC: {}'.format(round(accuracy_score(y_tset, yp_test), 3)))\n",
    "print('BACC: {}'.format(round(balanced_accuracy_score(y_tset, yp_test), 3)))\n",
    "print('F1: {}'.format(round(f1_score(y_tset, yp_test),3)))\n",
    "print('AUROC: {}'.format(round(roc_auc_score(y_tset, ys_test),3)))\n",
    "print('AP: {}'.format(round(average_precision_score(y_tset, ys_test),3)))\n",
    "print('MCC: {}'.format(round(matthews_corrcoef(y_tset, yp_test),3)))\n",
    "print('Precision: {}'.format(round(precision_score(y_tset, yp_test),3)))\n",
    "print('Recall: {}'.format(round(recall_score(y_tset, yp_test),3)))"
   ]
  },
  {
   "cell_type": "code",
   "execution_count": 51,
   "metadata": {},
   "outputs": [],
   "source": [
    "LR_CV_tset1_res = [round(accuracy_score(y_tset, yp_test), 3), round(balanced_accuracy_score(y_tset, yp_test), 3),\n",
    "                 round(f1_score(y_tset, yp_test),3), round(roc_auc_score(y_tset, ys_test),3),\n",
    "                 round(average_precision_score(y_tset, ys_test),3), round(matthews_corrcoef(y_tset, yp_test),3),\n",
    "                 round(precision_score(y_tset, yp_test),3), round(recall_score(y_tset, yp_test),3)]"
   ]
  },
  {
   "cell_type": "code",
   "execution_count": 52,
   "metadata": {},
   "outputs": [
    {
     "name": "stdout",
     "output_type": "stream",
     "text": [
      "\u001b[1mConfusion Matrix\u001b[0m\n",
      "[[498   2]\n",
      " [  0 500]]\n",
      "\u001b[1mMetrics\u001b[0m\n",
      "ACC: 0.998\n",
      "BACC: 0.998\n",
      "F1: 0.998\n",
      "AUROC: 1.0\n",
      "AP: 1.0\n",
      "MCC: 0.996\n",
      "Precision: 0.996\n",
      "Recall: 1.0\n"
     ]
    }
   ],
   "source": [
    "### Independent Test Result\n",
    "X_tset_sds = scaler.transform(X_tset2)\n",
    "y_tset = y_tset2\n",
    "yp_test = clf.predict(X_tset_sds)\n",
    "ys_test = clf.predict_proba(X_tset_sds)\n",
    "ys_test = ys_test[:,1]\n",
    "\n",
    "print('\\033[1m' + 'Confusion Matrix' + '\\033[0m')\n",
    "print(confusion_matrix(y_tset, yp_test))\n",
    "\n",
    "print('\\033[1m' + 'Metrics' + '\\033[0m')\n",
    "print('ACC: {}'.format(round(accuracy_score(y_tset, yp_test), 3)))\n",
    "print('BACC: {}'.format(round(balanced_accuracy_score(y_tset, yp_test), 3)))\n",
    "print('F1: {}'.format(round(f1_score(y_tset, yp_test),3)))\n",
    "print('AUROC: {}'.format(round(roc_auc_score(y_tset, ys_test),3)))\n",
    "print('AP: {}'.format(round(average_precision_score(y_tset, ys_test),3)))\n",
    "print('MCC: {}'.format(round(matthews_corrcoef(y_tset, yp_test),3)))\n",
    "print('Precision: {}'.format(round(precision_score(y_tset, yp_test),3)))\n",
    "print('Recall: {}'.format(round(recall_score(y_tset, yp_test),3)))"
   ]
  },
  {
   "cell_type": "code",
   "execution_count": 53,
   "metadata": {},
   "outputs": [],
   "source": [
    "LR_CV_tset2_res = [round(accuracy_score(y_tset, yp_test), 3), round(balanced_accuracy_score(y_tset, yp_test), 3),\n",
    "                 round(f1_score(y_tset, yp_test),3), round(roc_auc_score(y_tset, ys_test),3),\n",
    "                 round(average_precision_score(y_tset, ys_test),3), round(matthews_corrcoef(y_tset, yp_test),3),\n",
    "                 round(precision_score(y_tset, yp_test),3), round(recall_score(y_tset, yp_test),3)]"
   ]
  },
  {
   "cell_type": "code",
   "execution_count": 54,
   "metadata": {},
   "outputs": [
    {
     "name": "stdout",
     "output_type": "stream",
     "text": [
      "\u001b[1mConfusion Matrix\u001b[0m\n",
      "[[498   2]\n",
      " [290 210]]\n",
      "\u001b[1mMetrics\u001b[0m\n",
      "ACC: 0.708\n",
      "BACC: 0.708\n",
      "F1: 0.59\n",
      "AUROC: 0.996\n",
      "AP: 0.994\n",
      "MCC: 0.509\n",
      "Precision: 0.991\n",
      "Recall: 0.42\n"
     ]
    }
   ],
   "source": [
    "### Independent Test Result\n",
    "X_tset_sds = scaler.transform(X_tset3)\n",
    "y_tset = y_tset3\n",
    "yp_test = clf.predict(X_tset_sds)\n",
    "ys_test = clf.predict_proba(X_tset_sds)\n",
    "ys_test = ys_test[:,1]\n",
    "\n",
    "print('\\033[1m' + 'Confusion Matrix' + '\\033[0m')\n",
    "print(confusion_matrix(y_tset, yp_test))\n",
    "\n",
    "print('\\033[1m' + 'Metrics' + '\\033[0m')\n",
    "print('ACC: {}'.format(round(accuracy_score(y_tset, yp_test), 3)))\n",
    "print('BACC: {}'.format(round(balanced_accuracy_score(y_tset, yp_test), 3)))\n",
    "print('F1: {}'.format(round(f1_score(y_tset, yp_test),3)))\n",
    "print('AUROC: {}'.format(round(roc_auc_score(y_tset, ys_test),3)))\n",
    "print('AP: {}'.format(round(average_precision_score(y_tset, ys_test),3)))\n",
    "print('MCC: {}'.format(round(matthews_corrcoef(y_tset, yp_test),3)))\n",
    "print('Precision: {}'.format(round(precision_score(y_tset, yp_test),3)))\n",
    "print('Recall: {}'.format(round(recall_score(y_tset, yp_test),3)))"
   ]
  },
  {
   "cell_type": "code",
   "execution_count": 55,
   "metadata": {},
   "outputs": [],
   "source": [
    "LR_CV_tset3_res = [round(accuracy_score(y_tset, yp_test), 3), round(balanced_accuracy_score(y_tset, yp_test), 3),\n",
    "                 round(f1_score(y_tset, yp_test),3), round(roc_auc_score(y_tset, ys_test),3),\n",
    "                 round(average_precision_score(y_tset, ys_test),3), round(matthews_corrcoef(y_tset, yp_test),3),\n",
    "                 round(precision_score(y_tset, yp_test),3), round(recall_score(y_tset, yp_test),3)]"
   ]
  },
  {
   "cell_type": "code",
   "execution_count": 56,
   "metadata": {},
   "outputs": [
    {
     "name": "stdout",
     "output_type": "stream",
     "text": [
      "\u001b[1mConfusion Matrix\u001b[0m\n",
      "[[498   2]\n",
      " [290 210]]\n",
      "\u001b[1mMetrics\u001b[0m\n",
      "ACC: 0.708\n",
      "BACC: 0.708\n",
      "F1: 0.59\n",
      "AUROC: 0.996\n",
      "AP: 0.994\n",
      "MCC: 0.509\n",
      "Precision: 0.991\n",
      "Recall: 0.42\n"
     ]
    }
   ],
   "source": [
    "### Independent Test Result\n",
    "X_tset_sds = scaler.transform(X_tset3)\n",
    "y_tset = y_tset4\n",
    "yp_test = clf.predict(X_tset_sds)\n",
    "ys_test = clf.predict_proba(X_tset_sds)\n",
    "ys_test = ys_test[:,1]\n",
    "\n",
    "print('\\033[1m' + 'Confusion Matrix' + '\\033[0m')\n",
    "print(confusion_matrix(y_tset, yp_test))\n",
    "\n",
    "print('\\033[1m' + 'Metrics' + '\\033[0m')\n",
    "print('ACC: {}'.format(round(accuracy_score(y_tset, yp_test), 3)))\n",
    "print('BACC: {}'.format(round(balanced_accuracy_score(y_tset, yp_test), 3)))\n",
    "print('F1: {}'.format(round(f1_score(y_tset, yp_test),3)))\n",
    "print('AUROC: {}'.format(round(roc_auc_score(y_tset, ys_test),3)))\n",
    "print('AP: {}'.format(round(average_precision_score(y_tset, ys_test),3)))\n",
    "print('MCC: {}'.format(round(matthews_corrcoef(y_tset, yp_test),3)))\n",
    "print('Precision: {}'.format(round(precision_score(y_tset, yp_test),3)))\n",
    "print('Recall: {}'.format(round(recall_score(y_tset, yp_test),3)))"
   ]
  },
  {
   "cell_type": "code",
   "execution_count": 57,
   "metadata": {},
   "outputs": [],
   "source": [
    "LR_CV_tset4_res = [round(accuracy_score(y_tset, yp_test), 3), round(balanced_accuracy_score(y_tset, yp_test), 3),\n",
    "                 round(f1_score(y_tset, yp_test),3), round(roc_auc_score(y_tset, ys_test),3),\n",
    "                 round(average_precision_score(y_tset, ys_test),3), round(matthews_corrcoef(y_tset, yp_test),3),\n",
    "                 round(precision_score(y_tset, yp_test),3), round(recall_score(y_tset, yp_test),3)]"
   ]
  },
  {
   "cell_type": "code",
   "execution_count": 58,
   "metadata": {},
   "outputs": [],
   "source": [
    "outF = open(fileout, \"a\")\n",
    "outF.write(\"Logistic_Regression_CV, \")\n",
    "outF.write(\"ACC, BACC, F1, AUROC, Average_Precision, MCC, Precision, Recall\\n\")\n",
    "outF.write('DevSet, ')\n",
    "outF.write(', '.join(map(str, LR_CV_devset_res)))\n",
    "outF.write('\\n')\n",
    "outF.write('IndSet1, ')\n",
    "outF.write(', '.join(map(str, LR_CV_tset1_res)))\n",
    "outF.write('\\n')\n",
    "outF.write('IndSet2, ')\n",
    "outF.write(', '.join(map(str, LR_CV_tset2_res)))\n",
    "outF.write('\\n')\n",
    "outF.write('IndSet3, ')\n",
    "outF.write(', '.join(map(str, LR_CV_tset3_res)))\n",
    "outF.write('\\n')\n",
    "outF.write('IndSet4, ')\n",
    "outF.write(', '.join(map(str, LR_CV_tset4_res)))\n",
    "outF.write('\\n')\n",
    "outF.close()"
   ]
  },
  {
   "cell_type": "markdown",
   "metadata": {},
   "source": [
    "### 3.4 MLP"
   ]
  },
  {
   "cell_type": "code",
   "execution_count": 59,
   "metadata": {},
   "outputs": [],
   "source": [
    "from sklearn.preprocessing import StandardScaler\n",
    "from sklearn.neural_network import MLPClassifier"
   ]
  },
  {
   "cell_type": "code",
   "execution_count": 60,
   "metadata": {},
   "outputs": [
    {
     "data": {
      "text/plain": [
       "MLPClassifier(activation='relu', alpha=0.0001, batch_size='auto', beta_1=0.9,\n",
       "              beta_2=0.999, early_stopping=False, epsilon=1e-08,\n",
       "              hidden_layer_sizes=(100,), learning_rate='constant',\n",
       "              learning_rate_init=0.001, max_fun=15000, max_iter=200,\n",
       "              momentum=0.9, n_iter_no_change=10, nesterovs_momentum=True,\n",
       "              power_t=0.5, random_state=None, shuffle=True, solver='adam',\n",
       "              tol=0.0001, validation_fraction=0.1, verbose=False,\n",
       "              warm_start=False)"
      ]
     },
     "execution_count": 60,
     "metadata": {},
     "output_type": "execute_result"
    }
   ],
   "source": [
    "## Learn Classifier\n",
    "scaler = StandardScaler()\n",
    "clf = MLPClassifier()\n",
    "scaler.fit(X_train)\n",
    "X_train_sds = scaler.transform(X_train)\n",
    "X_test_sds = scaler.transform(X_test)\n",
    "clf.fit(X_train_sds, y_train)"
   ]
  },
  {
   "cell_type": "code",
   "execution_count": 61,
   "metadata": {},
   "outputs": [
    {
     "name": "stdout",
     "output_type": "stream",
     "text": [
      "\u001b[1mConfusion Matrix\u001b[0m\n",
      "[[ 94   0]\n",
      " [  0 206]]\n",
      "\u001b[1mMetrics\u001b[0m\n",
      "ACC: 1.0\n",
      "BACC: 1.0\n",
      "F1: 1.0\n",
      "AUROC: 1.0\n",
      "AP: 1.0\n",
      "MCC: 1.0\n",
      "Precision: 1.0\n",
      "Recall: 1.0\n"
     ]
    }
   ],
   "source": [
    "### Test within batch\n",
    "from sklearn.metrics import confusion_matrix, accuracy_score, balanced_accuracy_score, f1_score \n",
    "from sklearn.metrics import roc_auc_score, precision_score, recall_score, matthews_corrcoef, average_precision_score\n",
    "\n",
    "yp_test = clf.predict(X_test_sds)\n",
    "ys_test = clf.predict_proba(X_test_sds)\n",
    "ys_test = ys_test[:,1]\n",
    "\n",
    "print('\\033[1m' + 'Confusion Matrix' + '\\033[0m')\n",
    "print(confusion_matrix(y_test, yp_test))\n",
    "\n",
    "print('\\033[1m' + 'Metrics' + '\\033[0m')\n",
    "print('ACC: {}'.format(round(accuracy_score(y_test, yp_test), 3)))\n",
    "print('BACC: {}'.format(round(balanced_accuracy_score(y_test, yp_test), 3)))\n",
    "print('F1: {}'.format(round(f1_score(y_test, yp_test),3)))\n",
    "print('AUROC: {}'.format(round(roc_auc_score(y_test, ys_test),3)))\n",
    "print('AP: {}'.format(round(average_precision_score(y_test, yp_test),3)))\n",
    "print('MCC: {}'.format(round(matthews_corrcoef(y_test, yp_test),3)))\n",
    "print('Precision: {}'.format(round(precision_score(y_test, yp_test),3)))\n",
    "print('Recall: {}'.format(round(recall_score(y_test, yp_test),3)))"
   ]
  },
  {
   "cell_type": "code",
   "execution_count": 62,
   "metadata": {},
   "outputs": [],
   "source": [
    "MLP_devset_res = [round(accuracy_score(y_test, yp_test), 3), round(balanced_accuracy_score(y_test, yp_test), 3),\n",
    "                 round(f1_score(y_test, yp_test),3), round(roc_auc_score(y_test, ys_test),3),\n",
    "                 round(average_precision_score(y_test, ys_test),3), round(matthews_corrcoef(y_test, yp_test),3),\n",
    "                 round(precision_score(y_test, yp_test),3), round(recall_score(y_test, yp_test),3)]"
   ]
  },
  {
   "cell_type": "code",
   "execution_count": 63,
   "metadata": {},
   "outputs": [
    {
     "name": "stdout",
     "output_type": "stream",
     "text": [
      "\u001b[1mConfusion Matrix\u001b[0m\n",
      "[[499   1]\n",
      " [ 22 529]]\n",
      "\u001b[1mMetrics\u001b[0m\n",
      "ACC: 0.978\n",
      "BACC: 0.979\n",
      "F1: 0.979\n",
      "AUROC: 1.0\n",
      "AP: 1.0\n",
      "MCC: 0.957\n",
      "Precision: 0.998\n",
      "Recall: 0.96\n"
     ]
    }
   ],
   "source": [
    "### Independent Test Result\n",
    "X_tset_sds = scaler.transform(X_tset1)\n",
    "y_tset = y_tset1\n",
    "yp_test = clf.predict(X_tset_sds)\n",
    "ys_test = clf.predict_proba(X_tset_sds)\n",
    "ys_test = ys_test[:,1]\n",
    "\n",
    "print('\\033[1m' + 'Confusion Matrix' + '\\033[0m')\n",
    "print(confusion_matrix(y_tset, yp_test))\n",
    "\n",
    "print('\\033[1m' + 'Metrics' + '\\033[0m')\n",
    "print('ACC: {}'.format(round(accuracy_score(y_tset, yp_test), 3)))\n",
    "print('BACC: {}'.format(round(balanced_accuracy_score(y_tset, yp_test), 3)))\n",
    "print('F1: {}'.format(round(f1_score(y_tset, yp_test),3)))\n",
    "print('AUROC: {}'.format(round(roc_auc_score(y_tset, ys_test),3)))\n",
    "print('AP: {}'.format(round(average_precision_score(y_tset, ys_test),3)))\n",
    "print('MCC: {}'.format(round(matthews_corrcoef(y_tset, yp_test),3)))\n",
    "print('Precision: {}'.format(round(precision_score(y_tset, yp_test),3)))\n",
    "print('Recall: {}'.format(round(recall_score(y_tset, yp_test),3)))"
   ]
  },
  {
   "cell_type": "code",
   "execution_count": 64,
   "metadata": {},
   "outputs": [],
   "source": [
    "MLP_tset1_res = [round(accuracy_score(y_tset, yp_test), 3), round(balanced_accuracy_score(y_tset, yp_test), 3),\n",
    "                 round(f1_score(y_tset, yp_test),3), round(roc_auc_score(y_tset, ys_test),3),\n",
    "                 round(average_precision_score(y_tset, ys_test),3), round(matthews_corrcoef(y_tset, yp_test),3),\n",
    "                 round(precision_score(y_tset, yp_test),3), round(recall_score(y_tset, yp_test),3)]"
   ]
  },
  {
   "cell_type": "code",
   "execution_count": 65,
   "metadata": {},
   "outputs": [
    {
     "name": "stdout",
     "output_type": "stream",
     "text": [
      "\u001b[1mConfusion Matrix\u001b[0m\n",
      "[[498   2]\n",
      " [124 376]]\n",
      "\u001b[1mMetrics\u001b[0m\n",
      "ACC: 0.874\n",
      "BACC: 0.874\n",
      "F1: 0.856\n",
      "AUROC: 0.998\n",
      "AP: 0.997\n",
      "MCC: 0.771\n",
      "Precision: 0.995\n",
      "Recall: 0.752\n"
     ]
    }
   ],
   "source": [
    "### Independent Test Result\n",
    "X_tset_sds = scaler.transform(X_tset2)\n",
    "y_tset = y_tset2\n",
    "yp_test = clf.predict(X_tset_sds)\n",
    "ys_test = clf.predict_proba(X_tset_sds)\n",
    "ys_test = ys_test[:,1]\n",
    "\n",
    "print('\\033[1m' + 'Confusion Matrix' + '\\033[0m')\n",
    "print(confusion_matrix(y_tset, yp_test))\n",
    "\n",
    "print('\\033[1m' + 'Metrics' + '\\033[0m')\n",
    "print('ACC: {}'.format(round(accuracy_score(y_tset, yp_test), 3)))\n",
    "print('BACC: {}'.format(round(balanced_accuracy_score(y_tset, yp_test), 3)))\n",
    "print('F1: {}'.format(round(f1_score(y_tset, yp_test),3)))\n",
    "print('AUROC: {}'.format(round(roc_auc_score(y_tset, ys_test),3)))\n",
    "print('AP: {}'.format(round(average_precision_score(y_tset, ys_test),3)))\n",
    "print('MCC: {}'.format(round(matthews_corrcoef(y_tset, yp_test),3)))\n",
    "print('Precision: {}'.format(round(precision_score(y_tset, yp_test),3)))\n",
    "print('Recall: {}'.format(round(recall_score(y_tset, yp_test),3)))"
   ]
  },
  {
   "cell_type": "code",
   "execution_count": 66,
   "metadata": {},
   "outputs": [],
   "source": [
    "MLP_tset2_res = [round(accuracy_score(y_tset, yp_test), 3), round(balanced_accuracy_score(y_tset, yp_test), 3),\n",
    "                 round(f1_score(y_tset, yp_test),3), round(roc_auc_score(y_tset, ys_test),3),\n",
    "                 round(average_precision_score(y_tset, ys_test),3), round(matthews_corrcoef(y_tset, yp_test),3),\n",
    "                 round(precision_score(y_tset, yp_test),3), round(recall_score(y_tset, yp_test),3)]"
   ]
  },
  {
   "cell_type": "code",
   "execution_count": 67,
   "metadata": {},
   "outputs": [
    {
     "name": "stdout",
     "output_type": "stream",
     "text": [
      "\u001b[1mConfusion Matrix\u001b[0m\n",
      "[[498   2]\n",
      " [  0 500]]\n",
      "\u001b[1mMetrics\u001b[0m\n",
      "ACC: 0.998\n",
      "BACC: 0.998\n",
      "F1: 0.998\n",
      "AUROC: 1.0\n",
      "AP: 1.0\n",
      "MCC: 0.996\n",
      "Precision: 0.996\n",
      "Recall: 1.0\n"
     ]
    }
   ],
   "source": [
    "### Independent Test Result\n",
    "X_tset_sds = scaler.transform(X_tset3)\n",
    "y_tset = y_tset3\n",
    "yp_test = clf.predict(X_tset_sds)\n",
    "ys_test = clf.predict_proba(X_tset_sds)\n",
    "ys_test = ys_test[:,1]\n",
    "\n",
    "print('\\033[1m' + 'Confusion Matrix' + '\\033[0m')\n",
    "print(confusion_matrix(y_tset, yp_test))\n",
    "\n",
    "print('\\033[1m' + 'Metrics' + '\\033[0m')\n",
    "print('ACC: {}'.format(round(accuracy_score(y_tset, yp_test), 3)))\n",
    "print('BACC: {}'.format(round(balanced_accuracy_score(y_tset, yp_test), 3)))\n",
    "print('F1: {}'.format(round(f1_score(y_tset, yp_test),3)))\n",
    "print('AUROC: {}'.format(round(roc_auc_score(y_tset, ys_test),3)))\n",
    "print('AP: {}'.format(round(average_precision_score(y_tset, ys_test),3)))\n",
    "print('MCC: {}'.format(round(matthews_corrcoef(y_tset, yp_test),3)))\n",
    "print('Precision: {}'.format(round(precision_score(y_tset, yp_test),3)))\n",
    "print('Recall: {}'.format(round(recall_score(y_tset, yp_test),3)))"
   ]
  },
  {
   "cell_type": "code",
   "execution_count": 68,
   "metadata": {},
   "outputs": [],
   "source": [
    "MLP_tset3_res = [round(accuracy_score(y_tset, yp_test), 3), round(balanced_accuracy_score(y_tset, yp_test), 3),\n",
    "                 round(f1_score(y_tset, yp_test),3), round(roc_auc_score(y_tset, ys_test),3),\n",
    "                 round(average_precision_score(y_tset, ys_test),3), round(matthews_corrcoef(y_tset, yp_test),3),\n",
    "                 round(precision_score(y_tset, yp_test),3), round(recall_score(y_tset, yp_test),3)]"
   ]
  },
  {
   "cell_type": "code",
   "execution_count": 69,
   "metadata": {},
   "outputs": [
    {
     "name": "stdout",
     "output_type": "stream",
     "text": [
      "\u001b[1mConfusion Matrix\u001b[0m\n",
      "[[498   2]\n",
      " [  0 500]]\n",
      "\u001b[1mMetrics\u001b[0m\n",
      "ACC: 0.998\n",
      "BACC: 0.998\n",
      "F1: 0.998\n",
      "AUROC: 1.0\n",
      "AP: 1.0\n",
      "MCC: 0.996\n",
      "Precision: 0.996\n",
      "Recall: 1.0\n"
     ]
    }
   ],
   "source": [
    "### Independent Test Result\n",
    "X_tset_sds = scaler.transform(X_tset4)\n",
    "y_tset = y_tset4\n",
    "yp_test = clf.predict(X_tset_sds)\n",
    "ys_test = clf.predict_proba(X_tset_sds)\n",
    "ys_test = ys_test[:,1]\n",
    "\n",
    "print('\\033[1m' + 'Confusion Matrix' + '\\033[0m')\n",
    "print(confusion_matrix(y_tset, yp_test))\n",
    "\n",
    "print('\\033[1m' + 'Metrics' + '\\033[0m')\n",
    "print('ACC: {}'.format(round(accuracy_score(y_tset, yp_test), 3)))\n",
    "print('BACC: {}'.format(round(balanced_accuracy_score(y_tset, yp_test), 3)))\n",
    "print('F1: {}'.format(round(f1_score(y_tset, yp_test),3)))\n",
    "print('AUROC: {}'.format(round(roc_auc_score(y_tset, ys_test),3)))\n",
    "print('AP: {}'.format(round(average_precision_score(y_tset, ys_test),3)))\n",
    "print('MCC: {}'.format(round(matthews_corrcoef(y_tset, yp_test),3)))\n",
    "print('Precision: {}'.format(round(precision_score(y_tset, yp_test),3)))\n",
    "print('Recall: {}'.format(round(recall_score(y_tset, yp_test),3)))"
   ]
  },
  {
   "cell_type": "code",
   "execution_count": 70,
   "metadata": {},
   "outputs": [],
   "source": [
    "MLP_tset4_res = [round(accuracy_score(y_tset, yp_test), 3), round(balanced_accuracy_score(y_tset, yp_test), 3),\n",
    "                 round(f1_score(y_tset, yp_test),3), round(roc_auc_score(y_tset, ys_test),3),\n",
    "                 round(average_precision_score(y_tset, ys_test),3), round(matthews_corrcoef(y_tset, yp_test),3),\n",
    "                 round(precision_score(y_tset, yp_test),3), round(recall_score(y_tset, yp_test),3)]"
   ]
  },
  {
   "cell_type": "code",
   "execution_count": 71,
   "metadata": {},
   "outputs": [],
   "source": [
    "outF = open(fileout, \"a\")\n",
    "outF.write(\"MLP, \")\n",
    "outF.write(\"ACC, BACC, F1, AUROC, Average_Precision, MCC, Precision, Recall\\n\")\n",
    "outF.write('DevSet, ')\n",
    "outF.write(', '.join(map(str, MLP_devset_res)))\n",
    "outF.write('\\n')\n",
    "outF.write('IndSet1, ')\n",
    "outF.write(', '.join(map(str, MLP_tset1_res)))\n",
    "outF.write('\\n')\n",
    "outF.write('IndSet2, ')\n",
    "outF.write(', '.join(map(str, MLP_tset2_res)))\n",
    "outF.write('\\n')\n",
    "outF.write('IndSet3, ')\n",
    "outF.write(', '.join(map(str, MLP_tset3_res)))\n",
    "outF.write('\\n')\n",
    "outF.write('IndSet4, ')\n",
    "outF.write(', '.join(map(str, MLP_tset4_res)))\n",
    "outF.write('\\n')\n",
    "outF.close()"
   ]
  },
  {
   "cell_type": "markdown",
   "metadata": {},
   "source": [
    "### 3.5 Random Forest"
   ]
  },
  {
   "cell_type": "code",
   "execution_count": 72,
   "metadata": {},
   "outputs": [],
   "source": [
    "from sklearn.preprocessing import StandardScaler\n",
    "from sklearn.ensemble import RandomForestClassifier"
   ]
  },
  {
   "cell_type": "code",
   "execution_count": 73,
   "metadata": {},
   "outputs": [
    {
     "data": {
      "text/plain": [
       "RandomForestClassifier(bootstrap=True, ccp_alpha=0.0, class_weight=None,\n",
       "                       criterion='gini', max_depth=None, max_features='auto',\n",
       "                       max_leaf_nodes=None, max_samples=None,\n",
       "                       min_impurity_decrease=0.0, min_impurity_split=None,\n",
       "                       min_samples_leaf=1, min_samples_split=2,\n",
       "                       min_weight_fraction_leaf=0.0, n_estimators=100,\n",
       "                       n_jobs=None, oob_score=False, random_state=None,\n",
       "                       verbose=0, warm_start=False)"
      ]
     },
     "execution_count": 73,
     "metadata": {},
     "output_type": "execute_result"
    }
   ],
   "source": [
    "## Learn Classifier\n",
    "scaler = StandardScaler()\n",
    "clf = RandomForestClassifier()\n",
    "scaler.fit(X_train)\n",
    "X_train_sds = scaler.transform(X_train)\n",
    "X_test_sds = scaler.transform(X_test)\n",
    "clf.fit(X_train_sds, y_train)"
   ]
  },
  {
   "cell_type": "code",
   "execution_count": 74,
   "metadata": {},
   "outputs": [
    {
     "name": "stdout",
     "output_type": "stream",
     "text": [
      "\u001b[1mConfusion Matrix\u001b[0m\n",
      "[[ 93   1]\n",
      " [  0 206]]\n",
      "\u001b[1mMetrics\u001b[0m\n",
      "ACC: 0.997\n",
      "BACC: 0.995\n",
      "F1: 0.998\n",
      "AUROC: 1.0\n",
      "AP: 0.995\n",
      "MCC: 0.992\n",
      "Precision: 0.995\n",
      "Recall: 1.0\n"
     ]
    }
   ],
   "source": [
    "### Test within batch\n",
    "from sklearn.metrics import confusion_matrix, accuracy_score, balanced_accuracy_score, f1_score \n",
    "from sklearn.metrics import roc_auc_score, precision_score, recall_score, matthews_corrcoef, average_precision_score\n",
    "\n",
    "yp_test = clf.predict(X_test_sds)\n",
    "ys_test = clf.predict_proba(X_test_sds)\n",
    "ys_test = ys_test[:,1]\n",
    "\n",
    "print('\\033[1m' + 'Confusion Matrix' + '\\033[0m')\n",
    "print(confusion_matrix(y_test, yp_test))\n",
    "\n",
    "print('\\033[1m' + 'Metrics' + '\\033[0m')\n",
    "print('ACC: {}'.format(round(accuracy_score(y_test, yp_test), 3)))\n",
    "print('BACC: {}'.format(round(balanced_accuracy_score(y_test, yp_test), 3)))\n",
    "print('F1: {}'.format(round(f1_score(y_test, yp_test),3)))\n",
    "print('AUROC: {}'.format(round(roc_auc_score(y_test, ys_test),3)))\n",
    "print('AP: {}'.format(round(average_precision_score(y_test, yp_test),3)))\n",
    "print('MCC: {}'.format(round(matthews_corrcoef(y_test, yp_test),3)))\n",
    "print('Precision: {}'.format(round(precision_score(y_test, yp_test),3)))\n",
    "print('Recall: {}'.format(round(recall_score(y_test, yp_test),3)))"
   ]
  },
  {
   "cell_type": "code",
   "execution_count": 75,
   "metadata": {},
   "outputs": [],
   "source": [
    "RF_devset_res = [round(accuracy_score(y_test, yp_test), 3), round(balanced_accuracy_score(y_test, yp_test), 3),\n",
    "                 round(f1_score(y_test, yp_test),3), round(roc_auc_score(y_test, ys_test),3),\n",
    "                 round(average_precision_score(y_test, ys_test),3), round(matthews_corrcoef(y_test, yp_test),3),\n",
    "                 round(precision_score(y_test, yp_test),3), round(recall_score(y_test, yp_test),3)]"
   ]
  },
  {
   "cell_type": "code",
   "execution_count": 76,
   "metadata": {},
   "outputs": [
    {
     "name": "stdout",
     "output_type": "stream",
     "text": [
      "\u001b[1mConfusion Matrix\u001b[0m\n",
      "[[499   1]\n",
      " [ 23 528]]\n",
      "\u001b[1mMetrics\u001b[0m\n",
      "ACC: 0.977\n",
      "BACC: 0.978\n",
      "F1: 0.978\n",
      "AUROC: 1.0\n",
      "AP: 1.0\n",
      "MCC: 0.955\n",
      "Precision: 0.998\n",
      "Recall: 0.958\n"
     ]
    }
   ],
   "source": [
    "### Independent Test Result\n",
    "X_tset_sds = scaler.transform(X_tset1)\n",
    "y_tset = y_tset1\n",
    "yp_test = clf.predict(X_tset_sds)\n",
    "ys_test = clf.predict_proba(X_tset_sds)\n",
    "ys_test = ys_test[:,1]\n",
    "\n",
    "print('\\033[1m' + 'Confusion Matrix' + '\\033[0m')\n",
    "print(confusion_matrix(y_tset, yp_test))\n",
    "\n",
    "print('\\033[1m' + 'Metrics' + '\\033[0m')\n",
    "print('ACC: {}'.format(round(accuracy_score(y_tset, yp_test), 3)))\n",
    "print('BACC: {}'.format(round(balanced_accuracy_score(y_tset, yp_test), 3)))\n",
    "print('F1: {}'.format(round(f1_score(y_tset, yp_test),3)))\n",
    "print('AUROC: {}'.format(round(roc_auc_score(y_tset, ys_test),3)))\n",
    "print('AP: {}'.format(round(average_precision_score(y_tset, ys_test),3)))\n",
    "print('MCC: {}'.format(round(matthews_corrcoef(y_tset, yp_test),3)))\n",
    "print('Precision: {}'.format(round(precision_score(y_tset, yp_test),3)))\n",
    "print('Recall: {}'.format(round(recall_score(y_tset, yp_test),3)))"
   ]
  },
  {
   "cell_type": "code",
   "execution_count": 77,
   "metadata": {},
   "outputs": [],
   "source": [
    "RF_tset1_res = [round(accuracy_score(y_tset, yp_test), 3), round(balanced_accuracy_score(y_tset, yp_test), 3),\n",
    "                 round(f1_score(y_tset, yp_test),3), round(roc_auc_score(y_tset, ys_test),3),\n",
    "                 round(average_precision_score(y_tset, ys_test),3), round(matthews_corrcoef(y_tset, yp_test),3),\n",
    "                 round(precision_score(y_tset, yp_test),3), round(recall_score(y_tset, yp_test),3)]"
   ]
  },
  {
   "cell_type": "code",
   "execution_count": 78,
   "metadata": {},
   "outputs": [
    {
     "name": "stdout",
     "output_type": "stream",
     "text": [
      "\u001b[1mConfusion Matrix\u001b[0m\n",
      "[[494   6]\n",
      " [  0 500]]\n",
      "\u001b[1mMetrics\u001b[0m\n",
      "ACC: 0.994\n",
      "BACC: 0.994\n",
      "F1: 0.994\n",
      "AUROC: 1.0\n",
      "AP: 1.0\n",
      "MCC: 0.988\n",
      "Precision: 0.988\n",
      "Recall: 1.0\n"
     ]
    }
   ],
   "source": [
    "### Independent Test Result\n",
    "X_tset_sds = scaler.transform(X_tset2)\n",
    "y_tset = y_tset2\n",
    "yp_test = clf.predict(X_tset_sds)\n",
    "ys_test = clf.predict_proba(X_tset_sds)\n",
    "ys_test = ys_test[:,1]\n",
    "\n",
    "print('\\033[1m' + 'Confusion Matrix' + '\\033[0m')\n",
    "print(confusion_matrix(y_tset, yp_test))\n",
    "\n",
    "print('\\033[1m' + 'Metrics' + '\\033[0m')\n",
    "print('ACC: {}'.format(round(accuracy_score(y_tset, yp_test), 3)))\n",
    "print('BACC: {}'.format(round(balanced_accuracy_score(y_tset, yp_test), 3)))\n",
    "print('F1: {}'.format(round(f1_score(y_tset, yp_test),3)))\n",
    "print('AUROC: {}'.format(round(roc_auc_score(y_tset, ys_test),3)))\n",
    "print('AP: {}'.format(round(average_precision_score(y_tset, ys_test),3)))\n",
    "print('MCC: {}'.format(round(matthews_corrcoef(y_tset, yp_test),3)))\n",
    "print('Precision: {}'.format(round(precision_score(y_tset, yp_test),3)))\n",
    "print('Recall: {}'.format(round(recall_score(y_tset, yp_test),3)))"
   ]
  },
  {
   "cell_type": "code",
   "execution_count": 79,
   "metadata": {},
   "outputs": [],
   "source": [
    "RF_tset2_res = [round(accuracy_score(y_tset, yp_test), 3), round(balanced_accuracy_score(y_tset, yp_test), 3),\n",
    "                 round(f1_score(y_tset, yp_test),3), round(roc_auc_score(y_tset, ys_test),3),\n",
    "                 round(average_precision_score(y_tset, ys_test),3), round(matthews_corrcoef(y_tset, yp_test),3),\n",
    "                 round(precision_score(y_tset, yp_test),3), round(recall_score(y_tset, yp_test),3)]"
   ]
  },
  {
   "cell_type": "code",
   "execution_count": 80,
   "metadata": {},
   "outputs": [
    {
     "name": "stdout",
     "output_type": "stream",
     "text": [
      "\u001b[1mConfusion Matrix\u001b[0m\n",
      "[[494   6]\n",
      " [  0 500]]\n",
      "\u001b[1mMetrics\u001b[0m\n",
      "ACC: 0.994\n",
      "BACC: 0.994\n",
      "F1: 0.994\n",
      "AUROC: 1.0\n",
      "AP: 1.0\n",
      "MCC: 0.988\n",
      "Precision: 0.988\n",
      "Recall: 1.0\n"
     ]
    }
   ],
   "source": [
    "### Independent Test Result\n",
    "X_tset_sds = scaler.transform(X_tset3)\n",
    "y_tset = y_tset3\n",
    "yp_test = clf.predict(X_tset_sds)\n",
    "ys_test = clf.predict_proba(X_tset_sds)\n",
    "ys_test = ys_test[:,1]\n",
    "\n",
    "print('\\033[1m' + 'Confusion Matrix' + '\\033[0m')\n",
    "print(confusion_matrix(y_tset, yp_test))\n",
    "\n",
    "print('\\033[1m' + 'Metrics' + '\\033[0m')\n",
    "print('ACC: {}'.format(round(accuracy_score(y_tset, yp_test), 3)))\n",
    "print('BACC: {}'.format(round(balanced_accuracy_score(y_tset, yp_test), 3)))\n",
    "print('F1: {}'.format(round(f1_score(y_tset, yp_test),3)))\n",
    "print('AUROC: {}'.format(round(roc_auc_score(y_tset, ys_test),3)))\n",
    "print('AP: {}'.format(round(average_precision_score(y_tset, ys_test),3)))\n",
    "print('MCC: {}'.format(round(matthews_corrcoef(y_tset, yp_test),3)))\n",
    "print('Precision: {}'.format(round(precision_score(y_tset, yp_test),3)))\n",
    "print('Recall: {}'.format(round(recall_score(y_tset, yp_test),3)))"
   ]
  },
  {
   "cell_type": "code",
   "execution_count": 81,
   "metadata": {},
   "outputs": [],
   "source": [
    "RF_tset3_res = [round(accuracy_score(y_tset, yp_test), 3), round(balanced_accuracy_score(y_tset, yp_test), 3),\n",
    "                 round(f1_score(y_tset, yp_test),3), round(roc_auc_score(y_tset, ys_test),3),\n",
    "                 round(average_precision_score(y_tset, ys_test),3), round(matthews_corrcoef(y_tset, yp_test),3),\n",
    "                 round(precision_score(y_tset, yp_test),3), round(recall_score(y_tset, yp_test),3)]"
   ]
  },
  {
   "cell_type": "code",
   "execution_count": 82,
   "metadata": {},
   "outputs": [
    {
     "name": "stdout",
     "output_type": "stream",
     "text": [
      "\u001b[1mConfusion Matrix\u001b[0m\n",
      "[[494   6]\n",
      " [  0 500]]\n",
      "\u001b[1mMetrics\u001b[0m\n",
      "ACC: 0.994\n",
      "BACC: 0.994\n",
      "F1: 0.994\n",
      "AUROC: 1.0\n",
      "AP: 1.0\n",
      "MCC: 0.988\n",
      "Precision: 0.988\n",
      "Recall: 1.0\n"
     ]
    }
   ],
   "source": [
    "### Independent Test Result\n",
    "X_tset_sds = scaler.transform(X_tset4)\n",
    "y_tset = y_tset4\n",
    "yp_test = clf.predict(X_tset_sds)\n",
    "ys_test = clf.predict_proba(X_tset_sds)\n",
    "ys_test = ys_test[:,1]\n",
    "\n",
    "print('\\033[1m' + 'Confusion Matrix' + '\\033[0m')\n",
    "print(confusion_matrix(y_tset, yp_test))\n",
    "\n",
    "print('\\033[1m' + 'Metrics' + '\\033[0m')\n",
    "print('ACC: {}'.format(round(accuracy_score(y_tset, yp_test), 3)))\n",
    "print('BACC: {}'.format(round(balanced_accuracy_score(y_tset, yp_test), 3)))\n",
    "print('F1: {}'.format(round(f1_score(y_tset, yp_test),3)))\n",
    "print('AUROC: {}'.format(round(roc_auc_score(y_tset, ys_test),3)))\n",
    "print('AP: {}'.format(round(average_precision_score(y_tset, ys_test),3)))\n",
    "print('MCC: {}'.format(round(matthews_corrcoef(y_tset, yp_test),3)))\n",
    "print('Precision: {}'.format(round(precision_score(y_tset, yp_test),3)))\n",
    "print('Recall: {}'.format(round(recall_score(y_tset, yp_test),3)))"
   ]
  },
  {
   "cell_type": "code",
   "execution_count": 83,
   "metadata": {},
   "outputs": [],
   "source": [
    "RF_tset4_res = [round(accuracy_score(y_tset, yp_test), 3), round(balanced_accuracy_score(y_tset, yp_test), 3),\n",
    "                 round(f1_score(y_tset, yp_test),3), round(roc_auc_score(y_tset, ys_test),3),\n",
    "                 round(average_precision_score(y_tset, ys_test),3), round(matthews_corrcoef(y_tset, yp_test),3),\n",
    "                 round(precision_score(y_tset, yp_test),3), round(recall_score(y_tset, yp_test),3)]"
   ]
  },
  {
   "cell_type": "code",
   "execution_count": 84,
   "metadata": {},
   "outputs": [],
   "source": [
    "outF = open(fileout, \"a\")\n",
    "outF.write(\"RandomForest, \")\n",
    "outF.write(\"ACC, BACC, F1, AUROC, Average_Precision, MCC, Precision, Recall\\n\")\n",
    "outF.write('DevSet, ')\n",
    "outF.write(', '.join(map(str, RF_devset_res)))\n",
    "outF.write('\\n')\n",
    "outF.write('IndSet1, ')\n",
    "outF.write(', '.join(map(str, RF_tset1_res)))\n",
    "outF.write('\\n')\n",
    "outF.write('IndSet2, ')\n",
    "outF.write(', '.join(map(str, RF_tset2_res)))\n",
    "outF.write('\\n')\n",
    "outF.write('IndSet3, ')\n",
    "outF.write(', '.join(map(str, RF_tset3_res)))\n",
    "outF.write('\\n')\n",
    "outF.write('IndSet4, ')\n",
    "outF.write(', '.join(map(str, RF_tset4_res)))\n",
    "outF.write('\\n')\n",
    "outF.close()"
   ]
  },
  {
   "cell_type": "markdown",
   "metadata": {},
   "source": [
    "### 3.6 Linear SVM"
   ]
  },
  {
   "cell_type": "code",
   "execution_count": 85,
   "metadata": {},
   "outputs": [],
   "source": [
    "from sklearn.preprocessing import StandardScaler\n",
    "from sklearn.svm import SVC"
   ]
  },
  {
   "cell_type": "code",
   "execution_count": 86,
   "metadata": {},
   "outputs": [
    {
     "data": {
      "text/plain": [
       "SVC(C=1.0, break_ties=False, cache_size=200, class_weight=None, coef0=0.0,\n",
       "    decision_function_shape='ovr', degree=3, gamma='scale', kernel='linear',\n",
       "    max_iter=-1, probability=True, random_state=None, shrinking=True, tol=0.001,\n",
       "    verbose=False)"
      ]
     },
     "execution_count": 86,
     "metadata": {},
     "output_type": "execute_result"
    }
   ],
   "source": [
    "## Learn Classifier\n",
    "scaler = StandardScaler()\n",
    "clf = SVC(kernel = 'linear', probability=True)\n",
    "scaler.fit(X_train)\n",
    "X_train_sds = scaler.transform(X_train)\n",
    "X_test_sds = scaler.transform(X_test)\n",
    "clf.fit(X_train_sds, y_train)"
   ]
  },
  {
   "cell_type": "code",
   "execution_count": 87,
   "metadata": {},
   "outputs": [
    {
     "name": "stdout",
     "output_type": "stream",
     "text": [
      "\u001b[1mConfusion Matrix\u001b[0m\n",
      "[[ 94   0]\n",
      " [  0 206]]\n",
      "\u001b[1mMetrics\u001b[0m\n",
      "ACC: 1.0\n",
      "BACC: 1.0\n",
      "F1: 1.0\n",
      "AUROC: 1.0\n",
      "AP: 1.0\n",
      "MCC: 1.0\n",
      "Precision: 1.0\n",
      "Recall: 1.0\n"
     ]
    }
   ],
   "source": [
    "### Test within batch\n",
    "from sklearn.metrics import confusion_matrix, accuracy_score, balanced_accuracy_score, f1_score \n",
    "from sklearn.metrics import roc_auc_score, precision_score, recall_score, matthews_corrcoef, average_precision_score\n",
    "\n",
    "yp_test = clf.predict(X_test_sds)\n",
    "ys_test = clf.predict_proba(X_test_sds)\n",
    "ys_test = ys_test[:,1]\n",
    "\n",
    "print('\\033[1m' + 'Confusion Matrix' + '\\033[0m')\n",
    "print(confusion_matrix(y_test, yp_test))\n",
    "\n",
    "print('\\033[1m' + 'Metrics' + '\\033[0m')\n",
    "print('ACC: {}'.format(round(accuracy_score(y_test, yp_test), 3)))\n",
    "print('BACC: {}'.format(round(balanced_accuracy_score(y_test, yp_test), 3)))\n",
    "print('F1: {}'.format(round(f1_score(y_test, yp_test),3)))\n",
    "print('AUROC: {}'.format(round(roc_auc_score(y_test, ys_test),3)))\n",
    "print('AP: {}'.format(round(average_precision_score(y_test, yp_test),3)))\n",
    "print('MCC: {}'.format(round(matthews_corrcoef(y_test, yp_test),3)))\n",
    "print('Precision: {}'.format(round(precision_score(y_test, yp_test),3)))\n",
    "print('Recall: {}'.format(round(recall_score(y_test, yp_test),3)))"
   ]
  },
  {
   "cell_type": "code",
   "execution_count": 88,
   "metadata": {},
   "outputs": [],
   "source": [
    "LinSVM_devset_res = [round(accuracy_score(y_test, yp_test), 3), round(balanced_accuracy_score(y_test, yp_test), 3),\n",
    "                 round(f1_score(y_test, yp_test),3), round(roc_auc_score(y_test, ys_test),3),\n",
    "                 round(average_precision_score(y_test, ys_test),3), round(matthews_corrcoef(y_test, yp_test),3),\n",
    "                 round(precision_score(y_test, yp_test),3), round(recall_score(y_test, yp_test),3)]"
   ]
  },
  {
   "cell_type": "code",
   "execution_count": 89,
   "metadata": {},
   "outputs": [
    {
     "name": "stdout",
     "output_type": "stream",
     "text": [
      "\u001b[1mConfusion Matrix\u001b[0m\n",
      "[[500   0]\n",
      " [ 45 506]]\n",
      "\u001b[1mMetrics\u001b[0m\n",
      "ACC: 0.957\n",
      "BACC: 0.959\n",
      "F1: 0.957\n",
      "AUROC: 1.0\n",
      "AP: 1.0\n",
      "MCC: 0.918\n",
      "Precision: 1.0\n",
      "Recall: 0.918\n"
     ]
    }
   ],
   "source": [
    "### Independent Test Result\n",
    "X_tset_sds = scaler.transform(X_tset1)\n",
    "y_tset = y_tset1\n",
    "yp_test = clf.predict(X_tset_sds)\n",
    "ys_test = clf.predict_proba(X_tset_sds)\n",
    "ys_test = ys_test[:,1]\n",
    "\n",
    "print('\\033[1m' + 'Confusion Matrix' + '\\033[0m')\n",
    "print(confusion_matrix(y_tset, yp_test))\n",
    "\n",
    "print('\\033[1m' + 'Metrics' + '\\033[0m')\n",
    "print('ACC: {}'.format(round(accuracy_score(y_tset, yp_test), 3)))\n",
    "print('BACC: {}'.format(round(balanced_accuracy_score(y_tset, yp_test), 3)))\n",
    "print('F1: {}'.format(round(f1_score(y_tset, yp_test),3)))\n",
    "print('AUROC: {}'.format(round(roc_auc_score(y_tset, ys_test),3)))\n",
    "print('AP: {}'.format(round(average_precision_score(y_tset, ys_test),3)))\n",
    "print('MCC: {}'.format(round(matthews_corrcoef(y_tset, yp_test),3)))\n",
    "print('Precision: {}'.format(round(precision_score(y_tset, yp_test),3)))\n",
    "print('Recall: {}'.format(round(recall_score(y_tset, yp_test),3)))"
   ]
  },
  {
   "cell_type": "code",
   "execution_count": 90,
   "metadata": {},
   "outputs": [],
   "source": [
    "LinSVM_tset1_res = [round(accuracy_score(y_tset, yp_test), 3), round(balanced_accuracy_score(y_tset, yp_test), 3),\n",
    "                 round(f1_score(y_tset, yp_test),3), round(roc_auc_score(y_tset, ys_test),3),\n",
    "                 round(average_precision_score(y_tset, ys_test),3), round(matthews_corrcoef(y_tset, yp_test),3),\n",
    "                 round(precision_score(y_tset, yp_test),3), round(recall_score(y_tset, yp_test),3)]"
   ]
  },
  {
   "cell_type": "code",
   "execution_count": 91,
   "metadata": {},
   "outputs": [
    {
     "name": "stdout",
     "output_type": "stream",
     "text": [
      "\u001b[1mConfusion Matrix\u001b[0m\n",
      "[[500   0]\n",
      " [  0 500]]\n",
      "\u001b[1mMetrics\u001b[0m\n",
      "ACC: 1.0\n",
      "BACC: 1.0\n",
      "F1: 1.0\n",
      "AUROC: 1.0\n",
      "AP: 1.0\n",
      "MCC: 1.0\n",
      "Precision: 1.0\n",
      "Recall: 1.0\n"
     ]
    }
   ],
   "source": [
    "### Independent Test Result\n",
    "X_tset_sds = scaler.transform(X_tset2)\n",
    "y_tset = y_tset2\n",
    "yp_test = clf.predict(X_tset_sds)\n",
    "ys_test = clf.predict_proba(X_tset_sds)\n",
    "ys_test = ys_test[:,1]\n",
    "\n",
    "print('\\033[1m' + 'Confusion Matrix' + '\\033[0m')\n",
    "print(confusion_matrix(y_tset, yp_test))\n",
    "\n",
    "print('\\033[1m' + 'Metrics' + '\\033[0m')\n",
    "print('ACC: {}'.format(round(accuracy_score(y_tset, yp_test), 3)))\n",
    "print('BACC: {}'.format(round(balanced_accuracy_score(y_tset, yp_test), 3)))\n",
    "print('F1: {}'.format(round(f1_score(y_tset, yp_test),3)))\n",
    "print('AUROC: {}'.format(round(roc_auc_score(y_tset, ys_test),3)))\n",
    "print('AP: {}'.format(round(average_precision_score(y_tset, ys_test),3)))\n",
    "print('MCC: {}'.format(round(matthews_corrcoef(y_tset, yp_test),3)))\n",
    "print('Precision: {}'.format(round(precision_score(y_tset, yp_test),3)))\n",
    "print('Recall: {}'.format(round(recall_score(y_tset, yp_test),3)))"
   ]
  },
  {
   "cell_type": "code",
   "execution_count": 92,
   "metadata": {},
   "outputs": [],
   "source": [
    "LinSVM_tset2_res = [round(accuracy_score(y_tset, yp_test), 3), round(balanced_accuracy_score(y_tset, yp_test), 3),\n",
    "                 round(f1_score(y_tset, yp_test),3), round(roc_auc_score(y_tset, ys_test),3),\n",
    "                 round(average_precision_score(y_tset, ys_test),3), round(matthews_corrcoef(y_tset, yp_test),3),\n",
    "                 round(precision_score(y_tset, yp_test),3), round(recall_score(y_tset, yp_test),3)]"
   ]
  },
  {
   "cell_type": "code",
   "execution_count": 93,
   "metadata": {},
   "outputs": [
    {
     "name": "stdout",
     "output_type": "stream",
     "text": [
      "\u001b[1mConfusion Matrix\u001b[0m\n",
      "[[500   0]\n",
      " [  0 500]]\n",
      "\u001b[1mMetrics\u001b[0m\n",
      "ACC: 1.0\n",
      "BACC: 1.0\n",
      "F1: 1.0\n",
      "AUROC: 1.0\n",
      "AP: 1.0\n",
      "MCC: 1.0\n",
      "Precision: 1.0\n",
      "Recall: 1.0\n"
     ]
    }
   ],
   "source": [
    "### Independent Test Result\n",
    "X_tset_sds = scaler.transform(X_tset3)\n",
    "y_tset = y_tset3\n",
    "yp_test = clf.predict(X_tset_sds)\n",
    "ys_test = clf.predict_proba(X_tset_sds)\n",
    "ys_test = ys_test[:,1]\n",
    "\n",
    "print('\\033[1m' + 'Confusion Matrix' + '\\033[0m')\n",
    "print(confusion_matrix(y_tset, yp_test))\n",
    "\n",
    "print('\\033[1m' + 'Metrics' + '\\033[0m')\n",
    "print('ACC: {}'.format(round(accuracy_score(y_tset, yp_test), 3)))\n",
    "print('BACC: {}'.format(round(balanced_accuracy_score(y_tset, yp_test), 3)))\n",
    "print('F1: {}'.format(round(f1_score(y_tset, yp_test),3)))\n",
    "print('AUROC: {}'.format(round(roc_auc_score(y_tset, ys_test),3)))\n",
    "print('AP: {}'.format(round(average_precision_score(y_tset, ys_test),3)))\n",
    "print('MCC: {}'.format(round(matthews_corrcoef(y_tset, yp_test),3)))\n",
    "print('Precision: {}'.format(round(precision_score(y_tset, yp_test),3)))\n",
    "print('Recall: {}'.format(round(recall_score(y_tset, yp_test),3)))"
   ]
  },
  {
   "cell_type": "code",
   "execution_count": 94,
   "metadata": {},
   "outputs": [],
   "source": [
    "LinSVM_tset3_res = [round(accuracy_score(y_tset, yp_test), 3), round(balanced_accuracy_score(y_tset, yp_test), 3),\n",
    "                 round(f1_score(y_tset, yp_test),3), round(roc_auc_score(y_tset, ys_test),3),\n",
    "                 round(average_precision_score(y_tset, ys_test),3), round(matthews_corrcoef(y_tset, yp_test),3),\n",
    "                 round(precision_score(y_tset, yp_test),3), round(recall_score(y_tset, yp_test),3)]"
   ]
  },
  {
   "cell_type": "code",
   "execution_count": 95,
   "metadata": {},
   "outputs": [
    {
     "name": "stdout",
     "output_type": "stream",
     "text": [
      "\u001b[1mConfusion Matrix\u001b[0m\n",
      "[[500   0]\n",
      " [  0 500]]\n",
      "\u001b[1mMetrics\u001b[0m\n",
      "ACC: 1.0\n",
      "BACC: 1.0\n",
      "F1: 1.0\n",
      "AUROC: 1.0\n",
      "AP: 1.0\n",
      "MCC: 1.0\n",
      "Precision: 1.0\n",
      "Recall: 1.0\n"
     ]
    }
   ],
   "source": [
    "### Independent Test Result\n",
    "X_tset_sds = scaler.transform(X_tset4)\n",
    "y_tset = y_tset4\n",
    "yp_test = clf.predict(X_tset_sds)\n",
    "ys_test = clf.predict_proba(X_tset_sds)\n",
    "ys_test = ys_test[:,1]\n",
    "\n",
    "print('\\033[1m' + 'Confusion Matrix' + '\\033[0m')\n",
    "print(confusion_matrix(y_tset, yp_test))\n",
    "\n",
    "print('\\033[1m' + 'Metrics' + '\\033[0m')\n",
    "print('ACC: {}'.format(round(accuracy_score(y_tset, yp_test), 3)))\n",
    "print('BACC: {}'.format(round(balanced_accuracy_score(y_tset, yp_test), 3)))\n",
    "print('F1: {}'.format(round(f1_score(y_tset, yp_test),3)))\n",
    "print('AUROC: {}'.format(round(roc_auc_score(y_tset, ys_test),3)))\n",
    "print('AP: {}'.format(round(average_precision_score(y_tset, ys_test),3)))\n",
    "print('MCC: {}'.format(round(matthews_corrcoef(y_tset, yp_test),3)))\n",
    "print('Precision: {}'.format(round(precision_score(y_tset, yp_test),3)))\n",
    "print('Recall: {}'.format(round(recall_score(y_tset, yp_test),3)))"
   ]
  },
  {
   "cell_type": "code",
   "execution_count": 96,
   "metadata": {},
   "outputs": [],
   "source": [
    "LinSVM_tset4_res = [round(accuracy_score(y_tset, yp_test), 3), round(balanced_accuracy_score(y_tset, yp_test), 3),\n",
    "                 round(f1_score(y_tset, yp_test),3), round(roc_auc_score(y_tset, ys_test),3),\n",
    "                 round(average_precision_score(y_tset, ys_test),3), round(matthews_corrcoef(y_tset, yp_test),3),\n",
    "                 round(precision_score(y_tset, yp_test),3), round(recall_score(y_tset, yp_test),3)]"
   ]
  },
  {
   "cell_type": "code",
   "execution_count": 97,
   "metadata": {},
   "outputs": [],
   "source": [
    "outF = open(fileout, \"a\")\n",
    "outF.write(\"Lin_SVM, \")\n",
    "outF.write(\"ACC, BACC, F1, AUROC, Average_Precision, MCC, Precision, Recall\\n\")\n",
    "outF.write('DevSet, ')\n",
    "outF.write(', '.join(map(str, LinSVM_devset_res)))\n",
    "outF.write('\\n')\n",
    "outF.write('IndSet1, ')\n",
    "outF.write(', '.join(map(str, LinSVM_tset1_res)))\n",
    "outF.write('\\n')\n",
    "outF.write('IndSet2, ')\n",
    "outF.write(', '.join(map(str, LinSVM_tset2_res)))\n",
    "outF.write('\\n')\n",
    "outF.write('IndSet3, ')\n",
    "outF.write(', '.join(map(str, LinSVM_tset3_res)))\n",
    "outF.write('\\n')\n",
    "outF.write('IndSet4, ')\n",
    "outF.write(', '.join(map(str, LinSVM_tset4_res)))\n",
    "outF.write('\\n')\n",
    "outF.close()"
   ]
  },
  {
   "cell_type": "markdown",
   "metadata": {},
   "source": [
    "### 3.7 RBF SVM (Nonlinear SVM)"
   ]
  },
  {
   "cell_type": "code",
   "execution_count": 98,
   "metadata": {},
   "outputs": [],
   "source": [
    "from sklearn.preprocessing import StandardScaler\n",
    "from sklearn.svm import SVC"
   ]
  },
  {
   "cell_type": "code",
   "execution_count": 99,
   "metadata": {},
   "outputs": [
    {
     "data": {
      "text/plain": [
       "SVC(C=1.0, break_ties=False, cache_size=200, class_weight=None, coef0=0.0,\n",
       "    decision_function_shape='ovr', degree=3, gamma='scale', kernel='rbf',\n",
       "    max_iter=-1, probability=True, random_state=None, shrinking=True, tol=0.001,\n",
       "    verbose=False)"
      ]
     },
     "execution_count": 99,
     "metadata": {},
     "output_type": "execute_result"
    }
   ],
   "source": [
    "## Learn Classifier\n",
    "scaler = StandardScaler()\n",
    "clf = SVC(kernel = 'rbf', probability=True)\n",
    "scaler.fit(X_train)\n",
    "X_train_sds = scaler.transform(X_train)\n",
    "X_test_sds = scaler.transform(X_test)\n",
    "clf.fit(X_train_sds, y_train)"
   ]
  },
  {
   "cell_type": "code",
   "execution_count": 100,
   "metadata": {},
   "outputs": [
    {
     "name": "stdout",
     "output_type": "stream",
     "text": [
      "\u001b[1mConfusion Matrix\u001b[0m\n",
      "[[ 94   0]\n",
      " [  0 206]]\n",
      "\u001b[1mMetrics\u001b[0m\n",
      "ACC: 1.0\n",
      "BACC: 1.0\n",
      "F1: 1.0\n",
      "AUROC: 1.0\n",
      "AP: 1.0\n",
      "MCC: 1.0\n",
      "Precision: 1.0\n",
      "Recall: 1.0\n"
     ]
    }
   ],
   "source": [
    "### Test within batch\n",
    "from sklearn.metrics import confusion_matrix, accuracy_score, balanced_accuracy_score, f1_score \n",
    "from sklearn.metrics import roc_auc_score, precision_score, recall_score, matthews_corrcoef, average_precision_score\n",
    "\n",
    "yp_test = clf.predict(X_test_sds)\n",
    "ys_test = clf.predict_proba(X_test_sds)\n",
    "ys_test = ys_test[:,1]\n",
    "\n",
    "print('\\033[1m' + 'Confusion Matrix' + '\\033[0m')\n",
    "print(confusion_matrix(y_test, yp_test))\n",
    "\n",
    "print('\\033[1m' + 'Metrics' + '\\033[0m')\n",
    "print('ACC: {}'.format(round(accuracy_score(y_test, yp_test), 3)))\n",
    "print('BACC: {}'.format(round(balanced_accuracy_score(y_test, yp_test), 3)))\n",
    "print('F1: {}'.format(round(f1_score(y_test, yp_test),3)))\n",
    "print('AUROC: {}'.format(round(roc_auc_score(y_test, ys_test),3)))\n",
    "print('AP: {}'.format(round(average_precision_score(y_test, yp_test),3)))\n",
    "print('MCC: {}'.format(round(matthews_corrcoef(y_test, yp_test),3)))\n",
    "print('Precision: {}'.format(round(precision_score(y_test, yp_test),3)))\n",
    "print('Recall: {}'.format(round(recall_score(y_test, yp_test),3)))"
   ]
  },
  {
   "cell_type": "code",
   "execution_count": 101,
   "metadata": {},
   "outputs": [],
   "source": [
    "RBFSVM_devset_res = [round(accuracy_score(y_test, yp_test), 3), round(balanced_accuracy_score(y_test, yp_test), 3),\n",
    "                 round(f1_score(y_test, yp_test),3), round(roc_auc_score(y_test, ys_test),3),\n",
    "                 round(average_precision_score(y_test, ys_test),3), round(matthews_corrcoef(y_test, yp_test),3),\n",
    "                 round(precision_score(y_test, yp_test),3), round(recall_score(y_test, yp_test),3)]"
   ]
  },
  {
   "cell_type": "code",
   "execution_count": 102,
   "metadata": {},
   "outputs": [
    {
     "name": "stdout",
     "output_type": "stream",
     "text": [
      "\u001b[1mConfusion Matrix\u001b[0m\n",
      "[[499   1]\n",
      " [ 44 507]]\n",
      "\u001b[1mMetrics\u001b[0m\n",
      "ACC: 0.957\n",
      "BACC: 0.959\n",
      "F1: 0.958\n",
      "AUROC: 0.999\n",
      "AP: 0.999\n",
      "MCC: 0.918\n",
      "Precision: 0.998\n",
      "Recall: 0.92\n"
     ]
    }
   ],
   "source": [
    "### Independent Test Result\n",
    "X_tset_sds = scaler.transform(X_tset1)\n",
    "y_tset = y_tset1\n",
    "yp_test = clf.predict(X_tset_sds)\n",
    "ys_test = clf.predict_proba(X_tset_sds)\n",
    "ys_test = ys_test[:,1]\n",
    "\n",
    "print('\\033[1m' + 'Confusion Matrix' + '\\033[0m')\n",
    "print(confusion_matrix(y_tset, yp_test))\n",
    "\n",
    "print('\\033[1m' + 'Metrics' + '\\033[0m')\n",
    "print('ACC: {}'.format(round(accuracy_score(y_tset, yp_test), 3)))\n",
    "print('BACC: {}'.format(round(balanced_accuracy_score(y_tset, yp_test), 3)))\n",
    "print('F1: {}'.format(round(f1_score(y_tset, yp_test),3)))\n",
    "print('AUROC: {}'.format(round(roc_auc_score(y_tset, ys_test),3)))\n",
    "print('AP: {}'.format(round(average_precision_score(y_tset, ys_test),3)))\n",
    "print('MCC: {}'.format(round(matthews_corrcoef(y_tset, yp_test),3)))\n",
    "print('Precision: {}'.format(round(precision_score(y_tset, yp_test),3)))\n",
    "print('Recall: {}'.format(round(recall_score(y_tset, yp_test),3)))"
   ]
  },
  {
   "cell_type": "code",
   "execution_count": 103,
   "metadata": {},
   "outputs": [],
   "source": [
    "RBFSVM_tset1_res = [round(accuracy_score(y_tset, yp_test), 3), round(balanced_accuracy_score(y_tset, yp_test), 3),\n",
    "                 round(f1_score(y_tset, yp_test),3), round(roc_auc_score(y_tset, ys_test),3),\n",
    "                 round(average_precision_score(y_tset, ys_test),3), round(matthews_corrcoef(y_tset, yp_test),3),\n",
    "                 round(precision_score(y_tset, yp_test),3), round(recall_score(y_tset, yp_test),3)]"
   ]
  },
  {
   "cell_type": "code",
   "execution_count": 104,
   "metadata": {},
   "outputs": [
    {
     "name": "stdout",
     "output_type": "stream",
     "text": [
      "\u001b[1mConfusion Matrix\u001b[0m\n",
      "[[498   2]\n",
      " [382 118]]\n",
      "\u001b[1mMetrics\u001b[0m\n",
      "ACC: 0.616\n",
      "BACC: 0.616\n",
      "F1: 0.381\n",
      "AUROC: 0.996\n",
      "AP: 0.979\n",
      "MCC: 0.357\n",
      "Precision: 0.983\n",
      "Recall: 0.236\n"
     ]
    }
   ],
   "source": [
    "### Independent Test Result\n",
    "X_tset_sds = scaler.transform(X_tset2)\n",
    "y_tset = y_tset2\n",
    "yp_test = clf.predict(X_tset_sds)\n",
    "ys_test = clf.predict_proba(X_tset_sds)\n",
    "ys_test = ys_test[:,1]\n",
    "\n",
    "print('\\033[1m' + 'Confusion Matrix' + '\\033[0m')\n",
    "print(confusion_matrix(y_tset, yp_test))\n",
    "\n",
    "print('\\033[1m' + 'Metrics' + '\\033[0m')\n",
    "print('ACC: {}'.format(round(accuracy_score(y_tset, yp_test), 3)))\n",
    "print('BACC: {}'.format(round(balanced_accuracy_score(y_tset, yp_test), 3)))\n",
    "print('F1: {}'.format(round(f1_score(y_tset, yp_test),3)))\n",
    "print('AUROC: {}'.format(round(roc_auc_score(y_tset, ys_test),3)))\n",
    "print('AP: {}'.format(round(average_precision_score(y_tset, ys_test),3)))\n",
    "print('MCC: {}'.format(round(matthews_corrcoef(y_tset, yp_test),3)))\n",
    "print('Precision: {}'.format(round(precision_score(y_tset, yp_test),3)))\n",
    "print('Recall: {}'.format(round(recall_score(y_tset, yp_test),3)))"
   ]
  },
  {
   "cell_type": "code",
   "execution_count": 105,
   "metadata": {},
   "outputs": [],
   "source": [
    "RBFSVM_tset2_res = [round(accuracy_score(y_tset, yp_test), 3), round(balanced_accuracy_score(y_tset, yp_test), 3),\n",
    "                 round(f1_score(y_tset, yp_test),3), round(roc_auc_score(y_tset, ys_test),3),\n",
    "                 round(average_precision_score(y_tset, ys_test),3), round(matthews_corrcoef(y_tset, yp_test),3),\n",
    "                 round(precision_score(y_tset, yp_test),3), round(recall_score(y_tset, yp_test),3)]"
   ]
  },
  {
   "cell_type": "code",
   "execution_count": 106,
   "metadata": {},
   "outputs": [
    {
     "name": "stdout",
     "output_type": "stream",
     "text": [
      "\u001b[1mConfusion Matrix\u001b[0m\n",
      "[[498   2]\n",
      " [  0 500]]\n",
      "\u001b[1mMetrics\u001b[0m\n",
      "ACC: 0.998\n",
      "BACC: 0.998\n",
      "F1: 0.998\n",
      "AUROC: 1.0\n",
      "AP: 1.0\n",
      "MCC: 0.996\n",
      "Precision: 0.996\n",
      "Recall: 1.0\n"
     ]
    }
   ],
   "source": [
    "### Independent Test Result\n",
    "X_tset_sds = scaler.transform(X_tset3)\n",
    "y_tset = y_tset3\n",
    "yp_test = clf.predict(X_tset_sds)\n",
    "ys_test = clf.predict_proba(X_tset_sds)\n",
    "ys_test = ys_test[:,1]\n",
    "\n",
    "print('\\033[1m' + 'Confusion Matrix' + '\\033[0m')\n",
    "print(confusion_matrix(y_tset, yp_test))\n",
    "\n",
    "print('\\033[1m' + 'Metrics' + '\\033[0m')\n",
    "print('ACC: {}'.format(round(accuracy_score(y_tset, yp_test), 3)))\n",
    "print('BACC: {}'.format(round(balanced_accuracy_score(y_tset, yp_test), 3)))\n",
    "print('F1: {}'.format(round(f1_score(y_tset, yp_test),3)))\n",
    "print('AUROC: {}'.format(round(roc_auc_score(y_tset, ys_test),3)))\n",
    "print('AP: {}'.format(round(average_precision_score(y_tset, ys_test),3)))\n",
    "print('MCC: {}'.format(round(matthews_corrcoef(y_tset, yp_test),3)))\n",
    "print('Precision: {}'.format(round(precision_score(y_tset, yp_test),3)))\n",
    "print('Recall: {}'.format(round(recall_score(y_tset, yp_test),3)))"
   ]
  },
  {
   "cell_type": "code",
   "execution_count": 107,
   "metadata": {},
   "outputs": [],
   "source": [
    "RBFSVM_tset3_res = [round(accuracy_score(y_tset, yp_test), 3), round(balanced_accuracy_score(y_tset, yp_test), 3),\n",
    "                 round(f1_score(y_tset, yp_test),3), round(roc_auc_score(y_tset, ys_test),3),\n",
    "                 round(average_precision_score(y_tset, ys_test),3), round(matthews_corrcoef(y_tset, yp_test),3),\n",
    "                 round(precision_score(y_tset, yp_test),3), round(recall_score(y_tset, yp_test),3)]"
   ]
  },
  {
   "cell_type": "code",
   "execution_count": 108,
   "metadata": {},
   "outputs": [
    {
     "name": "stdout",
     "output_type": "stream",
     "text": [
      "\u001b[1mConfusion Matrix\u001b[0m\n",
      "[[498   2]\n",
      " [  0 500]]\n",
      "\u001b[1mMetrics\u001b[0m\n",
      "ACC: 0.998\n",
      "BACC: 0.998\n",
      "F1: 0.998\n",
      "AUROC: 1.0\n",
      "AP: 1.0\n",
      "MCC: 0.996\n",
      "Precision: 0.996\n",
      "Recall: 1.0\n"
     ]
    }
   ],
   "source": [
    "### Independent Test Result\n",
    "X_tset_sds = scaler.transform(X_tset4)\n",
    "y_tset = y_tset4\n",
    "yp_test = clf.predict(X_tset_sds)\n",
    "ys_test = clf.predict_proba(X_tset_sds)\n",
    "ys_test = ys_test[:,1]\n",
    "\n",
    "print('\\033[1m' + 'Confusion Matrix' + '\\033[0m')\n",
    "print(confusion_matrix(y_tset, yp_test))\n",
    "\n",
    "print('\\033[1m' + 'Metrics' + '\\033[0m')\n",
    "print('ACC: {}'.format(round(accuracy_score(y_tset, yp_test), 3)))\n",
    "print('BACC: {}'.format(round(balanced_accuracy_score(y_tset, yp_test), 3)))\n",
    "print('F1: {}'.format(round(f1_score(y_tset, yp_test),3)))\n",
    "print('AUROC: {}'.format(round(roc_auc_score(y_tset, ys_test),3)))\n",
    "print('AP: {}'.format(round(average_precision_score(y_tset, ys_test),3)))\n",
    "print('MCC: {}'.format(round(matthews_corrcoef(y_tset, yp_test),3)))\n",
    "print('Precision: {}'.format(round(precision_score(y_tset, yp_test),3)))\n",
    "print('Recall: {}'.format(round(recall_score(y_tset, yp_test),3)))"
   ]
  },
  {
   "cell_type": "code",
   "execution_count": 109,
   "metadata": {},
   "outputs": [],
   "source": [
    "RBFSVM_tset4_res = [round(accuracy_score(y_tset, yp_test), 3), round(balanced_accuracy_score(y_tset, yp_test), 3),\n",
    "                 round(f1_score(y_tset, yp_test),3), round(roc_auc_score(y_tset, ys_test),3),\n",
    "                 round(average_precision_score(y_tset, ys_test),3), round(matthews_corrcoef(y_tset, yp_test),3),\n",
    "                 round(precision_score(y_tset, yp_test),3), round(recall_score(y_tset, yp_test),3)]"
   ]
  },
  {
   "cell_type": "code",
   "execution_count": 110,
   "metadata": {},
   "outputs": [],
   "source": [
    "outF = open(fileout, \"a\")\n",
    "outF.write(\"RBF_SVM, \")\n",
    "outF.write(\"ACC, BACC, F1, AUROC, Average_Precision, MCC, Precision, Recall\\n\")\n",
    "outF.write('DevSet, ')\n",
    "outF.write(', '.join(map(str, RBFSVM_devset_res)))\n",
    "outF.write('\\n')\n",
    "outF.write('IndSet1, ')\n",
    "outF.write(', '.join(map(str, RBFSVM_tset1_res)))\n",
    "outF.write('\\n')\n",
    "outF.write('IndSet2, ')\n",
    "outF.write(', '.join(map(str, RBFSVM_tset2_res)))\n",
    "outF.write('\\n')\n",
    "outF.write('IndSet3, ')\n",
    "outF.write(', '.join(map(str, RBFSVM_tset3_res)))\n",
    "outF.write('\\n')\n",
    "outF.write('IndSet4, ')\n",
    "outF.write(', '.join(map(str, RBFSVM_tset4_res)))\n",
    "outF.write('\\n')\n",
    "outF.close()"
   ]
  }
 ],
 "metadata": {
  "kernelspec": {
   "display_name": "Python 3",
   "language": "python",
   "name": "python3"
  },
  "language_info": {
   "codemirror_mode": {
    "name": "ipython",
    "version": 3
   },
   "file_extension": ".py",
   "mimetype": "text/x-python",
   "name": "python",
   "nbconvert_exporter": "python",
   "pygments_lexer": "ipython3",
   "version": "3.7.6"
  }
 },
 "nbformat": 4,
 "nbformat_minor": 4
}
