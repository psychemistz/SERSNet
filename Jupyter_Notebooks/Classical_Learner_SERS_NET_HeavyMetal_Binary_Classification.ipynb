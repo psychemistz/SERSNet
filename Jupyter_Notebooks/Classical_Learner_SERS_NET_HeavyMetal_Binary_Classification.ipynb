{
 "cells": [
  {
   "cell_type": "code",
   "execution_count": 1,
   "metadata": {},
   "outputs": [],
   "source": [
    "## Utils\n",
    "import re\n",
    "import numpy as np\n",
    "import pandas as pd\n",
    "import itertools\n",
    "\n",
    "## Classical Learner\n",
    "from sklearn.model_selection import train_test_split\n",
    "from sklearn.svm import SVC\n",
    "from sklearn.linear_model import LogisticRegression, SGDClassifier\n",
    "from sklearn.ensemble import RandomForestClassifier\n",
    "from sklearn.model_selection import cross_val_score, cross_validate"
   ]
  },
  {
   "cell_type": "code",
   "execution_count": 2,
   "metadata": {},
   "outputs": [],
   "source": [
    "\"\"\"Dataset Parameter Setting\"\"\"\n",
    "\"\"\"Load Dataset\"\"\"\n",
    "cdcl2_b1_dset = pd.read_csv(\"C:/Users/sypark/Desktop/Projects/w_MinSeok/1SERSNet/2data/_preprocessed/sersnet_cdcl2_b1_bn_bl_corrected.csv\")\n",
    "cdcl2_b2_dset = pd.read_csv(\"C:/Users/sypark/Desktop/Projects/w_MinSeok/1SERSNet/2data/_preprocessed/sersnet_cdcl2_b2_bn_bl_corrected.csv\")\n",
    "\n",
    "pbcl2_b1_dset = pd.read_csv(\"C:/Users/sypark/Desktop/Projects/w_MinSeok/1SERSNet/2data/_preprocessed/sersnet_pbcl2_b1_bn_bl_corrected.csv\")\n",
    "pbcl2_b2_dset = pd.read_csv(\"C:/Users/sypark/Desktop/Projects/w_MinSeok/1SERSNet/2data/_preprocessed/sersnet_pbcl2_b2_bn_bl_corrected.csv\")\n",
    "\n",
    "pbno32_b1_dset = pd.read_csv(\"C:/Users/sypark/Desktop/Projects/w_MinSeok/1SERSNet/2data/_preprocessed/sersnet_pbno32_b1_bn_bl_corrected.csv\")\n",
    "pbno32_b2_dset = pd.read_csv(\"C:/Users/sypark/Desktop/Projects/w_MinSeok/1SERSNet/2data/_preprocessed/sersnet_pbno32_b2_bn_bl_corrected.csv\")\n",
    "\n",
    "\n",
    "\"\"\"Set Output Path\"\"\"\n",
    "fileout = \"C:/Users/sypark/Desktop/Projects/w_MinSeok/1SERSNet/3results/HM_Classification/raw_data/baseline_binary_hm_model_output_b2_to_b1_bn_bl_corrected.csv\""
   ]
  },
  {
   "cell_type": "code",
   "execution_count": 3,
   "metadata": {},
   "outputs": [],
   "source": [
    "cdcl2_b1_dset = pd.concat([pd.DataFrame(cdcl2_b1_dset.iloc[:, 3]).rename(columns={'Concentration_uM': 'label'}), \n",
    "                           cdcl2_b1_dset.iloc[:, 5:]], axis=1)\n",
    "cdcl2_b2_dset = pd.concat([pd.DataFrame(cdcl2_b2_dset.iloc[:, 3]).rename(columns={'Concentration_uM': 'label'}), \n",
    "                           cdcl2_b2_dset.iloc[:, 5:]], axis=1)\n",
    "cdcl2_all_dset = pd.concat([cdcl2_b1_dset, cdcl2_b2_dset], axis=0).reset_index(drop=True)\n",
    "\n",
    "pbcl2_b1_dset = pd.concat([pd.DataFrame(pbcl2_b1_dset.iloc[:, 3]).rename(columns={'Concentration_uM': 'label'}), \n",
    "                           pbcl2_b1_dset.iloc[:, 5:]], axis=1)\n",
    "pbcl2_b2_dset = pd.concat([pd.DataFrame(pbcl2_b2_dset.iloc[:, 3]).rename(columns={'Concentration_uM': 'label'}), \n",
    "                           pbcl2_b2_dset.iloc[:, 5:]], axis=1)\n",
    "pbcl2_all_dset = pd.concat([pbcl2_b1_dset, pbcl2_b2_dset], axis=0).reset_index(drop=True)\n",
    "\n",
    "pbno32_b1_dset = pd.concat([pd.DataFrame(pbno32_b1_dset.iloc[:, 3]).rename(columns={'Concentration_uM': 'label'}), \n",
    "                            pbno32_b1_dset.iloc[:, 5:]], axis=1)\n",
    "pbno32_b2_dset = pd.concat([pd.DataFrame(pbno32_b2_dset.iloc[:, 3]).rename(columns={'Concentration_uM': 'label'}),\n",
    "                            pbno32_b2_dset.iloc[:, 5:]], axis=1)\n",
    "pbno32_all_dset = pd.concat([pbno32_b1_dset, pbno32_b2_dset], axis=0).reset_index(drop=True)"
   ]
  },
  {
   "cell_type": "code",
   "execution_count": 4,
   "metadata": {},
   "outputs": [],
   "source": [
    "## CdCl2 Dataset\n",
    "tmp1 = np.array(cdcl2_b1_dset.iloc[:,0] <=1e-2, dtype='int64')\n",
    "tmp2 = np.array(cdcl2_b2_dset.iloc[:,0] <=1e-2, dtype='int64')\n",
    "\n",
    "cdcl2_b1_dset = pd.concat([pd.DataFrame(tmp1).rename(columns={0:'label'}), cdcl2_b1_dset.iloc[:,1:]], axis=1)\n",
    "cdcl2_b2_dset = pd.concat([pd.DataFrame(tmp2).rename(columns={0:'label'}), cdcl2_b2_dset.iloc[:,1:]], axis=1)"
   ]
  },
  {
   "cell_type": "code",
   "execution_count": 5,
   "metadata": {},
   "outputs": [],
   "source": [
    "## Pbcl2 Dataset\n",
    "tmp1 = np.array(pbcl2_b1_dset.iloc[:,0] <=1e-2, dtype='int64')\n",
    "tmp2 = np.array(pbcl2_b2_dset.iloc[:,0] <=1e-2, dtype='int64')\n",
    "\n",
    "pbcl2_b1_dset = pd.concat([pd.DataFrame(tmp1).rename(columns={0:'label'}), pbcl2_b1_dset.iloc[:,1:]], axis=1)\n",
    "pbcl2_b2_dset = pd.concat([pd.DataFrame(tmp2).rename(columns={0:'label'}), pbcl2_b2_dset.iloc[:,1:]], axis=1)"
   ]
  },
  {
   "cell_type": "code",
   "execution_count": 6,
   "metadata": {},
   "outputs": [],
   "source": [
    "## Pb(NO3)2 Dataset\n",
    "tmp1 = np.array(pbno32_b1_dset.iloc[:,0] <=1e-2, dtype='int64')\n",
    "tmp2 = np.array(pbno32_b2_dset.iloc[:,0] <=1e-2, dtype='int64')\n",
    "\n",
    "pbno32_b1_dset = pd.concat([pd.DataFrame(tmp1).rename(columns={0:'label'}), pbno32_b1_dset.iloc[:,1:]], axis=1)\n",
    "pbno32_b2_dset = pd.concat([pd.DataFrame(tmp2).rename(columns={0:'label'}), pbno32_b2_dset.iloc[:,1:]], axis=1)"
   ]
  },
  {
   "cell_type": "code",
   "execution_count": 7,
   "metadata": {},
   "outputs": [],
   "source": [
    "cdcl2_train_set = cdcl2_b2_dset.iloc[:,:-1]\n",
    "cdcl2_test_set = cdcl2_b1_dset.iloc[:,:-1]\n",
    "pbcl2_train_set = pbcl2_b2_dset.iloc[:,:-1]\n",
    "pbcl2_test_set = pbcl2_b1_dset.iloc[:,:-1]\n",
    "pbno32_train_set = pbno32_b2_dset.iloc[:,:-1]\n",
    "pbno32_test_set = pbno32_b1_dset.iloc[:,:-1]"
   ]
  },
  {
   "cell_type": "code",
   "execution_count": 8,
   "metadata": {},
   "outputs": [],
   "source": [
    "tmp_dt = pbcl2_train_set[pbcl2_train_set.label==1]\n",
    "pbcl2_test_set = pd.concat([pbcl2_test_set, tmp_dt.iloc[0:1,:]], axis=0).reset_index(drop=True)\n",
    "\n",
    "tmp_dt = pbno32_train_set[pbno32_train_set.label==1]\n",
    "pbno32_test_set = pd.concat([pbno32_test_set, tmp_dt.iloc[0:1,:]], axis=0).reset_index(drop=True)"
   ]
  },
  {
   "cell_type": "code",
   "execution_count": 9,
   "metadata": {},
   "outputs": [],
   "source": [
    "X_cdcl2_dset = cdcl2_train_set.iloc[:, 1:].to_numpy(dtype='float32')\n",
    "X_cdcl2_tset = cdcl2_test_set.iloc[:, 1:].to_numpy(dtype='float32')\n",
    "y_cdcl2_dset = cdcl2_train_set.iloc[:,0].to_numpy(dtype='int64') \n",
    "y_cdcl2_tset = cdcl2_test_set.iloc[:,0].to_numpy(dtype='int64') \n",
    "\n",
    "\n",
    "X_pbcl2_dset = pbcl2_train_set.iloc[:, 1:].to_numpy(dtype='float32')\n",
    "X_pbcl2_tset = pbcl2_test_set.iloc[:, 1:].to_numpy(dtype='float32')\n",
    "y_pbcl2_dset = pbcl2_train_set.iloc[:,0].to_numpy(dtype='int64') \n",
    "y_pbcl2_tset = pbcl2_test_set.iloc[:,0].to_numpy(dtype='int64') \n",
    "\n",
    "X_pbno32_dset = pbno32_train_set.iloc[:, 1:].to_numpy(dtype='float32')\n",
    "X_pbno32_tset = pbno32_test_set.iloc[:, 1:].to_numpy(dtype='float32')\n",
    "y_pbno32_dset = pbno32_train_set.iloc[:,0].to_numpy(dtype='int64') \n",
    "y_pbno32_tset = pbno32_test_set.iloc[:,0].to_numpy(dtype='int64') "
   ]
  },
  {
   "cell_type": "markdown",
   "metadata": {},
   "source": [
    "## 2. Train Test Split"
   ]
  },
  {
   "cell_type": "code",
   "execution_count": 10,
   "metadata": {},
   "outputs": [],
   "source": [
    "## 4.4 train and test split for Classical Learner\n",
    "X_cdcl2_train, X_cdcl2_test, y_cdcl2_train, y_cdcl2_test = train_test_split(X_cdcl2_dset, y_cdcl2_dset, test_size = 0.2, \n",
    "                                                    random_state=123)\n",
    "\n",
    "X_pbcl2_train, X_pbcl2_test, y_pbcl2_train, y_pbcl2_test = train_test_split(X_pbcl2_dset, y_pbcl2_dset, test_size = 0.2, \n",
    "                                                    random_state=123)\n",
    "\n",
    "X_pbno32_train, X_pbno32_test, y_pbno32_train, y_pbno32_test = train_test_split(X_pbno32_dset, y_pbno32_dset, test_size = 0.2, \n",
    "                                                    random_state=123)"
   ]
  },
  {
   "cell_type": "markdown",
   "metadata": {},
   "source": [
    "## 3. Classical Learner"
   ]
  },
  {
   "cell_type": "markdown",
   "metadata": {},
   "source": [
    "### 3.1 Naive Bayes"
   ]
  },
  {
   "cell_type": "code",
   "execution_count": 11,
   "metadata": {},
   "outputs": [],
   "source": [
    "from sklearn.preprocessing import StandardScaler\n",
    "from sklearn.naive_bayes import BernoulliNB"
   ]
  },
  {
   "cell_type": "code",
   "execution_count": 12,
   "metadata": {},
   "outputs": [
    {
     "data": {
      "text/plain": [
       "BernoulliNB(alpha=1.0, binarize=0.0, class_prior=None, fit_prior=True)"
      ]
     },
     "execution_count": 12,
     "metadata": {},
     "output_type": "execute_result"
    }
   ],
   "source": [
    "## Learn Classifier\n",
    "scaler = StandardScaler()\n",
    "clf = BernoulliNB()\n",
    "scaler.fit(X_cdcl2_train)\n",
    "X_train_sds = scaler.transform(X_cdcl2_train)\n",
    "X_test_sds = scaler.transform(X_cdcl2_test)\n",
    "y_train = y_cdcl2_train\n",
    "y_test = y_cdcl2_test\n",
    "X_tset = X_cdcl2_tset\n",
    "y_tset = y_cdcl2_tset\n",
    "clf.fit(X_train_sds, y_train)"
   ]
  },
  {
   "cell_type": "code",
   "execution_count": 13,
   "metadata": {},
   "outputs": [
    {
     "name": "stdout",
     "output_type": "stream",
     "text": [
      "\u001b[1mConfusion Matrix\u001b[0m\n",
      "[[266  30]\n",
      " [ 17  87]]\n",
      "\u001b[1mMetrics\u001b[0m\n",
      "ACC: 0.882\n",
      "BACC: 0.868\n",
      "F1: 0.787\n",
      "AUROC: 0.937\n",
      "AP: 0.747\n",
      "MCC: 0.709\n",
      "Precision: 0.744\n",
      "Recall: 0.837\n"
     ]
    }
   ],
   "source": [
    "### Test within batch\n",
    "from sklearn.metrics import confusion_matrix, accuracy_score, balanced_accuracy_score, f1_score \n",
    "from sklearn.metrics import roc_auc_score, precision_score, recall_score, matthews_corrcoef, average_precision_score\n",
    "\n",
    "yp_test = clf.predict(X_test_sds)\n",
    "ys_test = clf.predict_proba(X_test_sds)\n",
    "ys_test = ys_test[:,1]\n",
    "\n",
    "print('\\033[1m' + 'Confusion Matrix' + '\\033[0m')\n",
    "print(confusion_matrix(y_test, yp_test))\n",
    "\n",
    "print('\\033[1m' + 'Metrics' + '\\033[0m')\n",
    "print('ACC: {}'.format(round(accuracy_score(y_test, yp_test), 3)))\n",
    "print('BACC: {}'.format(round(balanced_accuracy_score(y_test, yp_test), 3)))\n",
    "print('F1: {}'.format(round(f1_score(y_test, yp_test),3)))\n",
    "print('AUROC: {}'.format(round(roc_auc_score(y_test, ys_test),3)))\n",
    "print('AP: {}'.format(round(average_precision_score(y_test, ys_test),3)))\n",
    "print('MCC: {}'.format(round(matthews_corrcoef(y_test, yp_test),3)))\n",
    "print('Precision: {}'.format(round(precision_score(y_test, yp_test),3)))\n",
    "print('Recall: {}'.format(round(recall_score(y_test, yp_test),3)))"
   ]
  },
  {
   "cell_type": "code",
   "execution_count": 14,
   "metadata": {},
   "outputs": [],
   "source": [
    "NB_cdcl2_devset_res = [round(accuracy_score(y_test, yp_test), 3), round(balanced_accuracy_score(y_test, yp_test), 3),\n",
    "                 round(f1_score(y_test, yp_test),3), round(roc_auc_score(y_test, ys_test),3),\n",
    "                 round(average_precision_score(y_test, ys_test),3), round(matthews_corrcoef(y_test, yp_test),3),\n",
    "                 round(precision_score(y_test, yp_test),3), round(recall_score(y_test, yp_test),3)]"
   ]
  },
  {
   "cell_type": "code",
   "execution_count": 15,
   "metadata": {},
   "outputs": [
    {
     "name": "stdout",
     "output_type": "stream",
     "text": [
      "\u001b[1mConfusion Matrix\u001b[0m\n",
      "[[349 651]\n",
      " [482  18]]\n",
      "\u001b[1mMetrics\u001b[0m\n",
      "ACC: 0.245\n",
      "BACC: 0.192\n",
      "F1: 0.031\n",
      "AUROC: 0.254\n",
      "AP: 0.253\n",
      "MCC: -0.583\n",
      "Precision: 0.027\n",
      "Recall: 0.036\n"
     ]
    }
   ],
   "source": [
    "### Independent Test Result\n",
    "X_tset_sds = scaler.transform(X_tset)\n",
    "yp_test = clf.predict(X_tset_sds)\n",
    "ys_test = clf.predict_proba(X_tset_sds)\n",
    "ys_test = ys_test[:,1]\n",
    "\n",
    "print('\\033[1m' + 'Confusion Matrix' + '\\033[0m')\n",
    "print(confusion_matrix(y_tset, yp_test))\n",
    "\n",
    "print('\\033[1m' + 'Metrics' + '\\033[0m')\n",
    "print('ACC: {}'.format(round(accuracy_score(y_tset, yp_test), 3)))\n",
    "print('BACC: {}'.format(round(balanced_accuracy_score(y_tset, yp_test), 3)))\n",
    "print('F1: {}'.format(round(f1_score(y_tset, yp_test),3)))\n",
    "print('AUROC: {}'.format(round(roc_auc_score(y_tset, ys_test),3)))\n",
    "print('AP: {}'.format(round(average_precision_score(y_tset, ys_test),3)))\n",
    "print('MCC: {}'.format(round(matthews_corrcoef(y_tset, yp_test),3)))\n",
    "print('Precision: {}'.format(round(precision_score(y_tset, yp_test),3)))\n",
    "print('Recall: {}'.format(round(recall_score(y_tset, yp_test),3)))"
   ]
  },
  {
   "cell_type": "code",
   "execution_count": 16,
   "metadata": {},
   "outputs": [],
   "source": [
    "NB_cdcl2_tset_res = [round(accuracy_score(y_tset, yp_test), 3), round(balanced_accuracy_score(y_tset, yp_test), 3),\n",
    "                 round(f1_score(y_tset, yp_test),3), round(roc_auc_score(y_tset, ys_test),3),\n",
    "                 round(average_precision_score(y_tset, ys_test),3), round(matthews_corrcoef(y_tset, yp_test),3),\n",
    "                 round(precision_score(y_tset, yp_test),3), round(recall_score(y_tset, yp_test),3)]"
   ]
  },
  {
   "cell_type": "code",
   "execution_count": 17,
   "metadata": {},
   "outputs": [
    {
     "data": {
      "text/plain": [
       "BernoulliNB(alpha=1.0, binarize=0.0, class_prior=None, fit_prior=True)"
      ]
     },
     "execution_count": 17,
     "metadata": {},
     "output_type": "execute_result"
    }
   ],
   "source": [
    "## Learn Classifier\n",
    "scaler = StandardScaler()\n",
    "clf = BernoulliNB()\n",
    "scaler.fit(X_pbcl2_train)\n",
    "X_train_sds = scaler.transform(X_pbcl2_train)\n",
    "X_test_sds = scaler.transform(X_pbcl2_test)\n",
    "y_train = y_pbcl2_train\n",
    "y_test = y_pbcl2_test\n",
    "X_tset = X_pbcl2_tset\n",
    "y_tset = y_pbcl2_tset\n",
    "clf.fit(X_train_sds, y_train)"
   ]
  },
  {
   "cell_type": "code",
   "execution_count": 18,
   "metadata": {},
   "outputs": [
    {
     "name": "stdout",
     "output_type": "stream",
     "text": [
      "\u001b[1mConfusion Matrix\u001b[0m\n",
      "[[294  17]\n",
      " [  0  89]]\n",
      "\u001b[1mMetrics\u001b[0m\n",
      "ACC: 0.958\n",
      "BACC: 0.973\n",
      "F1: 0.913\n",
      "AUROC: 0.981\n",
      "AP: 0.881\n",
      "MCC: 0.891\n",
      "Precision: 0.84\n",
      "Recall: 1.0\n"
     ]
    }
   ],
   "source": [
    "### Test within batch\n",
    "from sklearn.metrics import confusion_matrix, accuracy_score, balanced_accuracy_score, f1_score \n",
    "from sklearn.metrics import roc_auc_score, precision_score, recall_score, matthews_corrcoef, average_precision_score\n",
    "\n",
    "yp_test = clf.predict(X_test_sds)\n",
    "ys_test = clf.predict_proba(X_test_sds)\n",
    "ys_test = ys_test[:,1]\n",
    "\n",
    "print('\\033[1m' + 'Confusion Matrix' + '\\033[0m')\n",
    "print(confusion_matrix(y_test, yp_test))\n",
    "\n",
    "print('\\033[1m' + 'Metrics' + '\\033[0m')\n",
    "print('ACC: {}'.format(round(accuracy_score(y_test, yp_test), 3)))\n",
    "print('BACC: {}'.format(round(balanced_accuracy_score(y_test, yp_test), 3)))\n",
    "print('F1: {}'.format(round(f1_score(y_test, yp_test),3)))\n",
    "print('AUROC: {}'.format(round(roc_auc_score(y_test, ys_test),3)))\n",
    "print('AP: {}'.format(round(average_precision_score(y_test, ys_test),3)))\n",
    "print('MCC: {}'.format(round(matthews_corrcoef(y_test, yp_test),3)))\n",
    "print('Precision: {}'.format(round(precision_score(y_test, yp_test),3)))\n",
    "print('Recall: {}'.format(round(recall_score(y_test, yp_test),3)))"
   ]
  },
  {
   "cell_type": "code",
   "execution_count": 19,
   "metadata": {},
   "outputs": [],
   "source": [
    "NB_pbcl2_devset_res = [round(accuracy_score(y_test, yp_test), 3), round(balanced_accuracy_score(y_test, yp_test), 3),\n",
    "                 round(f1_score(y_test, yp_test),3), round(roc_auc_score(y_test, ys_test),3),\n",
    "                 round(average_precision_score(y_test, ys_test),3), round(matthews_corrcoef(y_test, yp_test),3),\n",
    "                 round(precision_score(y_test, yp_test),3), round(recall_score(y_test, yp_test),3)]"
   ]
  },
  {
   "cell_type": "code",
   "execution_count": 20,
   "metadata": {},
   "outputs": [
    {
     "name": "stdout",
     "output_type": "stream",
     "text": [
      "\u001b[1mConfusion Matrix\u001b[0m\n",
      "[[1106  394]\n",
      " [   0    1]]\n",
      "\u001b[1mMetrics\u001b[0m\n",
      "ACC: 0.738\n",
      "BACC: 0.869\n",
      "F1: 0.005\n",
      "AUROC: 0.87\n",
      "AP: 0.003\n",
      "MCC: 0.043\n",
      "Precision: 0.003\n",
      "Recall: 1.0\n"
     ]
    }
   ],
   "source": [
    "### Independent Test Result\n",
    "X_tset_sds = scaler.transform(X_tset)\n",
    "yp_test = clf.predict(X_tset_sds)\n",
    "ys_test = clf.predict_proba(X_tset_sds)\n",
    "ys_test = ys_test[:,1]\n",
    "\n",
    "print('\\033[1m' + 'Confusion Matrix' + '\\033[0m')\n",
    "print(confusion_matrix(y_tset, yp_test))\n",
    "\n",
    "print('\\033[1m' + 'Metrics' + '\\033[0m')\n",
    "print('ACC: {}'.format(round(accuracy_score(y_tset, yp_test), 3)))\n",
    "print('BACC: {}'.format(round(balanced_accuracy_score(y_tset, yp_test), 3)))\n",
    "print('F1: {}'.format(round(f1_score(y_tset, yp_test),3)))\n",
    "print('AUROC: {}'.format(round(roc_auc_score(y_tset, ys_test),3)))\n",
    "print('AP: {}'.format(round(average_precision_score(y_tset, ys_test),3)))\n",
    "print('MCC: {}'.format(round(matthews_corrcoef(y_tset, yp_test),3)))\n",
    "print('Precision: {}'.format(round(precision_score(y_tset, yp_test),3)))\n",
    "print('Recall: {}'.format(round(recall_score(y_tset, yp_test),3)))"
   ]
  },
  {
   "cell_type": "code",
   "execution_count": 21,
   "metadata": {},
   "outputs": [],
   "source": [
    "NB_pbcl2_tset_res = [round(accuracy_score(y_tset, yp_test), 3), round(balanced_accuracy_score(y_tset, yp_test), 3),\n",
    "                 round(f1_score(y_tset, yp_test),3), round(roc_auc_score(y_tset, ys_test),3),\n",
    "                 round(average_precision_score(y_tset, ys_test),3), round(matthews_corrcoef(y_tset, yp_test),3),\n",
    "                 round(precision_score(y_tset, yp_test),3), round(recall_score(y_tset, yp_test),3)]"
   ]
  },
  {
   "cell_type": "code",
   "execution_count": 22,
   "metadata": {},
   "outputs": [
    {
     "data": {
      "text/plain": [
       "BernoulliNB(alpha=1.0, binarize=0.0, class_prior=None, fit_prior=True)"
      ]
     },
     "execution_count": 22,
     "metadata": {},
     "output_type": "execute_result"
    }
   ],
   "source": [
    "## Learn Classifier\n",
    "scaler = StandardScaler()\n",
    "clf = BernoulliNB()\n",
    "scaler.fit(X_pbno32_train)\n",
    "X_train_sds = scaler.transform(X_pbno32_train)\n",
    "X_test_sds = scaler.transform(X_pbno32_test)\n",
    "y_train = y_pbno32_train\n",
    "y_test = y_pbno32_test\n",
    "X_tset = X_pbno32_tset\n",
    "y_tset = y_pbno32_tset\n",
    "clf.fit(X_train_sds, y_train)"
   ]
  },
  {
   "cell_type": "code",
   "execution_count": 23,
   "metadata": {},
   "outputs": [
    {
     "name": "stdout",
     "output_type": "stream",
     "text": [
      "\u001b[1mConfusion Matrix\u001b[0m\n",
      "[[291  20]\n",
      " [  8  81]]\n",
      "\u001b[1mMetrics\u001b[0m\n",
      "ACC: 0.93\n",
      "BACC: 0.923\n",
      "F1: 0.853\n",
      "AUROC: 0.958\n",
      "AP: 0.789\n",
      "MCC: 0.81\n",
      "Precision: 0.802\n",
      "Recall: 0.91\n"
     ]
    }
   ],
   "source": [
    "### Test within batch\n",
    "from sklearn.metrics import confusion_matrix, accuracy_score, balanced_accuracy_score, f1_score \n",
    "from sklearn.metrics import roc_auc_score, precision_score, recall_score, matthews_corrcoef, average_precision_score\n",
    "\n",
    "yp_test = clf.predict(X_test_sds)\n",
    "ys_test = clf.predict_proba(X_test_sds)\n",
    "ys_test = ys_test[:,1]\n",
    "\n",
    "print('\\033[1m' + 'Confusion Matrix' + '\\033[0m')\n",
    "print(confusion_matrix(y_test, yp_test))\n",
    "\n",
    "print('\\033[1m' + 'Metrics' + '\\033[0m')\n",
    "print('ACC: {}'.format(round(accuracy_score(y_test, yp_test), 3)))\n",
    "print('BACC: {}'.format(round(balanced_accuracy_score(y_test, yp_test), 3)))\n",
    "print('F1: {}'.format(round(f1_score(y_test, yp_test),3)))\n",
    "print('AUROC: {}'.format(round(roc_auc_score(y_test, ys_test),3)))\n",
    "print('AP: {}'.format(round(average_precision_score(y_test, ys_test),3)))\n",
    "print('MCC: {}'.format(round(matthews_corrcoef(y_test, yp_test),3)))\n",
    "print('Precision: {}'.format(round(precision_score(y_test, yp_test),3)))\n",
    "print('Recall: {}'.format(round(recall_score(y_test, yp_test),3)))"
   ]
  },
  {
   "cell_type": "code",
   "execution_count": 24,
   "metadata": {},
   "outputs": [],
   "source": [
    "NB_pbno32_devset_res = [round(accuracy_score(y_test, yp_test), 3), round(balanced_accuracy_score(y_test, yp_test), 3),\n",
    "                 round(f1_score(y_test, yp_test),3), round(roc_auc_score(y_test, ys_test),3),\n",
    "                 round(average_precision_score(y_test, ys_test),3), round(matthews_corrcoef(y_test, yp_test),3),\n",
    "                 round(precision_score(y_test, yp_test),3), round(recall_score(y_test, yp_test),3)]"
   ]
  },
  {
   "cell_type": "code",
   "execution_count": 25,
   "metadata": {},
   "outputs": [
    {
     "name": "stdout",
     "output_type": "stream",
     "text": [
      "\u001b[1mConfusion Matrix\u001b[0m\n",
      "[[1061  439]\n",
      " [   0    1]]\n",
      "\u001b[1mMetrics\u001b[0m\n",
      "ACC: 0.708\n",
      "BACC: 0.854\n",
      "F1: 0.005\n",
      "AUROC: 0.854\n",
      "AP: 0.002\n",
      "MCC: 0.04\n",
      "Precision: 0.002\n",
      "Recall: 1.0\n"
     ]
    }
   ],
   "source": [
    "### Independent Test Result\n",
    "X_tset_sds = scaler.transform(X_tset)\n",
    "yp_test = clf.predict(X_tset_sds)\n",
    "ys_test = clf.predict_proba(X_tset_sds)\n",
    "ys_test = ys_test[:,1]\n",
    "\n",
    "print('\\033[1m' + 'Confusion Matrix' + '\\033[0m')\n",
    "print(confusion_matrix(y_tset, yp_test))\n",
    "\n",
    "print('\\033[1m' + 'Metrics' + '\\033[0m')\n",
    "print('ACC: {}'.format(round(accuracy_score(y_tset, yp_test), 3)))\n",
    "print('BACC: {}'.format(round(balanced_accuracy_score(y_tset, yp_test), 3)))\n",
    "print('F1: {}'.format(round(f1_score(y_tset, yp_test),3)))\n",
    "print('AUROC: {}'.format(round(roc_auc_score(y_tset, ys_test),3)))\n",
    "print('AP: {}'.format(round(average_precision_score(y_tset, ys_test),3)))\n",
    "print('MCC: {}'.format(round(matthews_corrcoef(y_tset, yp_test),3)))\n",
    "print('Precision: {}'.format(round(precision_score(y_tset, yp_test),3)))\n",
    "print('Recall: {}'.format(round(recall_score(y_tset, yp_test),3)))"
   ]
  },
  {
   "cell_type": "code",
   "execution_count": 26,
   "metadata": {},
   "outputs": [],
   "source": [
    "NB_pbno32_tset_res = [round(accuracy_score(y_tset, yp_test), 3), round(balanced_accuracy_score(y_tset, yp_test), 3),\n",
    "                 round(f1_score(y_tset, yp_test),3), round(roc_auc_score(y_tset, ys_test),3),\n",
    "                 round(average_precision_score(y_tset, ys_test),3), round(matthews_corrcoef(y_tset, yp_test),3),\n",
    "                 round(precision_score(y_tset, yp_test),3), round(recall_score(y_tset, yp_test),3)]"
   ]
  },
  {
   "cell_type": "code",
   "execution_count": 27,
   "metadata": {},
   "outputs": [],
   "source": [
    "outF = open(fileout, \"w\")\n",
    "outF.write(\"Naive_Bayes, \")\n",
    "outF.write(\"ACC, BACC, F1, AUROC, Average_Precision, MCC, Precision, Recall\\n\")\n",
    "outF.write('Cdcl2 DevSet, ')\n",
    "outF.write(', '.join(map(str, NB_cdcl2_devset_res)))\n",
    "outF.write('\\n')\n",
    "outF.write('Cdcl2 IndSet, ')\n",
    "outF.write(', '.join(map(str, NB_cdcl2_tset_res)))\n",
    "outF.write('\\n')\n",
    "outF.write('Pbcl2 DevSet, ')\n",
    "outF.write(', '.join(map(str, NB_pbcl2_devset_res)))\n",
    "outF.write('\\n')\n",
    "outF.write('Pbcl2 IndSet, ')\n",
    "outF.write(', '.join(map(str, NB_pbcl2_tset_res)))\n",
    "outF.write('\\n')\n",
    "outF.write('Pb(No3)2 DevSet, ')\n",
    "outF.write(', '.join(map(str, NB_pbno32_devset_res)))\n",
    "outF.write('\\n')\n",
    "outF.write('Pb(No3)2 IndSet, ')\n",
    "outF.write(', '.join(map(str, NB_pbno32_tset_res)))\n",
    "outF.write('\\n')\n",
    "outF.close()"
   ]
  },
  {
   "cell_type": "markdown",
   "metadata": {},
   "source": [
    "### 3.2 Decision Tree"
   ]
  },
  {
   "cell_type": "code",
   "execution_count": 28,
   "metadata": {},
   "outputs": [],
   "source": [
    "from sklearn.preprocessing import StandardScaler\n",
    "from sklearn.tree import DecisionTreeClassifier"
   ]
  },
  {
   "cell_type": "code",
   "execution_count": 29,
   "metadata": {},
   "outputs": [
    {
     "data": {
      "text/plain": [
       "DecisionTreeClassifier(ccp_alpha=0.0, class_weight=None, criterion='gini',\n",
       "                       max_depth=None, max_features=None, max_leaf_nodes=None,\n",
       "                       min_impurity_decrease=0.0, min_impurity_split=None,\n",
       "                       min_samples_leaf=1, min_samples_split=2,\n",
       "                       min_weight_fraction_leaf=0.0, presort='deprecated',\n",
       "                       random_state=None, splitter='best')"
      ]
     },
     "execution_count": 29,
     "metadata": {},
     "output_type": "execute_result"
    }
   ],
   "source": [
    "## Cdcl2 Classifier\n",
    "scaler = StandardScaler()\n",
    "clf = DecisionTreeClassifier()\n",
    "scaler.fit(X_cdcl2_train)\n",
    "X_train_sds = scaler.transform(X_cdcl2_train)\n",
    "X_test_sds = scaler.transform(X_cdcl2_test)\n",
    "y_train = y_cdcl2_train\n",
    "y_test = y_cdcl2_test\n",
    "X_tset = X_cdcl2_tset\n",
    "y_tset = y_cdcl2_tset\n",
    "clf.fit(X_train_sds, y_train)"
   ]
  },
  {
   "cell_type": "code",
   "execution_count": 30,
   "metadata": {},
   "outputs": [
    {
     "name": "stdout",
     "output_type": "stream",
     "text": [
      "\u001b[1mConfusion Matrix\u001b[0m\n",
      "[[295   1]\n",
      " [  0 104]]\n",
      "\u001b[1mMetrics\u001b[0m\n",
      "ACC: 0.998\n",
      "BACC: 0.998\n",
      "F1: 0.995\n",
      "AUROC: 0.998\n",
      "AP: 0.99\n",
      "MCC: 0.994\n",
      "Precision: 0.99\n",
      "Recall: 1.0\n"
     ]
    }
   ],
   "source": [
    "### Test within batch\n",
    "from sklearn.metrics import confusion_matrix, accuracy_score, balanced_accuracy_score, f1_score \n",
    "from sklearn.metrics import roc_auc_score, precision_score, recall_score, matthews_corrcoef, average_precision_score\n",
    "\n",
    "yp_test = clf.predict(X_test_sds)\n",
    "ys_test = clf.predict_proba(X_test_sds)\n",
    "ys_test = ys_test[:,1]\n",
    "\n",
    "print('\\033[1m' + 'Confusion Matrix' + '\\033[0m')\n",
    "print(confusion_matrix(y_test, yp_test))\n",
    "\n",
    "print('\\033[1m' + 'Metrics' + '\\033[0m')\n",
    "print('ACC: {}'.format(round(accuracy_score(y_test, yp_test), 3)))\n",
    "print('BACC: {}'.format(round(balanced_accuracy_score(y_test, yp_test), 3)))\n",
    "print('F1: {}'.format(round(f1_score(y_test, yp_test),3)))\n",
    "print('AUROC: {}'.format(round(roc_auc_score(y_test, ys_test),3)))\n",
    "print('AP: {}'.format(round(average_precision_score(y_test, ys_test),3)))\n",
    "print('MCC: {}'.format(round(matthews_corrcoef(y_test, yp_test),3)))\n",
    "print('Precision: {}'.format(round(precision_score(y_test, yp_test),3)))\n",
    "print('Recall: {}'.format(round(recall_score(y_test, yp_test),3)))"
   ]
  },
  {
   "cell_type": "code",
   "execution_count": 31,
   "metadata": {},
   "outputs": [],
   "source": [
    "DT_cdcl2_devset_res = [round(accuracy_score(y_test, yp_test), 3), round(balanced_accuracy_score(y_test, yp_test), 3),\n",
    "                 round(f1_score(y_test, yp_test),3), round(roc_auc_score(y_test, ys_test),3),\n",
    "                 round(average_precision_score(y_test, ys_test),3), round(matthews_corrcoef(y_test, yp_test),3),\n",
    "                 round(precision_score(y_test, yp_test),3), round(recall_score(y_test, yp_test),3)]"
   ]
  },
  {
   "cell_type": "code",
   "execution_count": 32,
   "metadata": {},
   "outputs": [
    {
     "name": "stdout",
     "output_type": "stream",
     "text": [
      "\u001b[1mConfusion Matrix\u001b[0m\n",
      "[[870 130]\n",
      " [337 163]]\n",
      "\u001b[1mMetrics\u001b[0m\n",
      "ACC: 0.689\n",
      "BACC: 0.598\n",
      "F1: 0.411\n",
      "AUROC: 0.598\n",
      "AP: 0.406\n",
      "MCC: 0.233\n",
      "Precision: 0.556\n",
      "Recall: 0.326\n"
     ]
    }
   ],
   "source": [
    "### Independent Test Result\n",
    "X_tset_sds = scaler.transform(X_tset)\n",
    "yp_test = clf.predict(X_tset_sds)\n",
    "ys_test = clf.predict_proba(X_tset_sds)\n",
    "ys_test = ys_test[:,1]\n",
    "\n",
    "print('\\033[1m' + 'Confusion Matrix' + '\\033[0m')\n",
    "print(confusion_matrix(y_tset, yp_test))\n",
    "\n",
    "print('\\033[1m' + 'Metrics' + '\\033[0m')\n",
    "print('ACC: {}'.format(round(accuracy_score(y_tset, yp_test), 3)))\n",
    "print('BACC: {}'.format(round(balanced_accuracy_score(y_tset, yp_test), 3)))\n",
    "print('F1: {}'.format(round(f1_score(y_tset, yp_test),3)))\n",
    "print('AUROC: {}'.format(round(roc_auc_score(y_tset, ys_test),3)))\n",
    "print('AP: {}'.format(round(average_precision_score(y_tset, ys_test),3)))\n",
    "print('MCC: {}'.format(round(matthews_corrcoef(y_tset, yp_test),3)))\n",
    "print('Precision: {}'.format(round(precision_score(y_tset, yp_test),3)))\n",
    "print('Recall: {}'.format(round(recall_score(y_tset, yp_test),3)))"
   ]
  },
  {
   "cell_type": "code",
   "execution_count": 33,
   "metadata": {},
   "outputs": [],
   "source": [
    "DT_cdcl2_tset_res = [round(accuracy_score(y_tset, yp_test), 3), round(balanced_accuracy_score(y_tset, yp_test), 3),\n",
    "                 round(f1_score(y_tset, yp_test),3), round(roc_auc_score(y_tset, ys_test),3),\n",
    "                 round(average_precision_score(y_tset, ys_test),3), round(matthews_corrcoef(y_tset, yp_test),3),\n",
    "                 round(precision_score(y_tset, yp_test),3), round(recall_score(y_tset, yp_test),3)]"
   ]
  },
  {
   "cell_type": "code",
   "execution_count": 34,
   "metadata": {},
   "outputs": [
    {
     "data": {
      "text/plain": [
       "DecisionTreeClassifier(ccp_alpha=0.0, class_weight=None, criterion='gini',\n",
       "                       max_depth=None, max_features=None, max_leaf_nodes=None,\n",
       "                       min_impurity_decrease=0.0, min_impurity_split=None,\n",
       "                       min_samples_leaf=1, min_samples_split=2,\n",
       "                       min_weight_fraction_leaf=0.0, presort='deprecated',\n",
       "                       random_state=None, splitter='best')"
      ]
     },
     "execution_count": 34,
     "metadata": {},
     "output_type": "execute_result"
    }
   ],
   "source": [
    "## Pbcl2 Classifier\n",
    "scaler = StandardScaler()\n",
    "clf = DecisionTreeClassifier()\n",
    "scaler.fit(X_cdcl2_train)\n",
    "X_train_sds = scaler.transform(X_pbcl2_train)\n",
    "X_test_sds = scaler.transform(X_pbcl2_test)\n",
    "y_train = y_pbcl2_train\n",
    "y_test = y_pbcl2_test\n",
    "X_tset = X_pbcl2_tset\n",
    "y_tset = y_pbcl2_tset\n",
    "clf.fit(X_train_sds, y_train)"
   ]
  },
  {
   "cell_type": "code",
   "execution_count": 35,
   "metadata": {},
   "outputs": [
    {
     "name": "stdout",
     "output_type": "stream",
     "text": [
      "\u001b[1mConfusion Matrix\u001b[0m\n",
      "[[311   0]\n",
      " [  0  89]]\n",
      "\u001b[1mMetrics\u001b[0m\n",
      "ACC: 1.0\n",
      "BACC: 1.0\n",
      "F1: 1.0\n",
      "AUROC: 1.0\n",
      "AP: 1.0\n",
      "MCC: 1.0\n",
      "Precision: 1.0\n",
      "Recall: 1.0\n"
     ]
    }
   ],
   "source": [
    "### Test within batch\n",
    "from sklearn.metrics import confusion_matrix, accuracy_score, balanced_accuracy_score, f1_score \n",
    "from sklearn.metrics import roc_auc_score, precision_score, recall_score, matthews_corrcoef, average_precision_score\n",
    "\n",
    "yp_test = clf.predict(X_test_sds)\n",
    "ys_test = clf.predict_proba(X_test_sds)\n",
    "ys_test = ys_test[:,1]\n",
    "\n",
    "print('\\033[1m' + 'Confusion Matrix' + '\\033[0m')\n",
    "print(confusion_matrix(y_test, yp_test))\n",
    "\n",
    "print('\\033[1m' + 'Metrics' + '\\033[0m')\n",
    "print('ACC: {}'.format(round(accuracy_score(y_test, yp_test), 3)))\n",
    "print('BACC: {}'.format(round(balanced_accuracy_score(y_test, yp_test), 3)))\n",
    "print('F1: {}'.format(round(f1_score(y_test, yp_test),3)))\n",
    "print('AUROC: {}'.format(round(roc_auc_score(y_test, ys_test),3)))\n",
    "print('AP: {}'.format(round(average_precision_score(y_test, ys_test),3)))\n",
    "print('MCC: {}'.format(round(matthews_corrcoef(y_test, yp_test),3)))\n",
    "print('Precision: {}'.format(round(precision_score(y_test, yp_test),3)))\n",
    "print('Recall: {}'.format(round(recall_score(y_test, yp_test),3)))"
   ]
  },
  {
   "cell_type": "code",
   "execution_count": 36,
   "metadata": {},
   "outputs": [],
   "source": [
    "DT_pbcl2_devset_res = [round(accuracy_score(y_test, yp_test), 3), round(balanced_accuracy_score(y_test, yp_test), 3),\n",
    "                 round(f1_score(y_test, yp_test),3), round(roc_auc_score(y_test, ys_test),3),\n",
    "                 round(average_precision_score(y_test, ys_test),3), round(matthews_corrcoef(y_test, yp_test),3),\n",
    "                 round(precision_score(y_test, yp_test),3), round(recall_score(y_test, yp_test),3)]"
   ]
  },
  {
   "cell_type": "code",
   "execution_count": 37,
   "metadata": {},
   "outputs": [
    {
     "name": "stdout",
     "output_type": "stream",
     "text": [
      "\u001b[1mConfusion Matrix\u001b[0m\n",
      "[[1097  403]\n",
      " [   0    1]]\n",
      "\u001b[1mMetrics\u001b[0m\n",
      "ACC: 0.732\n",
      "BACC: 0.866\n",
      "F1: 0.005\n",
      "AUROC: 0.866\n",
      "AP: 0.002\n",
      "MCC: 0.043\n",
      "Precision: 0.002\n",
      "Recall: 1.0\n"
     ]
    }
   ],
   "source": [
    "### Independent Test Result\n",
    "X_tset_sds = scaler.transform(X_tset)\n",
    "yp_test = clf.predict(X_tset_sds)\n",
    "ys_test = clf.predict_proba(X_tset_sds)\n",
    "ys_test = ys_test[:,1]\n",
    "\n",
    "print('\\033[1m' + 'Confusion Matrix' + '\\033[0m')\n",
    "print(confusion_matrix(y_tset, yp_test))\n",
    "\n",
    "print('\\033[1m' + 'Metrics' + '\\033[0m')\n",
    "print('ACC: {}'.format(round(accuracy_score(y_tset, yp_test), 3)))\n",
    "print('BACC: {}'.format(round(balanced_accuracy_score(y_tset, yp_test), 3)))\n",
    "print('F1: {}'.format(round(f1_score(y_tset, yp_test),3)))\n",
    "print('AUROC: {}'.format(round(roc_auc_score(y_tset, ys_test),3)))\n",
    "print('AP: {}'.format(round(average_precision_score(y_tset, ys_test),3)))\n",
    "print('MCC: {}'.format(round(matthews_corrcoef(y_tset, yp_test),3)))\n",
    "print('Precision: {}'.format(round(precision_score(y_tset, yp_test),3)))\n",
    "print('Recall: {}'.format(round(recall_score(y_tset, yp_test),3)))"
   ]
  },
  {
   "cell_type": "code",
   "execution_count": 38,
   "metadata": {},
   "outputs": [],
   "source": [
    "DT_pbcl2_tset_res = [round(accuracy_score(y_tset, yp_test), 3), round(balanced_accuracy_score(y_tset, yp_test), 3),\n",
    "                 round(f1_score(y_tset, yp_test),3), round(roc_auc_score(y_tset, ys_test),3),\n",
    "                 round(average_precision_score(y_tset, ys_test),3), round(matthews_corrcoef(y_tset, yp_test),3),\n",
    "                 round(precision_score(y_tset, yp_test),3), round(recall_score(y_tset, yp_test),3)]"
   ]
  },
  {
   "cell_type": "code",
   "execution_count": 39,
   "metadata": {},
   "outputs": [
    {
     "data": {
      "text/plain": [
       "DecisionTreeClassifier(ccp_alpha=0.0, class_weight=None, criterion='gini',\n",
       "                       max_depth=None, max_features=None, max_leaf_nodes=None,\n",
       "                       min_impurity_decrease=0.0, min_impurity_split=None,\n",
       "                       min_samples_leaf=1, min_samples_split=2,\n",
       "                       min_weight_fraction_leaf=0.0, presort='deprecated',\n",
       "                       random_state=None, splitter='best')"
      ]
     },
     "execution_count": 39,
     "metadata": {},
     "output_type": "execute_result"
    }
   ],
   "source": [
    "## Learn Classifier\n",
    "scaler = StandardScaler()\n",
    "clf = DecisionTreeClassifier()\n",
    "scaler.fit(X_pbno32_train)\n",
    "X_train_sds = scaler.transform(X_pbno32_train)\n",
    "X_test_sds = scaler.transform(X_pbno32_test)\n",
    "y_train = y_pbno32_train\n",
    "y_test = y_pbno32_test\n",
    "X_tset = X_pbno32_tset\n",
    "y_tset = y_pbno32_tset\n",
    "clf.fit(X_train_sds, y_train)"
   ]
  },
  {
   "cell_type": "code",
   "execution_count": 40,
   "metadata": {},
   "outputs": [
    {
     "name": "stdout",
     "output_type": "stream",
     "text": [
      "\u001b[1mConfusion Matrix\u001b[0m\n",
      "[[311   0]\n",
      " [  1  88]]\n",
      "\u001b[1mMetrics\u001b[0m\n",
      "ACC: 0.998\n",
      "BACC: 0.994\n",
      "F1: 0.994\n",
      "AUROC: 0.994\n",
      "AP: 0.991\n",
      "MCC: 0.993\n",
      "Precision: 1.0\n",
      "Recall: 0.989\n"
     ]
    }
   ],
   "source": [
    "### Test within batch\n",
    "from sklearn.metrics import confusion_matrix, accuracy_score, balanced_accuracy_score, f1_score \n",
    "from sklearn.metrics import roc_auc_score, precision_score, recall_score, matthews_corrcoef, average_precision_score\n",
    "\n",
    "yp_test = clf.predict(X_test_sds)\n",
    "ys_test = clf.predict_proba(X_test_sds)\n",
    "ys_test = ys_test[:,1]\n",
    "\n",
    "print('\\033[1m' + 'Confusion Matrix' + '\\033[0m')\n",
    "print(confusion_matrix(y_test, yp_test))\n",
    "\n",
    "print('\\033[1m' + 'Metrics' + '\\033[0m')\n",
    "print('ACC: {}'.format(round(accuracy_score(y_test, yp_test), 3)))\n",
    "print('BACC: {}'.format(round(balanced_accuracy_score(y_test, yp_test), 3)))\n",
    "print('F1: {}'.format(round(f1_score(y_test, yp_test),3)))\n",
    "print('AUROC: {}'.format(round(roc_auc_score(y_test, ys_test),3)))\n",
    "print('AP: {}'.format(round(average_precision_score(y_test, ys_test),3)))\n",
    "print('MCC: {}'.format(round(matthews_corrcoef(y_test, yp_test),3)))\n",
    "print('Precision: {}'.format(round(precision_score(y_test, yp_test),3)))\n",
    "print('Recall: {}'.format(round(recall_score(y_test, yp_test),3)))"
   ]
  },
  {
   "cell_type": "code",
   "execution_count": 41,
   "metadata": {},
   "outputs": [],
   "source": [
    "DT_pbno32_devset_res = [round(accuracy_score(y_test, yp_test), 3), round(balanced_accuracy_score(y_test, yp_test), 3),\n",
    "                 round(f1_score(y_test, yp_test),3), round(roc_auc_score(y_test, ys_test),3),\n",
    "                 round(average_precision_score(y_test, ys_test),3), round(matthews_corrcoef(y_test, yp_test),3),\n",
    "                 round(precision_score(y_test, yp_test),3), round(recall_score(y_test, yp_test),3)]"
   ]
  },
  {
   "cell_type": "code",
   "execution_count": 42,
   "metadata": {},
   "outputs": [
    {
     "name": "stdout",
     "output_type": "stream",
     "text": [
      "\u001b[1mConfusion Matrix\u001b[0m\n",
      "[[1204  296]\n",
      " [   0    1]]\n",
      "\u001b[1mMetrics\u001b[0m\n",
      "ACC: 0.803\n",
      "BACC: 0.901\n",
      "F1: 0.007\n",
      "AUROC: 0.901\n",
      "AP: 0.003\n",
      "MCC: 0.052\n",
      "Precision: 0.003\n",
      "Recall: 1.0\n"
     ]
    }
   ],
   "source": [
    "### Independent Test Result\n",
    "X_tset_sds = scaler.transform(X_tset)\n",
    "yp_test = clf.predict(X_tset_sds)\n",
    "ys_test = clf.predict_proba(X_tset_sds)\n",
    "ys_test = ys_test[:,1]\n",
    "\n",
    "print('\\033[1m' + 'Confusion Matrix' + '\\033[0m')\n",
    "print(confusion_matrix(y_tset, yp_test))\n",
    "\n",
    "print('\\033[1m' + 'Metrics' + '\\033[0m')\n",
    "print('ACC: {}'.format(round(accuracy_score(y_tset, yp_test), 3)))\n",
    "print('BACC: {}'.format(round(balanced_accuracy_score(y_tset, yp_test), 3)))\n",
    "print('F1: {}'.format(round(f1_score(y_tset, yp_test),3)))\n",
    "print('AUROC: {}'.format(round(roc_auc_score(y_tset, ys_test),3)))\n",
    "print('AP: {}'.format(round(average_precision_score(y_tset, ys_test),3)))\n",
    "print('MCC: {}'.format(round(matthews_corrcoef(y_tset, yp_test),3)))\n",
    "print('Precision: {}'.format(round(precision_score(y_tset, yp_test),3)))\n",
    "print('Recall: {}'.format(round(recall_score(y_tset, yp_test),3)))"
   ]
  },
  {
   "cell_type": "code",
   "execution_count": 43,
   "metadata": {},
   "outputs": [],
   "source": [
    "DT_pbno32_tset_res = [round(accuracy_score(y_tset, yp_test), 3), round(balanced_accuracy_score(y_tset, yp_test), 3),\n",
    "                 round(f1_score(y_tset, yp_test),3), round(roc_auc_score(y_tset, ys_test),3),\n",
    "                 round(average_precision_score(y_tset, ys_test),3), round(matthews_corrcoef(y_tset, yp_test),3),\n",
    "                 round(precision_score(y_tset, yp_test),3), round(recall_score(y_tset, yp_test),3)]"
   ]
  },
  {
   "cell_type": "code",
   "execution_count": 44,
   "metadata": {},
   "outputs": [],
   "source": [
    "outF = open(fileout, \"a\")\n",
    "outF.write(\"Decision_Tree, \")\n",
    "outF.write(\"ACC, BACC, F1, AUROC, Average_Precision, MCC, Precision, Recall\\n\")\n",
    "outF.write('Cdcl2 DevSet, ')\n",
    "outF.write(', '.join(map(str, DT_cdcl2_devset_res)))\n",
    "outF.write('\\n')\n",
    "outF.write('Cdcl2 IndSet, ')\n",
    "outF.write(', '.join(map(str, DT_cdcl2_tset_res)))\n",
    "outF.write('\\n')\n",
    "outF.write('Pbcl2 DevSet, ')\n",
    "outF.write(', '.join(map(str, DT_pbcl2_devset_res)))\n",
    "outF.write('\\n')\n",
    "outF.write('Pbcl2 IndSet, ')\n",
    "outF.write(', '.join(map(str, DT_pbcl2_tset_res)))\n",
    "outF.write('\\n')\n",
    "outF.write('Pb(No3)2 DevSet, ')\n",
    "outF.write(', '.join(map(str, DT_pbno32_devset_res)))\n",
    "outF.write('\\n')\n",
    "outF.write('Pb(No3)2 IndSet, ')\n",
    "outF.write(', '.join(map(str, DT_pbno32_tset_res)))\n",
    "outF.write('\\n')\n",
    "outF.close()"
   ]
  },
  {
   "cell_type": "markdown",
   "metadata": {},
   "source": [
    "### 3.2 Logistic Regression"
   ]
  },
  {
   "cell_type": "code",
   "execution_count": 45,
   "metadata": {},
   "outputs": [],
   "source": [
    "from sklearn.preprocessing import StandardScaler\n",
    "from sklearn.linear_model import LogisticRegression"
   ]
  },
  {
   "cell_type": "code",
   "execution_count": 46,
   "metadata": {},
   "outputs": [
    {
     "name": "stderr",
     "output_type": "stream",
     "text": [
      "C:\\ProgramData\\Anaconda3\\lib\\site-packages\\sklearn\\linear_model\\_logistic.py:940: ConvergenceWarning: lbfgs failed to converge (status=1):\n",
      "STOP: TOTAL NO. of ITERATIONS REACHED LIMIT.\n",
      "\n",
      "Increase the number of iterations (max_iter) or scale the data as shown in:\n",
      "    https://scikit-learn.org/stable/modules/preprocessing.html\n",
      "Please also refer to the documentation for alternative solver options:\n",
      "    https://scikit-learn.org/stable/modules/linear_model.html#logistic-regression\n",
      "  extra_warning_msg=_LOGISTIC_SOLVER_CONVERGENCE_MSG)\n"
     ]
    },
    {
     "data": {
      "text/plain": [
       "LogisticRegression(C=1.0, class_weight=None, dual=False, fit_intercept=True,\n",
       "                   intercept_scaling=1, l1_ratio=None, max_iter=100,\n",
       "                   multi_class='auto', n_jobs=None, penalty='l2',\n",
       "                   random_state=None, solver='lbfgs', tol=0.0001, verbose=0,\n",
       "                   warm_start=False)"
      ]
     },
     "execution_count": 46,
     "metadata": {},
     "output_type": "execute_result"
    }
   ],
   "source": [
    "## Learn Classifier\n",
    "scaler = StandardScaler()\n",
    "clf = LogisticRegression()\n",
    "scaler.fit(X_cdcl2_train)\n",
    "X_train_sds = scaler.transform(X_cdcl2_train)\n",
    "X_test_sds = scaler.transform(X_cdcl2_test)\n",
    "y_train = y_cdcl2_train\n",
    "y_test = y_cdcl2_test\n",
    "X_tset = X_cdcl2_tset\n",
    "y_tset = y_cdcl2_tset\n",
    "clf.fit(X_train_sds, y_train)"
   ]
  },
  {
   "cell_type": "code",
   "execution_count": 47,
   "metadata": {},
   "outputs": [
    {
     "name": "stdout",
     "output_type": "stream",
     "text": [
      "\u001b[1mConfusion Matrix\u001b[0m\n",
      "[[296   0]\n",
      " [  0 104]]\n",
      "\u001b[1mMetrics\u001b[0m\n",
      "ACC: 1.0\n",
      "BACC: 1.0\n",
      "F1: 1.0\n",
      "AUROC: 1.0\n",
      "AP: 1.0\n",
      "MCC: 1.0\n",
      "Precision: 1.0\n",
      "Recall: 1.0\n"
     ]
    }
   ],
   "source": [
    "### Test within batch\n",
    "from sklearn.metrics import confusion_matrix, accuracy_score, balanced_accuracy_score, f1_score \n",
    "from sklearn.metrics import roc_auc_score, precision_score, recall_score, matthews_corrcoef, average_precision_score\n",
    "\n",
    "yp_test = clf.predict(X_test_sds)\n",
    "ys_test = clf.predict_proba(X_test_sds)\n",
    "ys_test = ys_test[:,1]\n",
    "\n",
    "print('\\033[1m' + 'Confusion Matrix' + '\\033[0m')\n",
    "print(confusion_matrix(y_test, yp_test))\n",
    "\n",
    "print('\\033[1m' + 'Metrics' + '\\033[0m')\n",
    "print('ACC: {}'.format(round(accuracy_score(y_test, yp_test), 3)))\n",
    "print('BACC: {}'.format(round(balanced_accuracy_score(y_test, yp_test), 3)))\n",
    "print('F1: {}'.format(round(f1_score(y_test, yp_test),3)))\n",
    "print('AUROC: {}'.format(round(roc_auc_score(y_test, ys_test),3)))\n",
    "print('AP: {}'.format(round(average_precision_score(y_test, ys_test),3)))\n",
    "print('MCC: {}'.format(round(matthews_corrcoef(y_test, yp_test),3)))\n",
    "print('Precision: {}'.format(round(precision_score(y_test, yp_test),3)))\n",
    "print('Recall: {}'.format(round(recall_score(y_test, yp_test),3)))"
   ]
  },
  {
   "cell_type": "code",
   "execution_count": 48,
   "metadata": {},
   "outputs": [],
   "source": [
    "LR_cdcl2_devset_res = [round(accuracy_score(y_test, yp_test), 3), round(balanced_accuracy_score(y_test, yp_test), 3),\n",
    "                 round(f1_score(y_test, yp_test),3), round(roc_auc_score(y_test, ys_test),3),\n",
    "                 round(average_precision_score(y_test, ys_test),3), round(matthews_corrcoef(y_test, yp_test),3),\n",
    "                 round(precision_score(y_test, yp_test),3), round(recall_score(y_test, yp_test),3)]"
   ]
  },
  {
   "cell_type": "code",
   "execution_count": 49,
   "metadata": {},
   "outputs": [
    {
     "name": "stdout",
     "output_type": "stream",
     "text": [
      "\u001b[1mConfusion Matrix\u001b[0m\n",
      "[[830 170]\n",
      " [418  82]]\n",
      "\u001b[1mMetrics\u001b[0m\n",
      "ACC: 0.608\n",
      "BACC: 0.497\n",
      "F1: 0.218\n",
      "AUROC: 0.261\n",
      "AP: 0.33\n",
      "MCC: -0.008\n",
      "Precision: 0.325\n",
      "Recall: 0.164\n"
     ]
    }
   ],
   "source": [
    "### Independent Test Result\n",
    "X_tset_sds = scaler.transform(X_tset)\n",
    "yp_test = clf.predict(X_tset_sds)\n",
    "ys_test = clf.predict_proba(X_tset_sds)\n",
    "ys_test = ys_test[:,1]\n",
    "\n",
    "print('\\033[1m' + 'Confusion Matrix' + '\\033[0m')\n",
    "print(confusion_matrix(y_tset, yp_test))\n",
    "\n",
    "print('\\033[1m' + 'Metrics' + '\\033[0m')\n",
    "print('ACC: {}'.format(round(accuracy_score(y_tset, yp_test), 3)))\n",
    "print('BACC: {}'.format(round(balanced_accuracy_score(y_tset, yp_test), 3)))\n",
    "print('F1: {}'.format(round(f1_score(y_tset, yp_test),3)))\n",
    "print('AUROC: {}'.format(round(roc_auc_score(y_tset, ys_test),3)))\n",
    "print('AP: {}'.format(round(average_precision_score(y_tset, ys_test),3)))\n",
    "print('MCC: {}'.format(round(matthews_corrcoef(y_tset, yp_test),3)))\n",
    "print('Precision: {}'.format(round(precision_score(y_tset, yp_test),3)))\n",
    "print('Recall: {}'.format(round(recall_score(y_tset, yp_test),3)))"
   ]
  },
  {
   "cell_type": "code",
   "execution_count": 50,
   "metadata": {},
   "outputs": [],
   "source": [
    "LR_cdcl2_tset_res = [round(accuracy_score(y_tset, yp_test), 3), round(balanced_accuracy_score(y_tset, yp_test), 3),\n",
    "                 round(f1_score(y_tset, yp_test),3), round(roc_auc_score(y_tset, ys_test),3),\n",
    "                 round(average_precision_score(y_tset, ys_test),3), round(matthews_corrcoef(y_tset, yp_test),3),\n",
    "                 round(precision_score(y_tset, yp_test),3), round(recall_score(y_tset, yp_test),3)]"
   ]
  },
  {
   "cell_type": "code",
   "execution_count": 51,
   "metadata": {},
   "outputs": [
    {
     "data": {
      "text/plain": [
       "LogisticRegression(C=1.0, class_weight=None, dual=False, fit_intercept=True,\n",
       "                   intercept_scaling=1, l1_ratio=None, max_iter=100,\n",
       "                   multi_class='auto', n_jobs=None, penalty='l2',\n",
       "                   random_state=None, solver='lbfgs', tol=0.0001, verbose=0,\n",
       "                   warm_start=False)"
      ]
     },
     "execution_count": 51,
     "metadata": {},
     "output_type": "execute_result"
    }
   ],
   "source": [
    "## Pbcl2 Classifier\n",
    "scaler = StandardScaler()\n",
    "clf = LogisticRegression()\n",
    "scaler.fit(X_cdcl2_train)\n",
    "X_train_sds = scaler.transform(X_pbcl2_train)\n",
    "X_test_sds = scaler.transform(X_pbcl2_test)\n",
    "y_train = y_pbcl2_train\n",
    "y_test = y_pbcl2_test\n",
    "X_tset = X_pbcl2_tset\n",
    "y_tset = y_pbcl2_tset\n",
    "clf.fit(X_train_sds, y_train)"
   ]
  },
  {
   "cell_type": "code",
   "execution_count": 52,
   "metadata": {},
   "outputs": [
    {
     "name": "stdout",
     "output_type": "stream",
     "text": [
      "\u001b[1mConfusion Matrix\u001b[0m\n",
      "[[311   0]\n",
      " [  0  89]]\n",
      "\u001b[1mMetrics\u001b[0m\n",
      "ACC: 1.0\n",
      "BACC: 1.0\n",
      "F1: 1.0\n",
      "AUROC: 1.0\n",
      "AP: 1.0\n",
      "MCC: 1.0\n",
      "Precision: 1.0\n",
      "Recall: 1.0\n"
     ]
    }
   ],
   "source": [
    "### Test within batch\n",
    "from sklearn.metrics import confusion_matrix, accuracy_score, balanced_accuracy_score, f1_score \n",
    "from sklearn.metrics import roc_auc_score, precision_score, recall_score, matthews_corrcoef, average_precision_score\n",
    "\n",
    "yp_test = clf.predict(X_test_sds)\n",
    "ys_test = clf.predict_proba(X_test_sds)\n",
    "ys_test = ys_test[:,1]\n",
    "\n",
    "print('\\033[1m' + 'Confusion Matrix' + '\\033[0m')\n",
    "print(confusion_matrix(y_test, yp_test))\n",
    "\n",
    "print('\\033[1m' + 'Metrics' + '\\033[0m')\n",
    "print('ACC: {}'.format(round(accuracy_score(y_test, yp_test), 3)))\n",
    "print('BACC: {}'.format(round(balanced_accuracy_score(y_test, yp_test), 3)))\n",
    "print('F1: {}'.format(round(f1_score(y_test, yp_test),3)))\n",
    "print('AUROC: {}'.format(round(roc_auc_score(y_test, ys_test),3)))\n",
    "print('AP: {}'.format(round(average_precision_score(y_test, ys_test),3)))\n",
    "print('MCC: {}'.format(round(matthews_corrcoef(y_test, yp_test),3)))\n",
    "print('Precision: {}'.format(round(precision_score(y_test, yp_test),3)))\n",
    "print('Recall: {}'.format(round(recall_score(y_test, yp_test),3)))"
   ]
  },
  {
   "cell_type": "code",
   "execution_count": 53,
   "metadata": {},
   "outputs": [],
   "source": [
    "LR_pbcl2_devset_res = [round(accuracy_score(y_test, yp_test), 3), round(balanced_accuracy_score(y_test, yp_test), 3),\n",
    "                 round(f1_score(y_test, yp_test),3), round(roc_auc_score(y_test, ys_test),3),\n",
    "                 round(average_precision_score(y_test, ys_test),3), round(matthews_corrcoef(y_test, yp_test),3),\n",
    "                 round(precision_score(y_test, yp_test),3), round(recall_score(y_test, yp_test),3)]"
   ]
  },
  {
   "cell_type": "code",
   "execution_count": 54,
   "metadata": {},
   "outputs": [
    {
     "name": "stdout",
     "output_type": "stream",
     "text": [
      "\u001b[1mConfusion Matrix\u001b[0m\n",
      "[[1173  327]\n",
      " [   0    1]]\n",
      "\u001b[1mMetrics\u001b[0m\n",
      "ACC: 0.782\n",
      "BACC: 0.891\n",
      "F1: 0.006\n",
      "AUROC: 1.0\n",
      "AP: 1.0\n",
      "MCC: 0.049\n",
      "Precision: 0.003\n",
      "Recall: 1.0\n"
     ]
    }
   ],
   "source": [
    "### Independent Test Result\n",
    "X_tset_sds = scaler.transform(X_tset)\n",
    "yp_test = clf.predict(X_tset_sds)\n",
    "ys_test = clf.predict_proba(X_tset_sds)\n",
    "ys_test = ys_test[:,1]\n",
    "\n",
    "print('\\033[1m' + 'Confusion Matrix' + '\\033[0m')\n",
    "print(confusion_matrix(y_tset, yp_test))\n",
    "\n",
    "print('\\033[1m' + 'Metrics' + '\\033[0m')\n",
    "print('ACC: {}'.format(round(accuracy_score(y_tset, yp_test), 3)))\n",
    "print('BACC: {}'.format(round(balanced_accuracy_score(y_tset, yp_test), 3)))\n",
    "print('F1: {}'.format(round(f1_score(y_tset, yp_test),3)))\n",
    "print('AUROC: {}'.format(round(roc_auc_score(y_tset, ys_test),3)))\n",
    "print('AP: {}'.format(round(average_precision_score(y_tset, ys_test),3)))\n",
    "print('MCC: {}'.format(round(matthews_corrcoef(y_tset, yp_test),3)))\n",
    "print('Precision: {}'.format(round(precision_score(y_tset, yp_test),3)))\n",
    "print('Recall: {}'.format(round(recall_score(y_tset, yp_test),3)))"
   ]
  },
  {
   "cell_type": "code",
   "execution_count": 55,
   "metadata": {},
   "outputs": [],
   "source": [
    "LR_pbcl2_tset_res = [round(accuracy_score(y_tset, yp_test), 3), round(balanced_accuracy_score(y_tset, yp_test), 3),\n",
    "                 round(f1_score(y_tset, yp_test),3), round(roc_auc_score(y_tset, ys_test),3),\n",
    "                 round(average_precision_score(y_tset, ys_test),3), round(matthews_corrcoef(y_tset, yp_test),3),\n",
    "                 round(precision_score(y_tset, yp_test),3), round(recall_score(y_tset, yp_test),3)]"
   ]
  },
  {
   "cell_type": "code",
   "execution_count": 56,
   "metadata": {},
   "outputs": [
    {
     "name": "stderr",
     "output_type": "stream",
     "text": [
      "C:\\ProgramData\\Anaconda3\\lib\\site-packages\\sklearn\\linear_model\\_logistic.py:940: ConvergenceWarning: lbfgs failed to converge (status=1):\n",
      "STOP: TOTAL NO. of ITERATIONS REACHED LIMIT.\n",
      "\n",
      "Increase the number of iterations (max_iter) or scale the data as shown in:\n",
      "    https://scikit-learn.org/stable/modules/preprocessing.html\n",
      "Please also refer to the documentation for alternative solver options:\n",
      "    https://scikit-learn.org/stable/modules/linear_model.html#logistic-regression\n",
      "  extra_warning_msg=_LOGISTIC_SOLVER_CONVERGENCE_MSG)\n"
     ]
    },
    {
     "data": {
      "text/plain": [
       "LogisticRegression(C=1.0, class_weight=None, dual=False, fit_intercept=True,\n",
       "                   intercept_scaling=1, l1_ratio=None, max_iter=100,\n",
       "                   multi_class='auto', n_jobs=None, penalty='l2',\n",
       "                   random_state=None, solver='lbfgs', tol=0.0001, verbose=0,\n",
       "                   warm_start=False)"
      ]
     },
     "execution_count": 56,
     "metadata": {},
     "output_type": "execute_result"
    }
   ],
   "source": [
    "## Learn Classifier\n",
    "scaler = StandardScaler()\n",
    "clf = LogisticRegression()\n",
    "scaler.fit(X_pbno32_train)\n",
    "X_train_sds = scaler.transform(X_pbno32_train)\n",
    "X_test_sds = scaler.transform(X_pbno32_test)\n",
    "y_train = y_pbno32_train\n",
    "y_test = y_pbno32_test\n",
    "X_tset = X_pbno32_tset\n",
    "y_tset = y_pbno32_tset\n",
    "clf.fit(X_train_sds, y_train)"
   ]
  },
  {
   "cell_type": "code",
   "execution_count": 57,
   "metadata": {},
   "outputs": [
    {
     "name": "stdout",
     "output_type": "stream",
     "text": [
      "\u001b[1mConfusion Matrix\u001b[0m\n",
      "[[309   2]\n",
      " [  0  89]]\n",
      "\u001b[1mMetrics\u001b[0m\n",
      "ACC: 0.995\n",
      "BACC: 0.997\n",
      "F1: 0.989\n",
      "AUROC: 0.997\n",
      "AP: 0.987\n",
      "MCC: 0.986\n",
      "Precision: 0.978\n",
      "Recall: 1.0\n"
     ]
    }
   ],
   "source": [
    "### Test within batch\n",
    "from sklearn.metrics import confusion_matrix, accuracy_score, balanced_accuracy_score, f1_score \n",
    "from sklearn.metrics import roc_auc_score, precision_score, recall_score, matthews_corrcoef, average_precision_score\n",
    "\n",
    "yp_test = clf.predict(X_test_sds)\n",
    "ys_test = clf.predict_proba(X_test_sds)\n",
    "ys_test = ys_test[:,1]\n",
    "\n",
    "print('\\033[1m' + 'Confusion Matrix' + '\\033[0m')\n",
    "print(confusion_matrix(y_test, yp_test))\n",
    "\n",
    "print('\\033[1m' + 'Metrics' + '\\033[0m')\n",
    "print('ACC: {}'.format(round(accuracy_score(y_test, yp_test), 3)))\n",
    "print('BACC: {}'.format(round(balanced_accuracy_score(y_test, yp_test), 3)))\n",
    "print('F1: {}'.format(round(f1_score(y_test, yp_test),3)))\n",
    "print('AUROC: {}'.format(round(roc_auc_score(y_test, ys_test),3)))\n",
    "print('AP: {}'.format(round(average_precision_score(y_test, ys_test),3)))\n",
    "print('MCC: {}'.format(round(matthews_corrcoef(y_test, yp_test),3)))\n",
    "print('Precision: {}'.format(round(precision_score(y_test, yp_test),3)))\n",
    "print('Recall: {}'.format(round(recall_score(y_test, yp_test),3)))"
   ]
  },
  {
   "cell_type": "code",
   "execution_count": 58,
   "metadata": {},
   "outputs": [],
   "source": [
    "LR_pbno32_devset_res = [round(accuracy_score(y_test, yp_test), 3), round(balanced_accuracy_score(y_test, yp_test), 3),\n",
    "                 round(f1_score(y_test, yp_test),3), round(roc_auc_score(y_test, ys_test),3),\n",
    "                 round(average_precision_score(y_test, ys_test),3), round(matthews_corrcoef(y_test, yp_test),3),\n",
    "                 round(precision_score(y_test, yp_test),3), round(recall_score(y_test, yp_test),3)]"
   ]
  },
  {
   "cell_type": "code",
   "execution_count": 59,
   "metadata": {},
   "outputs": [
    {
     "name": "stdout",
     "output_type": "stream",
     "text": [
      "\u001b[1mConfusion Matrix\u001b[0m\n",
      "[[1031  469]\n",
      " [   0    1]]\n",
      "\u001b[1mMetrics\u001b[0m\n",
      "ACC: 0.688\n",
      "BACC: 0.844\n",
      "F1: 0.004\n",
      "AUROC: 0.815\n",
      "AP: 0.004\n",
      "MCC: 0.038\n",
      "Precision: 0.002\n",
      "Recall: 1.0\n"
     ]
    }
   ],
   "source": [
    "### Independent Test Result\n",
    "X_tset_sds = scaler.transform(X_tset)\n",
    "yp_test = clf.predict(X_tset_sds)\n",
    "ys_test = clf.predict_proba(X_tset_sds)\n",
    "ys_test = ys_test[:,1]\n",
    "\n",
    "print('\\033[1m' + 'Confusion Matrix' + '\\033[0m')\n",
    "print(confusion_matrix(y_tset, yp_test))\n",
    "\n",
    "print('\\033[1m' + 'Metrics' + '\\033[0m')\n",
    "print('ACC: {}'.format(round(accuracy_score(y_tset, yp_test), 3)))\n",
    "print('BACC: {}'.format(round(balanced_accuracy_score(y_tset, yp_test), 3)))\n",
    "print('F1: {}'.format(round(f1_score(y_tset, yp_test),3)))\n",
    "print('AUROC: {}'.format(round(roc_auc_score(y_tset, ys_test),3)))\n",
    "print('AP: {}'.format(round(average_precision_score(y_tset, ys_test),3)))\n",
    "print('MCC: {}'.format(round(matthews_corrcoef(y_tset, yp_test),3)))\n",
    "print('Precision: {}'.format(round(precision_score(y_tset, yp_test),3)))\n",
    "print('Recall: {}'.format(round(recall_score(y_tset, yp_test),3)))"
   ]
  },
  {
   "cell_type": "code",
   "execution_count": 60,
   "metadata": {},
   "outputs": [],
   "source": [
    "LR_pbno32_tset_res = [round(accuracy_score(y_tset, yp_test), 3), round(balanced_accuracy_score(y_tset, yp_test), 3),\n",
    "                 round(f1_score(y_tset, yp_test),3), round(roc_auc_score(y_tset, ys_test),3),\n",
    "                 round(average_precision_score(y_tset, ys_test),3), round(matthews_corrcoef(y_tset, yp_test),3),\n",
    "                 round(precision_score(y_tset, yp_test),3), round(recall_score(y_tset, yp_test),3)]"
   ]
  },
  {
   "cell_type": "code",
   "execution_count": 61,
   "metadata": {},
   "outputs": [],
   "source": [
    "outF = open(fileout, \"a\")\n",
    "outF.write(\"Logistic_Regression, \")\n",
    "outF.write(\"ACC, BACC, F1, AUROC, Average_Precision, MCC, Precision, Recall\\n\")\n",
    "outF.write('Cdcl2 DevSet, ')\n",
    "outF.write(', '.join(map(str, LR_cdcl2_devset_res)))\n",
    "outF.write('\\n')\n",
    "outF.write('Cdcl2 IndSet, ')\n",
    "outF.write(', '.join(map(str, LR_cdcl2_tset_res)))\n",
    "outF.write('\\n')\n",
    "outF.write('Pbcl2 DevSet, ')\n",
    "outF.write(', '.join(map(str, LR_pbcl2_devset_res)))\n",
    "outF.write('\\n')\n",
    "outF.write('Pbcl2 IndSet, ')\n",
    "outF.write(', '.join(map(str, LR_pbcl2_tset_res)))\n",
    "outF.write('\\n')\n",
    "outF.write('Pb(No3)2 DevSet, ')\n",
    "outF.write(', '.join(map(str, LR_pbno32_devset_res)))\n",
    "outF.write('\\n')\n",
    "outF.write('Pb(No3)2 IndSet, ')\n",
    "outF.write(', '.join(map(str, LR_pbno32_tset_res)))\n",
    "outF.write('\\n')\n",
    "outF.close()"
   ]
  },
  {
   "cell_type": "markdown",
   "metadata": {},
   "source": [
    "### 3.3 Logistic Regression with CV"
   ]
  },
  {
   "cell_type": "code",
   "execution_count": 62,
   "metadata": {},
   "outputs": [],
   "source": [
    "from sklearn.preprocessing import StandardScaler\n",
    "from sklearn.linear_model import LogisticRegressionCV"
   ]
  },
  {
   "cell_type": "code",
   "execution_count": 63,
   "metadata": {},
   "outputs": [
    {
     "name": "stderr",
     "output_type": "stream",
     "text": [
      "C:\\ProgramData\\Anaconda3\\lib\\site-packages\\sklearn\\linear_model\\_logistic.py:940: ConvergenceWarning: lbfgs failed to converge (status=1):\n",
      "STOP: TOTAL NO. of ITERATIONS REACHED LIMIT.\n",
      "\n",
      "Increase the number of iterations (max_iter) or scale the data as shown in:\n",
      "    https://scikit-learn.org/stable/modules/preprocessing.html\n",
      "Please also refer to the documentation for alternative solver options:\n",
      "    https://scikit-learn.org/stable/modules/linear_model.html#logistic-regression\n",
      "  extra_warning_msg=_LOGISTIC_SOLVER_CONVERGENCE_MSG)\n"
     ]
    },
    {
     "data": {
      "text/plain": [
       "LogisticRegressionCV(Cs=10, class_weight=None, cv=None, dual=False,\n",
       "                     fit_intercept=True, intercept_scaling=1.0, l1_ratios=None,\n",
       "                     max_iter=100, multi_class='auto', n_jobs=None,\n",
       "                     penalty='l2', random_state=None, refit=True, scoring=None,\n",
       "                     solver='lbfgs', tol=0.0001, verbose=0)"
      ]
     },
     "execution_count": 63,
     "metadata": {},
     "output_type": "execute_result"
    }
   ],
   "source": [
    "## Learn Classifier\n",
    "scaler = StandardScaler()\n",
    "clf = LogisticRegressionCV()\n",
    "scaler.fit(X_cdcl2_train)\n",
    "X_train_sds = scaler.transform(X_cdcl2_train)\n",
    "X_test_sds = scaler.transform(X_cdcl2_test)\n",
    "y_train = y_cdcl2_train\n",
    "y_test = y_cdcl2_test\n",
    "X_tset = X_cdcl2_tset\n",
    "y_tset = y_cdcl2_tset\n",
    "clf.fit(X_train_sds, y_train)"
   ]
  },
  {
   "cell_type": "code",
   "execution_count": 64,
   "metadata": {},
   "outputs": [
    {
     "name": "stdout",
     "output_type": "stream",
     "text": [
      "\u001b[1mConfusion Matrix\u001b[0m\n",
      "[[296   0]\n",
      " [  0 104]]\n",
      "\u001b[1mMetrics\u001b[0m\n",
      "ACC: 1.0\n",
      "BACC: 1.0\n",
      "F1: 1.0\n",
      "AUROC: 1.0\n",
      "AP: 1.0\n",
      "MCC: 1.0\n",
      "Precision: 1.0\n",
      "Recall: 1.0\n"
     ]
    }
   ],
   "source": [
    "### Test within batch\n",
    "from sklearn.metrics import confusion_matrix, accuracy_score, balanced_accuracy_score, f1_score \n",
    "from sklearn.metrics import roc_auc_score, precision_score, recall_score, matthews_corrcoef, average_precision_score\n",
    "\n",
    "yp_test = clf.predict(X_test_sds)\n",
    "ys_test = clf.predict_proba(X_test_sds)\n",
    "ys_test = ys_test[:,1]\n",
    "\n",
    "print('\\033[1m' + 'Confusion Matrix' + '\\033[0m')\n",
    "print(confusion_matrix(y_test, yp_test))\n",
    "\n",
    "print('\\033[1m' + 'Metrics' + '\\033[0m')\n",
    "print('ACC: {}'.format(round(accuracy_score(y_test, yp_test), 3)))\n",
    "print('BACC: {}'.format(round(balanced_accuracy_score(y_test, yp_test), 3)))\n",
    "print('F1: {}'.format(round(f1_score(y_test, yp_test),3)))\n",
    "print('AUROC: {}'.format(round(roc_auc_score(y_test, ys_test),3)))\n",
    "print('AP: {}'.format(round(average_precision_score(y_test, ys_test),3)))\n",
    "print('MCC: {}'.format(round(matthews_corrcoef(y_test, yp_test),3)))\n",
    "print('Precision: {}'.format(round(precision_score(y_test, yp_test),3)))\n",
    "print('Recall: {}'.format(round(recall_score(y_test, yp_test),3)))"
   ]
  },
  {
   "cell_type": "code",
   "execution_count": 65,
   "metadata": {},
   "outputs": [],
   "source": [
    "LR_CV_cdcl2_devset_res = [round(accuracy_score(y_test, yp_test), 3), round(balanced_accuracy_score(y_test, yp_test), 3),\n",
    "                 round(f1_score(y_test, yp_test),3), round(roc_auc_score(y_test, ys_test),3),\n",
    "                 round(average_precision_score(y_test, ys_test),3), round(matthews_corrcoef(y_test, yp_test),3),\n",
    "                 round(precision_score(y_test, yp_test),3), round(recall_score(y_test, yp_test),3)]"
   ]
  },
  {
   "cell_type": "code",
   "execution_count": 66,
   "metadata": {},
   "outputs": [
    {
     "name": "stdout",
     "output_type": "stream",
     "text": [
      "\u001b[1mConfusion Matrix\u001b[0m\n",
      "[[835 165]\n",
      " [418  82]]\n",
      "\u001b[1mMetrics\u001b[0m\n",
      "ACC: 0.611\n",
      "BACC: 0.5\n",
      "F1: 0.22\n",
      "AUROC: 0.264\n",
      "AP: 0.334\n",
      "MCC: -0.001\n",
      "Precision: 0.332\n",
      "Recall: 0.164\n"
     ]
    }
   ],
   "source": [
    "### Independent Test Result\n",
    "X_tset_sds = scaler.transform(X_tset)\n",
    "yp_test = clf.predict(X_tset_sds)\n",
    "ys_test = clf.predict_proba(X_tset_sds)\n",
    "ys_test = ys_test[:,1]\n",
    "\n",
    "print('\\033[1m' + 'Confusion Matrix' + '\\033[0m')\n",
    "print(confusion_matrix(y_tset, yp_test))\n",
    "\n",
    "print('\\033[1m' + 'Metrics' + '\\033[0m')\n",
    "print('ACC: {}'.format(round(accuracy_score(y_tset, yp_test), 3)))\n",
    "print('BACC: {}'.format(round(balanced_accuracy_score(y_tset, yp_test), 3)))\n",
    "print('F1: {}'.format(round(f1_score(y_tset, yp_test),3)))\n",
    "print('AUROC: {}'.format(round(roc_auc_score(y_tset, ys_test),3)))\n",
    "print('AP: {}'.format(round(average_precision_score(y_tset, ys_test),3)))\n",
    "print('MCC: {}'.format(round(matthews_corrcoef(y_tset, yp_test),3)))\n",
    "print('Precision: {}'.format(round(precision_score(y_tset, yp_test),3)))\n",
    "print('Recall: {}'.format(round(recall_score(y_tset, yp_test),3)))"
   ]
  },
  {
   "cell_type": "code",
   "execution_count": 67,
   "metadata": {},
   "outputs": [],
   "source": [
    "LR_CV_cdcl2_tset_res = [round(accuracy_score(y_tset, yp_test), 3), round(balanced_accuracy_score(y_tset, yp_test), 3),\n",
    "                 round(f1_score(y_tset, yp_test),3), round(roc_auc_score(y_tset, ys_test),3),\n",
    "                 round(average_precision_score(y_tset, ys_test),3), round(matthews_corrcoef(y_tset, yp_test),3),\n",
    "                 round(precision_score(y_tset, yp_test),3), round(recall_score(y_tset, yp_test),3)]"
   ]
  },
  {
   "cell_type": "code",
   "execution_count": 68,
   "metadata": {},
   "outputs": [
    {
     "data": {
      "text/plain": [
       "LogisticRegressionCV(Cs=10, class_weight=None, cv=None, dual=False,\n",
       "                     fit_intercept=True, intercept_scaling=1.0, l1_ratios=None,\n",
       "                     max_iter=100, multi_class='auto', n_jobs=None,\n",
       "                     penalty='l2', random_state=None, refit=True, scoring=None,\n",
       "                     solver='lbfgs', tol=0.0001, verbose=0)"
      ]
     },
     "execution_count": 68,
     "metadata": {},
     "output_type": "execute_result"
    }
   ],
   "source": [
    "## Pbcl2 Classifier\n",
    "scaler = StandardScaler()\n",
    "clf = LogisticRegressionCV()\n",
    "scaler.fit(X_cdcl2_train)\n",
    "X_train_sds = scaler.transform(X_pbcl2_train)\n",
    "X_test_sds = scaler.transform(X_pbcl2_test)\n",
    "y_train = y_pbcl2_train\n",
    "y_test = y_pbcl2_test\n",
    "X_tset = X_pbcl2_tset\n",
    "y_tset = y_pbcl2_tset\n",
    "clf.fit(X_train_sds, y_train)"
   ]
  },
  {
   "cell_type": "code",
   "execution_count": 69,
   "metadata": {},
   "outputs": [
    {
     "name": "stdout",
     "output_type": "stream",
     "text": [
      "\u001b[1mConfusion Matrix\u001b[0m\n",
      "[[311   0]\n",
      " [  0  89]]\n",
      "\u001b[1mMetrics\u001b[0m\n",
      "ACC: 1.0\n",
      "BACC: 1.0\n",
      "F1: 1.0\n",
      "AUROC: 1.0\n",
      "AP: 1.0\n",
      "MCC: 1.0\n",
      "Precision: 1.0\n",
      "Recall: 1.0\n"
     ]
    }
   ],
   "source": [
    "### Test within batch\n",
    "from sklearn.metrics import confusion_matrix, accuracy_score, balanced_accuracy_score, f1_score \n",
    "from sklearn.metrics import roc_auc_score, precision_score, recall_score, matthews_corrcoef, average_precision_score\n",
    "\n",
    "yp_test = clf.predict(X_test_sds)\n",
    "ys_test = clf.predict_proba(X_test_sds)\n",
    "ys_test = ys_test[:,1]\n",
    "\n",
    "print('\\033[1m' + 'Confusion Matrix' + '\\033[0m')\n",
    "print(confusion_matrix(y_test, yp_test))\n",
    "\n",
    "print('\\033[1m' + 'Metrics' + '\\033[0m')\n",
    "print('ACC: {}'.format(round(accuracy_score(y_test, yp_test), 3)))\n",
    "print('BACC: {}'.format(round(balanced_accuracy_score(y_test, yp_test), 3)))\n",
    "print('F1: {}'.format(round(f1_score(y_test, yp_test),3)))\n",
    "print('AUROC: {}'.format(round(roc_auc_score(y_test, ys_test),3)))\n",
    "print('AP: {}'.format(round(average_precision_score(y_test, ys_test),3)))\n",
    "print('MCC: {}'.format(round(matthews_corrcoef(y_test, yp_test),3)))\n",
    "print('Precision: {}'.format(round(precision_score(y_test, yp_test),3)))\n",
    "print('Recall: {}'.format(round(recall_score(y_test, yp_test),3)))"
   ]
  },
  {
   "cell_type": "code",
   "execution_count": 70,
   "metadata": {},
   "outputs": [],
   "source": [
    "LR_CV_pbcl2_devset_res = [round(accuracy_score(y_test, yp_test), 3), round(balanced_accuracy_score(y_test, yp_test), 3),\n",
    "                 round(f1_score(y_test, yp_test),3), round(roc_auc_score(y_test, ys_test),3),\n",
    "                 round(average_precision_score(y_test, ys_test),3), round(matthews_corrcoef(y_test, yp_test),3),\n",
    "                 round(precision_score(y_test, yp_test),3), round(recall_score(y_test, yp_test),3)]"
   ]
  },
  {
   "cell_type": "code",
   "execution_count": 71,
   "metadata": {},
   "outputs": [
    {
     "name": "stdout",
     "output_type": "stream",
     "text": [
      "\u001b[1mConfusion Matrix\u001b[0m\n",
      "[[1204  296]\n",
      " [   0    1]]\n",
      "\u001b[1mMetrics\u001b[0m\n",
      "ACC: 0.803\n",
      "BACC: 0.901\n",
      "F1: 0.007\n",
      "AUROC: 1.0\n",
      "AP: 1.0\n",
      "MCC: 0.052\n",
      "Precision: 0.003\n",
      "Recall: 1.0\n"
     ]
    }
   ],
   "source": [
    "### Independent Test Result\n",
    "X_tset_sds = scaler.transform(X_tset)\n",
    "yp_test = clf.predict(X_tset_sds)\n",
    "ys_test = clf.predict_proba(X_tset_sds)\n",
    "ys_test = ys_test[:,1]\n",
    "\n",
    "print('\\033[1m' + 'Confusion Matrix' + '\\033[0m')\n",
    "print(confusion_matrix(y_tset, yp_test))\n",
    "\n",
    "print('\\033[1m' + 'Metrics' + '\\033[0m')\n",
    "print('ACC: {}'.format(round(accuracy_score(y_tset, yp_test), 3)))\n",
    "print('BACC: {}'.format(round(balanced_accuracy_score(y_tset, yp_test), 3)))\n",
    "print('F1: {}'.format(round(f1_score(y_tset, yp_test),3)))\n",
    "print('AUROC: {}'.format(round(roc_auc_score(y_tset, ys_test),3)))\n",
    "print('AP: {}'.format(round(average_precision_score(y_tset, ys_test),3)))\n",
    "print('MCC: {}'.format(round(matthews_corrcoef(y_tset, yp_test),3)))\n",
    "print('Precision: {}'.format(round(precision_score(y_tset, yp_test),3)))\n",
    "print('Recall: {}'.format(round(recall_score(y_tset, yp_test),3)))"
   ]
  },
  {
   "cell_type": "code",
   "execution_count": 72,
   "metadata": {},
   "outputs": [],
   "source": [
    "LR_CV_pbcl2_tset_res = [round(accuracy_score(y_tset, yp_test), 3), round(balanced_accuracy_score(y_tset, yp_test), 3),\n",
    "                 round(f1_score(y_tset, yp_test),3), round(roc_auc_score(y_tset, ys_test),3),\n",
    "                 round(average_precision_score(y_tset, ys_test),3), round(matthews_corrcoef(y_tset, yp_test),3),\n",
    "                 round(precision_score(y_tset, yp_test),3), round(recall_score(y_tset, yp_test),3)]"
   ]
  },
  {
   "cell_type": "code",
   "execution_count": 73,
   "metadata": {},
   "outputs": [
    {
     "name": "stderr",
     "output_type": "stream",
     "text": [
      "C:\\ProgramData\\Anaconda3\\lib\\site-packages\\sklearn\\linear_model\\_logistic.py:940: ConvergenceWarning: lbfgs failed to converge (status=1):\n",
      "STOP: TOTAL NO. of ITERATIONS REACHED LIMIT.\n",
      "\n",
      "Increase the number of iterations (max_iter) or scale the data as shown in:\n",
      "    https://scikit-learn.org/stable/modules/preprocessing.html\n",
      "Please also refer to the documentation for alternative solver options:\n",
      "    https://scikit-learn.org/stable/modules/linear_model.html#logistic-regression\n",
      "  extra_warning_msg=_LOGISTIC_SOLVER_CONVERGENCE_MSG)\n",
      "C:\\ProgramData\\Anaconda3\\lib\\site-packages\\sklearn\\linear_model\\_logistic.py:940: ConvergenceWarning: lbfgs failed to converge (status=1):\n",
      "STOP: TOTAL NO. of ITERATIONS REACHED LIMIT.\n",
      "\n",
      "Increase the number of iterations (max_iter) or scale the data as shown in:\n",
      "    https://scikit-learn.org/stable/modules/preprocessing.html\n",
      "Please also refer to the documentation for alternative solver options:\n",
      "    https://scikit-learn.org/stable/modules/linear_model.html#logistic-regression\n",
      "  extra_warning_msg=_LOGISTIC_SOLVER_CONVERGENCE_MSG)\n",
      "C:\\ProgramData\\Anaconda3\\lib\\site-packages\\sklearn\\linear_model\\_logistic.py:940: ConvergenceWarning: lbfgs failed to converge (status=1):\n",
      "STOP: TOTAL NO. of ITERATIONS REACHED LIMIT.\n",
      "\n",
      "Increase the number of iterations (max_iter) or scale the data as shown in:\n",
      "    https://scikit-learn.org/stable/modules/preprocessing.html\n",
      "Please also refer to the documentation for alternative solver options:\n",
      "    https://scikit-learn.org/stable/modules/linear_model.html#logistic-regression\n",
      "  extra_warning_msg=_LOGISTIC_SOLVER_CONVERGENCE_MSG)\n",
      "C:\\ProgramData\\Anaconda3\\lib\\site-packages\\sklearn\\linear_model\\_logistic.py:940: ConvergenceWarning: lbfgs failed to converge (status=1):\n",
      "STOP: TOTAL NO. of ITERATIONS REACHED LIMIT.\n",
      "\n",
      "Increase the number of iterations (max_iter) or scale the data as shown in:\n",
      "    https://scikit-learn.org/stable/modules/preprocessing.html\n",
      "Please also refer to the documentation for alternative solver options:\n",
      "    https://scikit-learn.org/stable/modules/linear_model.html#logistic-regression\n",
      "  extra_warning_msg=_LOGISTIC_SOLVER_CONVERGENCE_MSG)\n",
      "C:\\ProgramData\\Anaconda3\\lib\\site-packages\\sklearn\\linear_model\\_logistic.py:940: ConvergenceWarning: lbfgs failed to converge (status=1):\n",
      "STOP: TOTAL NO. of ITERATIONS REACHED LIMIT.\n",
      "\n",
      "Increase the number of iterations (max_iter) or scale the data as shown in:\n",
      "    https://scikit-learn.org/stable/modules/preprocessing.html\n",
      "Please also refer to the documentation for alternative solver options:\n",
      "    https://scikit-learn.org/stable/modules/linear_model.html#logistic-regression\n",
      "  extra_warning_msg=_LOGISTIC_SOLVER_CONVERGENCE_MSG)\n",
      "C:\\ProgramData\\Anaconda3\\lib\\site-packages\\sklearn\\linear_model\\_logistic.py:940: ConvergenceWarning: lbfgs failed to converge (status=1):\n",
      "STOP: TOTAL NO. of ITERATIONS REACHED LIMIT.\n",
      "\n",
      "Increase the number of iterations (max_iter) or scale the data as shown in:\n",
      "    https://scikit-learn.org/stable/modules/preprocessing.html\n",
      "Please also refer to the documentation for alternative solver options:\n",
      "    https://scikit-learn.org/stable/modules/linear_model.html#logistic-regression\n",
      "  extra_warning_msg=_LOGISTIC_SOLVER_CONVERGENCE_MSG)\n",
      "C:\\ProgramData\\Anaconda3\\lib\\site-packages\\sklearn\\linear_model\\_logistic.py:940: ConvergenceWarning: lbfgs failed to converge (status=1):\n",
      "STOP: TOTAL NO. of ITERATIONS REACHED LIMIT.\n",
      "\n",
      "Increase the number of iterations (max_iter) or scale the data as shown in:\n",
      "    https://scikit-learn.org/stable/modules/preprocessing.html\n",
      "Please also refer to the documentation for alternative solver options:\n",
      "    https://scikit-learn.org/stable/modules/linear_model.html#logistic-regression\n",
      "  extra_warning_msg=_LOGISTIC_SOLVER_CONVERGENCE_MSG)\n",
      "C:\\ProgramData\\Anaconda3\\lib\\site-packages\\sklearn\\linear_model\\_logistic.py:940: ConvergenceWarning: lbfgs failed to converge (status=1):\n",
      "STOP: TOTAL NO. of ITERATIONS REACHED LIMIT.\n",
      "\n",
      "Increase the number of iterations (max_iter) or scale the data as shown in:\n",
      "    https://scikit-learn.org/stable/modules/preprocessing.html\n",
      "Please also refer to the documentation for alternative solver options:\n",
      "    https://scikit-learn.org/stable/modules/linear_model.html#logistic-regression\n",
      "  extra_warning_msg=_LOGISTIC_SOLVER_CONVERGENCE_MSG)\n",
      "C:\\ProgramData\\Anaconda3\\lib\\site-packages\\sklearn\\linear_model\\_logistic.py:940: ConvergenceWarning: lbfgs failed to converge (status=1):\n",
      "STOP: TOTAL NO. of ITERATIONS REACHED LIMIT.\n",
      "\n",
      "Increase the number of iterations (max_iter) or scale the data as shown in:\n",
      "    https://scikit-learn.org/stable/modules/preprocessing.html\n",
      "Please also refer to the documentation for alternative solver options:\n",
      "    https://scikit-learn.org/stable/modules/linear_model.html#logistic-regression\n",
      "  extra_warning_msg=_LOGISTIC_SOLVER_CONVERGENCE_MSG)\n",
      "C:\\ProgramData\\Anaconda3\\lib\\site-packages\\sklearn\\linear_model\\_logistic.py:940: ConvergenceWarning: lbfgs failed to converge (status=1):\n",
      "STOP: TOTAL NO. of ITERATIONS REACHED LIMIT.\n",
      "\n",
      "Increase the number of iterations (max_iter) or scale the data as shown in:\n",
      "    https://scikit-learn.org/stable/modules/preprocessing.html\n",
      "Please also refer to the documentation for alternative solver options:\n",
      "    https://scikit-learn.org/stable/modules/linear_model.html#logistic-regression\n",
      "  extra_warning_msg=_LOGISTIC_SOLVER_CONVERGENCE_MSG)\n",
      "C:\\ProgramData\\Anaconda3\\lib\\site-packages\\sklearn\\linear_model\\_logistic.py:940: ConvergenceWarning: lbfgs failed to converge (status=1):\n",
      "STOP: TOTAL NO. of ITERATIONS REACHED LIMIT.\n",
      "\n",
      "Increase the number of iterations (max_iter) or scale the data as shown in:\n",
      "    https://scikit-learn.org/stable/modules/preprocessing.html\n",
      "Please also refer to the documentation for alternative solver options:\n",
      "    https://scikit-learn.org/stable/modules/linear_model.html#logistic-regression\n",
      "  extra_warning_msg=_LOGISTIC_SOLVER_CONVERGENCE_MSG)\n",
      "C:\\ProgramData\\Anaconda3\\lib\\site-packages\\sklearn\\linear_model\\_logistic.py:940: ConvergenceWarning: lbfgs failed to converge (status=1):\n",
      "STOP: TOTAL NO. of ITERATIONS REACHED LIMIT.\n",
      "\n",
      "Increase the number of iterations (max_iter) or scale the data as shown in:\n",
      "    https://scikit-learn.org/stable/modules/preprocessing.html\n",
      "Please also refer to the documentation for alternative solver options:\n",
      "    https://scikit-learn.org/stable/modules/linear_model.html#logistic-regression\n",
      "  extra_warning_msg=_LOGISTIC_SOLVER_CONVERGENCE_MSG)\n",
      "C:\\ProgramData\\Anaconda3\\lib\\site-packages\\sklearn\\linear_model\\_logistic.py:940: ConvergenceWarning: lbfgs failed to converge (status=1):\n",
      "STOP: TOTAL NO. of ITERATIONS REACHED LIMIT.\n",
      "\n",
      "Increase the number of iterations (max_iter) or scale the data as shown in:\n",
      "    https://scikit-learn.org/stable/modules/preprocessing.html\n",
      "Please also refer to the documentation for alternative solver options:\n",
      "    https://scikit-learn.org/stable/modules/linear_model.html#logistic-regression\n",
      "  extra_warning_msg=_LOGISTIC_SOLVER_CONVERGENCE_MSG)\n",
      "C:\\ProgramData\\Anaconda3\\lib\\site-packages\\sklearn\\linear_model\\_logistic.py:940: ConvergenceWarning: lbfgs failed to converge (status=1):\n",
      "STOP: TOTAL NO. of ITERATIONS REACHED LIMIT.\n",
      "\n",
      "Increase the number of iterations (max_iter) or scale the data as shown in:\n",
      "    https://scikit-learn.org/stable/modules/preprocessing.html\n",
      "Please also refer to the documentation for alternative solver options:\n",
      "    https://scikit-learn.org/stable/modules/linear_model.html#logistic-regression\n",
      "  extra_warning_msg=_LOGISTIC_SOLVER_CONVERGENCE_MSG)\n",
      "C:\\ProgramData\\Anaconda3\\lib\\site-packages\\sklearn\\linear_model\\_logistic.py:940: ConvergenceWarning: lbfgs failed to converge (status=1):\n",
      "STOP: TOTAL NO. of ITERATIONS REACHED LIMIT.\n",
      "\n",
      "Increase the number of iterations (max_iter) or scale the data as shown in:\n",
      "    https://scikit-learn.org/stable/modules/preprocessing.html\n",
      "Please also refer to the documentation for alternative solver options:\n",
      "    https://scikit-learn.org/stable/modules/linear_model.html#logistic-regression\n",
      "  extra_warning_msg=_LOGISTIC_SOLVER_CONVERGENCE_MSG)\n",
      "C:\\ProgramData\\Anaconda3\\lib\\site-packages\\sklearn\\linear_model\\_logistic.py:940: ConvergenceWarning: lbfgs failed to converge (status=1):\n",
      "STOP: TOTAL NO. of ITERATIONS REACHED LIMIT.\n",
      "\n",
      "Increase the number of iterations (max_iter) or scale the data as shown in:\n",
      "    https://scikit-learn.org/stable/modules/preprocessing.html\n",
      "Please also refer to the documentation for alternative solver options:\n",
      "    https://scikit-learn.org/stable/modules/linear_model.html#logistic-regression\n",
      "  extra_warning_msg=_LOGISTIC_SOLVER_CONVERGENCE_MSG)\n"
     ]
    },
    {
     "name": "stderr",
     "output_type": "stream",
     "text": [
      "C:\\ProgramData\\Anaconda3\\lib\\site-packages\\sklearn\\linear_model\\_logistic.py:940: ConvergenceWarning: lbfgs failed to converge (status=1):\n",
      "STOP: TOTAL NO. of ITERATIONS REACHED LIMIT.\n",
      "\n",
      "Increase the number of iterations (max_iter) or scale the data as shown in:\n",
      "    https://scikit-learn.org/stable/modules/preprocessing.html\n",
      "Please also refer to the documentation for alternative solver options:\n",
      "    https://scikit-learn.org/stable/modules/linear_model.html#logistic-regression\n",
      "  extra_warning_msg=_LOGISTIC_SOLVER_CONVERGENCE_MSG)\n"
     ]
    },
    {
     "data": {
      "text/plain": [
       "LogisticRegressionCV(Cs=10, class_weight=None, cv=None, dual=False,\n",
       "                     fit_intercept=True, intercept_scaling=1.0, l1_ratios=None,\n",
       "                     max_iter=100, multi_class='auto', n_jobs=None,\n",
       "                     penalty='l2', random_state=None, refit=True, scoring=None,\n",
       "                     solver='lbfgs', tol=0.0001, verbose=0)"
      ]
     },
     "execution_count": 73,
     "metadata": {},
     "output_type": "execute_result"
    }
   ],
   "source": [
    "## Learn Classifier\n",
    "scaler = StandardScaler()\n",
    "clf = LogisticRegressionCV()\n",
    "scaler.fit(X_pbno32_train)\n",
    "X_train_sds = scaler.transform(X_pbno32_train)\n",
    "X_test_sds = scaler.transform(X_pbno32_test)\n",
    "y_train = y_pbno32_train\n",
    "y_test = y_pbno32_test\n",
    "X_tset = X_pbno32_tset\n",
    "y_tset = y_pbno32_tset\n",
    "clf.fit(X_train_sds, y_train)"
   ]
  },
  {
   "cell_type": "code",
   "execution_count": 74,
   "metadata": {},
   "outputs": [
    {
     "name": "stdout",
     "output_type": "stream",
     "text": [
      "\u001b[1mConfusion Matrix\u001b[0m\n",
      "[[309   2]\n",
      " [  0  89]]\n",
      "\u001b[1mMetrics\u001b[0m\n",
      "ACC: 0.995\n",
      "BACC: 0.997\n",
      "F1: 0.989\n",
      "AUROC: 0.997\n",
      "AP: 0.988\n",
      "MCC: 0.986\n",
      "Precision: 0.978\n",
      "Recall: 1.0\n"
     ]
    }
   ],
   "source": [
    "### Test within batch\n",
    "from sklearn.metrics import confusion_matrix, accuracy_score, balanced_accuracy_score, f1_score \n",
    "from sklearn.metrics import roc_auc_score, precision_score, recall_score, matthews_corrcoef, average_precision_score\n",
    "\n",
    "yp_test = clf.predict(X_test_sds)\n",
    "ys_test = clf.predict_proba(X_test_sds)\n",
    "ys_test = ys_test[:,1]\n",
    "\n",
    "print('\\033[1m' + 'Confusion Matrix' + '\\033[0m')\n",
    "print(confusion_matrix(y_test, yp_test))\n",
    "\n",
    "print('\\033[1m' + 'Metrics' + '\\033[0m')\n",
    "print('ACC: {}'.format(round(accuracy_score(y_test, yp_test), 3)))\n",
    "print('BACC: {}'.format(round(balanced_accuracy_score(y_test, yp_test), 3)))\n",
    "print('F1: {}'.format(round(f1_score(y_test, yp_test),3)))\n",
    "print('AUROC: {}'.format(round(roc_auc_score(y_test, ys_test),3)))\n",
    "print('AP: {}'.format(round(average_precision_score(y_test, ys_test),3)))\n",
    "print('MCC: {}'.format(round(matthews_corrcoef(y_test, yp_test),3)))\n",
    "print('Precision: {}'.format(round(precision_score(y_test, yp_test),3)))\n",
    "print('Recall: {}'.format(round(recall_score(y_test, yp_test),3)))"
   ]
  },
  {
   "cell_type": "code",
   "execution_count": 75,
   "metadata": {},
   "outputs": [],
   "source": [
    "LR_CV_pbno32_devset_res = [round(accuracy_score(y_test, yp_test), 3), round(balanced_accuracy_score(y_test, yp_test), 3),\n",
    "                 round(f1_score(y_test, yp_test),3), round(roc_auc_score(y_test, ys_test),3),\n",
    "                 round(average_precision_score(y_test, ys_test),3), round(matthews_corrcoef(y_test, yp_test),3),\n",
    "                 round(precision_score(y_test, yp_test),3), round(recall_score(y_test, yp_test),3)]"
   ]
  },
  {
   "cell_type": "code",
   "execution_count": 76,
   "metadata": {},
   "outputs": [
    {
     "name": "stdout",
     "output_type": "stream",
     "text": [
      "\u001b[1mConfusion Matrix\u001b[0m\n",
      "[[1071  429]\n",
      " [   0    1]]\n",
      "\u001b[1mMetrics\u001b[0m\n",
      "ACC: 0.714\n",
      "BACC: 0.857\n",
      "F1: 0.005\n",
      "AUROC: 0.898\n",
      "AP: 0.006\n",
      "MCC: 0.041\n",
      "Precision: 0.002\n",
      "Recall: 1.0\n"
     ]
    }
   ],
   "source": [
    "### Independent Test Result\n",
    "X_tset_sds = scaler.transform(X_tset)\n",
    "yp_test = clf.predict(X_tset_sds)\n",
    "ys_test = clf.predict_proba(X_tset_sds)\n",
    "ys_test = ys_test[:,1]\n",
    "\n",
    "print('\\033[1m' + 'Confusion Matrix' + '\\033[0m')\n",
    "print(confusion_matrix(y_tset, yp_test))\n",
    "\n",
    "print('\\033[1m' + 'Metrics' + '\\033[0m')\n",
    "print('ACC: {}'.format(round(accuracy_score(y_tset, yp_test), 3)))\n",
    "print('BACC: {}'.format(round(balanced_accuracy_score(y_tset, yp_test), 3)))\n",
    "print('F1: {}'.format(round(f1_score(y_tset, yp_test),3)))\n",
    "print('AUROC: {}'.format(round(roc_auc_score(y_tset, ys_test),3)))\n",
    "print('AP: {}'.format(round(average_precision_score(y_tset, ys_test),3)))\n",
    "print('MCC: {}'.format(round(matthews_corrcoef(y_tset, yp_test),3)))\n",
    "print('Precision: {}'.format(round(precision_score(y_tset, yp_test),3)))\n",
    "print('Recall: {}'.format(round(recall_score(y_tset, yp_test),3)))"
   ]
  },
  {
   "cell_type": "code",
   "execution_count": 77,
   "metadata": {},
   "outputs": [],
   "source": [
    "LR_CV_pbno32_tset_res = [round(accuracy_score(y_tset, yp_test), 3), round(balanced_accuracy_score(y_tset, yp_test), 3),\n",
    "                 round(f1_score(y_tset, yp_test),3), round(roc_auc_score(y_tset, ys_test),3),\n",
    "                 round(average_precision_score(y_tset, ys_test),3), round(matthews_corrcoef(y_tset, yp_test),3),\n",
    "                 round(precision_score(y_tset, yp_test),3), round(recall_score(y_tset, yp_test),3)]"
   ]
  },
  {
   "cell_type": "code",
   "execution_count": 78,
   "metadata": {},
   "outputs": [],
   "source": [
    "outF = open(fileout, \"a\")\n",
    "outF.write(\"Logistic_Regression_CV, \")\n",
    "outF.write(\"ACC, BACC, F1, AUROC, Average_Precision, MCC, Precision, Recall\\n\")\n",
    "outF.write('Cdcl2 DevSet, ')\n",
    "outF.write(', '.join(map(str, LR_CV_cdcl2_devset_res)))\n",
    "outF.write('\\n')\n",
    "outF.write('Cdcl2 IndSet, ')\n",
    "outF.write(', '.join(map(str, LR_CV_cdcl2_tset_res)))\n",
    "outF.write('\\n')\n",
    "outF.write('Pbcl2 DevSet, ')\n",
    "outF.write(', '.join(map(str, LR_CV_pbcl2_devset_res)))\n",
    "outF.write('\\n')\n",
    "outF.write('Pbcl2 IndSet, ')\n",
    "outF.write(', '.join(map(str, LR_CV_pbcl2_tset_res)))\n",
    "outF.write('\\n')\n",
    "outF.write('Pb(No3)2 DevSet, ')\n",
    "outF.write(', '.join(map(str, LR_CV_pbno32_devset_res)))\n",
    "outF.write('\\n')\n",
    "outF.write('Pb(No3)2 IndSet, ')\n",
    "outF.write(', '.join(map(str, LR_CV_pbno32_tset_res)))\n",
    "outF.write('\\n')\n",
    "outF.close()"
   ]
  },
  {
   "cell_type": "markdown",
   "metadata": {},
   "source": [
    "### 3.4 MLP"
   ]
  },
  {
   "cell_type": "code",
   "execution_count": 79,
   "metadata": {},
   "outputs": [],
   "source": [
    "from sklearn.preprocessing import StandardScaler\n",
    "from sklearn.neural_network import MLPClassifier"
   ]
  },
  {
   "cell_type": "code",
   "execution_count": 80,
   "metadata": {},
   "outputs": [
    {
     "data": {
      "text/plain": [
       "MLPClassifier(activation='relu', alpha=0.0001, batch_size='auto', beta_1=0.9,\n",
       "              beta_2=0.999, early_stopping=False, epsilon=1e-08,\n",
       "              hidden_layer_sizes=(100,), learning_rate='constant',\n",
       "              learning_rate_init=0.001, max_fun=15000, max_iter=200,\n",
       "              momentum=0.9, n_iter_no_change=10, nesterovs_momentum=True,\n",
       "              power_t=0.5, random_state=None, shuffle=True, solver='adam',\n",
       "              tol=0.0001, validation_fraction=0.1, verbose=False,\n",
       "              warm_start=False)"
      ]
     },
     "execution_count": 80,
     "metadata": {},
     "output_type": "execute_result"
    }
   ],
   "source": [
    "## Learn Classifier\n",
    "scaler = StandardScaler()\n",
    "clf = MLPClassifier()\n",
    "scaler.fit(X_cdcl2_train)\n",
    "X_train_sds = scaler.transform(X_cdcl2_train)\n",
    "X_test_sds = scaler.transform(X_cdcl2_test)\n",
    "y_train = y_cdcl2_train\n",
    "y_test = y_cdcl2_test\n",
    "X_tset = X_cdcl2_tset\n",
    "y_tset = y_cdcl2_tset\n",
    "clf.fit(X_train_sds, y_train)"
   ]
  },
  {
   "cell_type": "code",
   "execution_count": 81,
   "metadata": {},
   "outputs": [
    {
     "name": "stdout",
     "output_type": "stream",
     "text": [
      "\u001b[1mConfusion Matrix\u001b[0m\n",
      "[[296   0]\n",
      " [  0 104]]\n",
      "\u001b[1mMetrics\u001b[0m\n",
      "ACC: 1.0\n",
      "BACC: 1.0\n",
      "F1: 1.0\n",
      "AUROC: 1.0\n",
      "AP: 1.0\n",
      "MCC: 1.0\n",
      "Precision: 1.0\n",
      "Recall: 1.0\n"
     ]
    }
   ],
   "source": [
    "### Test within batch\n",
    "from sklearn.metrics import confusion_matrix, accuracy_score, balanced_accuracy_score, f1_score \n",
    "from sklearn.metrics import roc_auc_score, precision_score, recall_score, matthews_corrcoef, average_precision_score\n",
    "\n",
    "yp_test = clf.predict(X_test_sds)\n",
    "ys_test = clf.predict_proba(X_test_sds)\n",
    "ys_test = ys_test[:,1]\n",
    "\n",
    "print('\\033[1m' + 'Confusion Matrix' + '\\033[0m')\n",
    "print(confusion_matrix(y_test, yp_test))\n",
    "\n",
    "print('\\033[1m' + 'Metrics' + '\\033[0m')\n",
    "print('ACC: {}'.format(round(accuracy_score(y_test, yp_test), 3)))\n",
    "print('BACC: {}'.format(round(balanced_accuracy_score(y_test, yp_test), 3)))\n",
    "print('F1: {}'.format(round(f1_score(y_test, yp_test),3)))\n",
    "print('AUROC: {}'.format(round(roc_auc_score(y_test, ys_test),3)))\n",
    "print('AP: {}'.format(round(average_precision_score(y_test, ys_test),3)))\n",
    "print('MCC: {}'.format(round(matthews_corrcoef(y_test, yp_test),3)))\n",
    "print('Precision: {}'.format(round(precision_score(y_test, yp_test),3)))\n",
    "print('Recall: {}'.format(round(recall_score(y_test, yp_test),3)))"
   ]
  },
  {
   "cell_type": "code",
   "execution_count": 82,
   "metadata": {},
   "outputs": [],
   "source": [
    "MLP_cdcl2_devset_res = [round(accuracy_score(y_test, yp_test), 3), round(balanced_accuracy_score(y_test, yp_test), 3),\n",
    "                 round(f1_score(y_test, yp_test),3), round(roc_auc_score(y_test, ys_test),3),\n",
    "                 round(average_precision_score(y_test, ys_test),3), round(matthews_corrcoef(y_test, yp_test),3),\n",
    "                 round(precision_score(y_test, yp_test),3), round(recall_score(y_test, yp_test),3)]"
   ]
  },
  {
   "cell_type": "code",
   "execution_count": 83,
   "metadata": {},
   "outputs": [
    {
     "name": "stdout",
     "output_type": "stream",
     "text": [
      "\u001b[1mConfusion Matrix\u001b[0m\n",
      "[[998   2]\n",
      " [456  44]]\n",
      "\u001b[1mMetrics\u001b[0m\n",
      "ACC: 0.695\n",
      "BACC: 0.543\n",
      "F1: 0.161\n",
      "AUROC: 0.568\n",
      "AP: 0.496\n",
      "MCC: 0.235\n",
      "Precision: 0.957\n",
      "Recall: 0.088\n"
     ]
    }
   ],
   "source": [
    "### Independent Test Result\n",
    "X_tset_sds = scaler.transform(X_tset)\n",
    "yp_test = clf.predict(X_tset_sds)\n",
    "ys_test = clf.predict_proba(X_tset_sds)\n",
    "ys_test = ys_test[:,1]\n",
    "\n",
    "print('\\033[1m' + 'Confusion Matrix' + '\\033[0m')\n",
    "print(confusion_matrix(y_tset, yp_test))\n",
    "\n",
    "print('\\033[1m' + 'Metrics' + '\\033[0m')\n",
    "print('ACC: {}'.format(round(accuracy_score(y_tset, yp_test), 3)))\n",
    "print('BACC: {}'.format(round(balanced_accuracy_score(y_tset, yp_test), 3)))\n",
    "print('F1: {}'.format(round(f1_score(y_tset, yp_test),3)))\n",
    "print('AUROC: {}'.format(round(roc_auc_score(y_tset, ys_test),3)))\n",
    "print('AP: {}'.format(round(average_precision_score(y_tset, ys_test),3)))\n",
    "print('MCC: {}'.format(round(matthews_corrcoef(y_tset, yp_test),3)))\n",
    "print('Precision: {}'.format(round(precision_score(y_tset, yp_test),3)))\n",
    "print('Recall: {}'.format(round(recall_score(y_tset, yp_test),3)))"
   ]
  },
  {
   "cell_type": "code",
   "execution_count": 84,
   "metadata": {},
   "outputs": [],
   "source": [
    "MLP_cdcl2_tset_res = [round(accuracy_score(y_tset, yp_test), 3), round(balanced_accuracy_score(y_tset, yp_test), 3),\n",
    "                 round(f1_score(y_tset, yp_test),3), round(roc_auc_score(y_tset, ys_test),3),\n",
    "                 round(average_precision_score(y_tset, ys_test),3), round(matthews_corrcoef(y_tset, yp_test),3),\n",
    "                 round(precision_score(y_tset, yp_test),3), round(recall_score(y_tset, yp_test),3)]"
   ]
  },
  {
   "cell_type": "code",
   "execution_count": 85,
   "metadata": {},
   "outputs": [
    {
     "data": {
      "text/plain": [
       "MLPClassifier(activation='relu', alpha=0.0001, batch_size='auto', beta_1=0.9,\n",
       "              beta_2=0.999, early_stopping=False, epsilon=1e-08,\n",
       "              hidden_layer_sizes=(100,), learning_rate='constant',\n",
       "              learning_rate_init=0.001, max_fun=15000, max_iter=200,\n",
       "              momentum=0.9, n_iter_no_change=10, nesterovs_momentum=True,\n",
       "              power_t=0.5, random_state=None, shuffle=True, solver='adam',\n",
       "              tol=0.0001, validation_fraction=0.1, verbose=False,\n",
       "              warm_start=False)"
      ]
     },
     "execution_count": 85,
     "metadata": {},
     "output_type": "execute_result"
    }
   ],
   "source": [
    "## Pbcl2 Classifier\n",
    "scaler = StandardScaler()\n",
    "clf = MLPClassifier()\n",
    "scaler.fit(X_cdcl2_train)\n",
    "X_train_sds = scaler.transform(X_pbcl2_train)\n",
    "X_test_sds = scaler.transform(X_pbcl2_test)\n",
    "y_train = y_pbcl2_train\n",
    "y_test = y_pbcl2_test\n",
    "X_tset = X_pbcl2_tset\n",
    "y_tset = y_pbcl2_tset\n",
    "clf.fit(X_train_sds, y_train)"
   ]
  },
  {
   "cell_type": "code",
   "execution_count": 86,
   "metadata": {},
   "outputs": [
    {
     "name": "stdout",
     "output_type": "stream",
     "text": [
      "\u001b[1mConfusion Matrix\u001b[0m\n",
      "[[311   0]\n",
      " [  0  89]]\n",
      "\u001b[1mMetrics\u001b[0m\n",
      "ACC: 1.0\n",
      "BACC: 1.0\n",
      "F1: 1.0\n",
      "AUROC: 1.0\n",
      "AP: 1.0\n",
      "MCC: 1.0\n",
      "Precision: 1.0\n",
      "Recall: 1.0\n"
     ]
    }
   ],
   "source": [
    "### Test within batch\n",
    "from sklearn.metrics import confusion_matrix, accuracy_score, balanced_accuracy_score, f1_score \n",
    "from sklearn.metrics import roc_auc_score, precision_score, recall_score, matthews_corrcoef, average_precision_score\n",
    "\n",
    "yp_test = clf.predict(X_test_sds)\n",
    "ys_test = clf.predict_proba(X_test_sds)\n",
    "ys_test = ys_test[:,1]\n",
    "\n",
    "print('\\033[1m' + 'Confusion Matrix' + '\\033[0m')\n",
    "print(confusion_matrix(y_test, yp_test))\n",
    "\n",
    "print('\\033[1m' + 'Metrics' + '\\033[0m')\n",
    "print('ACC: {}'.format(round(accuracy_score(y_test, yp_test), 3)))\n",
    "print('BACC: {}'.format(round(balanced_accuracy_score(y_test, yp_test), 3)))\n",
    "print('F1: {}'.format(round(f1_score(y_test, yp_test),3)))\n",
    "print('AUROC: {}'.format(round(roc_auc_score(y_test, ys_test),3)))\n",
    "print('AP: {}'.format(round(average_precision_score(y_test, ys_test),3)))\n",
    "print('MCC: {}'.format(round(matthews_corrcoef(y_test, yp_test),3)))\n",
    "print('Precision: {}'.format(round(precision_score(y_test, yp_test),3)))\n",
    "print('Recall: {}'.format(round(recall_score(y_test, yp_test),3)))"
   ]
  },
  {
   "cell_type": "code",
   "execution_count": 87,
   "metadata": {},
   "outputs": [],
   "source": [
    "MLP_pbcl2_devset_res = [round(accuracy_score(y_test, yp_test), 3), round(balanced_accuracy_score(y_test, yp_test), 3),\n",
    "                 round(f1_score(y_test, yp_test),3), round(roc_auc_score(y_test, ys_test),3),\n",
    "                 round(average_precision_score(y_test, ys_test),3), round(matthews_corrcoef(y_test, yp_test),3),\n",
    "                 round(precision_score(y_test, yp_test),3), round(recall_score(y_test, yp_test),3)]"
   ]
  },
  {
   "cell_type": "code",
   "execution_count": 88,
   "metadata": {},
   "outputs": [
    {
     "name": "stdout",
     "output_type": "stream",
     "text": [
      "\u001b[1mConfusion Matrix\u001b[0m\n",
      "[[1153  347]\n",
      " [   0    1]]\n",
      "\u001b[1mMetrics\u001b[0m\n",
      "ACC: 0.769\n",
      "BACC: 0.884\n",
      "F1: 0.006\n",
      "AUROC: 1.0\n",
      "AP: 1.0\n",
      "MCC: 0.047\n",
      "Precision: 0.003\n",
      "Recall: 1.0\n"
     ]
    }
   ],
   "source": [
    "### Independent Test Result\n",
    "X_tset_sds = scaler.transform(X_tset)\n",
    "yp_test = clf.predict(X_tset_sds)\n",
    "ys_test = clf.predict_proba(X_tset_sds)\n",
    "ys_test = ys_test[:,1]\n",
    "\n",
    "print('\\033[1m' + 'Confusion Matrix' + '\\033[0m')\n",
    "print(confusion_matrix(y_tset, yp_test))\n",
    "\n",
    "print('\\033[1m' + 'Metrics' + '\\033[0m')\n",
    "print('ACC: {}'.format(round(accuracy_score(y_tset, yp_test), 3)))\n",
    "print('BACC: {}'.format(round(balanced_accuracy_score(y_tset, yp_test), 3)))\n",
    "print('F1: {}'.format(round(f1_score(y_tset, yp_test),3)))\n",
    "print('AUROC: {}'.format(round(roc_auc_score(y_tset, ys_test),3)))\n",
    "print('AP: {}'.format(round(average_precision_score(y_tset, ys_test),3)))\n",
    "print('MCC: {}'.format(round(matthews_corrcoef(y_tset, yp_test),3)))\n",
    "print('Precision: {}'.format(round(precision_score(y_tset, yp_test),3)))\n",
    "print('Recall: {}'.format(round(recall_score(y_tset, yp_test),3)))"
   ]
  },
  {
   "cell_type": "code",
   "execution_count": 89,
   "metadata": {},
   "outputs": [],
   "source": [
    "MLP_pbcl2_tset_res = [round(accuracy_score(y_tset, yp_test), 3), round(balanced_accuracy_score(y_tset, yp_test), 3),\n",
    "                 round(f1_score(y_tset, yp_test),3), round(roc_auc_score(y_tset, ys_test),3),\n",
    "                 round(average_precision_score(y_tset, ys_test),3), round(matthews_corrcoef(y_tset, yp_test),3),\n",
    "                 round(precision_score(y_tset, yp_test),3), round(recall_score(y_tset, yp_test),3)]"
   ]
  },
  {
   "cell_type": "code",
   "execution_count": 90,
   "metadata": {},
   "outputs": [
    {
     "data": {
      "text/plain": [
       "MLPClassifier(activation='relu', alpha=0.0001, batch_size='auto', beta_1=0.9,\n",
       "              beta_2=0.999, early_stopping=False, epsilon=1e-08,\n",
       "              hidden_layer_sizes=(100,), learning_rate='constant',\n",
       "              learning_rate_init=0.001, max_fun=15000, max_iter=200,\n",
       "              momentum=0.9, n_iter_no_change=10, nesterovs_momentum=True,\n",
       "              power_t=0.5, random_state=None, shuffle=True, solver='adam',\n",
       "              tol=0.0001, validation_fraction=0.1, verbose=False,\n",
       "              warm_start=False)"
      ]
     },
     "execution_count": 90,
     "metadata": {},
     "output_type": "execute_result"
    }
   ],
   "source": [
    "## Learn Classifier\n",
    "scaler = StandardScaler()\n",
    "clf = MLPClassifier()\n",
    "scaler.fit(X_pbno32_train)\n",
    "X_train_sds = scaler.transform(X_pbno32_train)\n",
    "X_test_sds = scaler.transform(X_pbno32_test)\n",
    "y_train = y_pbno32_train\n",
    "y_test = y_pbno32_test\n",
    "X_tset = X_pbno32_tset\n",
    "y_tset = y_pbno32_tset\n",
    "clf.fit(X_train_sds, y_train)"
   ]
  },
  {
   "cell_type": "code",
   "execution_count": 91,
   "metadata": {},
   "outputs": [
    {
     "name": "stdout",
     "output_type": "stream",
     "text": [
      "\u001b[1mConfusion Matrix\u001b[0m\n",
      "[[310   1]\n",
      " [  0  89]]\n",
      "\u001b[1mMetrics\u001b[0m\n",
      "ACC: 0.998\n",
      "BACC: 0.998\n",
      "F1: 0.994\n",
      "AUROC: 1.0\n",
      "AP: 1.0\n",
      "MCC: 0.993\n",
      "Precision: 0.989\n",
      "Recall: 1.0\n"
     ]
    }
   ],
   "source": [
    "### Test within batch\n",
    "from sklearn.metrics import confusion_matrix, accuracy_score, balanced_accuracy_score, f1_score \n",
    "from sklearn.metrics import roc_auc_score, precision_score, recall_score, matthews_corrcoef, average_precision_score\n",
    "\n",
    "yp_test = clf.predict(X_test_sds)\n",
    "ys_test = clf.predict_proba(X_test_sds)\n",
    "ys_test = ys_test[:,1]\n",
    "\n",
    "print('\\033[1m' + 'Confusion Matrix' + '\\033[0m')\n",
    "print(confusion_matrix(y_test, yp_test))\n",
    "\n",
    "print('\\033[1m' + 'Metrics' + '\\033[0m')\n",
    "print('ACC: {}'.format(round(accuracy_score(y_test, yp_test), 3)))\n",
    "print('BACC: {}'.format(round(balanced_accuracy_score(y_test, yp_test), 3)))\n",
    "print('F1: {}'.format(round(f1_score(y_test, yp_test),3)))\n",
    "print('AUROC: {}'.format(round(roc_auc_score(y_test, ys_test),3)))\n",
    "print('AP: {}'.format(round(average_precision_score(y_test, ys_test),3)))\n",
    "print('MCC: {}'.format(round(matthews_corrcoef(y_test, yp_test),3)))\n",
    "print('Precision: {}'.format(round(precision_score(y_test, yp_test),3)))\n",
    "print('Recall: {}'.format(round(recall_score(y_test, yp_test),3)))"
   ]
  },
  {
   "cell_type": "code",
   "execution_count": 92,
   "metadata": {},
   "outputs": [],
   "source": [
    "MLP_pbno32_devset_res = [round(accuracy_score(y_test, yp_test), 3), round(balanced_accuracy_score(y_test, yp_test), 3),\n",
    "                 round(f1_score(y_test, yp_test),3), round(roc_auc_score(y_test, ys_test),3),\n",
    "                 round(average_precision_score(y_test, ys_test),3), round(matthews_corrcoef(y_test, yp_test),3),\n",
    "                 round(precision_score(y_test, yp_test),3), round(recall_score(y_test, yp_test),3)]"
   ]
  },
  {
   "cell_type": "code",
   "execution_count": 93,
   "metadata": {},
   "outputs": [
    {
     "name": "stdout",
     "output_type": "stream",
     "text": [
      "\u001b[1mConfusion Matrix\u001b[0m\n",
      "[[1075  425]\n",
      " [   0    1]]\n",
      "\u001b[1mMetrics\u001b[0m\n",
      "ACC: 0.717\n",
      "BACC: 0.858\n",
      "F1: 0.005\n",
      "AUROC: 0.999\n",
      "AP: 0.333\n",
      "MCC: 0.041\n",
      "Precision: 0.002\n",
      "Recall: 1.0\n"
     ]
    }
   ],
   "source": [
    "### Independent Test Result\n",
    "X_tset_sds = scaler.transform(X_tset)\n",
    "yp_test = clf.predict(X_tset_sds)\n",
    "ys_test = clf.predict_proba(X_tset_sds)\n",
    "ys_test = ys_test[:,1]\n",
    "\n",
    "print('\\033[1m' + 'Confusion Matrix' + '\\033[0m')\n",
    "print(confusion_matrix(y_tset, yp_test))\n",
    "\n",
    "print('\\033[1m' + 'Metrics' + '\\033[0m')\n",
    "print('ACC: {}'.format(round(accuracy_score(y_tset, yp_test), 3)))\n",
    "print('BACC: {}'.format(round(balanced_accuracy_score(y_tset, yp_test), 3)))\n",
    "print('F1: {}'.format(round(f1_score(y_tset, yp_test),3)))\n",
    "print('AUROC: {}'.format(round(roc_auc_score(y_tset, ys_test),3)))\n",
    "print('AP: {}'.format(round(average_precision_score(y_tset, ys_test),3)))\n",
    "print('MCC: {}'.format(round(matthews_corrcoef(y_tset, yp_test),3)))\n",
    "print('Precision: {}'.format(round(precision_score(y_tset, yp_test),3)))\n",
    "print('Recall: {}'.format(round(recall_score(y_tset, yp_test),3)))"
   ]
  },
  {
   "cell_type": "code",
   "execution_count": 94,
   "metadata": {},
   "outputs": [],
   "source": [
    "MLP_pbno32_tset_res = [round(accuracy_score(y_tset, yp_test), 3), round(balanced_accuracy_score(y_tset, yp_test), 3),\n",
    "                 round(f1_score(y_tset, yp_test),3), round(roc_auc_score(y_tset, ys_test),3),\n",
    "                 round(average_precision_score(y_tset, ys_test),3), round(matthews_corrcoef(y_tset, yp_test),3),\n",
    "                 round(precision_score(y_tset, yp_test),3), round(recall_score(y_tset, yp_test),3)]"
   ]
  },
  {
   "cell_type": "code",
   "execution_count": 95,
   "metadata": {},
   "outputs": [],
   "source": [
    "outF = open(fileout, \"a\")\n",
    "outF.write(\"MLP, \")\n",
    "outF.write(\"ACC, BACC, F1, AUROC, Average_Precision, MCC, Precision, Recall\\n\")\n",
    "outF.write('Cdcl2 DevSet, ')\n",
    "outF.write(', '.join(map(str, MLP_cdcl2_devset_res)))\n",
    "outF.write('\\n')\n",
    "outF.write('Cdcl2 IndSet, ')\n",
    "outF.write(', '.join(map(str, MLP_cdcl2_tset_res)))\n",
    "outF.write('\\n')\n",
    "outF.write('Pbcl2 DevSet, ')\n",
    "outF.write(', '.join(map(str, MLP_pbcl2_devset_res)))\n",
    "outF.write('\\n')\n",
    "outF.write('Pbcl2 IndSet, ')\n",
    "outF.write(', '.join(map(str, MLP_pbcl2_tset_res)))\n",
    "outF.write('\\n')\n",
    "outF.write('Pb(No3)2 DevSet, ')\n",
    "outF.write(', '.join(map(str, MLP_pbno32_devset_res)))\n",
    "outF.write('\\n')\n",
    "outF.write('Pb(No3)2 IndSet, ')\n",
    "outF.write(', '.join(map(str, MLP_pbno32_tset_res)))\n",
    "outF.write('\\n')\n",
    "outF.close()"
   ]
  },
  {
   "cell_type": "markdown",
   "metadata": {},
   "source": [
    "### 3.5 Random Forest"
   ]
  },
  {
   "cell_type": "code",
   "execution_count": 96,
   "metadata": {},
   "outputs": [],
   "source": [
    "from sklearn.preprocessing import StandardScaler\n",
    "from sklearn.ensemble import RandomForestClassifier"
   ]
  },
  {
   "cell_type": "code",
   "execution_count": 97,
   "metadata": {},
   "outputs": [
    {
     "data": {
      "text/plain": [
       "RandomForestClassifier(bootstrap=True, ccp_alpha=0.0, class_weight=None,\n",
       "                       criterion='gini', max_depth=None, max_features='auto',\n",
       "                       max_leaf_nodes=None, max_samples=None,\n",
       "                       min_impurity_decrease=0.0, min_impurity_split=None,\n",
       "                       min_samples_leaf=1, min_samples_split=2,\n",
       "                       min_weight_fraction_leaf=0.0, n_estimators=100,\n",
       "                       n_jobs=None, oob_score=False, random_state=None,\n",
       "                       verbose=0, warm_start=False)"
      ]
     },
     "execution_count": 97,
     "metadata": {},
     "output_type": "execute_result"
    }
   ],
   "source": [
    "## Learn Classifier\n",
    "scaler = StandardScaler()\n",
    "clf = RandomForestClassifier()\n",
    "scaler.fit(X_cdcl2_train)\n",
    "X_train_sds = scaler.transform(X_cdcl2_train)\n",
    "X_test_sds = scaler.transform(X_cdcl2_test)\n",
    "y_train = y_cdcl2_train\n",
    "y_test = y_cdcl2_test\n",
    "X_tset = X_cdcl2_tset\n",
    "y_tset = y_cdcl2_tset\n",
    "clf.fit(X_train_sds, y_train)"
   ]
  },
  {
   "cell_type": "code",
   "execution_count": 98,
   "metadata": {},
   "outputs": [
    {
     "name": "stdout",
     "output_type": "stream",
     "text": [
      "\u001b[1mConfusion Matrix\u001b[0m\n",
      "[[296   0]\n",
      " [  0 104]]\n",
      "\u001b[1mMetrics\u001b[0m\n",
      "ACC: 1.0\n",
      "BACC: 1.0\n",
      "F1: 1.0\n",
      "AUROC: 1.0\n",
      "AP: 1.0\n",
      "MCC: 1.0\n",
      "Precision: 1.0\n",
      "Recall: 1.0\n"
     ]
    }
   ],
   "source": [
    "### Test within batch\n",
    "from sklearn.metrics import confusion_matrix, accuracy_score, balanced_accuracy_score, f1_score \n",
    "from sklearn.metrics import roc_auc_score, precision_score, recall_score, matthews_corrcoef, average_precision_score\n",
    "\n",
    "yp_test = clf.predict(X_test_sds)\n",
    "ys_test = clf.predict_proba(X_test_sds)\n",
    "ys_test = ys_test[:,1]\n",
    "\n",
    "print('\\033[1m' + 'Confusion Matrix' + '\\033[0m')\n",
    "print(confusion_matrix(y_test, yp_test))\n",
    "\n",
    "print('\\033[1m' + 'Metrics' + '\\033[0m')\n",
    "print('ACC: {}'.format(round(accuracy_score(y_test, yp_test), 3)))\n",
    "print('BACC: {}'.format(round(balanced_accuracy_score(y_test, yp_test), 3)))\n",
    "print('F1: {}'.format(round(f1_score(y_test, yp_test),3)))\n",
    "print('AUROC: {}'.format(round(roc_auc_score(y_test, ys_test),3)))\n",
    "print('AP: {}'.format(round(average_precision_score(y_test, ys_test),3)))\n",
    "print('MCC: {}'.format(round(matthews_corrcoef(y_test, yp_test),3)))\n",
    "print('Precision: {}'.format(round(precision_score(y_test, yp_test),3)))\n",
    "print('Recall: {}'.format(round(recall_score(y_test, yp_test),3)))"
   ]
  },
  {
   "cell_type": "code",
   "execution_count": 99,
   "metadata": {},
   "outputs": [],
   "source": [
    "RF_cdcl2_devset_res = [round(accuracy_score(y_test, yp_test), 3), round(balanced_accuracy_score(y_test, yp_test), 3),\n",
    "                 round(f1_score(y_test, yp_test),3), round(roc_auc_score(y_test, ys_test),3),\n",
    "                 round(average_precision_score(y_test, ys_test),3), round(matthews_corrcoef(y_test, yp_test),3),\n",
    "                 round(precision_score(y_test, yp_test),3), round(recall_score(y_test, yp_test),3)]"
   ]
  },
  {
   "cell_type": "code",
   "execution_count": 100,
   "metadata": {},
   "outputs": [
    {
     "name": "stdout",
     "output_type": "stream",
     "text": [
      "\u001b[1mConfusion Matrix\u001b[0m\n",
      "[[982  18]\n",
      " [489  11]]\n",
      "\u001b[1mMetrics\u001b[0m\n",
      "ACC: 0.662\n",
      "BACC: 0.502\n",
      "F1: 0.042\n",
      "AUROC: 0.392\n",
      "AP: 0.286\n",
      "MCC: 0.014\n",
      "Precision: 0.379\n",
      "Recall: 0.022\n"
     ]
    }
   ],
   "source": [
    "### Independent Test Result\n",
    "X_tset_sds = scaler.transform(X_tset)\n",
    "yp_test = clf.predict(X_tset_sds)\n",
    "ys_test = clf.predict_proba(X_tset_sds)\n",
    "ys_test = ys_test[:,1]\n",
    "\n",
    "print('\\033[1m' + 'Confusion Matrix' + '\\033[0m')\n",
    "print(confusion_matrix(y_tset, yp_test))\n",
    "\n",
    "print('\\033[1m' + 'Metrics' + '\\033[0m')\n",
    "print('ACC: {}'.format(round(accuracy_score(y_tset, yp_test), 3)))\n",
    "print('BACC: {}'.format(round(balanced_accuracy_score(y_tset, yp_test), 3)))\n",
    "print('F1: {}'.format(round(f1_score(y_tset, yp_test),3)))\n",
    "print('AUROC: {}'.format(round(roc_auc_score(y_tset, ys_test),3)))\n",
    "print('AP: {}'.format(round(average_precision_score(y_tset, ys_test),3)))\n",
    "print('MCC: {}'.format(round(matthews_corrcoef(y_tset, yp_test),3)))\n",
    "print('Precision: {}'.format(round(precision_score(y_tset, yp_test),3)))\n",
    "print('Recall: {}'.format(round(recall_score(y_tset, yp_test),3)))"
   ]
  },
  {
   "cell_type": "code",
   "execution_count": 101,
   "metadata": {},
   "outputs": [],
   "source": [
    "RF_cdcl2_tset_res = [round(accuracy_score(y_tset, yp_test), 3), round(balanced_accuracy_score(y_tset, yp_test), 3),\n",
    "                 round(f1_score(y_tset, yp_test),3), round(roc_auc_score(y_tset, ys_test),3),\n",
    "                 round(average_precision_score(y_tset, ys_test),3), round(matthews_corrcoef(y_tset, yp_test),3),\n",
    "                 round(precision_score(y_tset, yp_test),3), round(recall_score(y_tset, yp_test),3)]"
   ]
  },
  {
   "cell_type": "code",
   "execution_count": 102,
   "metadata": {},
   "outputs": [
    {
     "data": {
      "text/plain": [
       "RandomForestClassifier(bootstrap=True, ccp_alpha=0.0, class_weight=None,\n",
       "                       criterion='gini', max_depth=None, max_features='auto',\n",
       "                       max_leaf_nodes=None, max_samples=None,\n",
       "                       min_impurity_decrease=0.0, min_impurity_split=None,\n",
       "                       min_samples_leaf=1, min_samples_split=2,\n",
       "                       min_weight_fraction_leaf=0.0, n_estimators=100,\n",
       "                       n_jobs=None, oob_score=False, random_state=None,\n",
       "                       verbose=0, warm_start=False)"
      ]
     },
     "execution_count": 102,
     "metadata": {},
     "output_type": "execute_result"
    }
   ],
   "source": [
    "## Pbcl2 Classifier\n",
    "scaler = StandardScaler()\n",
    "clf = RandomForestClassifier()\n",
    "scaler.fit(X_cdcl2_train)\n",
    "X_train_sds = scaler.transform(X_pbcl2_train)\n",
    "X_test_sds = scaler.transform(X_pbcl2_test)\n",
    "y_train = y_pbcl2_train\n",
    "y_test = y_pbcl2_test\n",
    "X_tset = X_pbcl2_tset\n",
    "y_tset = y_pbcl2_tset\n",
    "clf.fit(X_train_sds, y_train)"
   ]
  },
  {
   "cell_type": "code",
   "execution_count": 103,
   "metadata": {},
   "outputs": [
    {
     "name": "stdout",
     "output_type": "stream",
     "text": [
      "\u001b[1mConfusion Matrix\u001b[0m\n",
      "[[311   0]\n",
      " [  0  89]]\n",
      "\u001b[1mMetrics\u001b[0m\n",
      "ACC: 1.0\n",
      "BACC: 1.0\n",
      "F1: 1.0\n",
      "AUROC: 1.0\n",
      "AP: 1.0\n",
      "MCC: 1.0\n",
      "Precision: 1.0\n",
      "Recall: 1.0\n"
     ]
    }
   ],
   "source": [
    "### Test within batch\n",
    "from sklearn.metrics import confusion_matrix, accuracy_score, balanced_accuracy_score, f1_score \n",
    "from sklearn.metrics import roc_auc_score, precision_score, recall_score, matthews_corrcoef, average_precision_score\n",
    "\n",
    "yp_test = clf.predict(X_test_sds)\n",
    "ys_test = clf.predict_proba(X_test_sds)\n",
    "ys_test = ys_test[:,1]\n",
    "\n",
    "print('\\033[1m' + 'Confusion Matrix' + '\\033[0m')\n",
    "print(confusion_matrix(y_test, yp_test))\n",
    "\n",
    "print('\\033[1m' + 'Metrics' + '\\033[0m')\n",
    "print('ACC: {}'.format(round(accuracy_score(y_test, yp_test), 3)))\n",
    "print('BACC: {}'.format(round(balanced_accuracy_score(y_test, yp_test), 3)))\n",
    "print('F1: {}'.format(round(f1_score(y_test, yp_test),3)))\n",
    "print('AUROC: {}'.format(round(roc_auc_score(y_test, ys_test),3)))\n",
    "print('AP: {}'.format(round(average_precision_score(y_test, ys_test),3)))\n",
    "print('MCC: {}'.format(round(matthews_corrcoef(y_test, yp_test),3)))\n",
    "print('Precision: {}'.format(round(precision_score(y_test, yp_test),3)))\n",
    "print('Recall: {}'.format(round(recall_score(y_test, yp_test),3)))"
   ]
  },
  {
   "cell_type": "code",
   "execution_count": 104,
   "metadata": {},
   "outputs": [],
   "source": [
    "RF_pbcl2_devset_res = [round(accuracy_score(y_test, yp_test), 3), round(balanced_accuracy_score(y_test, yp_test), 3),\n",
    "                 round(f1_score(y_test, yp_test),3), round(roc_auc_score(y_test, ys_test),3),\n",
    "                 round(average_precision_score(y_test, ys_test),3), round(matthews_corrcoef(y_test, yp_test),3),\n",
    "                 round(precision_score(y_test, yp_test),3), round(recall_score(y_test, yp_test),3)]"
   ]
  },
  {
   "cell_type": "code",
   "execution_count": 105,
   "metadata": {},
   "outputs": [
    {
     "name": "stdout",
     "output_type": "stream",
     "text": [
      "\u001b[1mConfusion Matrix\u001b[0m\n",
      "[[1149  351]\n",
      " [   0    1]]\n",
      "\u001b[1mMetrics\u001b[0m\n",
      "ACC: 0.766\n",
      "BACC: 0.883\n",
      "F1: 0.006\n",
      "AUROC: 1.0\n",
      "AP: 1.0\n",
      "MCC: 0.047\n",
      "Precision: 0.003\n",
      "Recall: 1.0\n"
     ]
    }
   ],
   "source": [
    "### Independent Test Result\n",
    "X_tset_sds = scaler.transform(X_tset)\n",
    "yp_test = clf.predict(X_tset_sds)\n",
    "ys_test = clf.predict_proba(X_tset_sds)\n",
    "ys_test = ys_test[:,1]\n",
    "\n",
    "print('\\033[1m' + 'Confusion Matrix' + '\\033[0m')\n",
    "print(confusion_matrix(y_tset, yp_test))\n",
    "\n",
    "print('\\033[1m' + 'Metrics' + '\\033[0m')\n",
    "print('ACC: {}'.format(round(accuracy_score(y_tset, yp_test), 3)))\n",
    "print('BACC: {}'.format(round(balanced_accuracy_score(y_tset, yp_test), 3)))\n",
    "print('F1: {}'.format(round(f1_score(y_tset, yp_test),3)))\n",
    "print('AUROC: {}'.format(round(roc_auc_score(y_tset, ys_test),3)))\n",
    "print('AP: {}'.format(round(average_precision_score(y_tset, ys_test),3)))\n",
    "print('MCC: {}'.format(round(matthews_corrcoef(y_tset, yp_test),3)))\n",
    "print('Precision: {}'.format(round(precision_score(y_tset, yp_test),3)))\n",
    "print('Recall: {}'.format(round(recall_score(y_tset, yp_test),3)))"
   ]
  },
  {
   "cell_type": "code",
   "execution_count": 106,
   "metadata": {},
   "outputs": [],
   "source": [
    "RF_pbcl2_tset_res = [round(accuracy_score(y_tset, yp_test), 3), round(balanced_accuracy_score(y_tset, yp_test), 3),\n",
    "                 round(f1_score(y_tset, yp_test),3), round(roc_auc_score(y_tset, ys_test),3),\n",
    "                 round(average_precision_score(y_tset, ys_test),3), round(matthews_corrcoef(y_tset, yp_test),3),\n",
    "                 round(precision_score(y_tset, yp_test),3), round(recall_score(y_tset, yp_test),3)]"
   ]
  },
  {
   "cell_type": "code",
   "execution_count": 107,
   "metadata": {},
   "outputs": [
    {
     "data": {
      "text/plain": [
       "RandomForestClassifier(bootstrap=True, ccp_alpha=0.0, class_weight=None,\n",
       "                       criterion='gini', max_depth=None, max_features='auto',\n",
       "                       max_leaf_nodes=None, max_samples=None,\n",
       "                       min_impurity_decrease=0.0, min_impurity_split=None,\n",
       "                       min_samples_leaf=1, min_samples_split=2,\n",
       "                       min_weight_fraction_leaf=0.0, n_estimators=100,\n",
       "                       n_jobs=None, oob_score=False, random_state=None,\n",
       "                       verbose=0, warm_start=False)"
      ]
     },
     "execution_count": 107,
     "metadata": {},
     "output_type": "execute_result"
    }
   ],
   "source": [
    "## Learn Classifier\n",
    "scaler = StandardScaler()\n",
    "clf = RandomForestClassifier()\n",
    "scaler.fit(X_pbno32_train)\n",
    "X_train_sds = scaler.transform(X_pbno32_train)\n",
    "X_test_sds = scaler.transform(X_pbno32_test)\n",
    "y_train = y_pbno32_train\n",
    "y_test = y_pbno32_test\n",
    "X_tset = X_pbno32_tset\n",
    "y_tset = y_pbno32_tset\n",
    "clf.fit(X_train_sds, y_train)"
   ]
  },
  {
   "cell_type": "code",
   "execution_count": 108,
   "metadata": {},
   "outputs": [
    {
     "name": "stdout",
     "output_type": "stream",
     "text": [
      "\u001b[1mConfusion Matrix\u001b[0m\n",
      "[[310   1]\n",
      " [  0  89]]\n",
      "\u001b[1mMetrics\u001b[0m\n",
      "ACC: 0.998\n",
      "BACC: 0.998\n",
      "F1: 0.994\n",
      "AUROC: 1.0\n",
      "AP: 1.0\n",
      "MCC: 0.993\n",
      "Precision: 0.989\n",
      "Recall: 1.0\n"
     ]
    }
   ],
   "source": [
    "### Test within batch\n",
    "from sklearn.metrics import confusion_matrix, accuracy_score, balanced_accuracy_score, f1_score \n",
    "from sklearn.metrics import roc_auc_score, precision_score, recall_score, matthews_corrcoef, average_precision_score\n",
    "\n",
    "yp_test = clf.predict(X_test_sds)\n",
    "ys_test = clf.predict_proba(X_test_sds)\n",
    "ys_test = ys_test[:,1]\n",
    "\n",
    "print('\\033[1m' + 'Confusion Matrix' + '\\033[0m')\n",
    "print(confusion_matrix(y_test, yp_test))\n",
    "\n",
    "print('\\033[1m' + 'Metrics' + '\\033[0m')\n",
    "print('ACC: {}'.format(round(accuracy_score(y_test, yp_test), 3)))\n",
    "print('BACC: {}'.format(round(balanced_accuracy_score(y_test, yp_test), 3)))\n",
    "print('F1: {}'.format(round(f1_score(y_test, yp_test),3)))\n",
    "print('AUROC: {}'.format(round(roc_auc_score(y_test, ys_test),3)))\n",
    "print('AP: {}'.format(round(average_precision_score(y_test, ys_test),3)))\n",
    "print('MCC: {}'.format(round(matthews_corrcoef(y_test, yp_test),3)))\n",
    "print('Precision: {}'.format(round(precision_score(y_test, yp_test),3)))\n",
    "print('Recall: {}'.format(round(recall_score(y_test, yp_test),3)))"
   ]
  },
  {
   "cell_type": "code",
   "execution_count": 109,
   "metadata": {},
   "outputs": [],
   "source": [
    "RF_pbno32_devset_res = [round(accuracy_score(y_test, yp_test), 3), round(balanced_accuracy_score(y_test, yp_test), 3),\n",
    "                 round(f1_score(y_test, yp_test),3), round(roc_auc_score(y_test, ys_test),3),\n",
    "                 round(average_precision_score(y_test, ys_test),3), round(matthews_corrcoef(y_test, yp_test),3),\n",
    "                 round(precision_score(y_test, yp_test),3), round(recall_score(y_test, yp_test),3)]"
   ]
  },
  {
   "cell_type": "code",
   "execution_count": 110,
   "metadata": {},
   "outputs": [
    {
     "name": "stdout",
     "output_type": "stream",
     "text": [
      "\u001b[1mConfusion Matrix\u001b[0m\n",
      "[[1224  276]\n",
      " [   0    1]]\n",
      "\u001b[1mMetrics\u001b[0m\n",
      "ACC: 0.816\n",
      "BACC: 0.908\n",
      "F1: 0.007\n",
      "AUROC: 1.0\n",
      "AP: 1.0\n",
      "MCC: 0.054\n",
      "Precision: 0.004\n",
      "Recall: 1.0\n"
     ]
    }
   ],
   "source": [
    "### Independent Test Result\n",
    "X_tset_sds = scaler.transform(X_tset)\n",
    "yp_test = clf.predict(X_tset_sds)\n",
    "ys_test = clf.predict_proba(X_tset_sds)\n",
    "ys_test = ys_test[:,1]\n",
    "\n",
    "print('\\033[1m' + 'Confusion Matrix' + '\\033[0m')\n",
    "print(confusion_matrix(y_tset, yp_test))\n",
    "\n",
    "print('\\033[1m' + 'Metrics' + '\\033[0m')\n",
    "print('ACC: {}'.format(round(accuracy_score(y_tset, yp_test), 3)))\n",
    "print('BACC: {}'.format(round(balanced_accuracy_score(y_tset, yp_test), 3)))\n",
    "print('F1: {}'.format(round(f1_score(y_tset, yp_test),3)))\n",
    "print('AUROC: {}'.format(round(roc_auc_score(y_tset, ys_test),3)))\n",
    "print('AP: {}'.format(round(average_precision_score(y_tset, ys_test),3)))\n",
    "print('MCC: {}'.format(round(matthews_corrcoef(y_tset, yp_test),3)))\n",
    "print('Precision: {}'.format(round(precision_score(y_tset, yp_test),3)))\n",
    "print('Recall: {}'.format(round(recall_score(y_tset, yp_test),3)))"
   ]
  },
  {
   "cell_type": "code",
   "execution_count": 111,
   "metadata": {},
   "outputs": [],
   "source": [
    "RF_pbno32_tset_res = [round(accuracy_score(y_tset, yp_test), 3), round(balanced_accuracy_score(y_tset, yp_test), 3),\n",
    "                 round(f1_score(y_tset, yp_test),3), round(roc_auc_score(y_tset, ys_test),3),\n",
    "                 round(average_precision_score(y_tset, ys_test),3), round(matthews_corrcoef(y_tset, yp_test),3),\n",
    "                 round(precision_score(y_tset, yp_test),3), round(recall_score(y_tset, yp_test),3)]"
   ]
  },
  {
   "cell_type": "code",
   "execution_count": 112,
   "metadata": {},
   "outputs": [],
   "source": [
    "outF = open(fileout, \"a\")\n",
    "outF.write(\"Random_Forest, \")\n",
    "outF.write(\"ACC, BACC, F1, AUROC, Average_Precision, MCC, Precision, Recall\\n\")\n",
    "outF.write('Cdcl2 DevSet, ')\n",
    "outF.write(', '.join(map(str, RF_cdcl2_devset_res)))\n",
    "outF.write('\\n')\n",
    "outF.write('Cdcl2 IndSet, ')\n",
    "outF.write(', '.join(map(str, RF_cdcl2_tset_res)))\n",
    "outF.write('\\n')\n",
    "outF.write('Pbcl2 DevSet, ')\n",
    "outF.write(', '.join(map(str, RF_pbcl2_devset_res)))\n",
    "outF.write('\\n')\n",
    "outF.write('Pbcl2 IndSet, ')\n",
    "outF.write(', '.join(map(str, RF_pbcl2_tset_res)))\n",
    "outF.write('\\n')\n",
    "outF.write('Pb(No3)2 DevSet, ')\n",
    "outF.write(', '.join(map(str, RF_pbno32_devset_res)))\n",
    "outF.write('\\n')\n",
    "outF.write('Pb(No3)2 IndSet, ')\n",
    "outF.write(', '.join(map(str, RF_pbno32_tset_res)))\n",
    "outF.write('\\n')\n",
    "outF.close()"
   ]
  },
  {
   "cell_type": "markdown",
   "metadata": {},
   "source": [
    "### 3.6 Linear SVM"
   ]
  },
  {
   "cell_type": "code",
   "execution_count": 113,
   "metadata": {},
   "outputs": [],
   "source": [
    "from sklearn.preprocessing import StandardScaler\n",
    "from sklearn.svm import SVC"
   ]
  },
  {
   "cell_type": "code",
   "execution_count": 114,
   "metadata": {},
   "outputs": [
    {
     "data": {
      "text/plain": [
       "SVC(C=1.0, break_ties=False, cache_size=200, class_weight=None, coef0=0.0,\n",
       "    decision_function_shape='ovr', degree=3, gamma='scale', kernel='linear',\n",
       "    max_iter=-1, probability=True, random_state=None, shrinking=True, tol=0.001,\n",
       "    verbose=False)"
      ]
     },
     "execution_count": 114,
     "metadata": {},
     "output_type": "execute_result"
    }
   ],
   "source": [
    "## Learn Classifier\n",
    "scaler = StandardScaler()\n",
    "clf = SVC(kernel = 'linear', probability=True)\n",
    "scaler.fit(X_cdcl2_train)\n",
    "X_train_sds = scaler.transform(X_cdcl2_train)\n",
    "X_test_sds = scaler.transform(X_cdcl2_test)\n",
    "y_train = y_cdcl2_train\n",
    "y_test = y_cdcl2_test\n",
    "X_tset = X_cdcl2_tset\n",
    "y_tset = y_cdcl2_tset\n",
    "clf.fit(X_train_sds, y_train)"
   ]
  },
  {
   "cell_type": "code",
   "execution_count": 115,
   "metadata": {},
   "outputs": [
    {
     "name": "stdout",
     "output_type": "stream",
     "text": [
      "\u001b[1mConfusion Matrix\u001b[0m\n",
      "[[296   0]\n",
      " [  0 104]]\n",
      "\u001b[1mMetrics\u001b[0m\n",
      "ACC: 1.0\n",
      "BACC: 1.0\n",
      "F1: 1.0\n",
      "AUROC: 1.0\n",
      "AP: 1.0\n",
      "MCC: 1.0\n",
      "Precision: 1.0\n",
      "Recall: 1.0\n"
     ]
    }
   ],
   "source": [
    "### Test within batch\n",
    "from sklearn.metrics import confusion_matrix, accuracy_score, balanced_accuracy_score, f1_score \n",
    "from sklearn.metrics import roc_auc_score, precision_score, recall_score, matthews_corrcoef, average_precision_score\n",
    "\n",
    "yp_test = clf.predict(X_test_sds)\n",
    "ys_test = clf.predict_proba(X_test_sds)\n",
    "ys_test = ys_test[:,1]\n",
    "\n",
    "print('\\033[1m' + 'Confusion Matrix' + '\\033[0m')\n",
    "print(confusion_matrix(y_test, yp_test))\n",
    "\n",
    "print('\\033[1m' + 'Metrics' + '\\033[0m')\n",
    "print('ACC: {}'.format(round(accuracy_score(y_test, yp_test), 3)))\n",
    "print('BACC: {}'.format(round(balanced_accuracy_score(y_test, yp_test), 3)))\n",
    "print('F1: {}'.format(round(f1_score(y_test, yp_test),3)))\n",
    "print('AUROC: {}'.format(round(roc_auc_score(y_test, ys_test),3)))\n",
    "print('AP: {}'.format(round(average_precision_score(y_test, ys_test),3)))\n",
    "print('MCC: {}'.format(round(matthews_corrcoef(y_test, yp_test),3)))\n",
    "print('Precision: {}'.format(round(precision_score(y_test, yp_test),3)))\n",
    "print('Recall: {}'.format(round(recall_score(y_test, yp_test),3)))"
   ]
  },
  {
   "cell_type": "code",
   "execution_count": 116,
   "metadata": {},
   "outputs": [],
   "source": [
    "LinSVM_cdcl2_devset_res = [round(accuracy_score(y_test, yp_test), 3), round(balanced_accuracy_score(y_test, yp_test), 3),\n",
    "                 round(f1_score(y_test, yp_test),3), round(roc_auc_score(y_test, ys_test),3),\n",
    "                 round(average_precision_score(y_test, ys_test),3), round(matthews_corrcoef(y_test, yp_test),3),\n",
    "                 round(precision_score(y_test, yp_test),3), round(recall_score(y_test, yp_test),3)]"
   ]
  },
  {
   "cell_type": "code",
   "execution_count": 117,
   "metadata": {},
   "outputs": [
    {
     "name": "stdout",
     "output_type": "stream",
     "text": [
      "\u001b[1mConfusion Matrix\u001b[0m\n",
      "[[859 141]\n",
      " [418  82]]\n",
      "\u001b[1mMetrics\u001b[0m\n",
      "ACC: 0.627\n",
      "BACC: 0.511\n",
      "F1: 0.227\n",
      "AUROC: 0.277\n",
      "AP: 0.358\n",
      "MCC: 0.03\n",
      "Precision: 0.368\n",
      "Recall: 0.164\n"
     ]
    }
   ],
   "source": [
    "### Independent Test Result\n",
    "X_tset_sds = scaler.transform(X_tset)\n",
    "yp_test = clf.predict(X_tset_sds)\n",
    "ys_test = clf.predict_proba(X_tset_sds)\n",
    "ys_test = ys_test[:,1]\n",
    "\n",
    "print('\\033[1m' + 'Confusion Matrix' + '\\033[0m')\n",
    "print(confusion_matrix(y_tset, yp_test))\n",
    "\n",
    "print('\\033[1m' + 'Metrics' + '\\033[0m')\n",
    "print('ACC: {}'.format(round(accuracy_score(y_tset, yp_test), 3)))\n",
    "print('BACC: {}'.format(round(balanced_accuracy_score(y_tset, yp_test), 3)))\n",
    "print('F1: {}'.format(round(f1_score(y_tset, yp_test),3)))\n",
    "print('AUROC: {}'.format(round(roc_auc_score(y_tset, ys_test),3)))\n",
    "print('AP: {}'.format(round(average_precision_score(y_tset, ys_test),3)))\n",
    "print('MCC: {}'.format(round(matthews_corrcoef(y_tset, yp_test),3)))\n",
    "print('Precision: {}'.format(round(precision_score(y_tset, yp_test),3)))\n",
    "print('Recall: {}'.format(round(recall_score(y_tset, yp_test),3)))"
   ]
  },
  {
   "cell_type": "code",
   "execution_count": 118,
   "metadata": {},
   "outputs": [],
   "source": [
    "LinSVM_cdcl2_tset_res = [round(accuracy_score(y_tset, yp_test), 3), round(balanced_accuracy_score(y_tset, yp_test), 3),\n",
    "                 round(f1_score(y_tset, yp_test),3), round(roc_auc_score(y_tset, ys_test),3),\n",
    "                 round(average_precision_score(y_tset, ys_test),3), round(matthews_corrcoef(y_tset, yp_test),3),\n",
    "                 round(precision_score(y_tset, yp_test),3), round(recall_score(y_tset, yp_test),3)]"
   ]
  },
  {
   "cell_type": "code",
   "execution_count": 119,
   "metadata": {},
   "outputs": [
    {
     "data": {
      "text/plain": [
       "SVC(C=1.0, break_ties=False, cache_size=200, class_weight=None, coef0=0.0,\n",
       "    decision_function_shape='ovr', degree=3, gamma='scale', kernel='linear',\n",
       "    max_iter=-1, probability=True, random_state=None, shrinking=True, tol=0.001,\n",
       "    verbose=False)"
      ]
     },
     "execution_count": 119,
     "metadata": {},
     "output_type": "execute_result"
    }
   ],
   "source": [
    "## Pbcl2 Classifier\n",
    "scaler = StandardScaler()\n",
    "clf = SVC(kernel = 'linear', probability=True)\n",
    "scaler.fit(X_cdcl2_train)\n",
    "X_train_sds = scaler.transform(X_pbcl2_train)\n",
    "X_test_sds = scaler.transform(X_pbcl2_test)\n",
    "y_train = y_pbcl2_train\n",
    "y_test = y_pbcl2_test\n",
    "X_tset = X_pbcl2_tset\n",
    "y_tset = y_pbcl2_tset\n",
    "clf.fit(X_train_sds, y_train)"
   ]
  },
  {
   "cell_type": "code",
   "execution_count": 120,
   "metadata": {},
   "outputs": [
    {
     "name": "stdout",
     "output_type": "stream",
     "text": [
      "\u001b[1mConfusion Matrix\u001b[0m\n",
      "[[311   0]\n",
      " [  0  89]]\n",
      "\u001b[1mMetrics\u001b[0m\n",
      "ACC: 1.0\n",
      "BACC: 1.0\n",
      "F1: 1.0\n",
      "AUROC: 1.0\n",
      "AP: 1.0\n",
      "MCC: 1.0\n",
      "Precision: 1.0\n",
      "Recall: 1.0\n"
     ]
    }
   ],
   "source": [
    "### Test within batch\n",
    "from sklearn.metrics import confusion_matrix, accuracy_score, balanced_accuracy_score, f1_score \n",
    "from sklearn.metrics import roc_auc_score, precision_score, recall_score, matthews_corrcoef, average_precision_score\n",
    "\n",
    "yp_test = clf.predict(X_test_sds)\n",
    "ys_test = clf.predict_proba(X_test_sds)\n",
    "ys_test = ys_test[:,1]\n",
    "\n",
    "print('\\033[1m' + 'Confusion Matrix' + '\\033[0m')\n",
    "print(confusion_matrix(y_test, yp_test))\n",
    "\n",
    "print('\\033[1m' + 'Metrics' + '\\033[0m')\n",
    "print('ACC: {}'.format(round(accuracy_score(y_test, yp_test), 3)))\n",
    "print('BACC: {}'.format(round(balanced_accuracy_score(y_test, yp_test), 3)))\n",
    "print('F1: {}'.format(round(f1_score(y_test, yp_test),3)))\n",
    "print('AUROC: {}'.format(round(roc_auc_score(y_test, ys_test),3)))\n",
    "print('AP: {}'.format(round(average_precision_score(y_test, ys_test),3)))\n",
    "print('MCC: {}'.format(round(matthews_corrcoef(y_test, yp_test),3)))\n",
    "print('Precision: {}'.format(round(precision_score(y_test, yp_test),3)))\n",
    "print('Recall: {}'.format(round(recall_score(y_test, yp_test),3)))"
   ]
  },
  {
   "cell_type": "code",
   "execution_count": 121,
   "metadata": {},
   "outputs": [],
   "source": [
    "LinSVM_pbcl2_devset_res = [round(accuracy_score(y_test, yp_test), 3), round(balanced_accuracy_score(y_test, yp_test), 3),\n",
    "                 round(f1_score(y_test, yp_test),3), round(roc_auc_score(y_test, ys_test),3),\n",
    "                 round(average_precision_score(y_test, ys_test),3), round(matthews_corrcoef(y_test, yp_test),3),\n",
    "                 round(precision_score(y_test, yp_test),3), round(recall_score(y_test, yp_test),3)]"
   ]
  },
  {
   "cell_type": "code",
   "execution_count": 122,
   "metadata": {},
   "outputs": [
    {
     "name": "stdout",
     "output_type": "stream",
     "text": [
      "\u001b[1mConfusion Matrix\u001b[0m\n",
      "[[1185  315]\n",
      " [   0    1]]\n",
      "\u001b[1mMetrics\u001b[0m\n",
      "ACC: 0.79\n",
      "BACC: 0.895\n",
      "F1: 0.006\n",
      "AUROC: 1.0\n",
      "AP: 1.0\n",
      "MCC: 0.05\n",
      "Precision: 0.003\n",
      "Recall: 1.0\n"
     ]
    }
   ],
   "source": [
    "### Independent Test Result\n",
    "X_tset_sds = scaler.transform(X_tset)\n",
    "yp_test = clf.predict(X_tset_sds)\n",
    "ys_test = clf.predict_proba(X_tset_sds)\n",
    "ys_test = ys_test[:,1]\n",
    "\n",
    "print('\\033[1m' + 'Confusion Matrix' + '\\033[0m')\n",
    "print(confusion_matrix(y_tset, yp_test))\n",
    "\n",
    "print('\\033[1m' + 'Metrics' + '\\033[0m')\n",
    "print('ACC: {}'.format(round(accuracy_score(y_tset, yp_test), 3)))\n",
    "print('BACC: {}'.format(round(balanced_accuracy_score(y_tset, yp_test), 3)))\n",
    "print('F1: {}'.format(round(f1_score(y_tset, yp_test),3)))\n",
    "print('AUROC: {}'.format(round(roc_auc_score(y_tset, ys_test),3)))\n",
    "print('AP: {}'.format(round(average_precision_score(y_tset, ys_test),3)))\n",
    "print('MCC: {}'.format(round(matthews_corrcoef(y_tset, yp_test),3)))\n",
    "print('Precision: {}'.format(round(precision_score(y_tset, yp_test),3)))\n",
    "print('Recall: {}'.format(round(recall_score(y_tset, yp_test),3)))"
   ]
  },
  {
   "cell_type": "code",
   "execution_count": 123,
   "metadata": {},
   "outputs": [],
   "source": [
    "LinSVM_pbcl2_tset_res = [round(accuracy_score(y_tset, yp_test), 3), round(balanced_accuracy_score(y_tset, yp_test), 3),\n",
    "                 round(f1_score(y_tset, yp_test),3), round(roc_auc_score(y_tset, ys_test),3),\n",
    "                 round(average_precision_score(y_tset, ys_test),3), round(matthews_corrcoef(y_tset, yp_test),3),\n",
    "                 round(precision_score(y_tset, yp_test),3), round(recall_score(y_tset, yp_test),3)]"
   ]
  },
  {
   "cell_type": "code",
   "execution_count": 124,
   "metadata": {},
   "outputs": [
    {
     "data": {
      "text/plain": [
       "SVC(C=1.0, break_ties=False, cache_size=200, class_weight=None, coef0=0.0,\n",
       "    decision_function_shape='ovr', degree=3, gamma='scale', kernel='linear',\n",
       "    max_iter=-1, probability=True, random_state=None, shrinking=True, tol=0.001,\n",
       "    verbose=False)"
      ]
     },
     "execution_count": 124,
     "metadata": {},
     "output_type": "execute_result"
    }
   ],
   "source": [
    "## Learn Classifier\n",
    "scaler = StandardScaler()\n",
    "clf = SVC(kernel = 'linear', probability=True)\n",
    "scaler.fit(X_pbno32_train)\n",
    "X_train_sds = scaler.transform(X_pbno32_train)\n",
    "X_test_sds = scaler.transform(X_pbno32_test)\n",
    "y_train = y_pbno32_train\n",
    "y_test = y_pbno32_test\n",
    "X_tset = X_pbno32_tset\n",
    "y_tset = y_pbno32_tset\n",
    "clf.fit(X_train_sds, y_train)"
   ]
  },
  {
   "cell_type": "code",
   "execution_count": 125,
   "metadata": {},
   "outputs": [
    {
     "name": "stdout",
     "output_type": "stream",
     "text": [
      "\u001b[1mConfusion Matrix\u001b[0m\n",
      "[[309   2]\n",
      " [  0  89]]\n",
      "\u001b[1mMetrics\u001b[0m\n",
      "ACC: 0.995\n",
      "BACC: 0.997\n",
      "F1: 0.989\n",
      "AUROC: 0.999\n",
      "AP: 0.996\n",
      "MCC: 0.986\n",
      "Precision: 0.978\n",
      "Recall: 1.0\n"
     ]
    }
   ],
   "source": [
    "### Test within batch\n",
    "from sklearn.metrics import confusion_matrix, accuracy_score, balanced_accuracy_score, f1_score \n",
    "from sklearn.metrics import roc_auc_score, precision_score, recall_score, matthews_corrcoef, average_precision_score\n",
    "\n",
    "yp_test = clf.predict(X_test_sds)\n",
    "ys_test = clf.predict_proba(X_test_sds)\n",
    "ys_test = ys_test[:,1]\n",
    "\n",
    "print('\\033[1m' + 'Confusion Matrix' + '\\033[0m')\n",
    "print(confusion_matrix(y_test, yp_test))\n",
    "\n",
    "print('\\033[1m' + 'Metrics' + '\\033[0m')\n",
    "print('ACC: {}'.format(round(accuracy_score(y_test, yp_test), 3)))\n",
    "print('BACC: {}'.format(round(balanced_accuracy_score(y_test, yp_test), 3)))\n",
    "print('F1: {}'.format(round(f1_score(y_test, yp_test),3)))\n",
    "print('AUROC: {}'.format(round(roc_auc_score(y_test, ys_test),3)))\n",
    "print('AP: {}'.format(round(average_precision_score(y_test, ys_test),3)))\n",
    "print('MCC: {}'.format(round(matthews_corrcoef(y_test, yp_test),3)))\n",
    "print('Precision: {}'.format(round(precision_score(y_test, yp_test),3)))\n",
    "print('Recall: {}'.format(round(recall_score(y_test, yp_test),3)))"
   ]
  },
  {
   "cell_type": "code",
   "execution_count": 126,
   "metadata": {},
   "outputs": [],
   "source": [
    "LinSVM_pbno32_devset_res = [round(accuracy_score(y_test, yp_test), 3), round(balanced_accuracy_score(y_test, yp_test), 3),\n",
    "                 round(f1_score(y_test, yp_test),3), round(roc_auc_score(y_test, ys_test),3),\n",
    "                 round(average_precision_score(y_test, ys_test),3), round(matthews_corrcoef(y_test, yp_test),3),\n",
    "                 round(precision_score(y_test, yp_test),3), round(recall_score(y_test, yp_test),3)]"
   ]
  },
  {
   "cell_type": "code",
   "execution_count": 127,
   "metadata": {},
   "outputs": [
    {
     "name": "stdout",
     "output_type": "stream",
     "text": [
      "\u001b[1mConfusion Matrix\u001b[0m\n",
      "[[1094  406]\n",
      " [   0    1]]\n",
      "\u001b[1mMetrics\u001b[0m\n",
      "ACC: 0.73\n",
      "BACC: 0.865\n",
      "F1: 0.005\n",
      "AUROC: 0.915\n",
      "AP: 0.008\n",
      "MCC: 0.042\n",
      "Precision: 0.002\n",
      "Recall: 1.0\n"
     ]
    }
   ],
   "source": [
    "### Independent Test Result\n",
    "X_tset_sds = scaler.transform(X_tset)\n",
    "yp_test = clf.predict(X_tset_sds)\n",
    "ys_test = clf.predict_proba(X_tset_sds)\n",
    "ys_test = ys_test[:,1]\n",
    "\n",
    "print('\\033[1m' + 'Confusion Matrix' + '\\033[0m')\n",
    "print(confusion_matrix(y_tset, yp_test))\n",
    "\n",
    "print('\\033[1m' + 'Metrics' + '\\033[0m')\n",
    "print('ACC: {}'.format(round(accuracy_score(y_tset, yp_test), 3)))\n",
    "print('BACC: {}'.format(round(balanced_accuracy_score(y_tset, yp_test), 3)))\n",
    "print('F1: {}'.format(round(f1_score(y_tset, yp_test),3)))\n",
    "print('AUROC: {}'.format(round(roc_auc_score(y_tset, ys_test),3)))\n",
    "print('AP: {}'.format(round(average_precision_score(y_tset, ys_test),3)))\n",
    "print('MCC: {}'.format(round(matthews_corrcoef(y_tset, yp_test),3)))\n",
    "print('Precision: {}'.format(round(precision_score(y_tset, yp_test),3)))\n",
    "print('Recall: {}'.format(round(recall_score(y_tset, yp_test),3)))"
   ]
  },
  {
   "cell_type": "code",
   "execution_count": 128,
   "metadata": {},
   "outputs": [],
   "source": [
    "LinSVM_pbno32_tset_res = [round(accuracy_score(y_tset, yp_test), 3), round(balanced_accuracy_score(y_tset, yp_test), 3),\n",
    "                 round(f1_score(y_tset, yp_test),3), round(roc_auc_score(y_tset, ys_test),3),\n",
    "                 round(average_precision_score(y_tset, ys_test),3), round(matthews_corrcoef(y_tset, yp_test),3),\n",
    "                 round(precision_score(y_tset, yp_test),3), round(recall_score(y_tset, yp_test),3)]"
   ]
  },
  {
   "cell_type": "code",
   "execution_count": 129,
   "metadata": {},
   "outputs": [],
   "source": [
    "outF = open(fileout, \"a\")\n",
    "outF.write(\"Linear_SVM, \")\n",
    "outF.write(\"ACC, BACC, F1, AUROC, Average_Precision, MCC, Precision, Recall\\n\")\n",
    "outF.write('Cdcl2 DevSet, ')\n",
    "outF.write(', '.join(map(str, LinSVM_cdcl2_devset_res)))\n",
    "outF.write('\\n')\n",
    "outF.write('Cdcl2 IndSet, ')\n",
    "outF.write(', '.join(map(str, LinSVM_cdcl2_tset_res)))\n",
    "outF.write('\\n')\n",
    "outF.write('Pbcl2 DevSet, ')\n",
    "outF.write(', '.join(map(str, LinSVM_pbcl2_devset_res)))\n",
    "outF.write('\\n')\n",
    "outF.write('Pbcl2 IndSet, ')\n",
    "outF.write(', '.join(map(str, LinSVM_pbcl2_tset_res)))\n",
    "outF.write('\\n')\n",
    "outF.write('Pb(No3)2 DevSet, ')\n",
    "outF.write(', '.join(map(str, LinSVM_pbno32_devset_res)))\n",
    "outF.write('\\n')\n",
    "outF.write('Pb(No3)2 IndSet, ')\n",
    "outF.write(', '.join(map(str, LinSVM_pbno32_tset_res)))\n",
    "outF.write('\\n')\n",
    "outF.close()"
   ]
  },
  {
   "cell_type": "markdown",
   "metadata": {},
   "source": [
    "### 3.7 RBF SVM"
   ]
  },
  {
   "cell_type": "code",
   "execution_count": 130,
   "metadata": {},
   "outputs": [],
   "source": [
    "from sklearn.preprocessing import StandardScaler\n",
    "from sklearn.svm import SVC"
   ]
  },
  {
   "cell_type": "code",
   "execution_count": 131,
   "metadata": {},
   "outputs": [
    {
     "data": {
      "text/plain": [
       "SVC(C=1.0, break_ties=False, cache_size=200, class_weight=None, coef0=0.0,\n",
       "    decision_function_shape='ovr', degree=3, gamma='scale', kernel='rbf',\n",
       "    max_iter=-1, probability=True, random_state=None, shrinking=True, tol=0.001,\n",
       "    verbose=False)"
      ]
     },
     "execution_count": 131,
     "metadata": {},
     "output_type": "execute_result"
    }
   ],
   "source": [
    "## Learn Classifier\n",
    "scaler = StandardScaler()\n",
    "clf = SVC(kernel = 'rbf', probability=True)\n",
    "scaler.fit(X_cdcl2_train)\n",
    "X_train_sds = scaler.transform(X_cdcl2_train)\n",
    "X_test_sds = scaler.transform(X_cdcl2_test)\n",
    "y_train = y_cdcl2_train\n",
    "y_test = y_cdcl2_test\n",
    "X_tset = X_cdcl2_tset\n",
    "y_tset = y_cdcl2_tset\n",
    "clf.fit(X_train_sds, y_train)"
   ]
  },
  {
   "cell_type": "code",
   "execution_count": 132,
   "metadata": {},
   "outputs": [
    {
     "name": "stdout",
     "output_type": "stream",
     "text": [
      "\u001b[1mConfusion Matrix\u001b[0m\n",
      "[[295   1]\n",
      " [  0 104]]\n",
      "\u001b[1mMetrics\u001b[0m\n",
      "ACC: 0.998\n",
      "BACC: 0.998\n",
      "F1: 0.995\n",
      "AUROC: 1.0\n",
      "AP: 1.0\n",
      "MCC: 0.994\n",
      "Precision: 0.99\n",
      "Recall: 1.0\n"
     ]
    }
   ],
   "source": [
    "### Test within batch\n",
    "from sklearn.metrics import confusion_matrix, accuracy_score, balanced_accuracy_score, f1_score \n",
    "from sklearn.metrics import roc_auc_score, precision_score, recall_score, matthews_corrcoef, average_precision_score\n",
    "\n",
    "yp_test = clf.predict(X_test_sds)\n",
    "ys_test = clf.predict_proba(X_test_sds)\n",
    "ys_test = ys_test[:,1]\n",
    "\n",
    "print('\\033[1m' + 'Confusion Matrix' + '\\033[0m')\n",
    "print(confusion_matrix(y_test, yp_test))\n",
    "\n",
    "print('\\033[1m' + 'Metrics' + '\\033[0m')\n",
    "print('ACC: {}'.format(round(accuracy_score(y_test, yp_test), 3)))\n",
    "print('BACC: {}'.format(round(balanced_accuracy_score(y_test, yp_test), 3)))\n",
    "print('F1: {}'.format(round(f1_score(y_test, yp_test),3)))\n",
    "print('AUROC: {}'.format(round(roc_auc_score(y_test, ys_test),3)))\n",
    "print('AP: {}'.format(round(average_precision_score(y_test, ys_test),3)))\n",
    "print('MCC: {}'.format(round(matthews_corrcoef(y_test, yp_test),3)))\n",
    "print('Precision: {}'.format(round(precision_score(y_test, yp_test),3)))\n",
    "print('Recall: {}'.format(round(recall_score(y_test, yp_test),3)))"
   ]
  },
  {
   "cell_type": "code",
   "execution_count": 133,
   "metadata": {},
   "outputs": [],
   "source": [
    "RBFSVM_cdcl2_devset_res = [round(accuracy_score(y_test, yp_test), 3), round(balanced_accuracy_score(y_test, yp_test), 3),\n",
    "                 round(f1_score(y_test, yp_test),3), round(roc_auc_score(y_test, ys_test),3),\n",
    "                 round(average_precision_score(y_test, ys_test),3), round(matthews_corrcoef(y_test, yp_test),3),\n",
    "                 round(precision_score(y_test, yp_test),3), round(recall_score(y_test, yp_test),3)]"
   ]
  },
  {
   "cell_type": "code",
   "execution_count": 134,
   "metadata": {},
   "outputs": [
    {
     "name": "stdout",
     "output_type": "stream",
     "text": [
      "\u001b[1mConfusion Matrix\u001b[0m\n",
      "[[993   7]\n",
      " [463  37]]\n",
      "\u001b[1mMetrics\u001b[0m\n",
      "ACC: 0.687\n",
      "BACC: 0.534\n",
      "F1: 0.136\n",
      "AUROC: 0.303\n",
      "AP: 0.344\n",
      "MCC: 0.187\n",
      "Precision: 0.841\n",
      "Recall: 0.074\n"
     ]
    }
   ],
   "source": [
    "### Independent Test Result\n",
    "X_tset_sds = scaler.transform(X_tset)\n",
    "yp_test = clf.predict(X_tset_sds)\n",
    "ys_test = clf.predict_proba(X_tset_sds)\n",
    "ys_test = ys_test[:,1]\n",
    "\n",
    "print('\\033[1m' + 'Confusion Matrix' + '\\033[0m')\n",
    "print(confusion_matrix(y_tset, yp_test))\n",
    "\n",
    "print('\\033[1m' + 'Metrics' + '\\033[0m')\n",
    "print('ACC: {}'.format(round(accuracy_score(y_tset, yp_test), 3)))\n",
    "print('BACC: {}'.format(round(balanced_accuracy_score(y_tset, yp_test), 3)))\n",
    "print('F1: {}'.format(round(f1_score(y_tset, yp_test),3)))\n",
    "print('AUROC: {}'.format(round(roc_auc_score(y_tset, ys_test),3)))\n",
    "print('AP: {}'.format(round(average_precision_score(y_tset, ys_test),3)))\n",
    "print('MCC: {}'.format(round(matthews_corrcoef(y_tset, yp_test),3)))\n",
    "print('Precision: {}'.format(round(precision_score(y_tset, yp_test),3)))\n",
    "print('Recall: {}'.format(round(recall_score(y_tset, yp_test),3)))"
   ]
  },
  {
   "cell_type": "code",
   "execution_count": 135,
   "metadata": {},
   "outputs": [],
   "source": [
    "RBFSVM_cdcl2_tset_res = [round(accuracy_score(y_tset, yp_test), 3), round(balanced_accuracy_score(y_tset, yp_test), 3),\n",
    "                 round(f1_score(y_tset, yp_test),3), round(roc_auc_score(y_tset, ys_test),3),\n",
    "                 round(average_precision_score(y_tset, ys_test),3), round(matthews_corrcoef(y_tset, yp_test),3),\n",
    "                 round(precision_score(y_tset, yp_test),3), round(recall_score(y_tset, yp_test),3)]"
   ]
  },
  {
   "cell_type": "code",
   "execution_count": 136,
   "metadata": {},
   "outputs": [
    {
     "data": {
      "text/plain": [
       "SVC(C=1.0, break_ties=False, cache_size=200, class_weight=None, coef0=0.0,\n",
       "    decision_function_shape='ovr', degree=3, gamma='scale', kernel='rbf',\n",
       "    max_iter=-1, probability=True, random_state=None, shrinking=True, tol=0.001,\n",
       "    verbose=False)"
      ]
     },
     "execution_count": 136,
     "metadata": {},
     "output_type": "execute_result"
    }
   ],
   "source": [
    "## Pbcl2 Classifier\n",
    "scaler = StandardScaler()\n",
    "clf = SVC(kernel = 'rbf', probability=True)\n",
    "scaler.fit(X_cdcl2_train)\n",
    "X_train_sds = scaler.transform(X_pbcl2_train)\n",
    "X_test_sds = scaler.transform(X_pbcl2_test)\n",
    "y_train = y_pbcl2_train\n",
    "y_test = y_pbcl2_test\n",
    "X_tset = X_pbcl2_tset\n",
    "y_tset = y_pbcl2_tset\n",
    "clf.fit(X_train_sds, y_train)"
   ]
  },
  {
   "cell_type": "code",
   "execution_count": 137,
   "metadata": {},
   "outputs": [
    {
     "name": "stdout",
     "output_type": "stream",
     "text": [
      "\u001b[1mConfusion Matrix\u001b[0m\n",
      "[[311   0]\n",
      " [  0  89]]\n",
      "\u001b[1mMetrics\u001b[0m\n",
      "ACC: 1.0\n",
      "BACC: 1.0\n",
      "F1: 1.0\n",
      "AUROC: 1.0\n",
      "AP: 1.0\n",
      "MCC: 1.0\n",
      "Precision: 1.0\n",
      "Recall: 1.0\n"
     ]
    }
   ],
   "source": [
    "### Test within batch\n",
    "from sklearn.metrics import confusion_matrix, accuracy_score, balanced_accuracy_score, f1_score \n",
    "from sklearn.metrics import roc_auc_score, precision_score, recall_score, matthews_corrcoef, average_precision_score\n",
    "\n",
    "yp_test = clf.predict(X_test_sds)\n",
    "ys_test = clf.predict_proba(X_test_sds)\n",
    "ys_test = ys_test[:,1]\n",
    "\n",
    "print('\\033[1m' + 'Confusion Matrix' + '\\033[0m')\n",
    "print(confusion_matrix(y_test, yp_test))\n",
    "\n",
    "print('\\033[1m' + 'Metrics' + '\\033[0m')\n",
    "print('ACC: {}'.format(round(accuracy_score(y_test, yp_test), 3)))\n",
    "print('BACC: {}'.format(round(balanced_accuracy_score(y_test, yp_test), 3)))\n",
    "print('F1: {}'.format(round(f1_score(y_test, yp_test),3)))\n",
    "print('AUROC: {}'.format(round(roc_auc_score(y_test, ys_test),3)))\n",
    "print('AP: {}'.format(round(average_precision_score(y_test, ys_test),3)))\n",
    "print('MCC: {}'.format(round(matthews_corrcoef(y_test, yp_test),3)))\n",
    "print('Precision: {}'.format(round(precision_score(y_test, yp_test),3)))\n",
    "print('Recall: {}'.format(round(recall_score(y_test, yp_test),3)))"
   ]
  },
  {
   "cell_type": "code",
   "execution_count": 138,
   "metadata": {},
   "outputs": [],
   "source": [
    "RBFSVM_pbcl2_devset_res = [round(accuracy_score(y_test, yp_test), 3), round(balanced_accuracy_score(y_test, yp_test), 3),\n",
    "                 round(f1_score(y_test, yp_test),3), round(roc_auc_score(y_test, ys_test),3),\n",
    "                 round(average_precision_score(y_test, ys_test),3), round(matthews_corrcoef(y_test, yp_test),3),\n",
    "                 round(precision_score(y_test, yp_test),3), round(recall_score(y_test, yp_test),3)]"
   ]
  },
  {
   "cell_type": "code",
   "execution_count": 139,
   "metadata": {
    "scrolled": true
   },
   "outputs": [
    {
     "name": "stdout",
     "output_type": "stream",
     "text": [
      "\u001b[1mConfusion Matrix\u001b[0m\n",
      "[[1158  342]\n",
      " [   0    1]]\n",
      "\u001b[1mMetrics\u001b[0m\n",
      "ACC: 0.772\n",
      "BACC: 0.886\n",
      "F1: 0.006\n",
      "AUROC: 1.0\n",
      "AP: 1.0\n",
      "MCC: 0.047\n",
      "Precision: 0.003\n",
      "Recall: 1.0\n"
     ]
    }
   ],
   "source": [
    "### Independent Test Result\n",
    "X_tset_sds = scaler.transform(X_tset)\n",
    "yp_test = clf.predict(X_tset_sds)\n",
    "ys_test = clf.predict_proba(X_tset_sds)\n",
    "ys_test = ys_test[:,1]\n",
    "\n",
    "print('\\033[1m' + 'Confusion Matrix' + '\\033[0m')\n",
    "print(confusion_matrix(y_tset, yp_test))\n",
    "\n",
    "print('\\033[1m' + 'Metrics' + '\\033[0m')\n",
    "print('ACC: {}'.format(round(accuracy_score(y_tset, yp_test), 3)))\n",
    "print('BACC: {}'.format(round(balanced_accuracy_score(y_tset, yp_test), 3)))\n",
    "print('F1: {}'.format(round(f1_score(y_tset, yp_test),3)))\n",
    "print('AUROC: {}'.format(round(roc_auc_score(y_tset, ys_test),3)))\n",
    "print('AP: {}'.format(round(average_precision_score(y_tset, ys_test),3)))\n",
    "print('MCC: {}'.format(round(matthews_corrcoef(y_tset, yp_test),3)))\n",
    "print('Precision: {}'.format(round(precision_score(y_tset, yp_test),3)))\n",
    "print('Recall: {}'.format(round(recall_score(y_tset, yp_test),3)))"
   ]
  },
  {
   "cell_type": "code",
   "execution_count": 140,
   "metadata": {},
   "outputs": [],
   "source": [
    "RBFSVM_pbcl2_tset_res = [round(accuracy_score(y_tset, yp_test), 3), round(balanced_accuracy_score(y_tset, yp_test), 3),\n",
    "                 round(f1_score(y_tset, yp_test),3), round(roc_auc_score(y_tset, ys_test),3),\n",
    "                 round(average_precision_score(y_tset, ys_test),3), round(matthews_corrcoef(y_tset, yp_test),3),\n",
    "                 round(precision_score(y_tset, yp_test),3), round(recall_score(y_tset, yp_test),3)]"
   ]
  },
  {
   "cell_type": "code",
   "execution_count": 141,
   "metadata": {},
   "outputs": [
    {
     "data": {
      "text/plain": [
       "SVC(C=1.0, break_ties=False, cache_size=200, class_weight=None, coef0=0.0,\n",
       "    decision_function_shape='ovr', degree=3, gamma='scale', kernel='rbf',\n",
       "    max_iter=-1, probability=True, random_state=None, shrinking=True, tol=0.001,\n",
       "    verbose=False)"
      ]
     },
     "execution_count": 141,
     "metadata": {},
     "output_type": "execute_result"
    }
   ],
   "source": [
    "## Learn Classifier\n",
    "scaler = StandardScaler()\n",
    "clf = SVC(kernel = 'rbf', probability=True)\n",
    "scaler.fit(X_pbno32_train)\n",
    "X_train_sds = scaler.transform(X_pbno32_train)\n",
    "X_test_sds = scaler.transform(X_pbno32_test)\n",
    "y_train = y_pbno32_train\n",
    "y_test = y_pbno32_test\n",
    "X_tset = X_pbno32_tset\n",
    "y_tset = y_pbno32_tset\n",
    "clf.fit(X_train_sds, y_train)"
   ]
  },
  {
   "cell_type": "code",
   "execution_count": 142,
   "metadata": {},
   "outputs": [
    {
     "name": "stdout",
     "output_type": "stream",
     "text": [
      "\u001b[1mConfusion Matrix\u001b[0m\n",
      "[[310   1]\n",
      " [  0  89]]\n",
      "\u001b[1mMetrics\u001b[0m\n",
      "ACC: 0.998\n",
      "BACC: 0.998\n",
      "F1: 0.994\n",
      "AUROC: 1.0\n",
      "AP: 1.0\n",
      "MCC: 0.993\n",
      "Precision: 0.989\n",
      "Recall: 1.0\n"
     ]
    }
   ],
   "source": [
    "### Test within batch\n",
    "from sklearn.metrics import confusion_matrix, accuracy_score, balanced_accuracy_score, f1_score \n",
    "from sklearn.metrics import roc_auc_score, precision_score, recall_score, matthews_corrcoef, average_precision_score\n",
    "\n",
    "yp_test = clf.predict(X_test_sds)\n",
    "ys_test = clf.predict_proba(X_test_sds)\n",
    "ys_test = ys_test[:,1]\n",
    "\n",
    "print('\\033[1m' + 'Confusion Matrix' + '\\033[0m')\n",
    "print(confusion_matrix(y_test, yp_test))\n",
    "\n",
    "print('\\033[1m' + 'Metrics' + '\\033[0m')\n",
    "print('ACC: {}'.format(round(accuracy_score(y_test, yp_test), 3)))\n",
    "print('BACC: {}'.format(round(balanced_accuracy_score(y_test, yp_test), 3)))\n",
    "print('F1: {}'.format(round(f1_score(y_test, yp_test),3)))\n",
    "print('AUROC: {}'.format(round(roc_auc_score(y_test, ys_test),3)))\n",
    "print('AP: {}'.format(round(average_precision_score(y_test, ys_test),3)))\n",
    "print('MCC: {}'.format(round(matthews_corrcoef(y_test, yp_test),3)))\n",
    "print('Precision: {}'.format(round(precision_score(y_test, yp_test),3)))\n",
    "print('Recall: {}'.format(round(recall_score(y_test, yp_test),3)))"
   ]
  },
  {
   "cell_type": "code",
   "execution_count": 143,
   "metadata": {},
   "outputs": [],
   "source": [
    "RBFSVM_pbno32_devset_res = [round(accuracy_score(y_test, yp_test), 3), round(balanced_accuracy_score(y_test, yp_test), 3),\n",
    "                 round(f1_score(y_test, yp_test),3), round(roc_auc_score(y_test, ys_test),3),\n",
    "                 round(average_precision_score(y_test, ys_test),3), round(matthews_corrcoef(y_test, yp_test),3),\n",
    "                 round(precision_score(y_test, yp_test),3), round(recall_score(y_test, yp_test),3)]"
   ]
  },
  {
   "cell_type": "code",
   "execution_count": 144,
   "metadata": {},
   "outputs": [
    {
     "name": "stdout",
     "output_type": "stream",
     "text": [
      "\u001b[1mConfusion Matrix\u001b[0m\n",
      "[[1223  277]\n",
      " [   0    1]]\n",
      "\u001b[1mMetrics\u001b[0m\n",
      "ACC: 0.815\n",
      "BACC: 0.908\n",
      "F1: 0.007\n",
      "AUROC: 1.0\n",
      "AP: 1.0\n",
      "MCC: 0.054\n",
      "Precision: 0.004\n",
      "Recall: 1.0\n"
     ]
    }
   ],
   "source": [
    "### Independent Test Result\n",
    "X_tset_sds = scaler.transform(X_tset)\n",
    "yp_test = clf.predict(X_tset_sds)\n",
    "ys_test = clf.predict_proba(X_tset_sds)\n",
    "ys_test = ys_test[:,1]\n",
    "\n",
    "print('\\033[1m' + 'Confusion Matrix' + '\\033[0m')\n",
    "print(confusion_matrix(y_tset, yp_test))\n",
    "\n",
    "print('\\033[1m' + 'Metrics' + '\\033[0m')\n",
    "print('ACC: {}'.format(round(accuracy_score(y_tset, yp_test), 3)))\n",
    "print('BACC: {}'.format(round(balanced_accuracy_score(y_tset, yp_test), 3)))\n",
    "print('F1: {}'.format(round(f1_score(y_tset, yp_test),3)))\n",
    "print('AUROC: {}'.format(round(roc_auc_score(y_tset, ys_test),3)))\n",
    "print('AP: {}'.format(round(average_precision_score(y_tset, ys_test),3)))\n",
    "print('MCC: {}'.format(round(matthews_corrcoef(y_tset, yp_test),3)))\n",
    "print('Precision: {}'.format(round(precision_score(y_tset, yp_test),3)))\n",
    "print('Recall: {}'.format(round(recall_score(y_tset, yp_test),3)))"
   ]
  },
  {
   "cell_type": "code",
   "execution_count": 145,
   "metadata": {},
   "outputs": [],
   "source": [
    "RBFSVM_pbno32_tset_res = [round(accuracy_score(y_tset, yp_test), 3), round(balanced_accuracy_score(y_tset, yp_test), 3),\n",
    "                 round(f1_score(y_tset, yp_test),3), round(roc_auc_score(y_tset, ys_test),3),\n",
    "                 round(average_precision_score(y_tset, ys_test),3), round(matthews_corrcoef(y_tset, yp_test),3),\n",
    "                 round(precision_score(y_tset, yp_test),3), round(recall_score(y_tset, yp_test),3)]"
   ]
  },
  {
   "cell_type": "code",
   "execution_count": 146,
   "metadata": {},
   "outputs": [],
   "source": [
    "outF = open(fileout, \"a\")\n",
    "outF.write(\"RBF_SVM, \")\n",
    "outF.write(\"ACC, BACC, F1, AUROC, Average_Precision, MCC, Precision, Recall\\n\")\n",
    "outF.write('Cdcl2 DevSet, ')\n",
    "outF.write(', '.join(map(str, RBFSVM_cdcl2_devset_res)))\n",
    "outF.write('\\n')\n",
    "outF.write('Cdcl2 IndSet, ')\n",
    "outF.write(', '.join(map(str, RBFSVM_cdcl2_tset_res)))\n",
    "outF.write('\\n')\n",
    "outF.write('Pbcl2 DevSet, ')\n",
    "outF.write(', '.join(map(str, RBFSVM_pbcl2_devset_res)))\n",
    "outF.write('\\n')\n",
    "outF.write('Pbcl2 IndSet, ')\n",
    "outF.write(', '.join(map(str, RBFSVM_pbcl2_tset_res)))\n",
    "outF.write('\\n')\n",
    "outF.write('Pb(No3)2 DevSet, ')\n",
    "outF.write(', '.join(map(str, RBFSVM_pbno32_devset_res)))\n",
    "outF.write('\\n')\n",
    "outF.write('Pb(No3)2 IndSet, ')\n",
    "outF.write(', '.join(map(str, RBFSVM_pbno32_tset_res)))\n",
    "outF.write('\\n')\n",
    "outF.close()"
   ]
  },
  {
   "cell_type": "code",
   "execution_count": null,
   "metadata": {},
   "outputs": [],
   "source": []
  }
 ],
 "metadata": {
  "kernelspec": {
   "display_name": "Python 3",
   "language": "python",
   "name": "python3"
  },
  "language_info": {
   "codemirror_mode": {
    "name": "ipython",
    "version": 3
   },
   "file_extension": ".py",
   "mimetype": "text/x-python",
   "name": "python",
   "nbconvert_exporter": "python",
   "pygments_lexer": "ipython3",
   "version": "3.7.6"
  }
 },
 "nbformat": 4,
 "nbformat_minor": 4
}
