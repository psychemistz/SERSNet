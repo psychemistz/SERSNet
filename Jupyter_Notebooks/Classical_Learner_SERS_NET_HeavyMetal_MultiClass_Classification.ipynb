{
 "cells": [
  {
   "cell_type": "markdown",
   "metadata": {},
   "source": [
    "## 1. Load Datasets"
   ]
  },
  {
   "cell_type": "code",
   "execution_count": 1,
   "metadata": {},
   "outputs": [],
   "source": [
    "## Utils\n",
    "import re\n",
    "import numpy as np\n",
    "import pandas as pd\n",
    "import itertools\n",
    "\n",
    "## Classical Learner\n",
    "from sklearn.model_selection import train_test_split\n",
    "from sklearn.svm import SVC\n",
    "from sklearn.linear_model import LogisticRegression, SGDClassifier\n",
    "from sklearn.ensemble import RandomForestClassifier\n",
    "from sklearn.model_selection import cross_val_score, cross_validate"
   ]
  },
  {
   "cell_type": "code",
   "execution_count": 2,
   "metadata": {},
   "outputs": [],
   "source": [
    "\"\"\"Dataset Parameter Setting\"\"\"\n",
    "\"\"\"Load Dataset\"\"\"\n",
    "hm_tset = pd.read_csv(\"C:/Users/sypark/Desktop/Projects/w_MinSeok/1SERSNet/2data/_preprocessed/sers_net_hm_dev.csv\")\n",
    "hm_dset = pd.read_csv(\"C:/Users/sypark/Desktop/Projects/w_MinSeok/1SERSNet/2data/_preprocessed/sers_net_hm_test.csv\")\n",
    "\n",
    "\"\"\"Set Output Path\"\"\"\n",
    "fileout = \"C:/Users/sypark/Desktop/Projects/w_MinSeok/1SERSNet/3results/HM_Classification/raw_data/baseline_hm_model_output_test_to_dev.csv\""
   ]
  },
  {
   "cell_type": "code",
   "execution_count": 3,
   "metadata": {},
   "outputs": [],
   "source": [
    "X_dset = hm_dset.iloc[:,1:].to_numpy()\n",
    "X_tset = hm_tset.iloc[:,1:].to_numpy()\n",
    "y_dset = hm_dset.iloc[:,0].to_numpy()\n",
    "y_tset = hm_tset.iloc[:,0].to_numpy()"
   ]
  },
  {
   "cell_type": "code",
   "execution_count": 4,
   "metadata": {},
   "outputs": [],
   "source": [
    "# from sklearn.decomposition import PCA\n",
    "# pca = PCA(n_components=10)\n",
    "# pca.fit(X_dset)\n",
    "# X_dset = pca.transform(X_dset)\n",
    "# X_tset = pca.transform(X_tset)"
   ]
  },
  {
   "cell_type": "code",
   "execution_count": 5,
   "metadata": {},
   "outputs": [],
   "source": [
    "## One-hot-encoding by pandas way\n",
    "y = pd.get_dummies(hm_dset.label, prefix='label')"
   ]
  },
  {
   "cell_type": "code",
   "execution_count": 6,
   "metadata": {},
   "outputs": [
    {
     "data": {
      "text/plain": [
       "LabelEncoder()"
      ]
     },
     "execution_count": 6,
     "metadata": {},
     "output_type": "execute_result"
    }
   ],
   "source": [
    "from sklearn.preprocessing import LabelEncoder\n",
    "enc = LabelEncoder()\n",
    "enc.fit(y_dset)"
   ]
  },
  {
   "cell_type": "code",
   "execution_count": 7,
   "metadata": {},
   "outputs": [],
   "source": [
    "y_dset = enc.transform(y_dset)\n",
    "y_tset = enc.transform(y_tset)"
   ]
  },
  {
   "cell_type": "markdown",
   "metadata": {},
   "source": [
    "## 2. Train Test split"
   ]
  },
  {
   "cell_type": "code",
   "execution_count": 8,
   "metadata": {},
   "outputs": [],
   "source": [
    "## 4.4 train and test split for Classical Learner\n",
    "X_train, X_test, y_train, y_test = train_test_split(X_dset, y_dset, test_size = 0.2, \n",
    "                                                    random_state=123)"
   ]
  },
  {
   "cell_type": "markdown",
   "metadata": {},
   "source": [
    "## 3. Classical Learner"
   ]
  },
  {
   "cell_type": "markdown",
   "metadata": {},
   "source": [
    "### 3.1 Naive Bayes"
   ]
  },
  {
   "cell_type": "code",
   "execution_count": 9,
   "metadata": {},
   "outputs": [],
   "source": [
    "from sklearn.preprocessing import StandardScaler\n",
    "from sklearn.naive_bayes import BernoulliNB"
   ]
  },
  {
   "cell_type": "code",
   "execution_count": 10,
   "metadata": {},
   "outputs": [
    {
     "data": {
      "text/plain": [
       "BernoulliNB(alpha=1.0, binarize=0.0, class_prior=None, fit_prior=True)"
      ]
     },
     "execution_count": 10,
     "metadata": {},
     "output_type": "execute_result"
    }
   ],
   "source": [
    "## Learn Classifier\n",
    "scaler = StandardScaler()\n",
    "clf = BernoulliNB()\n",
    "scaler.fit(X_train)\n",
    "X_train_sds = scaler.transform(X_train)\n",
    "X_test_sds = scaler.transform(X_test)\n",
    "clf.fit(X_train_sds, y_train)"
   ]
  },
  {
   "cell_type": "code",
   "execution_count": 11,
   "metadata": {},
   "outputs": [
    {
     "name": "stdout",
     "output_type": "stream",
     "text": [
      "\u001b[1mConfusion Matrix\u001b[0m\n",
      "[[260  21 129]\n",
      " [171  49 183]\n",
      " [  0   8 379]]\n",
      "\u001b[1mMetrics\u001b[0m\n",
      "ACC: 0.573\n",
      "BACC: 0.578\n",
      "F1_micro: 0.573\n",
      "F1_macro: 0.508\n",
      "AUROC_OVR: 0.727\n",
      "AUROC_OVO: 0.728\n",
      "Precisio_micro: 0.573\n",
      "Precisio_macro: 0.593\n",
      "Recall_micro: 0.573\n",
      "Recall_macro: 0.578\n"
     ]
    }
   ],
   "source": [
    "### Test within batch\n",
    "from sklearn.metrics import confusion_matrix, accuracy_score, balanced_accuracy_score, f1_score, roc_auc_score, precision_score, recall_score\n",
    "yp_test = clf.predict(X_test_sds)\n",
    "ys_test = clf.predict_proba(X_test_sds)\n",
    "\n",
    "print('\\033[1m' + 'Confusion Matrix' + '\\033[0m')\n",
    "print(confusion_matrix(y_test, yp_test))\n",
    "\n",
    "print('\\033[1m' + 'Metrics' + '\\033[0m')\n",
    "print('ACC: {}'.format(round(accuracy_score(y_test, yp_test), 3)))\n",
    "print('BACC: {}'.format(round(balanced_accuracy_score(y_test, yp_test), 3)))\n",
    "print('F1_micro: {}'.format(round(f1_score(y_test, yp_test, average='micro'),3)))\n",
    "print('F1_macro: {}'.format(round(f1_score(y_test, yp_test, average='macro'),3)))\n",
    "print('AUROC_OVR: {}'.format(round(roc_auc_score(y_test, ys_test, multi_class='ovr'),3)))\n",
    "print('AUROC_OVO: {}'.format(round(roc_auc_score(y_test, ys_test, multi_class='ovo'),3)))\n",
    "print('Precisio_micro: {}'.format(round(precision_score(y_test, yp_test, average='micro'),3)))\n",
    "print('Precisio_macro: {}'.format(round(precision_score(y_test, yp_test, average='macro'),3)))\n",
    "print('Recall_micro: {}'.format(round(recall_score(y_test, yp_test, average='micro'),3)))\n",
    "print('Recall_macro: {}'.format(round(recall_score(y_test, yp_test, average='macro'),3)))"
   ]
  },
  {
   "cell_type": "code",
   "execution_count": 12,
   "metadata": {},
   "outputs": [],
   "source": [
    "NB_devset_res = [round(accuracy_score(y_test, yp_test), 3), round(balanced_accuracy_score(y_test, yp_test), 3),\n",
    "                 round(f1_score(y_test, yp_test, average='micro'),3), round(f1_score(y_test, yp_test, average='macro'),3),\n",
    "                 round(roc_auc_score(y_test, ys_test, multi_class='ovr'),3), round(roc_auc_score(y_test, ys_test, multi_class='ovo'),3),\n",
    "                 round(precision_score(y_test, yp_test, average='micro'),3), round(precision_score(y_test, yp_test, average='macro'),3),\n",
    "                 round(recall_score(y_test, yp_test, average='micro'),3), round(recall_score(y_test, yp_test, average='macro'),3)]"
   ]
  },
  {
   "cell_type": "code",
   "execution_count": 13,
   "metadata": {},
   "outputs": [
    {
     "name": "stdout",
     "output_type": "stream",
     "text": [
      "\u001b[1mConfusion Matrix\u001b[0m\n",
      "[[ 614  136  750]\n",
      " [   6  878  616]\n",
      " [   0    0 1500]]\n",
      "\u001b[1mMetrics\u001b[0m\n",
      "ACC: 0.665\n",
      "BACC: 0.665\n",
      "F1_micro: 0.665\n",
      "F1_macro: 0.655\n",
      "AUROC_OVR: 0.775\n",
      "AUROC_OVO: 0.775\n",
      "Precisio_micro: 0.665\n",
      "Precisio_macro: 0.793\n",
      "Recall_micro: 0.665\n",
      "Recall_macro: 0.665\n"
     ]
    }
   ],
   "source": [
    "### Independent Test Result\n",
    "X_tset_sds = scaler.transform(X_tset)\n",
    "yp_test = clf.predict(X_tset_sds)\n",
    "ys_test = clf.predict_proba(X_tset_sds)\n",
    "\n",
    "print('\\033[1m' + 'Confusion Matrix' + '\\033[0m')\n",
    "print(confusion_matrix(y_tset, yp_test))\n",
    "\n",
    "print('\\033[1m' + 'Metrics' + '\\033[0m')\n",
    "print('ACC: {}'.format(round(accuracy_score(y_tset, yp_test), 3)))\n",
    "print('BACC: {}'.format(round(balanced_accuracy_score(y_tset, yp_test), 3)))\n",
    "print('F1_micro: {}'.format(round(f1_score(y_tset, yp_test, average='micro'),3)))\n",
    "print('F1_macro: {}'.format(round(f1_score(y_tset, yp_test, average='macro'),3)))\n",
    "print('AUROC_OVR: {}'.format(round(roc_auc_score(y_tset, ys_test, multi_class='ovr'),3)))\n",
    "print('AUROC_OVO: {}'.format(round(roc_auc_score(y_tset, ys_test, multi_class='ovo'),3)))\n",
    "print('Precisio_micro: {}'.format(round(precision_score(y_tset, yp_test, average='micro'),3)))\n",
    "print('Precisio_macro: {}'.format(round(precision_score(y_tset, yp_test, average='macro'),3)))\n",
    "print('Recall_micro: {}'.format(round(recall_score(y_tset, yp_test, average='micro'),3)))\n",
    "print('Recall_macro: {}'.format(round(recall_score(y_tset, yp_test, average='macro'),3)))"
   ]
  },
  {
   "cell_type": "code",
   "execution_count": 14,
   "metadata": {},
   "outputs": [],
   "source": [
    "NB_indset_res = [round(accuracy_score(y_tset, yp_test), 3), round(balanced_accuracy_score(y_tset, yp_test), 3),\n",
    "                 round(f1_score(y_tset, yp_test, average='micro'),3), round(f1_score(y_tset, yp_test, average='macro'),3),\n",
    "                 round(roc_auc_score(y_tset, ys_test, multi_class='ovr'),3), round(roc_auc_score(y_tset, ys_test, multi_class='ovo'),3),\n",
    "                 round(precision_score(y_tset, yp_test, average='micro'),3), round(precision_score(y_tset, yp_test, average='macro'),3),\n",
    "                 round(recall_score(y_tset, yp_test, average='micro'),3), round(recall_score(y_tset, yp_test, average='macro'),3)]"
   ]
  },
  {
   "cell_type": "code",
   "execution_count": 15,
   "metadata": {},
   "outputs": [],
   "source": [
    "outF = open(fileout, \"w\")\n",
    "outF.write(\"Naive Bayes, \")\n",
    "outF.write(\"ACC, BACC, F1_micro, F1_macro, AUROC_OVR, AUROC_OVO, Precision_micro, Precision_macro, Recall_micro, Recall_macro\\n\")\n",
    "outF.write('DevSet, ')\n",
    "outF.write(', '.join(map(str, NB_devset_res)))\n",
    "outF.write('\\n')\n",
    "outF.write('IndSet, ')\n",
    "outF.write(', '.join(map(str, NB_indset_res)))\n",
    "outF.write('\\n')\n",
    "outF.close()"
   ]
  },
  {
   "cell_type": "markdown",
   "metadata": {},
   "source": [
    "### 3.2 Decision Tree"
   ]
  },
  {
   "cell_type": "code",
   "execution_count": 16,
   "metadata": {},
   "outputs": [],
   "source": [
    "from sklearn.preprocessing import StandardScaler\n",
    "from sklearn.tree import DecisionTreeClassifier"
   ]
  },
  {
   "cell_type": "code",
   "execution_count": 17,
   "metadata": {},
   "outputs": [
    {
     "data": {
      "text/plain": [
       "DecisionTreeClassifier(ccp_alpha=0.0, class_weight=None, criterion='gini',\n",
       "                       max_depth=None, max_features=None, max_leaf_nodes=None,\n",
       "                       min_impurity_decrease=0.0, min_impurity_split=None,\n",
       "                       min_samples_leaf=1, min_samples_split=2,\n",
       "                       min_weight_fraction_leaf=0.0, presort='deprecated',\n",
       "                       random_state=None, splitter='best')"
      ]
     },
     "execution_count": 17,
     "metadata": {},
     "output_type": "execute_result"
    }
   ],
   "source": [
    "## Learn Classifier\n",
    "scaler = StandardScaler()\n",
    "clf = DecisionTreeClassifier()\n",
    "scaler.fit(X_train)\n",
    "X_train_sds = scaler.transform(X_train)\n",
    "X_test_sds = scaler.transform(X_test)\n",
    "clf.fit(X_train_sds, y_train)"
   ]
  },
  {
   "cell_type": "code",
   "execution_count": 18,
   "metadata": {},
   "outputs": [
    {
     "name": "stdout",
     "output_type": "stream",
     "text": [
      "\u001b[1mConfusion Matrix\u001b[0m\n",
      "[[392  12   6]\n",
      " [  9 387   7]\n",
      " [  2   7 378]]\n",
      "\u001b[1mMetrics\u001b[0m\n",
      "ACC: 0.964\n",
      "BACC: 0.964\n",
      "F1_micro: 0.964\n",
      "F1_macro: 0.964\n",
      "AUROC_OVR: 0.973\n",
      "AUROC_OVO: 0.973\n",
      "Precisio_micro: 0.964\n",
      "Precisio_macro: 0.964\n",
      "Recall_micro: 0.964\n",
      "Recall_macro: 0.964\n"
     ]
    }
   ],
   "source": [
    "### Test within batch\n",
    "from sklearn.metrics import confusion_matrix, accuracy_score, balanced_accuracy_score, f1_score, roc_auc_score, precision_score, recall_score\n",
    "yp_test = clf.predict(X_test_sds)\n",
    "ys_test = clf.predict_proba(X_test_sds)\n",
    "\n",
    "print('\\033[1m' + 'Confusion Matrix' + '\\033[0m')\n",
    "print(confusion_matrix(y_test, yp_test))\n",
    "\n",
    "print('\\033[1m' + 'Metrics' + '\\033[0m')\n",
    "print('ACC: {}'.format(round(accuracy_score(y_test, yp_test), 3)))\n",
    "print('BACC: {}'.format(round(balanced_accuracy_score(y_test, yp_test), 3)))\n",
    "print('F1_micro: {}'.format(round(f1_score(y_test, yp_test, average='micro'),3)))\n",
    "print('F1_macro: {}'.format(round(f1_score(y_test, yp_test, average='macro'),3)))\n",
    "print('AUROC_OVR: {}'.format(round(roc_auc_score(y_test, ys_test, multi_class='ovr'),3)))\n",
    "print('AUROC_OVO: {}'.format(round(roc_auc_score(y_test, ys_test, multi_class='ovo'),3)))\n",
    "print('Precisio_micro: {}'.format(round(precision_score(y_test, yp_test, average='micro'),3)))\n",
    "print('Precisio_macro: {}'.format(round(precision_score(y_test, yp_test, average='macro'),3)))\n",
    "print('Recall_micro: {}'.format(round(recall_score(y_test, yp_test, average='micro'),3)))\n",
    "print('Recall_macro: {}'.format(round(recall_score(y_test, yp_test, average='macro'),3)))"
   ]
  },
  {
   "cell_type": "code",
   "execution_count": 19,
   "metadata": {},
   "outputs": [],
   "source": [
    "DT_devset_res = [round(accuracy_score(y_test, yp_test), 3), round(balanced_accuracy_score(y_test, yp_test), 3),\n",
    "                 round(f1_score(y_test, yp_test, average='micro'),3), round(f1_score(y_test, yp_test, average='macro'),3),\n",
    "                 round(roc_auc_score(y_test, ys_test, multi_class='ovr'),3), round(roc_auc_score(y_test, ys_test, multi_class='ovo'),3),\n",
    "                 round(precision_score(y_test, yp_test, average='micro'),3), round(precision_score(y_test, yp_test, average='macro'),3),\n",
    "                 round(recall_score(y_test, yp_test, average='micro'),3), round(recall_score(y_test, yp_test, average='macro'),3)]"
   ]
  },
  {
   "cell_type": "code",
   "execution_count": 20,
   "metadata": {},
   "outputs": [
    {
     "name": "stdout",
     "output_type": "stream",
     "text": [
      "\u001b[1mConfusion Matrix\u001b[0m\n",
      "[[1020  204  276]\n",
      " [1052  347  101]\n",
      " [   1    3 1496]]\n",
      "\u001b[1mMetrics\u001b[0m\n",
      "ACC: 0.636\n",
      "BACC: 0.636\n",
      "F1_micro: 0.636\n",
      "F1_macro: 0.599\n",
      "AUROC_OVR: 0.727\n",
      "AUROC_OVO: 0.727\n",
      "Precisio_micro: 0.636\n",
      "Precisio_macro: 0.639\n",
      "Recall_micro: 0.636\n",
      "Recall_macro: 0.636\n"
     ]
    }
   ],
   "source": [
    "### Independent Test Result\n",
    "X_tset_sds = scaler.transform(X_tset)\n",
    "yp_test = clf.predict(X_tset_sds)\n",
    "ys_test = clf.predict_proba(X_tset_sds)\n",
    "\n",
    "print('\\033[1m' + 'Confusion Matrix' + '\\033[0m')\n",
    "print(confusion_matrix(y_tset, yp_test))\n",
    "\n",
    "print('\\033[1m' + 'Metrics' + '\\033[0m')\n",
    "print('ACC: {}'.format(round(accuracy_score(y_tset, yp_test), 3)))\n",
    "print('BACC: {}'.format(round(balanced_accuracy_score(y_tset, yp_test), 3)))\n",
    "print('F1_micro: {}'.format(round(f1_score(y_tset, yp_test, average='micro'),3)))\n",
    "print('F1_macro: {}'.format(round(f1_score(y_tset, yp_test, average='macro'),3)))\n",
    "print('AUROC_OVR: {}'.format(round(roc_auc_score(y_tset, ys_test, multi_class='ovr'),3)))\n",
    "print('AUROC_OVO: {}'.format(round(roc_auc_score(y_tset, ys_test, multi_class='ovo'),3)))\n",
    "print('Precisio_micro: {}'.format(round(precision_score(y_tset, yp_test, average='micro'),3)))\n",
    "print('Precisio_macro: {}'.format(round(precision_score(y_tset, yp_test, average='macro'),3)))\n",
    "print('Recall_micro: {}'.format(round(recall_score(y_tset, yp_test, average='micro'),3)))\n",
    "print('Recall_macro: {}'.format(round(recall_score(y_tset, yp_test, average='macro'),3)))"
   ]
  },
  {
   "cell_type": "code",
   "execution_count": 21,
   "metadata": {},
   "outputs": [],
   "source": [
    "DT_indset_res = [round(accuracy_score(y_tset, yp_test), 3), round(balanced_accuracy_score(y_tset, yp_test), 3),\n",
    "                 round(f1_score(y_tset, yp_test, average='micro'),3), round(f1_score(y_tset, yp_test, average='macro'),3),\n",
    "                 round(roc_auc_score(y_tset, ys_test, multi_class='ovr'),3), round(roc_auc_score(y_tset, ys_test, multi_class='ovo'),3),\n",
    "                 round(precision_score(y_tset, yp_test, average='micro'),3), round(precision_score(y_tset, yp_test, average='macro'),3),\n",
    "                 round(recall_score(y_tset, yp_test, average='micro'),3), round(recall_score(y_tset, yp_test, average='macro'),3)]"
   ]
  },
  {
   "cell_type": "code",
   "execution_count": 22,
   "metadata": {},
   "outputs": [],
   "source": [
    "outF = open(fileout, \"a\")\n",
    "outF.write(\"Decision_Tree, \")\n",
    "outF.write(\"ACC, BACC, F1_micro, F1_macro, AUROC_OVR, AUROC_OVO, Precision_micro, Precision_macro, Recall_micro, Recall_macro\\n\")\n",
    "outF.write('DevSet, ')\n",
    "outF.write(', '.join(map(str, DT_devset_res)))\n",
    "outF.write('\\n')\n",
    "outF.write('IndSet, ')\n",
    "outF.write(', '.join(map(str, DT_indset_res)))\n",
    "outF.write('\\n')\n",
    "outF.close()"
   ]
  },
  {
   "cell_type": "markdown",
   "metadata": {},
   "source": [
    "### 3.3 Logistic Regression Classifier"
   ]
  },
  {
   "cell_type": "code",
   "execution_count": 23,
   "metadata": {},
   "outputs": [],
   "source": [
    "from sklearn.preprocessing import StandardScaler\n",
    "from sklearn.linear_model import LogisticRegression"
   ]
  },
  {
   "cell_type": "code",
   "execution_count": 24,
   "metadata": {},
   "outputs": [
    {
     "name": "stderr",
     "output_type": "stream",
     "text": [
      "C:\\ProgramData\\Anaconda3\\lib\\site-packages\\sklearn\\linear_model\\_logistic.py:940: ConvergenceWarning: lbfgs failed to converge (status=1):\n",
      "STOP: TOTAL NO. of ITERATIONS REACHED LIMIT.\n",
      "\n",
      "Increase the number of iterations (max_iter) or scale the data as shown in:\n",
      "    https://scikit-learn.org/stable/modules/preprocessing.html\n",
      "Please also refer to the documentation for alternative solver options:\n",
      "    https://scikit-learn.org/stable/modules/linear_model.html#logistic-regression\n",
      "  extra_warning_msg=_LOGISTIC_SOLVER_CONVERGENCE_MSG)\n"
     ]
    },
    {
     "data": {
      "text/plain": [
       "LogisticRegression(C=1.0, class_weight=None, dual=False, fit_intercept=True,\n",
       "                   intercept_scaling=1, l1_ratio=None, max_iter=100,\n",
       "                   multi_class='multinomial', n_jobs=None, penalty='l2',\n",
       "                   random_state=None, solver='lbfgs', tol=0.0001, verbose=0,\n",
       "                   warm_start=False)"
      ]
     },
     "execution_count": 24,
     "metadata": {},
     "output_type": "execute_result"
    }
   ],
   "source": [
    "## Learn Classifier\n",
    "scaler = StandardScaler()\n",
    "clf = LogisticRegression(multi_class = 'multinomial')\n",
    "scaler.fit(X_train)\n",
    "X_train_sds = scaler.transform(X_train)\n",
    "X_test_sds = scaler.transform(X_test)\n",
    "clf.fit(X_train_sds, y_train)"
   ]
  },
  {
   "cell_type": "code",
   "execution_count": 25,
   "metadata": {},
   "outputs": [
    {
     "name": "stdout",
     "output_type": "stream",
     "text": [
      "\u001b[1mConfusion Matrix\u001b[0m\n",
      "[[381  28   1]\n",
      " [ 11 392   0]\n",
      " [  4   2 381]]\n",
      "\u001b[1mMetrics\u001b[0m\n",
      "ACC: 0.962\n",
      "BACC: 0.962\n",
      "F1_micro: 0.962\n",
      "F1_macro: 0.962\n",
      "AUROC_OVR: 0.995\n",
      "AUROC_OVO: 0.995\n",
      "Precisio_micro: 0.962\n",
      "Precisio_macro: 0.963\n",
      "Recall_micro: 0.962\n",
      "Recall_macro: 0.962\n"
     ]
    }
   ],
   "source": [
    "### Test within batch\n",
    "from sklearn.metrics import confusion_matrix, accuracy_score, balanced_accuracy_score, f1_score, roc_auc_score, precision_score, recall_score\n",
    "yp_test = clf.predict(X_test_sds)\n",
    "ys_test = clf.predict_proba(X_test_sds)\n",
    "\n",
    "print('\\033[1m' + 'Confusion Matrix' + '\\033[0m')\n",
    "print(confusion_matrix(y_test, yp_test))\n",
    "\n",
    "print('\\033[1m' + 'Metrics' + '\\033[0m')\n",
    "print('ACC: {}'.format(round(accuracy_score(y_test, yp_test), 3)))\n",
    "print('BACC: {}'.format(round(balanced_accuracy_score(y_test, yp_test), 3)))\n",
    "print('F1_micro: {}'.format(round(f1_score(y_test, yp_test, average='micro'),3)))\n",
    "print('F1_macro: {}'.format(round(f1_score(y_test, yp_test, average='macro'),3)))\n",
    "print('AUROC_OVR: {}'.format(round(roc_auc_score(y_test, ys_test, multi_class='ovr'),3)))\n",
    "print('AUROC_OVO: {}'.format(round(roc_auc_score(y_test, ys_test, multi_class='ovo'),3)))\n",
    "print('Precisio_micro: {}'.format(round(precision_score(y_test, yp_test, average='micro'),3)))\n",
    "print('Precisio_macro: {}'.format(round(precision_score(y_test, yp_test, average='macro'),3)))\n",
    "print('Recall_micro: {}'.format(round(recall_score(y_test, yp_test, average='micro'),3)))\n",
    "print('Recall_macro: {}'.format(round(recall_score(y_test, yp_test, average='macro'),3)))"
   ]
  },
  {
   "cell_type": "code",
   "execution_count": 26,
   "metadata": {},
   "outputs": [],
   "source": [
    "LR_devset_res = [round(accuracy_score(y_test, yp_test), 3), round(balanced_accuracy_score(y_test, yp_test), 3),\n",
    "                 round(f1_score(y_test, yp_test, average='micro'),3), round(f1_score(y_test, yp_test, average='macro'),3),\n",
    "                 round(roc_auc_score(y_test, ys_test, multi_class='ovr'),3), round(roc_auc_score(y_test, ys_test, multi_class='ovo'),3),\n",
    "                 round(precision_score(y_test, yp_test, average='micro'),3), round(precision_score(y_test, yp_test, average='macro'),3),\n",
    "                 round(recall_score(y_test, yp_test, average='micro'),3), round(recall_score(y_test, yp_test, average='macro'),3)]"
   ]
  },
  {
   "cell_type": "code",
   "execution_count": 27,
   "metadata": {},
   "outputs": [
    {
     "name": "stdout",
     "output_type": "stream",
     "text": [
      "\u001b[1mConfusion Matrix\u001b[0m\n",
      "[[ 741  641  118]\n",
      " [1162  338    0]\n",
      " [   8    0 1492]]\n",
      "\u001b[1mMetrics\u001b[0m\n",
      "ACC: 0.571\n",
      "BACC: 0.571\n",
      "F1_micro: 0.571\n",
      "F1_macro: 0.556\n",
      "AUROC_OVR: 0.765\n",
      "AUROC_OVO: 0.765\n",
      "Precisio_micro: 0.571\n",
      "Precisio_macro: 0.553\n",
      "Recall_micro: 0.571\n",
      "Recall_macro: 0.571\n"
     ]
    }
   ],
   "source": [
    "### Independent Test Result\n",
    "X_tset_sds = scaler.transform(X_tset)\n",
    "yp_test = clf.predict(X_tset_sds)\n",
    "ys_test = clf.predict_proba(X_tset_sds)\n",
    "\n",
    "print('\\033[1m' + 'Confusion Matrix' + '\\033[0m')\n",
    "print(confusion_matrix(y_tset, yp_test))\n",
    "\n",
    "print('\\033[1m' + 'Metrics' + '\\033[0m')\n",
    "print('ACC: {}'.format(round(accuracy_score(y_tset, yp_test), 3)))\n",
    "print('BACC: {}'.format(round(balanced_accuracy_score(y_tset, yp_test), 3)))\n",
    "print('F1_micro: {}'.format(round(f1_score(y_tset, yp_test, average='micro'),3)))\n",
    "print('F1_macro: {}'.format(round(f1_score(y_tset, yp_test, average='macro'),3)))\n",
    "print('AUROC_OVR: {}'.format(round(roc_auc_score(y_tset, ys_test, multi_class='ovr'),3)))\n",
    "print('AUROC_OVO: {}'.format(round(roc_auc_score(y_tset, ys_test, multi_class='ovo'),3)))\n",
    "print('Precisio_micro: {}'.format(round(precision_score(y_tset, yp_test, average='micro'),3)))\n",
    "print('Precisio_macro: {}'.format(round(precision_score(y_tset, yp_test, average='macro'),3)))\n",
    "print('Recall_micro: {}'.format(round(recall_score(y_tset, yp_test, average='micro'),3)))\n",
    "print('Recall_macro: {}'.format(round(recall_score(y_tset, yp_test, average='macro'),3)))"
   ]
  },
  {
   "cell_type": "code",
   "execution_count": 28,
   "metadata": {},
   "outputs": [],
   "source": [
    "LR_indset_res = [round(accuracy_score(y_tset, yp_test), 3), round(balanced_accuracy_score(y_tset, yp_test), 3),\n",
    "                 round(f1_score(y_tset, yp_test, average='micro'),3), round(f1_score(y_tset, yp_test, average='macro'),3),\n",
    "                 round(roc_auc_score(y_tset, ys_test, multi_class='ovr'),3), round(roc_auc_score(y_tset, ys_test, multi_class='ovo'),3),\n",
    "                 round(precision_score(y_tset, yp_test, average='micro'),3), round(precision_score(y_tset, yp_test, average='macro'),3),\n",
    "                 round(recall_score(y_tset, yp_test, average='micro'),3), round(recall_score(y_tset, yp_test, average='macro'),3)]"
   ]
  },
  {
   "cell_type": "code",
   "execution_count": 29,
   "metadata": {},
   "outputs": [],
   "source": [
    "outF = open(fileout, \"a\")\n",
    "outF.write(\"Logistic_Regression, \")\n",
    "outF.write(\"ACC, BACC, F1_micro, F1_macro, AUROC_OVR, AUROC_OVO, Precision_micro, Precision_macro, Recall_micro, Recall_macro\\n\")\n",
    "outF.write('DevSet, ')\n",
    "outF.write(', '.join(map(str, LR_devset_res)))\n",
    "outF.write('\\n')\n",
    "outF.write('IndSet, ')\n",
    "outF.write(', '.join(map(str, LR_indset_res)))\n",
    "outF.write('\\n')\n",
    "outF.close()"
   ]
  },
  {
   "cell_type": "markdown",
   "metadata": {},
   "source": [
    "### 3.3 Logistic Regression CV Classifier"
   ]
  },
  {
   "cell_type": "code",
   "execution_count": 30,
   "metadata": {},
   "outputs": [],
   "source": [
    "from sklearn.preprocessing import StandardScaler\n",
    "from sklearn.linear_model import LogisticRegressionCV"
   ]
  },
  {
   "cell_type": "code",
   "execution_count": 31,
   "metadata": {},
   "outputs": [
    {
     "name": "stderr",
     "output_type": "stream",
     "text": [
      "C:\\ProgramData\\Anaconda3\\lib\\site-packages\\sklearn\\linear_model\\_logistic.py:940: ConvergenceWarning: lbfgs failed to converge (status=1):\n",
      "STOP: TOTAL NO. of ITERATIONS REACHED LIMIT.\n",
      "\n",
      "Increase the number of iterations (max_iter) or scale the data as shown in:\n",
      "    https://scikit-learn.org/stable/modules/preprocessing.html\n",
      "Please also refer to the documentation for alternative solver options:\n",
      "    https://scikit-learn.org/stable/modules/linear_model.html#logistic-regression\n",
      "  extra_warning_msg=_LOGISTIC_SOLVER_CONVERGENCE_MSG)\n",
      "C:\\ProgramData\\Anaconda3\\lib\\site-packages\\sklearn\\linear_model\\_logistic.py:940: ConvergenceWarning: lbfgs failed to converge (status=1):\n",
      "STOP: TOTAL NO. of ITERATIONS REACHED LIMIT.\n",
      "\n",
      "Increase the number of iterations (max_iter) or scale the data as shown in:\n",
      "    https://scikit-learn.org/stable/modules/preprocessing.html\n",
      "Please also refer to the documentation for alternative solver options:\n",
      "    https://scikit-learn.org/stable/modules/linear_model.html#logistic-regression\n",
      "  extra_warning_msg=_LOGISTIC_SOLVER_CONVERGENCE_MSG)\n",
      "C:\\ProgramData\\Anaconda3\\lib\\site-packages\\sklearn\\linear_model\\_logistic.py:940: ConvergenceWarning: lbfgs failed to converge (status=1):\n",
      "STOP: TOTAL NO. of ITERATIONS REACHED LIMIT.\n",
      "\n",
      "Increase the number of iterations (max_iter) or scale the data as shown in:\n",
      "    https://scikit-learn.org/stable/modules/preprocessing.html\n",
      "Please also refer to the documentation for alternative solver options:\n",
      "    https://scikit-learn.org/stable/modules/linear_model.html#logistic-regression\n",
      "  extra_warning_msg=_LOGISTIC_SOLVER_CONVERGENCE_MSG)\n",
      "C:\\ProgramData\\Anaconda3\\lib\\site-packages\\sklearn\\linear_model\\_logistic.py:940: ConvergenceWarning: lbfgs failed to converge (status=1):\n",
      "STOP: TOTAL NO. of ITERATIONS REACHED LIMIT.\n",
      "\n",
      "Increase the number of iterations (max_iter) or scale the data as shown in:\n",
      "    https://scikit-learn.org/stable/modules/preprocessing.html\n",
      "Please also refer to the documentation for alternative solver options:\n",
      "    https://scikit-learn.org/stable/modules/linear_model.html#logistic-regression\n",
      "  extra_warning_msg=_LOGISTIC_SOLVER_CONVERGENCE_MSG)\n",
      "C:\\ProgramData\\Anaconda3\\lib\\site-packages\\sklearn\\linear_model\\_logistic.py:940: ConvergenceWarning: lbfgs failed to converge (status=1):\n",
      "STOP: TOTAL NO. of ITERATIONS REACHED LIMIT.\n",
      "\n",
      "Increase the number of iterations (max_iter) or scale the data as shown in:\n",
      "    https://scikit-learn.org/stable/modules/preprocessing.html\n",
      "Please also refer to the documentation for alternative solver options:\n",
      "    https://scikit-learn.org/stable/modules/linear_model.html#logistic-regression\n",
      "  extra_warning_msg=_LOGISTIC_SOLVER_CONVERGENCE_MSG)\n",
      "C:\\ProgramData\\Anaconda3\\lib\\site-packages\\sklearn\\linear_model\\_logistic.py:940: ConvergenceWarning: lbfgs failed to converge (status=1):\n",
      "STOP: TOTAL NO. of ITERATIONS REACHED LIMIT.\n",
      "\n",
      "Increase the number of iterations (max_iter) or scale the data as shown in:\n",
      "    https://scikit-learn.org/stable/modules/preprocessing.html\n",
      "Please also refer to the documentation for alternative solver options:\n",
      "    https://scikit-learn.org/stable/modules/linear_model.html#logistic-regression\n",
      "  extra_warning_msg=_LOGISTIC_SOLVER_CONVERGENCE_MSG)\n"
     ]
    },
    {
     "data": {
      "text/plain": [
       "LogisticRegressionCV(Cs=10, class_weight=None, cv=None, dual=False,\n",
       "                     fit_intercept=True, intercept_scaling=1.0, l1_ratios=None,\n",
       "                     max_iter=100, multi_class='multinomial', n_jobs=None,\n",
       "                     penalty='l2', random_state=None, refit=True, scoring=None,\n",
       "                     solver='lbfgs', tol=0.0001, verbose=0)"
      ]
     },
     "execution_count": 31,
     "metadata": {},
     "output_type": "execute_result"
    }
   ],
   "source": [
    "## Learn Classifier\n",
    "scaler = StandardScaler()\n",
    "clf = LogisticRegressionCV(multi_class = 'multinomial')\n",
    "scaler.fit(X_train)\n",
    "X_train_sds = scaler.transform(X_train)\n",
    "X_test_sds = scaler.transform(X_test)\n",
    "clf.fit(X_train_sds, y_train)"
   ]
  },
  {
   "cell_type": "code",
   "execution_count": 32,
   "metadata": {},
   "outputs": [
    {
     "name": "stdout",
     "output_type": "stream",
     "text": [
      "\u001b[1mConfusion Matrix\u001b[0m\n",
      "[[405   5   0]\n",
      " [  0 403   0]\n",
      " [  1   0 386]]\n",
      "\u001b[1mMetrics\u001b[0m\n",
      "ACC: 0.995\n",
      "BACC: 0.995\n",
      "F1_micro: 0.995\n",
      "F1_macro: 0.995\n",
      "AUROC_OVR: 0.999\n",
      "AUROC_OVO: 0.999\n",
      "Precisio_micro: 0.995\n",
      "Precisio_macro: 0.995\n",
      "Recall_micro: 0.995\n",
      "Recall_macro: 0.995\n"
     ]
    }
   ],
   "source": [
    "### Test within batch\n",
    "from sklearn.metrics import confusion_matrix, accuracy_score, balanced_accuracy_score, f1_score, roc_auc_score, precision_score, recall_score\n",
    "yp_test = clf.predict(X_test_sds)\n",
    "ys_test = clf.predict_proba(X_test_sds)\n",
    "\n",
    "print('\\033[1m' + 'Confusion Matrix' + '\\033[0m')\n",
    "print(confusion_matrix(y_test, yp_test))\n",
    "\n",
    "print('\\033[1m' + 'Metrics' + '\\033[0m')\n",
    "print('ACC: {}'.format(round(accuracy_score(y_test, yp_test), 3)))\n",
    "print('BACC: {}'.format(round(balanced_accuracy_score(y_test, yp_test), 3)))\n",
    "print('F1_micro: {}'.format(round(f1_score(y_test, yp_test, average='micro'),3)))\n",
    "print('F1_macro: {}'.format(round(f1_score(y_test, yp_test, average='macro'),3)))\n",
    "print('AUROC_OVR: {}'.format(round(roc_auc_score(y_test, ys_test, multi_class='ovr'),3)))\n",
    "print('AUROC_OVO: {}'.format(round(roc_auc_score(y_test, ys_test, multi_class='ovo'),3)))\n",
    "print('Precisio_micro: {}'.format(round(precision_score(y_test, yp_test, average='micro'),3)))\n",
    "print('Precisio_macro: {}'.format(round(precision_score(y_test, yp_test, average='macro'),3)))\n",
    "print('Recall_micro: {}'.format(round(recall_score(y_test, yp_test, average='micro'),3)))\n",
    "print('Recall_macro: {}'.format(round(recall_score(y_test, yp_test, average='macro'),3)))"
   ]
  },
  {
   "cell_type": "code",
   "execution_count": 33,
   "metadata": {},
   "outputs": [],
   "source": [
    "LR_CV_devset_res = [round(accuracy_score(y_test, yp_test), 3), round(balanced_accuracy_score(y_test, yp_test), 3),\n",
    "                 round(f1_score(y_test, yp_test, average='micro'),3), round(f1_score(y_test, yp_test, average='macro'),3),\n",
    "                 round(roc_auc_score(y_test, ys_test, multi_class='ovr'),3), round(roc_auc_score(y_test, ys_test, multi_class='ovo'),3),\n",
    "                 round(precision_score(y_test, yp_test, average='micro'),3), round(precision_score(y_test, yp_test, average='macro'),3),\n",
    "                 round(recall_score(y_test, yp_test, average='micro'),3), round(recall_score(y_test, yp_test, average='macro'),3)]"
   ]
  },
  {
   "cell_type": "code",
   "execution_count": 34,
   "metadata": {},
   "outputs": [
    {
     "name": "stdout",
     "output_type": "stream",
     "text": [
      "\u001b[1mConfusion Matrix\u001b[0m\n",
      "[[ 713  175  612]\n",
      " [ 798  702    0]\n",
      " [   1    0 1499]]\n",
      "\u001b[1mMetrics\u001b[0m\n",
      "ACC: 0.648\n",
      "BACC: 0.648\n",
      "F1_micro: 0.648\n",
      "F1_macro: 0.631\n",
      "AUROC_OVR: 0.867\n",
      "AUROC_OVO: 0.867\n",
      "Precisio_micro: 0.648\n",
      "Precisio_macro: 0.661\n",
      "Recall_micro: 0.648\n",
      "Recall_macro: 0.648\n"
     ]
    }
   ],
   "source": [
    "### Independent Test Result\n",
    "X_tset_sds = scaler.transform(X_tset)\n",
    "yp_test = clf.predict(X_tset_sds)\n",
    "ys_test = clf.predict_proba(X_tset_sds)\n",
    "\n",
    "print('\\033[1m' + 'Confusion Matrix' + '\\033[0m')\n",
    "print(confusion_matrix(y_tset, yp_test))\n",
    "\n",
    "print('\\033[1m' + 'Metrics' + '\\033[0m')\n",
    "print('ACC: {}'.format(round(accuracy_score(y_tset, yp_test), 3)))\n",
    "print('BACC: {}'.format(round(balanced_accuracy_score(y_tset, yp_test), 3)))\n",
    "print('F1_micro: {}'.format(round(f1_score(y_tset, yp_test, average='micro'),3)))\n",
    "print('F1_macro: {}'.format(round(f1_score(y_tset, yp_test, average='macro'),3)))\n",
    "print('AUROC_OVR: {}'.format(round(roc_auc_score(y_tset, ys_test, multi_class='ovr'),3)))\n",
    "print('AUROC_OVO: {}'.format(round(roc_auc_score(y_tset, ys_test, multi_class='ovo'),3)))\n",
    "print('Precisio_micro: {}'.format(round(precision_score(y_tset, yp_test, average='micro'),3)))\n",
    "print('Precisio_macro: {}'.format(round(precision_score(y_tset, yp_test, average='macro'),3)))\n",
    "print('Recall_micro: {}'.format(round(recall_score(y_tset, yp_test, average='micro'),3)))\n",
    "print('Recall_macro: {}'.format(round(recall_score(y_tset, yp_test, average='macro'),3)))"
   ]
  },
  {
   "cell_type": "code",
   "execution_count": 35,
   "metadata": {},
   "outputs": [],
   "source": [
    "LR_CV_indset_res = [round(accuracy_score(y_tset, yp_test), 3), round(balanced_accuracy_score(y_tset, yp_test), 3),\n",
    "                 round(f1_score(y_tset, yp_test, average='micro'),3), round(f1_score(y_tset, yp_test, average='macro'),3),\n",
    "                 round(roc_auc_score(y_tset, ys_test, multi_class='ovr'),3), round(roc_auc_score(y_tset, ys_test, multi_class='ovo'),3),\n",
    "                 round(precision_score(y_tset, yp_test, average='micro'),3), round(precision_score(y_tset, yp_test, average='macro'),3),\n",
    "                 round(recall_score(y_tset, yp_test, average='micro'),3), round(recall_score(y_tset, yp_test, average='macro'),3)]"
   ]
  },
  {
   "cell_type": "code",
   "execution_count": 36,
   "metadata": {},
   "outputs": [],
   "source": [
    "outF = open(fileout, \"a\")\n",
    "outF.write(\"Logistic_Regression_CV, \")\n",
    "outF.write(\"ACC, BACC, F1_micro, F1_macro, AUROC_OVR, AUROC_OVO, Precision_micro, Precision_macro, Recall_micro, Recall_macro\\n\")\n",
    "outF.write('DevSet, ')\n",
    "outF.write(', '.join(map(str, LR_CV_devset_res)))\n",
    "outF.write('\\n')\n",
    "outF.write('IndSet, ')\n",
    "outF.write(', '.join(map(str, LR_CV_indset_res)))\n",
    "outF.write('\\n')\n",
    "outF.close()"
   ]
  },
  {
   "cell_type": "markdown",
   "metadata": {},
   "source": [
    "### 3.4 MLP"
   ]
  },
  {
   "cell_type": "code",
   "execution_count": 37,
   "metadata": {},
   "outputs": [],
   "source": [
    "from sklearn.preprocessing import StandardScaler\n",
    "from sklearn.neural_network import MLPClassifier"
   ]
  },
  {
   "cell_type": "code",
   "execution_count": 38,
   "metadata": {},
   "outputs": [
    {
     "data": {
      "text/plain": [
       "MLPClassifier(activation='relu', alpha=0.0001, batch_size='auto', beta_1=0.9,\n",
       "              beta_2=0.999, early_stopping=False, epsilon=1e-08,\n",
       "              hidden_layer_sizes=(100,), learning_rate='constant',\n",
       "              learning_rate_init=0.001, max_fun=15000, max_iter=200,\n",
       "              momentum=0.9, n_iter_no_change=10, nesterovs_momentum=True,\n",
       "              power_t=0.5, random_state=None, shuffle=True, solver='adam',\n",
       "              tol=0.0001, validation_fraction=0.1, verbose=False,\n",
       "              warm_start=False)"
      ]
     },
     "execution_count": 38,
     "metadata": {},
     "output_type": "execute_result"
    }
   ],
   "source": [
    "## Learn Classifier\n",
    "scaler = StandardScaler()\n",
    "clf = MLPClassifier()\n",
    "scaler.fit(X_train)\n",
    "X_train_sds = scaler.transform(X_train)\n",
    "X_test_sds = scaler.transform(X_test)\n",
    "clf.fit(X_train_sds, y_train)"
   ]
  },
  {
   "cell_type": "code",
   "execution_count": 39,
   "metadata": {},
   "outputs": [
    {
     "name": "stdout",
     "output_type": "stream",
     "text": [
      "\u001b[1mConfusion Matrix\u001b[0m\n",
      "[[407   3   0]\n",
      " [  0 402   1]\n",
      " [  0   0 387]]\n",
      "\u001b[1mMetrics\u001b[0m\n",
      "ACC: 0.997\n",
      "BACC: 0.997\n",
      "F1_micro: 0.997\n",
      "F1_macro: 0.997\n",
      "AUROC_OVR: 1.0\n",
      "AUROC_OVO: 1.0\n",
      "Precisio_micro: 0.997\n",
      "Precisio_macro: 0.997\n",
      "Recall_micro: 0.997\n",
      "Recall_macro: 0.997\n"
     ]
    }
   ],
   "source": [
    "### Test within batch\n",
    "from sklearn.metrics import confusion_matrix, accuracy_score, balanced_accuracy_score, f1_score, roc_auc_score, precision_score, recall_score\n",
    "yp_test = clf.predict(X_test_sds)\n",
    "ys_test = clf.predict_proba(X_test_sds)\n",
    "\n",
    "print('\\033[1m' + 'Confusion Matrix' + '\\033[0m')\n",
    "print(confusion_matrix(y_test, yp_test))\n",
    "\n",
    "print('\\033[1m' + 'Metrics' + '\\033[0m')\n",
    "print('ACC: {}'.format(round(accuracy_score(y_test, yp_test), 3)))\n",
    "print('BACC: {}'.format(round(balanced_accuracy_score(y_test, yp_test), 3)))\n",
    "print('F1_micro: {}'.format(round(f1_score(y_test, yp_test, average='micro'),3)))\n",
    "print('F1_macro: {}'.format(round(f1_score(y_test, yp_test, average='macro'),3)))\n",
    "print('AUROC_OVR: {}'.format(round(roc_auc_score(y_test, ys_test, multi_class='ovr'),3)))\n",
    "print('AUROC_OVO: {}'.format(round(roc_auc_score(y_test, ys_test, multi_class='ovo'),3)))\n",
    "print('Precisio_micro: {}'.format(round(precision_score(y_test, yp_test, average='micro'),3)))\n",
    "print('Precisio_macro: {}'.format(round(precision_score(y_test, yp_test, average='macro'),3)))\n",
    "print('Recall_micro: {}'.format(round(recall_score(y_test, yp_test, average='micro'),3)))\n",
    "print('Recall_macro: {}'.format(round(recall_score(y_test, yp_test, average='macro'),3)))"
   ]
  },
  {
   "cell_type": "code",
   "execution_count": 40,
   "metadata": {},
   "outputs": [],
   "source": [
    "MLP_devset_res = [round(accuracy_score(y_test, yp_test), 3), round(balanced_accuracy_score(y_test, yp_test), 3),\n",
    "                 round(f1_score(y_test, yp_test, average='micro'),3), round(f1_score(y_test, yp_test, average='macro'),3),\n",
    "                 round(roc_auc_score(y_test, ys_test, multi_class='ovr'),3), round(roc_auc_score(y_test, ys_test, multi_class='ovo'),3),\n",
    "                 round(precision_score(y_test, yp_test, average='micro'),3), round(precision_score(y_test, yp_test, average='macro'),3),\n",
    "                 round(recall_score(y_test, yp_test, average='micro'),3), round(recall_score(y_test, yp_test, average='macro'),3)]"
   ]
  },
  {
   "cell_type": "code",
   "execution_count": 41,
   "metadata": {},
   "outputs": [
    {
     "name": "stdout",
     "output_type": "stream",
     "text": [
      "\u001b[1mConfusion Matrix\u001b[0m\n",
      "[[ 754  406  340]\n",
      " [1140  360    0]\n",
      " [   3    0 1497]]\n",
      "\u001b[1mMetrics\u001b[0m\n",
      "ACC: 0.58\n",
      "BACC: 0.58\n",
      "F1_micro: 0.58\n",
      "F1_macro: 0.553\n",
      "AUROC_OVR: 0.827\n",
      "AUROC_OVO: 0.827\n",
      "Precisio_micro: 0.58\n",
      "Precisio_macro: 0.561\n",
      "Recall_micro: 0.58\n",
      "Recall_macro: 0.58\n"
     ]
    }
   ],
   "source": [
    "### Independent Test Result\n",
    "X_tset_sds = scaler.transform(X_tset)\n",
    "yp_test = clf.predict(X_tset_sds)\n",
    "ys_test = clf.predict_proba(X_tset_sds)\n",
    "\n",
    "print('\\033[1m' + 'Confusion Matrix' + '\\033[0m')\n",
    "print(confusion_matrix(y_tset, yp_test))\n",
    "\n",
    "print('\\033[1m' + 'Metrics' + '\\033[0m')\n",
    "print('ACC: {}'.format(round(accuracy_score(y_tset, yp_test), 3)))\n",
    "print('BACC: {}'.format(round(balanced_accuracy_score(y_tset, yp_test), 3)))\n",
    "print('F1_micro: {}'.format(round(f1_score(y_tset, yp_test, average='micro'),3)))\n",
    "print('F1_macro: {}'.format(round(f1_score(y_tset, yp_test, average='macro'),3)))\n",
    "print('AUROC_OVR: {}'.format(round(roc_auc_score(y_tset, ys_test, multi_class='ovr'),3)))\n",
    "print('AUROC_OVO: {}'.format(round(roc_auc_score(y_tset, ys_test, multi_class='ovo'),3)))\n",
    "print('Precisio_micro: {}'.format(round(precision_score(y_tset, yp_test, average='micro'),3)))\n",
    "print('Precisio_macro: {}'.format(round(precision_score(y_tset, yp_test, average='macro'),3)))\n",
    "print('Recall_micro: {}'.format(round(recall_score(y_tset, yp_test, average='micro'),3)))\n",
    "print('Recall_macro: {}'.format(round(recall_score(y_tset, yp_test, average='macro'),3)))"
   ]
  },
  {
   "cell_type": "code",
   "execution_count": 42,
   "metadata": {},
   "outputs": [],
   "source": [
    "MLP_indset_res = [round(accuracy_score(y_tset, yp_test), 3), round(balanced_accuracy_score(y_tset, yp_test), 3),\n",
    "                 round(f1_score(y_tset, yp_test, average='micro'),3), round(f1_score(y_tset, yp_test, average='macro'),3),\n",
    "                 round(roc_auc_score(y_tset, ys_test, multi_class='ovr'),3), round(roc_auc_score(y_tset, ys_test, multi_class='ovo'),3),\n",
    "                 round(precision_score(y_tset, yp_test, average='micro'),3), round(precision_score(y_tset, yp_test, average='macro'),3),\n",
    "                 round(recall_score(y_tset, yp_test, average='micro'),3), round(recall_score(y_tset, yp_test, average='macro'),3)]"
   ]
  },
  {
   "cell_type": "code",
   "execution_count": 43,
   "metadata": {},
   "outputs": [],
   "source": [
    "outF = open(fileout, \"a\")\n",
    "outF.write(\"MLP, \")\n",
    "outF.write(\"ACC, BACC, F1_micro, F1_macro, AUROC_OVR, AUROC_OVO, Precision_micro, Precision_macro, Recall_micro, Recall_macro\\n\")\n",
    "outF.write('DevSet, ')\n",
    "outF.write(', '.join(map(str, MLP_devset_res)))\n",
    "outF.write('\\n')\n",
    "outF.write('IndSet, ')\n",
    "outF.write(', '.join(map(str, MLP_indset_res)))\n",
    "outF.write('\\n')\n",
    "outF.close()"
   ]
  },
  {
   "cell_type": "markdown",
   "metadata": {},
   "source": [
    "### 3.5 Random Forest"
   ]
  },
  {
   "cell_type": "code",
   "execution_count": 44,
   "metadata": {},
   "outputs": [],
   "source": [
    "from sklearn.preprocessing import StandardScaler\n",
    "from sklearn.ensemble import RandomForestClassifier"
   ]
  },
  {
   "cell_type": "code",
   "execution_count": 45,
   "metadata": {},
   "outputs": [
    {
     "data": {
      "text/plain": [
       "RandomForestClassifier(bootstrap=True, ccp_alpha=0.0, class_weight=None,\n",
       "                       criterion='gini', max_depth=None, max_features='auto',\n",
       "                       max_leaf_nodes=None, max_samples=None,\n",
       "                       min_impurity_decrease=0.0, min_impurity_split=None,\n",
       "                       min_samples_leaf=1, min_samples_split=2,\n",
       "                       min_weight_fraction_leaf=0.0, n_estimators=100,\n",
       "                       n_jobs=None, oob_score=False, random_state=None,\n",
       "                       verbose=0, warm_start=False)"
      ]
     },
     "execution_count": 45,
     "metadata": {},
     "output_type": "execute_result"
    }
   ],
   "source": [
    "## Learn Classifier\n",
    "scaler = StandardScaler()\n",
    "clf = RandomForestClassifier()\n",
    "scaler.fit(X_train)\n",
    "X_train_sds = scaler.transform(X_train)\n",
    "X_test_sds = scaler.transform(X_test)\n",
    "clf.fit(X_train_sds, y_train)"
   ]
  },
  {
   "cell_type": "code",
   "execution_count": 46,
   "metadata": {},
   "outputs": [
    {
     "name": "stdout",
     "output_type": "stream",
     "text": [
      "\u001b[1mConfusion Matrix\u001b[0m\n",
      "[[406   4   0]\n",
      " [  1 402   0]\n",
      " [  0   0 387]]\n",
      "\u001b[1mMetrics\u001b[0m\n",
      "ACC: 0.996\n",
      "BACC: 0.996\n",
      "F1_micro: 0.996\n",
      "F1_macro: 0.996\n",
      "AUROC_OVR: 1.0\n",
      "AUROC_OVO: 1.0\n",
      "Precisio_micro: 0.996\n",
      "Precisio_macro: 0.996\n",
      "Recall_micro: 0.996\n",
      "Recall_macro: 0.996\n"
     ]
    }
   ],
   "source": [
    "from sklearn.metrics import confusion_matrix, accuracy_score, balanced_accuracy_score, f1_score, roc_auc_score, precision_score, recall_score\n",
    "yp_test = clf.predict(X_test_sds)\n",
    "ys_test = clf.predict_proba(X_test_sds)\n",
    "\n",
    "print('\\033[1m' + 'Confusion Matrix' + '\\033[0m')\n",
    "print(confusion_matrix(y_test, yp_test))\n",
    "\n",
    "print('\\033[1m' + 'Metrics' + '\\033[0m')\n",
    "print('ACC: {}'.format(round(accuracy_score(y_test, yp_test), 3)))\n",
    "print('BACC: {}'.format(round(balanced_accuracy_score(y_test, yp_test), 3)))\n",
    "print('F1_micro: {}'.format(round(f1_score(y_test, yp_test, average='micro'),3)))\n",
    "print('F1_macro: {}'.format(round(f1_score(y_test, yp_test, average='macro'),3)))\n",
    "print('AUROC_OVR: {}'.format(round(roc_auc_score(y_test, ys_test, multi_class='ovr'),3)))\n",
    "print('AUROC_OVO: {}'.format(round(roc_auc_score(y_test, ys_test, multi_class='ovo'),3)))\n",
    "print('Precisio_micro: {}'.format(round(precision_score(y_test, yp_test, average='micro'),3)))\n",
    "print('Precisio_macro: {}'.format(round(precision_score(y_test, yp_test, average='macro'),3)))\n",
    "print('Recall_micro: {}'.format(round(recall_score(y_test, yp_test, average='micro'),3)))\n",
    "print('Recall_macro: {}'.format(round(recall_score(y_test, yp_test, average='macro'),3)))"
   ]
  },
  {
   "cell_type": "code",
   "execution_count": 47,
   "metadata": {},
   "outputs": [],
   "source": [
    "RF_devset_res = [round(accuracy_score(y_test, yp_test), 3), round(balanced_accuracy_score(y_test, yp_test), 3),\n",
    "                 round(f1_score(y_test, yp_test, average='micro'),3), round(f1_score(y_test, yp_test, average='macro'),3),\n",
    "                 round(roc_auc_score(y_test, ys_test, multi_class='ovr'),3), round(roc_auc_score(y_test, ys_test, multi_class='ovo'),3),\n",
    "                 round(precision_score(y_test, yp_test, average='micro'),3), round(precision_score(y_test, yp_test, average='macro'),3),\n",
    "                 round(recall_score(y_test, yp_test, average='micro'),3), round(recall_score(y_test, yp_test, average='macro'),3)]"
   ]
  },
  {
   "cell_type": "code",
   "execution_count": 48,
   "metadata": {},
   "outputs": [
    {
     "name": "stdout",
     "output_type": "stream",
     "text": [
      "\u001b[1mConfusion Matrix\u001b[0m\n",
      "[[ 882    5  613]\n",
      " [1040  416   44]\n",
      " [   0    0 1500]]\n",
      "\u001b[1mMetrics\u001b[0m\n",
      "ACC: 0.622\n",
      "BACC: 0.622\n",
      "F1_micro: 0.622\n",
      "F1_macro: 0.59\n",
      "AUROC_OVR: 0.897\n",
      "AUROC_OVO: 0.897\n",
      "Precisio_micro: 0.622\n",
      "Precisio_macro: 0.714\n",
      "Recall_micro: 0.622\n",
      "Recall_macro: 0.622\n"
     ]
    }
   ],
   "source": [
    "### Independent Test Result\n",
    "X_tset_sds = scaler.transform(X_tset)\n",
    "yp_test = clf.predict(X_tset_sds)\n",
    "ys_test = clf.predict_proba(X_tset_sds)\n",
    "\n",
    "print('\\033[1m' + 'Confusion Matrix' + '\\033[0m')\n",
    "print(confusion_matrix(y_tset, yp_test))\n",
    "\n",
    "print('\\033[1m' + 'Metrics' + '\\033[0m')\n",
    "print('ACC: {}'.format(round(accuracy_score(y_tset, yp_test), 3)))\n",
    "print('BACC: {}'.format(round(balanced_accuracy_score(y_tset, yp_test), 3)))\n",
    "print('F1_micro: {}'.format(round(f1_score(y_tset, yp_test, average='micro'),3)))\n",
    "print('F1_macro: {}'.format(round(f1_score(y_tset, yp_test, average='macro'),3)))\n",
    "print('AUROC_OVR: {}'.format(round(roc_auc_score(y_tset, ys_test, multi_class='ovr'),3)))\n",
    "print('AUROC_OVO: {}'.format(round(roc_auc_score(y_tset, ys_test, multi_class='ovo'),3)))\n",
    "print('Precisio_micro: {}'.format(round(precision_score(y_tset, yp_test, average='micro'),3)))\n",
    "print('Precisio_macro: {}'.format(round(precision_score(y_tset, yp_test, average='macro'),3)))\n",
    "print('Recall_micro: {}'.format(round(recall_score(y_tset, yp_test, average='micro'),3)))\n",
    "print('Recall_macro: {}'.format(round(recall_score(y_tset, yp_test, average='macro'),3)))"
   ]
  },
  {
   "cell_type": "code",
   "execution_count": 49,
   "metadata": {},
   "outputs": [],
   "source": [
    "RF_indset_res = [round(accuracy_score(y_tset, yp_test), 3), round(balanced_accuracy_score(y_tset, yp_test), 3),\n",
    "                 round(f1_score(y_tset, yp_test, average='micro'),3), round(f1_score(y_tset, yp_test, average='macro'),3),\n",
    "                 round(roc_auc_score(y_tset, ys_test, multi_class='ovr'),3), round(roc_auc_score(y_tset, ys_test, multi_class='ovo'),3),\n",
    "                 round(precision_score(y_tset, yp_test, average='micro'),3), round(precision_score(y_tset, yp_test, average='macro'),3),\n",
    "                 round(recall_score(y_tset, yp_test, average='micro'),3), round(recall_score(y_tset, yp_test, average='macro'),3)]"
   ]
  },
  {
   "cell_type": "code",
   "execution_count": 50,
   "metadata": {},
   "outputs": [],
   "source": [
    "outF = open(fileout, \"a\")\n",
    "outF.write(\"RandomForest, \")\n",
    "outF.write(\"ACC, BACC, F1_micro, F1_macro, AUROC_OVR, AUROC_OVO, Precision_micro, Precision_macro, Recall_micro, Recall_macro\\n\")\n",
    "outF.write('DevSet, ')\n",
    "outF.write(', '.join(map(str, RF_devset_res)))\n",
    "outF.write('\\n')\n",
    "outF.write('IndSet, ')\n",
    "outF.write(', '.join(map(str, RF_indset_res)))\n",
    "outF.write('\\n')\n",
    "outF.close()"
   ]
  },
  {
   "cell_type": "markdown",
   "metadata": {},
   "source": [
    "### 3.6 Linear SVM"
   ]
  },
  {
   "cell_type": "code",
   "execution_count": 51,
   "metadata": {},
   "outputs": [],
   "source": [
    "from sklearn.preprocessing import StandardScaler\n",
    "from sklearn.svm import SVC"
   ]
  },
  {
   "cell_type": "code",
   "execution_count": 52,
   "metadata": {
    "scrolled": true
   },
   "outputs": [
    {
     "data": {
      "text/plain": [
       "SVC(C=1.0, break_ties=False, cache_size=200, class_weight=None, coef0=0.0,\n",
       "    decision_function_shape='ovr', degree=3, gamma='scale', kernel='linear',\n",
       "    max_iter=-1, probability=True, random_state=None, shrinking=True, tol=0.001,\n",
       "    verbose=False)"
      ]
     },
     "execution_count": 52,
     "metadata": {},
     "output_type": "execute_result"
    }
   ],
   "source": [
    "## Learn Classifier\n",
    "scaler = StandardScaler()\n",
    "clf = SVC(kernel = 'linear', probability=True)\n",
    "scaler.fit(X_train)\n",
    "X_train_sds = scaler.transform(X_train)\n",
    "X_test_sds = scaler.transform(X_test)\n",
    "clf.fit(X_train_sds, y_train)"
   ]
  },
  {
   "cell_type": "code",
   "execution_count": 53,
   "metadata": {
    "scrolled": true
   },
   "outputs": [
    {
     "name": "stdout",
     "output_type": "stream",
     "text": [
      "\u001b[1mConfusion Matrix\u001b[0m\n",
      "[[408   2   0]\n",
      " [  0 403   0]\n",
      " [  1   0 386]]\n",
      "\u001b[1mMetrics\u001b[0m\n",
      "ACC: 0.998\n",
      "BACC: 0.998\n",
      "F1_micro: 0.998\n",
      "F1_macro: 0.998\n",
      "AUROC_OVR: 1.0\n",
      "AUROC_OVO: 1.0\n",
      "Precisio_micro: 0.998\n",
      "Precisio_macro: 0.998\n",
      "Recall_micro: 0.998\n",
      "Recall_macro: 0.998\n"
     ]
    }
   ],
   "source": [
    "from sklearn.metrics import confusion_matrix, accuracy_score, balanced_accuracy_score, f1_score, roc_auc_score, precision_score, recall_score\n",
    "yp_test = clf.predict(X_test_sds)\n",
    "ys_test = clf.predict_proba(X_test_sds)\n",
    "\n",
    "print('\\033[1m' + 'Confusion Matrix' + '\\033[0m')\n",
    "print(confusion_matrix(y_test, yp_test))\n",
    "\n",
    "print('\\033[1m' + 'Metrics' + '\\033[0m')\n",
    "print('ACC: {}'.format(round(accuracy_score(y_test, yp_test), 3)))\n",
    "print('BACC: {}'.format(round(balanced_accuracy_score(y_test, yp_test), 3)))\n",
    "print('F1_micro: {}'.format(round(f1_score(y_test, yp_test, average='micro'),3)))\n",
    "print('F1_macro: {}'.format(round(f1_score(y_test, yp_test, average='macro'),3)))\n",
    "print('AUROC_OVR: {}'.format(round(roc_auc_score(y_test, ys_test, multi_class='ovr'),3)))\n",
    "print('AUROC_OVO: {}'.format(round(roc_auc_score(y_test, ys_test, multi_class='ovo'),3)))\n",
    "print('Precisio_micro: {}'.format(round(precision_score(y_test, yp_test, average='micro'),3)))\n",
    "print('Precisio_macro: {}'.format(round(precision_score(y_test, yp_test, average='macro'),3)))\n",
    "print('Recall_micro: {}'.format(round(recall_score(y_test, yp_test, average='micro'),3)))\n",
    "print('Recall_macro: {}'.format(round(recall_score(y_test, yp_test, average='macro'),3)))"
   ]
  },
  {
   "cell_type": "code",
   "execution_count": 54,
   "metadata": {},
   "outputs": [],
   "source": [
    "LinSVM_devset_res = [round(accuracy_score(y_test, yp_test), 3), round(balanced_accuracy_score(y_test, yp_test), 3),\n",
    "                 round(f1_score(y_test, yp_test, average='micro'),3), round(f1_score(y_test, yp_test, average='macro'),3),\n",
    "                 round(roc_auc_score(y_test, ys_test, multi_class='ovr'),3), round(roc_auc_score(y_test, ys_test, multi_class='ovo'),3),\n",
    "                 round(precision_score(y_test, yp_test, average='micro'),3), round(precision_score(y_test, yp_test, average='macro'),3),\n",
    "                 round(recall_score(y_test, yp_test, average='micro'),3), round(recall_score(y_test, yp_test, average='macro'),3)]"
   ]
  },
  {
   "cell_type": "code",
   "execution_count": 55,
   "metadata": {},
   "outputs": [
    {
     "name": "stdout",
     "output_type": "stream",
     "text": [
      "\u001b[1mConfusion Matrix\u001b[0m\n",
      "[[ 935  201  364]\n",
      " [ 701  799    0]\n",
      " [   1    0 1499]]\n",
      "\u001b[1mMetrics\u001b[0m\n",
      "ACC: 0.718\n",
      "BACC: 0.718\n",
      "F1_micro: 0.718\n",
      "F1_macro: 0.709\n",
      "AUROC_OVR: 0.872\n",
      "AUROC_OVO: 0.872\n",
      "Precisio_micro: 0.718\n",
      "Precisio_macro: 0.725\n",
      "Recall_micro: 0.718\n",
      "Recall_macro: 0.718\n"
     ]
    }
   ],
   "source": [
    "### Independent Test Result\n",
    "X_tset_sds = scaler.transform(X_tset)\n",
    "yp_test = clf.predict(X_tset_sds)\n",
    "ys_test = clf.predict_proba(X_tset_sds)\n",
    "\n",
    "print('\\033[1m' + 'Confusion Matrix' + '\\033[0m')\n",
    "print(confusion_matrix(y_tset, yp_test))\n",
    "\n",
    "print('\\033[1m' + 'Metrics' + '\\033[0m')\n",
    "print('ACC: {}'.format(round(accuracy_score(y_tset, yp_test), 3)))\n",
    "print('BACC: {}'.format(round(balanced_accuracy_score(y_tset, yp_test), 3)))\n",
    "print('F1_micro: {}'.format(round(f1_score(y_tset, yp_test, average='micro'),3)))\n",
    "print('F1_macro: {}'.format(round(f1_score(y_tset, yp_test, average='macro'),3)))\n",
    "print('AUROC_OVR: {}'.format(round(roc_auc_score(y_tset, ys_test, multi_class='ovr'),3)))\n",
    "print('AUROC_OVO: {}'.format(round(roc_auc_score(y_tset, ys_test, multi_class='ovo'),3)))\n",
    "print('Precisio_micro: {}'.format(round(precision_score(y_tset, yp_test, average='micro'),3)))\n",
    "print('Precisio_macro: {}'.format(round(precision_score(y_tset, yp_test, average='macro'),3)))\n",
    "print('Recall_micro: {}'.format(round(recall_score(y_tset, yp_test, average='micro'),3)))\n",
    "print('Recall_macro: {}'.format(round(recall_score(y_tset, yp_test, average='macro'),3)))"
   ]
  },
  {
   "cell_type": "code",
   "execution_count": 56,
   "metadata": {},
   "outputs": [],
   "source": [
    "LinSVM_indset_res = [round(accuracy_score(y_tset, yp_test), 3), round(balanced_accuracy_score(y_tset, yp_test), 3),\n",
    "                 round(f1_score(y_tset, yp_test, average='micro'),3), round(f1_score(y_tset, yp_test, average='macro'),3),\n",
    "                 round(roc_auc_score(y_tset, ys_test, multi_class='ovr'),3), round(roc_auc_score(y_tset, ys_test, multi_class='ovo'),3),\n",
    "                 round(precision_score(y_tset, yp_test, average='micro'),3), round(precision_score(y_tset, yp_test, average='macro'),3),\n",
    "                 round(recall_score(y_tset, yp_test, average='micro'),3), round(recall_score(y_tset, yp_test, average='macro'),3)]"
   ]
  },
  {
   "cell_type": "code",
   "execution_count": 57,
   "metadata": {},
   "outputs": [],
   "source": [
    "outF = open(fileout, \"a\")\n",
    "outF.write(\"Linear_SVM, \")\n",
    "outF.write(\"ACC, BACC, F1_micro, F1_macro, AUROC_OVR, AUROC_OVO, Precision_micro, Precision_macro, Recall_micro, Recall_macro\\n\")\n",
    "outF.write('DevSet, ')\n",
    "outF.write(', '.join(map(str, LinSVM_devset_res)))\n",
    "outF.write('\\n')\n",
    "outF.write('IndSet, ')\n",
    "outF.write(', '.join(map(str, LinSVM_indset_res)))\n",
    "outF.write('\\n')\n",
    "outF.close()"
   ]
  },
  {
   "cell_type": "markdown",
   "metadata": {},
   "source": [
    "### 3.7 RBF SVM (Nonlinear SVM)"
   ]
  },
  {
   "cell_type": "code",
   "execution_count": 58,
   "metadata": {},
   "outputs": [],
   "source": [
    "from sklearn.preprocessing import StandardScaler\n",
    "from sklearn.svm import SVC"
   ]
  },
  {
   "cell_type": "code",
   "execution_count": 59,
   "metadata": {},
   "outputs": [
    {
     "data": {
      "text/plain": [
       "SVC(C=1.0, break_ties=False, cache_size=200, class_weight=None, coef0=0.0,\n",
       "    decision_function_shape='ovr', degree=3, gamma='scale', kernel='rbf',\n",
       "    max_iter=-1, probability=True, random_state=None, shrinking=True, tol=0.001,\n",
       "    verbose=False)"
      ]
     },
     "execution_count": 59,
     "metadata": {},
     "output_type": "execute_result"
    }
   ],
   "source": [
    "## Learn Classifier\n",
    "scaler = StandardScaler()\n",
    "clf = SVC(kernel = 'rbf', probability=True)\n",
    "scaler.fit(X_train)\n",
    "X_train_sds = scaler.transform(X_train)\n",
    "X_test_sds = scaler.transform(X_test)\n",
    "clf.fit(X_train_sds, y_train)"
   ]
  },
  {
   "cell_type": "code",
   "execution_count": 60,
   "metadata": {},
   "outputs": [
    {
     "name": "stdout",
     "output_type": "stream",
     "text": [
      "\u001b[1mConfusion Matrix\u001b[0m\n",
      "[[342  38  30]\n",
      " [ 14 366  23]\n",
      " [  5  17 365]]\n",
      "\u001b[1mMetrics\u001b[0m\n",
      "ACC: 0.894\n",
      "BACC: 0.895\n",
      "F1_micro: 0.894\n",
      "F1_macro: 0.894\n",
      "AUROC_OVR: 0.978\n",
      "AUROC_OVO: 0.978\n",
      "Precisio_micro: 0.894\n",
      "Precisio_macro: 0.897\n",
      "Recall_micro: 0.894\n",
      "Recall_macro: 0.895\n"
     ]
    }
   ],
   "source": [
    "from sklearn.metrics import confusion_matrix, accuracy_score, balanced_accuracy_score, f1_score, roc_auc_score, precision_score, recall_score\n",
    "yp_test = clf.predict(X_test_sds)\n",
    "ys_test = clf.predict_proba(X_test_sds)\n",
    "\n",
    "print('\\033[1m' + 'Confusion Matrix' + '\\033[0m')\n",
    "print(confusion_matrix(y_test, yp_test))\n",
    "\n",
    "print('\\033[1m' + 'Metrics' + '\\033[0m')\n",
    "print('ACC: {}'.format(round(accuracy_score(y_test, yp_test), 3)))\n",
    "print('BACC: {}'.format(round(balanced_accuracy_score(y_test, yp_test), 3)))\n",
    "print('F1_micro: {}'.format(round(f1_score(y_test, yp_test, average='micro'),3)))\n",
    "print('F1_macro: {}'.format(round(f1_score(y_test, yp_test, average='macro'),3)))\n",
    "print('AUROC_OVR: {}'.format(round(roc_auc_score(y_test, ys_test, multi_class='ovr'),3)))\n",
    "print('AUROC_OVO: {}'.format(round(roc_auc_score(y_test, ys_test, multi_class='ovo'),3)))\n",
    "print('Precisio_micro: {}'.format(round(precision_score(y_test, yp_test, average='micro'),3)))\n",
    "print('Precisio_macro: {}'.format(round(precision_score(y_test, yp_test, average='macro'),3)))\n",
    "print('Recall_micro: {}'.format(round(recall_score(y_test, yp_test, average='micro'),3)))\n",
    "print('Recall_macro: {}'.format(round(recall_score(y_test, yp_test, average='macro'),3)))"
   ]
  },
  {
   "cell_type": "code",
   "execution_count": 61,
   "metadata": {},
   "outputs": [],
   "source": [
    "RBFSVM_devset_res = [round(accuracy_score(y_test, yp_test), 3), round(balanced_accuracy_score(y_test, yp_test), 3),\n",
    "                 round(f1_score(y_test, yp_test, average='micro'),3), round(f1_score(y_test, yp_test, average='macro'),3),\n",
    "                 round(roc_auc_score(y_test, ys_test, multi_class='ovr'),3), round(roc_auc_score(y_test, ys_test, multi_class='ovo'),3),\n",
    "                 round(precision_score(y_test, yp_test, average='micro'),3), round(precision_score(y_test, yp_test, average='macro'),3),\n",
    "                 round(recall_score(y_test, yp_test, average='micro'),3), round(recall_score(y_test, yp_test, average='macro'),3)]"
   ]
  },
  {
   "cell_type": "code",
   "execution_count": 62,
   "metadata": {},
   "outputs": [
    {
     "name": "stdout",
     "output_type": "stream",
     "text": [
      "\u001b[1mConfusion Matrix\u001b[0m\n",
      "[[ 735  386  379]\n",
      " [ 744  756    0]\n",
      " [   0    0 1500]]\n",
      "\u001b[1mMetrics\u001b[0m\n",
      "ACC: 0.665\n",
      "BACC: 0.665\n",
      "F1_micro: 0.665\n",
      "F1_macro: 0.651\n",
      "AUROC_OVR: 0.748\n",
      "AUROC_OVO: 0.748\n",
      "Precisio_micro: 0.665\n",
      "Precisio_macro: 0.652\n",
      "Recall_micro: 0.665\n",
      "Recall_macro: 0.665\n"
     ]
    }
   ],
   "source": [
    "### Independent Test Result\n",
    "X_tset_sds = scaler.transform(X_tset)\n",
    "yp_test = clf.predict(X_tset_sds)\n",
    "ys_test = clf.predict_proba(X_tset_sds)\n",
    "\n",
    "print('\\033[1m' + 'Confusion Matrix' + '\\033[0m')\n",
    "print(confusion_matrix(y_tset, yp_test))\n",
    "\n",
    "print('\\033[1m' + 'Metrics' + '\\033[0m')\n",
    "print('ACC: {}'.format(round(accuracy_score(y_tset, yp_test), 3)))\n",
    "print('BACC: {}'.format(round(balanced_accuracy_score(y_tset, yp_test), 3)))\n",
    "print('F1_micro: {}'.format(round(f1_score(y_tset, yp_test, average='micro'),3)))\n",
    "print('F1_macro: {}'.format(round(f1_score(y_tset, yp_test, average='macro'),3)))\n",
    "print('AUROC_OVR: {}'.format(round(roc_auc_score(y_tset, ys_test, multi_class='ovr'),3)))\n",
    "print('AUROC_OVO: {}'.format(round(roc_auc_score(y_tset, ys_test, multi_class='ovo'),3)))\n",
    "print('Precisio_micro: {}'.format(round(precision_score(y_tset, yp_test, average='micro'),3)))\n",
    "print('Precisio_macro: {}'.format(round(precision_score(y_tset, yp_test, average='macro'),3)))\n",
    "print('Recall_micro: {}'.format(round(recall_score(y_tset, yp_test, average='micro'),3)))\n",
    "print('Recall_macro: {}'.format(round(recall_score(y_tset, yp_test, average='macro'),3)))"
   ]
  },
  {
   "cell_type": "code",
   "execution_count": 63,
   "metadata": {},
   "outputs": [],
   "source": [
    "RBFSVM_indset_res = [round(accuracy_score(y_tset, yp_test), 3), round(balanced_accuracy_score(y_tset, yp_test), 3),\n",
    "                 round(f1_score(y_tset, yp_test, average='micro'),3), round(f1_score(y_tset, yp_test, average='macro'),3),\n",
    "                 round(roc_auc_score(y_tset, ys_test, multi_class='ovr'),3), round(roc_auc_score(y_tset, ys_test, multi_class='ovo'),3),\n",
    "                 round(precision_score(y_tset, yp_test, average='micro'),3), round(precision_score(y_tset, yp_test, average='macro'),3),\n",
    "                 round(recall_score(y_tset, yp_test, average='micro'),3), round(recall_score(y_tset, yp_test, average='macro'),3)]"
   ]
  },
  {
   "cell_type": "code",
   "execution_count": 64,
   "metadata": {},
   "outputs": [],
   "source": [
    "outF = open(fileout, \"a\")\n",
    "outF.write(\"RBF_SVM, \")\n",
    "outF.write(\"ACC, BACC, F1_micro, F1_macro, AUROC_OVR, AUROC_OVO, Precision_micro, Precision_macro, Recall_micro, Recall_macro\\n\")\n",
    "outF.write('DevSet, ')\n",
    "outF.write(', '.join(map(str, RBFSVM_devset_res)))\n",
    "outF.write('\\n')\n",
    "outF.write('IndSet, ')\n",
    "outF.write(', '.join(map(str, RBFSVM_indset_res)))\n",
    "outF.write('\\n')\n",
    "outF.close()"
   ]
  }
 ],
 "metadata": {
  "kernelspec": {
   "display_name": "Python 3",
   "language": "python",
   "name": "python3"
  },
  "language_info": {
   "codemirror_mode": {
    "name": "ipython",
    "version": 3
   },
   "file_extension": ".py",
   "mimetype": "text/x-python",
   "name": "python",
   "nbconvert_exporter": "python",
   "pygments_lexer": "ipython3",
   "version": "3.7.6"
  }
 },
 "nbformat": 4,
 "nbformat_minor": 4
}
