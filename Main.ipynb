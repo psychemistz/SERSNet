{
 "cells": [
  {
   "cell_type": "markdown",
   "metadata": {},
   "source": [
    "## Load Libraries & Datasets"
   ]
  },
  {
   "cell_type": "code",
   "execution_count": 1,
   "metadata": {},
   "outputs": [],
   "source": [
    "import numpy as np\n",
    "import pandas as pd\n",
    "from sklearn.datasets import load_iris\n",
    "from sklearn.linear_model import LogisticRegression\n",
    "from scipy.io import savemat\n",
    "\n",
    "from sklearn.model_selection import train_test_split\n",
    "from sklearn.svm import SVC, LinearSVC\n",
    "from sklearn.tree import DecisionTreeClassifier\n",
    "from sklearn.linear_model import LogisticRegression, SGDClassifier\n",
    "from sklearn.ensemble import RandomForestClassifier \n",
    "from sklearn.model_selection import cross_val_score, cross_validate\n",
    "from sklearn.neural_network import MLPClassifier\n",
    "from sklearn.naive_bayes import GaussianNB\n",
    "from keras.utils.np_utils import to_categorical\n",
    "\n",
    "from sklearn.metrics import confusion_matrix\n",
    "from sklearn.metrics import classification_report, accuracy_score, matthews_corrcoef, balanced_accuracy_score, precision_recall_fscore_support\n",
    "from sklearn.metrics import auc, average_precision_score, precision_recall_curve, roc_curve"
   ]
  },
  {
   "cell_type": "code",
   "execution_count": 2,
   "metadata": {},
   "outputs": [],
   "source": [
    "from keras.models import Model\n",
    "from keras.layers import Input, Dense, BatchNormalization, Dropout, Conv1D, Conv2D, MaxPooling2D, MaxPooling1D, Flatten\n",
    "from keras import optimizers\n",
    "from keras import metrics\n",
    "\n",
    "from keras import backend as K\n",
    "from keras.models import load_model\n",
    "from keras.callbacks import EarlyStopping\n",
    "from keras.callbacks import ModelCheckpoint\n",
    "from random import sample"
   ]
  },
  {
   "cell_type": "code",
   "execution_count": 3,
   "metadata": {},
   "outputs": [],
   "source": [
    "def prepare_dset(dset):\n",
    "    dset = pd.concat([pd.DataFrame(np.asarray(dset.conc > 0.01, dtype='int')).rename(columns={0:'label'}), \n",
    "           dset.iloc[:, 3:]], axis=1)\n",
    "    return dset"
   ]
  },
  {
   "cell_type": "code",
   "execution_count": 4,
   "metadata": {},
   "outputs": [],
   "source": [
    "## raw data\n",
    "r6g_b1_raw = pd.read_csv(\"./data_final/r6g_dset/r6g_batch1.csv\")\n",
    "r6g_b2_raw = pd.read_csv(\"./data_final/r6g_dset/r6g_batch2.csv\")\n",
    "r6g_b1_raw = prepare_dset(r6g_b1_raw)\n",
    "r6g_b2_raw = prepare_dset(r6g_b2_raw)\n",
    "\n",
    "## Power Spectrum Normalized\n",
    "r6g_b1_psn = pd.read_csv(\"./data_final/r6g_dset/r6g_psn_batch1.csv\")\n",
    "r6g_b2_psn = pd.read_csv(\"./data_final/r6g_dset/r6g_psn_batch2.csv\")\n",
    "r6g_b1_psn = prepare_dset(r6g_b1_psn)\n",
    "r6g_b2_psn = prepare_dset(r6g_b2_psn)\n",
    "\n",
    "## Batch Normalized\n",
    "r6g_b1_bn = pd.read_csv(\"./data_final/r6g_dset/r6g_bn_batch1.csv\")\n",
    "r6g_b2_bn = pd.read_csv(\"./data_final/r6g_dset/r6g_bn_batch2.csv\")\n",
    "r6g_b1_bn = prepare_dset(r6g_b1_bn)\n",
    "r6g_b2_bn = prepare_dset(r6g_b2_bn)"
   ]
  },
  {
   "cell_type": "markdown",
   "metadata": {},
   "source": [
    "## Define Util Functions"
   ]
  },
  {
   "cell_type": "code",
   "execution_count": 5,
   "metadata": {},
   "outputs": [],
   "source": [
    "## Define performance measures\n",
    "def yoden_index(y, y_pred):\n",
    "    tn, fp, fn, tp = confusion_matrix(y, y_pred, labels=[0,1]).ravel()\n",
    "    j = (tp/(tp+fn)) + (tn/(tn+fp)) - 1\n",
    "    return j\n",
    "\n",
    "def pmeasure(y, y_pred):\n",
    "    tn, fp, fn, tp = confusion_matrix(y, y_pred, labels=[0,1]).ravel()\n",
    "    sensitivity = tp / (tp + fn )\n",
    "    specificity = tn / (tn + fp)\n",
    "    f1score = (2 * tp) / (2 * tp + fp + fn)\n",
    "    return ({'Sensitivity': sensitivity, 'Specificity': specificity, 'F1-Score': f1score})\n",
    "\n",
    "def Show_Statistics(msg,mean_Stats, sd_Stats, sigfig):\n",
    "    print(msg.upper())\n",
    "    print(70*'-')\n",
    "    print('Accuracy:{} + {}'          .format(round(mean_Stats[0],sigfig), round(sd_Stats[0],sigfig)))\n",
    "    print('Sensitivity:{} + {} '      .format(round(mean_Stats[1],sigfig), round(sd_Stats[1],sigfig)))\n",
    "    print('Specificity:{} + {}'       .format(round(mean_Stats[2],sigfig), round(sd_Stats[2],sigfig)))\n",
    "    print('F1-Score:{} + {}'          .format(round(mean_Stats[3],sigfig), round(sd_Stats[3],sigfig)))\n",
    "    print('MCC:{} + {}'               .format(round(mean_Stats[4],sigfig), round(sd_Stats[4],sigfig)))\n",
    "    print('Balance Accuracy:{} + {}'  .format(round(mean_Stats[5],sigfig), round(sd_Stats[5],sigfig)))\n",
    "    print('Youden-Index:{} + {}'      .format(round(mean_Stats[6],sigfig), round(sd_Stats[6],sigfig)))\n",
    "    print('AUC:{} + {}'               .format(round(mean_Stats[7],sigfig), round(sd_Stats[7],sigfig)))\n",
    "    print('AUPR:{} + {}'              .format(round(mean_Stats[8],sigfig), round(sd_Stats[8],sigfig)))  \n",
    "    print(70*'-')\n",
    "\n",
    "def Calculate_Stats(y_actual,y_pred, y_score):\n",
    "    acc = accuracy_score(y_actual, y_pred)\n",
    "    sen = pmeasure(y_actual, y_pred)['Sensitivity']\n",
    "    spe = pmeasure(y_actual, y_pred)['Specificity']\n",
    "    f1 = pmeasure(y_actual, y_pred)['F1-Score']\n",
    "    mcc = matthews_corrcoef(y_actual, y_pred)\n",
    "    bacc = balanced_accuracy_score(y_actual, y_pred)\n",
    "    yi = yoden_index(y_actual, y_pred)\n",
    "    #auc = roc_auc_score(y_actual.argmax(axis=1), y_pred.argmax(axis=1))\n",
    "  \n",
    "    pre, rec, _ = precision_recall_curve(y_actual, y_score, pos_label=1)\n",
    "    fpr, tpr, _ = roc_curve(y_actual, y_score, pos_label=1)\n",
    "    auroc = auc(fpr, tpr)\n",
    "    aupr = auc(rec, pre)\n",
    "    \n",
    "    return acc, sen, spe, f1, mcc, bacc, yi, auroc, aupr  \n",
    "\n",
    "def label_by_th(y_pred, threshold=0.5):\n",
    "    y_pred_copy = y_pred.copy()\n",
    "    y_pred_copy[y_pred>= threshold] = 1 \n",
    "    y_pred_copy[y_pred<threshold] = 0 \n",
    "    return y_pred_copy\n",
    "\n",
    "def cutoff_youdens_j(fpr,tpr,thresholds):\n",
    "    j_scores = tpr-fpr\n",
    "    j_ordered = sorted(zip(j_scores,thresholds))\n",
    "    return j_ordered[-1][1]"
   ]
  },
  {
   "cell_type": "code",
   "execution_count": 6,
   "metadata": {},
   "outputs": [],
   "source": [
    "def get_perf_summary(dataset, model, type):\n",
    "    ## Prepare dataset\n",
    "    dataset.loc[dataset.label>=1,\"label\"]=1\n",
    "    \n",
    "    ## Datasets \n",
    "    [X, y_true] = np.array(dataset.iloc[:,1:]), np.array(dataset.iloc[:,0])\n",
    "    y_true = to_categorical(y_true)\n",
    "    if type==\"regression\":\n",
    "        y_score = model.predict(X, batch_size=1800, verbose=0)    \n",
    "    else:\n",
    "        y_score = model.predict(X, batch_size=1800, verbose=0)[:,1]\n",
    "    #y_score = model.predict(X,batch_size=1800, verbose=0)\n",
    "    #y_pred = to_categorical(get_label(y_score))      \n",
    "\n",
    "    # Optimal Threshold\n",
    "    fpr, tpr, thresholds_AUC = roc_curve(y_true.argmax(axis=1), y_score)\n",
    "    precision, recall, thresholds_AUPR = precision_recall_curve(y_true.argmax(axis=1),y_score)\n",
    "\n",
    "    ## Optimal Threshold metrics\n",
    "    distance = (1-fpr)**2+(1-tpr)**2\n",
    "    EERs = (1-recall)/(1-precision)\n",
    "    positive = sum(y_true.argmax(axis=1))\n",
    "    negative = y_true.shape[0]-positive\n",
    "    ratio = negative/positive\n",
    "    opt_t_AUC = thresholds_AUC[np.argmin(distance)]\n",
    "    opt_t_AUPR = thresholds_AUPR[np.argmin(np.abs(EERs-ratio))]\n",
    "    opt_yodens_j = cutoff_youdens_j(fpr, tpr, thresholds_AUC)        \n",
    "    y_pred_th = label_by_th(y_score, opt_yodens_j)\n",
    "    y_pred = to_categorical(y_pred_th)\n",
    "\n",
    "    print(confusion_matrix(y_true.argmax(axis=1), y_pred.argmax(axis=1), labels=[0,1]).ravel())    \n",
    "\n",
    "    ## Measures\n",
    "    t_acc, t_sen, t_spe, t_f1, t_mcc, t_bacc, t_yi, t_auc, t_aupr = Calculate_Stats(y_true, y_pred, y_score)\n",
    "\n",
    "    print(\"ACC: {}, Sen: {}, Spe: {}, F1: {}, MCC: {}, BACC: {}, YI: {}, AUC: {}, AUPR: {}\".format(t_acc, t_sen, t_spe, t_f1, t_mcc, t_bacc, t_yi, t_auc, t_aupr))"
   ]
  },
  {
   "cell_type": "markdown",
   "metadata": {},
   "source": [
    "## Define Classifiers"
   ]
  },
  {
   "cell_type": "code",
   "execution_count": 7,
   "metadata": {},
   "outputs": [],
   "source": [
    "def get_clf_res_ML(dev_dset, ind_test_dset, method):\n",
    "    num_Trials = 10    \n",
    "\n",
    "    # import warnings filter\n",
    "    from warnings import simplefilter\n",
    "    # ignore all future warnings\n",
    "    simplefilter(action='ignore', category=FutureWarning)\n",
    "    [DataX, LabelY] = np.array(dev_dset.iloc[:,1:]), np.array(dev_dset.iloc[:,0])    \n",
    "\n",
    "    Stats =[]\n",
    "    Stats_Ind =[]\n",
    "    for j in range(0, num_Trials):        \n",
    "        X_train, X_val, y_train, y_val =\\\n",
    "        train_test_split(DataX, LabelY, test_size=0.2, stratify = LabelY)\n",
    "        X_val, X_test, y_val, y_test =\\\n",
    "        train_test_split(X_val, y_val, test_size=0.5, stratify = y_val)\n",
    "\n",
    "        if method == \"LR\":\n",
    "            clf = LogisticRegression(random_state=0).fit(X_train, y_train)\n",
    "\n",
    "        elif method == \"LinSVM\":\n",
    "            clf = SVC(kernel = 'linear', probability=True).fit(X_train, y_train)\n",
    "\n",
    "        elif method == \"NB\":\n",
    "            clf = GaussianNB().fit(X_train, y_train)\n",
    "\n",
    "        elif method == \"DT\":\n",
    "            clf = DecisionTreeClassifier().fit(X_train, y_train)\n",
    "\n",
    "        elif method == \"MLP\":\n",
    "            clf = MLPClassifier().fit(X_train, y_train)\n",
    "\n",
    "        elif method == \"RF\":\n",
    "            clf = RandomForestClassifier().fit(X_train, y_train)\n",
    "\n",
    "        elif method == \"RBFSVM\":\n",
    "            clf = SVC(kernel = 'rbf', probability=True).fit(X_train, y_train)\n",
    "\n",
    "        else:\n",
    "            print(\"Please check avilable models\")\n",
    "            break;\n",
    "\n",
    "        y_train_pred = clf.predict(X_train)\n",
    "        y_train_score = clf.predict_proba(X_train)     \n",
    "        y_train_pred = to_categorical(y_train_score.argmax(axis=1))\n",
    "        y_train_score = y_train_score[:,1]\n",
    "\n",
    "        y_val_pred = clf.predict(X_val)\n",
    "        y_val_score = clf.predict_proba(X_val)     \n",
    "        y_val_pred = to_categorical(y_val_score.argmax(axis=1))\n",
    "        y_val_score = y_val_score[:,1]\n",
    "\n",
    "        y_test_pred = clf.predict(X_test)\n",
    "        y_test_score = clf.predict_proba(X_test) \n",
    "        y_test_pred = to_categorical(y_test_score.argmax(axis=1))\n",
    "        y_test_score = y_test_score[:,1] \n",
    "\n",
    "        print(confusion_matrix(y_test, y_test_pred.argmax(axis=1), labels=[0,1]).ravel())\n",
    "\n",
    "        y_train_pred = y_train_pred.argmax(axis=1)\n",
    "        y_val_pred = y_val_pred.argmax(axis=1)\n",
    "        y_test_pred = y_test_pred.argmax(axis=1)\n",
    "\n",
    "        ## Training Measures\n",
    "        tr_acc, tr_sen, tr_spe, tr_f1, tr_mcc, tr_bacc, tr_yi, tr_auc, tr_aupr = Calculate_Stats(y_train,y_train_pred, y_train_score);\n",
    "\n",
    "        ## Validation Measures\n",
    "        v_acc, v_sen, v_spe, v_f1, v_mcc, v_bacc, v_yi, v_auc, v_aupr = Calculate_Stats(y_val,y_val_pred, y_val_score);\n",
    "\n",
    "        ## Test Measures\n",
    "        t_acc, t_sen, t_spe, t_f1, t_mcc, t_bacc, t_yi, t_auc, t_aupr = Calculate_Stats(y_test,y_test_pred, y_test_score);\n",
    "\n",
    "        Stats.append([tr_acc, tr_sen, tr_spe, tr_f1, tr_mcc, tr_bacc, tr_yi, tr_auc, tr_aupr,\n",
    "                      v_acc, v_sen, v_spe, v_f1, v_mcc, v_bacc, v_yi, v_auc, v_aupr,\n",
    "                      t_acc, t_sen, t_spe, t_f1, t_mcc, t_bacc, t_yi, t_auc, t_aupr])  \n",
    "\n",
    "        print(' \\nTraining/ Validation / Test BACC :', tr_bacc,'/',v_bacc,'/',t_bacc,\n",
    "              ' \\nTraining/ Validation / Test Youden-index:', tr_yi,'/',v_yi,'/',t_yi,\n",
    "              ' \\nTraining/ Validation / Test MCC:', tr_mcc,'/',v_mcc,'/',t_mcc,\n",
    "              ' \\nTraining/ Validation / Test AUC:', tr_auc,'/',v_auc,'/',t_auc,\n",
    "              ' \\nTraining/ Validation / Test AUPR:', tr_aupr,'/',v_aupr,'/',t_aupr)    \n",
    "\n",
    "        ## Independent Test\n",
    "        [Xt1, Yt1] = np.array(ind_test_dset.iloc[:,1:]), np.array(ind_test_dset.iloc[:,0])\n",
    "\n",
    "        Yt1_pred = clf.predict(Xt1)\n",
    "        Yt1_score = clf.predict_proba(Xt1)\n",
    "\n",
    "        Stats_Ind.append(Calculate_Stats(Yt1, Yt1_pred, Yt1_score[:,1]))\n",
    "\n",
    "        print(Stats_Ind)\n",
    "    \n",
    "    return Stats, Stats_Ind"
   ]
  },
  {
   "cell_type": "code",
   "execution_count": 8,
   "metadata": {},
   "outputs": [],
   "source": [
    "def format_perf_mat(perf_list, model_type):\n",
    "    perf_tbl = pd.DataFrame(perf_list)\n",
    "    perf_tbl = pd.concat([perf_tbl, pd.DataFrame(np.repeat(model_type, len(perf_list)))], axis=1)\n",
    "    perf_tbl.columns = ['Accuracy', \"Sensitivity\", \"Specificity\", \"F1\", \"MCC\", \"BACC\", \n",
    "                        \"Yoden Index\", \"AUROC\", \"AUPR\", \"Model\"]    \n",
    "    return perf_tbl"
   ]
  },
  {
   "cell_type": "code",
   "execution_count": 9,
   "metadata": {},
   "outputs": [],
   "source": [
    "def get_all_clf_res(devset, indset, species, prep_method):\n",
    "    NB_cv, NB_ind = get_clf_res_ML(devset, indset, method='NB')\n",
    "    DT_cv, DT_ind = get_clf_res_ML(devset, indset, method='DT')\n",
    "    LR_cv, LR_ind = get_clf_res_ML(devset, indset, method='LR')\n",
    "    RF_cv, RF_ind = get_clf_res_ML(devset, indset, method='RF')\n",
    "    LinSVM_cv, LinSVM_ind = get_clf_res_ML(devset, indset, method='LinSVM')\n",
    "    RBFSVM_cv, RBFSVM_ind = get_clf_res_ML(devset, indset, method='RBFSVM')\n",
    "    MLP_cv, MLP_ind = get_clf_res_ML(devset, indset, method='MLP')\n",
    "    \n",
    "    fold_ind_perf = pd.concat([format_perf_mat(NB_ind, 'NB'), \n",
    "                               format_perf_mat(DT_ind, 'DT'), \n",
    "                               format_perf_mat(LR_ind, 'LR'),\n",
    "                               format_perf_mat(RF_ind, 'RF'), \n",
    "                               format_perf_mat(LinSVM_ind, 'LinSVM'),\n",
    "                               format_perf_mat(RBFSVM_ind, 'RBFSVM'),\n",
    "                               format_perf_mat(MLP_ind, 'MLP')], axis=0)\n",
    "\n",
    "    return fold_ind_perf"
   ]
  },
  {
   "cell_type": "markdown",
   "metadata": {},
   "source": [
    "## Train and Evaluate Performance of Models"
   ]
  },
  {
   "cell_type": "code",
   "execution_count": null,
   "metadata": {},
   "outputs": [
    {
     "name": "stdout",
     "output_type": "stream",
     "text": [
      "[50  0 45 55]\n",
      " \n",
      "Training/ Validation / Test BACC : 0.7725 / 0.81 / 0.775  \n",
      "Training/ Validation / Test Youden-index: 0.5449999999999999 / 0.6200000000000001 / 0.55  \n",
      "Training/ Validation / Test MCC: 0.533392497693673 / 0.5935256753272997 / 0.5380275868489703  \n",
      "Training/ Validation / Test AUC: 0.7830984375000001 / 0.845 / 0.79  \n",
      "Training/ Validation / Test AUPR: 0.9269810700630012 / 0.9483333333333333 / 0.9299999999999999\n",
      "[(0.6666666666666666, 1.0, 0.0, 0.8, 0.0, 0.5, 0.0, 0.5, 0.8333333333333333)]\n"
     ]
    },
    {
     "name": "stderr",
     "output_type": "stream",
     "text": [
      "/mnt/sypark0215/anaconda3/envs/sersnet/lib/python3.8/site-packages/sklearn/metrics/_classification.py:846: RuntimeWarning: invalid value encountered in double_scalars\n",
      "  mcc = cov_ytyp / np.sqrt(cov_ytyt * cov_ypyp)\n"
     ]
    },
    {
     "name": "stdout",
     "output_type": "stream",
     "text": [
      "[50  0 36 64]\n",
      " \n",
      "Training/ Validation / Test BACC : 0.7675000000000001 / 0.8049999999999999 / 0.8200000000000001  \n",
      "Training/ Validation / Test Youden-index: 0.5350000000000001 / 0.6099999999999999 / 0.6400000000000001  \n",
      "Training/ Validation / Test MCC: 0.5256866719148923 / 0.5854029631061695 / 0.6099942813304187  \n",
      "Training/ Validation / Test AUC: 0.7818390625000001 / 0.81 / 0.8300000000000001  \n",
      "Training/ Validation / Test AUPR: 0.9265420987711577 / 0.9366666666666666 / 0.9433333333333334\n",
      "[(0.6666666666666666, 1.0, 0.0, 0.8, 0.0, 0.5, 0.0, 0.5, 0.8333333333333333), (0.6666666666666666, 1.0, 0.0, 0.8, 0.0, 0.5, 0.0, 0.5, 0.8333333333333333)]\n"
     ]
    },
    {
     "name": "stderr",
     "output_type": "stream",
     "text": [
      "/mnt/sypark0215/anaconda3/envs/sersnet/lib/python3.8/site-packages/sklearn/metrics/_classification.py:846: RuntimeWarning: invalid value encountered in double_scalars\n",
      "  mcc = cov_ytyp / np.sqrt(cov_ytyt * cov_ypyp)\n"
     ]
    },
    {
     "name": "stdout",
     "output_type": "stream",
     "text": [
      "[50  0 38 62]\n",
      " \n",
      "Training/ Validation / Test BACC : 0.82875 / 0.835 / 0.81  \n",
      "Training/ Validation / Test Youden-index: 0.6575 / 0.6699999999999999 / 0.6200000000000001  \n",
      "Training/ Validation / Test MCC: 0.6246660829063245 / 0.6330904922904557 / 0.5935256753272997  \n",
      "Training/ Validation / Test AUC: 0.89 / 0.9036000000000001 / 0.875  \n",
      "Training/ Validation / Test AUPR: 0.9633333333333334 / 0.9639029229448172 / 0.9583333333333333\n",
      "[(0.6666666666666666, 1.0, 0.0, 0.8, 0.0, 0.5, 0.0, 0.5, 0.8333333333333333), (0.6666666666666666, 1.0, 0.0, 0.8, 0.0, 0.5, 0.0, 0.5, 0.8333333333333333), (0.6666666666666666, 1.0, 0.0, 0.8, 0.0, 0.5, 0.0, 0.5, 0.8333333333333333)]\n"
     ]
    },
    {
     "name": "stderr",
     "output_type": "stream",
     "text": [
      "/mnt/sypark0215/anaconda3/envs/sersnet/lib/python3.8/site-packages/sklearn/metrics/_classification.py:846: RuntimeWarning: invalid value encountered in double_scalars\n",
      "  mcc = cov_ytyp / np.sqrt(cov_ytyt * cov_ypyp)\n"
     ]
    },
    {
     "name": "stdout",
     "output_type": "stream",
     "text": [
      "[50  0 47 53]\n",
      " \n",
      "Training/ Validation / Test BACC : 0.78 / 0.76 / 0.765  \n",
      "Training/ Validation / Test Youden-index: 0.56 / 0.52 / 0.53  \n",
      "Training/ Validation / Test MCC: 0.5450468529082813 / 0.5150787536377128 / 0.5226814290642626  \n",
      "Training/ Validation / Test AUC: 0.7905984375 / 0.765 / 0.7849999999999999  \n",
      "Training/ Validation / Test AUPR: 0.9295104230388025 / 0.9216666666666666 / 0.9283333333333332\n",
      "[(0.6666666666666666, 1.0, 0.0, 0.8, 0.0, 0.5, 0.0, 0.5, 0.8333333333333333), (0.6666666666666666, 1.0, 0.0, 0.8, 0.0, 0.5, 0.0, 0.5, 0.8333333333333333), (0.6666666666666666, 1.0, 0.0, 0.8, 0.0, 0.5, 0.0, 0.5, 0.8333333333333333), (0.6666666666666666, 1.0, 0.0, 0.8, 0.0, 0.5, 0.0, 0.5, 0.8333333333333333)]\n"
     ]
    },
    {
     "name": "stderr",
     "output_type": "stream",
     "text": [
      "/mnt/sypark0215/anaconda3/envs/sersnet/lib/python3.8/site-packages/sklearn/metrics/_classification.py:846: RuntimeWarning: invalid value encountered in double_scalars\n",
      "  mcc = cov_ytyp / np.sqrt(cov_ytyt * cov_ypyp)\n"
     ]
    },
    {
     "name": "stdout",
     "output_type": "stream",
     "text": [
      "[50  0 51 49]\n",
      " \n",
      "Training/ Validation / Test BACC : 0.785625 / 0.73 / 0.745  \n",
      "Training/ Validation / Test Youden-index: 0.57125 / 0.45999999999999996 / 0.49  \n",
      "Training/ Validation / Test MCC: 0.5538681941565496 / 0.4702699715629801 / 0.49251828131120434  \n",
      "Training/ Validation / Test AUC: 0.7955984375 / 0.74 / 0.75  \n",
      "Training/ Validation / Test AUPR: 0.9311958355392636 / 0.9133333333333333 / 0.9166666666666666\n",
      "[(0.6666666666666666, 1.0, 0.0, 0.8, 0.0, 0.5, 0.0, 0.5, 0.8333333333333333), (0.6666666666666666, 1.0, 0.0, 0.8, 0.0, 0.5, 0.0, 0.5, 0.8333333333333333), (0.6666666666666666, 1.0, 0.0, 0.8, 0.0, 0.5, 0.0, 0.5, 0.8333333333333333), (0.6666666666666666, 1.0, 0.0, 0.8, 0.0, 0.5, 0.0, 0.5, 0.8333333333333333), (0.6666666666666666, 1.0, 0.0, 0.8, 0.0, 0.5, 0.0, 0.5, 0.8333333333333333)]\n"
     ]
    },
    {
     "name": "stderr",
     "output_type": "stream",
     "text": [
      "/mnt/sypark0215/anaconda3/envs/sersnet/lib/python3.8/site-packages/sklearn/metrics/_classification.py:846: RuntimeWarning: invalid value encountered in double_scalars\n",
      "  mcc = cov_ytyp / np.sqrt(cov_ytyt * cov_ypyp)\n"
     ]
    },
    {
     "name": "stdout",
     "output_type": "stream",
     "text": [
      "[50  0 45 55]\n",
      " \n",
      "Training/ Validation / Test BACC : 0.78125 / 0.74 / 0.775  \n",
      "Training/ Validation / Test Youden-index: 0.5625 / 0.48 / 0.55  \n",
      "Training/ Validation / Test MCC: 0.5470009921148326 / 0.48507125007266594 / 0.5380275868489703  \n",
      "Training/ Validation / Test AUC: 0.7924703125 / 0.75 / 0.7949999999999999  \n",
      "Training/ Validation / Test AUPR: 0.930137014721155 / 0.9166666666666666 / 0.9316666666666666\n",
      "[(0.6666666666666666, 1.0, 0.0, 0.8, 0.0, 0.5, 0.0, 0.5, 0.8333333333333333), (0.6666666666666666, 1.0, 0.0, 0.8, 0.0, 0.5, 0.0, 0.5, 0.8333333333333333), (0.6666666666666666, 1.0, 0.0, 0.8, 0.0, 0.5, 0.0, 0.5, 0.8333333333333333), (0.6666666666666666, 1.0, 0.0, 0.8, 0.0, 0.5, 0.0, 0.5, 0.8333333333333333), (0.6666666666666666, 1.0, 0.0, 0.8, 0.0, 0.5, 0.0, 0.5, 0.8333333333333333), (0.6666666666666666, 1.0, 0.0, 0.8, 0.0, 0.5, 0.0, 0.5, 0.8333333333333333)]\n"
     ]
    },
    {
     "name": "stderr",
     "output_type": "stream",
     "text": [
      "/mnt/sypark0215/anaconda3/envs/sersnet/lib/python3.8/site-packages/sklearn/metrics/_classification.py:846: RuntimeWarning: invalid value encountered in double_scalars\n",
      "  mcc = cov_ytyp / np.sqrt(cov_ytyt * cov_ypyp)\n"
     ]
    },
    {
     "name": "stdout",
     "output_type": "stream",
     "text": [
      "[50  0 36 64]\n",
      " \n",
      "Training/ Validation / Test BACC : 0.766875 / 0.81 / 0.8200000000000001  \n",
      "Training/ Validation / Test Youden-index: 0.53375 / 0.6200000000000001 / 0.6400000000000001  \n",
      "Training/ Validation / Test MCC: 0.5247268493080738 / 0.5935256753272997 / 0.6099942813304187  \n",
      "Training/ Validation / Test AUC: 0.7805906250000001 / 0.8200000000000001 / 0.8300000000000001  \n",
      "Training/ Validation / Test AUPR: 0.9261231714539732 / 0.94 / 0.9433333333333334\n",
      "[(0.6666666666666666, 1.0, 0.0, 0.8, 0.0, 0.5, 0.0, 0.5, 0.8333333333333333), (0.6666666666666666, 1.0, 0.0, 0.8, 0.0, 0.5, 0.0, 0.5, 0.8333333333333333), (0.6666666666666666, 1.0, 0.0, 0.8, 0.0, 0.5, 0.0, 0.5, 0.8333333333333333), (0.6666666666666666, 1.0, 0.0, 0.8, 0.0, 0.5, 0.0, 0.5, 0.8333333333333333), (0.6666666666666666, 1.0, 0.0, 0.8, 0.0, 0.5, 0.0, 0.5, 0.8333333333333333), (0.6666666666666666, 1.0, 0.0, 0.8, 0.0, 0.5, 0.0, 0.5, 0.8333333333333333), (0.6666666666666666, 1.0, 0.0, 0.8, 0.0, 0.5, 0.0, 0.5, 0.8333333333333333)]\n"
     ]
    },
    {
     "name": "stderr",
     "output_type": "stream",
     "text": [
      "/mnt/sypark0215/anaconda3/envs/sersnet/lib/python3.8/site-packages/sklearn/metrics/_classification.py:846: RuntimeWarning: invalid value encountered in double_scalars\n",
      "  mcc = cov_ytyp / np.sqrt(cov_ytyt * cov_ypyp)\n"
     ]
    },
    {
     "name": "stdout",
     "output_type": "stream",
     "text": [
      "[50  0 34 66]\n",
      " \n",
      "Training/ Validation / Test BACC : 0.829375 / 0.77 / 0.8300000000000001  \n",
      "Training/ Validation / Test Youden-index: 0.65875 / 0.54 / 0.6600000000000001  \n",
      "Training/ Validation / Test MCC: 0.6257239492172817 / 0.5244448920732585 / 0.6267831705280087  \n",
      "Training/ Validation / Test AUC: 0.893125 / 0.8482999999999999 / 0.895  \n",
      "Training/ Validation / Test AUPR: 0.964375 / 0.9438536239756105 / 0.965\n",
      "[(0.6666666666666666, 1.0, 0.0, 0.8, 0.0, 0.5, 0.0, 0.5, 0.8333333333333333), (0.6666666666666666, 1.0, 0.0, 0.8, 0.0, 0.5, 0.0, 0.5, 0.8333333333333333), (0.6666666666666666, 1.0, 0.0, 0.8, 0.0, 0.5, 0.0, 0.5, 0.8333333333333333), (0.6666666666666666, 1.0, 0.0, 0.8, 0.0, 0.5, 0.0, 0.5, 0.8333333333333333), (0.6666666666666666, 1.0, 0.0, 0.8, 0.0, 0.5, 0.0, 0.5, 0.8333333333333333), (0.6666666666666666, 1.0, 0.0, 0.8, 0.0, 0.5, 0.0, 0.5, 0.8333333333333333), (0.6666666666666666, 1.0, 0.0, 0.8, 0.0, 0.5, 0.0, 0.5, 0.8333333333333333), (0.6666666666666666, 1.0, 0.0, 0.8, 0.0, 0.5, 0.0, 0.5, 0.8333333333333333)]\n"
     ]
    },
    {
     "name": "stderr",
     "output_type": "stream",
     "text": [
      "/mnt/sypark0215/anaconda3/envs/sersnet/lib/python3.8/site-packages/sklearn/metrics/_classification.py:846: RuntimeWarning: invalid value encountered in double_scalars\n",
      "  mcc = cov_ytyp / np.sqrt(cov_ytyt * cov_ypyp)\n"
     ]
    },
    {
     "name": "stdout",
     "output_type": "stream",
     "text": [
      "[50  0 48 52]\n",
      " \n",
      "Training/ Validation / Test BACC : 0.78375 / 0.735 / 0.76  \n",
      "Training/ Validation / Test Youden-index: 0.5674999999999999 / 0.47 / 0.52  \n",
      "Training/ Validation / Test MCC: 0.5509197580846902 / 0.47765608946796145 / 0.5150787536377128  \n",
      "Training/ Validation / Test AUC: 0.792478125 / 0.74 / 0.775  \n",
      "Training/ Validation / Test AUPR: 0.9301507511175949 / 0.9133333333333333 / 0.925\n",
      "[(0.6666666666666666, 1.0, 0.0, 0.8, 0.0, 0.5, 0.0, 0.5, 0.8333333333333333), (0.6666666666666666, 1.0, 0.0, 0.8, 0.0, 0.5, 0.0, 0.5, 0.8333333333333333), (0.6666666666666666, 1.0, 0.0, 0.8, 0.0, 0.5, 0.0, 0.5, 0.8333333333333333), (0.6666666666666666, 1.0, 0.0, 0.8, 0.0, 0.5, 0.0, 0.5, 0.8333333333333333), (0.6666666666666666, 1.0, 0.0, 0.8, 0.0, 0.5, 0.0, 0.5, 0.8333333333333333), (0.6666666666666666, 1.0, 0.0, 0.8, 0.0, 0.5, 0.0, 0.5, 0.8333333333333333), (0.6666666666666666, 1.0, 0.0, 0.8, 0.0, 0.5, 0.0, 0.5, 0.8333333333333333), (0.6666666666666666, 1.0, 0.0, 0.8, 0.0, 0.5, 0.0, 0.5, 0.8333333333333333), (0.6666666666666666, 1.0, 0.0, 0.8, 0.0, 0.5, 0.0, 0.5, 0.8333333333333333)]\n"
     ]
    },
    {
     "name": "stderr",
     "output_type": "stream",
     "text": [
      "/mnt/sypark0215/anaconda3/envs/sersnet/lib/python3.8/site-packages/sklearn/metrics/_classification.py:846: RuntimeWarning: invalid value encountered in double_scalars\n",
      "  mcc = cov_ytyp / np.sqrt(cov_ytyt * cov_ypyp)\n"
     ]
    },
    {
     "name": "stdout",
     "output_type": "stream",
     "text": [
      "[50  0 42 58]\n",
      " \n",
      "Training/ Validation / Test BACC : 0.775 / 0.775 / 0.79  \n",
      "Training/ Validation / Test Youden-index: 0.55 / 0.55 / 0.5800000000000001  \n",
      "Training/ Validation / Test MCC: 0.5372641665831118 / 0.5380275868489703 / 0.5614422421802157  \n",
      "Training/ Validation / Test AUC: 0.784975 / 0.7849999999999999 / 0.81  \n",
      "Training/ Validation / Test AUPR: 0.9276163739743256 / 0.9283333333333332 / 0.9366666666666666\n",
      "[(0.6666666666666666, 1.0, 0.0, 0.8, 0.0, 0.5, 0.0, 0.5, 0.8333333333333333), (0.6666666666666666, 1.0, 0.0, 0.8, 0.0, 0.5, 0.0, 0.5, 0.8333333333333333), (0.6666666666666666, 1.0, 0.0, 0.8, 0.0, 0.5, 0.0, 0.5, 0.8333333333333333), (0.6666666666666666, 1.0, 0.0, 0.8, 0.0, 0.5, 0.0, 0.5, 0.8333333333333333), (0.6666666666666666, 1.0, 0.0, 0.8, 0.0, 0.5, 0.0, 0.5, 0.8333333333333333), (0.6666666666666666, 1.0, 0.0, 0.8, 0.0, 0.5, 0.0, 0.5, 0.8333333333333333), (0.6666666666666666, 1.0, 0.0, 0.8, 0.0, 0.5, 0.0, 0.5, 0.8333333333333333), (0.6666666666666666, 1.0, 0.0, 0.8, 0.0, 0.5, 0.0, 0.5, 0.8333333333333333), (0.6666666666666666, 1.0, 0.0, 0.8, 0.0, 0.5, 0.0, 0.5, 0.8333333333333333), (0.6666666666666666, 1.0, 0.0, 0.8, 0.0, 0.5, 0.0, 0.5, 0.8333333333333333)]\n"
     ]
    },
    {
     "name": "stderr",
     "output_type": "stream",
     "text": [
      "/mnt/sypark0215/anaconda3/envs/sersnet/lib/python3.8/site-packages/sklearn/metrics/_classification.py:846: RuntimeWarning: invalid value encountered in double_scalars\n",
      "  mcc = cov_ytyp / np.sqrt(cov_ytyt * cov_ypyp)\n"
     ]
    },
    {
     "name": "stdout",
     "output_type": "stream",
     "text": [
      "[ 49   1   0 100]\n",
      " \n",
      "Training/ Validation / Test BACC : 1.0 / 0.99 / 0.99  \n",
      "Training/ Validation / Test Youden-index: 1.0 / 0.98 / 0.98  \n",
      "Training/ Validation / Test MCC: 1.0 / 0.9850365626224087 / 0.9850365626224087  \n",
      "Training/ Validation / Test AUC: 1.0 / 0.99 / 0.99  \n",
      "Training/ Validation / Test AUPR: 1.0 / 0.995049504950495 / 0.995049504950495\n",
      "[(0.6666666666666666, 1.0, 0.0, 0.8, 0.0, 0.5, 0.0, 0.5, 0.8333333333333333)]\n"
     ]
    },
    {
     "name": "stderr",
     "output_type": "stream",
     "text": [
      "/mnt/sypark0215/anaconda3/envs/sersnet/lib/python3.8/site-packages/sklearn/metrics/_classification.py:846: RuntimeWarning: invalid value encountered in double_scalars\n",
      "  mcc = cov_ytyp / np.sqrt(cov_ytyt * cov_ypyp)\n"
     ]
    },
    {
     "name": "stdout",
     "output_type": "stream",
     "text": [
      "[ 46   4   0 100]\n",
      " \n",
      "Training/ Validation / Test BACC : 1.0 / 0.9550000000000001 / 0.96  \n",
      "Training/ Validation / Test Youden-index: 1.0 / 0.9100000000000001 / 0.9199999999999999  \n",
      "Training/ Validation / Test MCC: 1.0 / 0.9248234923741382 / 0.9405399431259602  \n",
      "Training/ Validation / Test AUC: 1.0 / 0.955 / 0.9600000000000001  \n",
      "Training/ Validation / Test AUPR: 1.0 / 0.978915857605178 / 0.9807692307692308\n",
      "[(0.6666666666666666, 1.0, 0.0, 0.8, 0.0, 0.5, 0.0, 0.5, 0.8333333333333333), (0.6653333333333333, 0.998, 0.0, 0.7990392313851081, -0.025837119466440094, 0.499, -0.0020000000000000018, 0.499, 0.8327774810858923)]\n",
      "[ 50   0   0 100]\n",
      " \n",
      "Training/ Validation / Test BACC : 1.0 / 0.99 / 1.0  \n",
      "Training/ Validation / Test Youden-index: 1.0 / 0.98 / 1.0  \n",
      "Training/ Validation / Test MCC: 1.0 / 0.9850365626224087 / 1.0  \n",
      "Training/ Validation / Test AUC: 1.0 / 0.99 / 1.0  \n",
      "Training/ Validation / Test AUPR: 1.0 / 0.995049504950495 / 1.0\n",
      "[(0.6666666666666666, 1.0, 0.0, 0.8, 0.0, 0.5, 0.0, 0.5, 0.8333333333333333), (0.6653333333333333, 0.998, 0.0, 0.7990392313851081, -0.025837119466440094, 0.499, -0.0020000000000000018, 0.499, 0.8327774810858923), (0.6666666666666666, 1.0, 0.0, 0.8, 0.0, 0.5, 0.0, 0.5, 0.8333333333333333)]\n"
     ]
    },
    {
     "name": "stderr",
     "output_type": "stream",
     "text": [
      "/mnt/sypark0215/anaconda3/envs/sersnet/lib/python3.8/site-packages/sklearn/metrics/_classification.py:846: RuntimeWarning: invalid value encountered in double_scalars\n",
      "  mcc = cov_ytyp / np.sqrt(cov_ytyt * cov_ypyp)\n"
     ]
    },
    {
     "name": "stdout",
     "output_type": "stream",
     "text": [
      "[47  3  1 99]\n",
      " \n",
      "Training/ Validation / Test BACC : 1.0 / 0.99 / 0.965  \n",
      "Training/ Validation / Test Youden-index: 1.0 / 0.98 / 0.9299999999999999  \n",
      "Training/ Validation / Test MCC: 1.0 / 0.9850365626224087 / 0.9398255470157904  \n",
      "Training/ Validation / Test AUC: 1.0 / 0.99 / 0.9649999999999999  \n",
      "Training/ Validation / Test AUPR: 1.0 / 0.995049504950495 / 0.9836274509803922\n",
      "[(0.6666666666666666, 1.0, 0.0, 0.8, 0.0, 0.5, 0.0, 0.5, 0.8333333333333333), (0.6653333333333333, 0.998, 0.0, 0.7990392313851081, -0.025837119466440094, 0.499, -0.0020000000000000018, 0.499, 0.8327774810858923), (0.6666666666666666, 1.0, 0.0, 0.8, 0.0, 0.5, 0.0, 0.5, 0.8333333333333333), (0.6666666666666666, 1.0, 0.0, 0.8, 0.0, 0.5, 0.0, 0.5, 0.8333333333333333)]\n"
     ]
    },
    {
     "name": "stderr",
     "output_type": "stream",
     "text": [
      "/mnt/sypark0215/anaconda3/envs/sersnet/lib/python3.8/site-packages/sklearn/metrics/_classification.py:846: RuntimeWarning: invalid value encountered in double_scalars\n",
      "  mcc = cov_ytyp / np.sqrt(cov_ytyt * cov_ypyp)\n"
     ]
    },
    {
     "name": "stdout",
     "output_type": "stream",
     "text": [
      "[ 48   2   0 100]\n",
      " \n",
      "Training/ Validation / Test BACC : 1.0 / 0.97 / 0.98  \n",
      "Training/ Validation / Test Youden-index: 1.0 / 0.94 / 0.96  \n",
      "Training/ Validation / Test MCC: 1.0 / 0.9553121789359229 / 0.9701425001453319  \n",
      "Training/ Validation / Test AUC: 1.0 / 0.97 / 0.98  \n",
      "Training/ Validation / Test AUPR: 1.0 / 0.9854368932038835 / 0.9901960784313726\n",
      "[(0.6666666666666666, 1.0, 0.0, 0.8, 0.0, 0.5, 0.0, 0.5, 0.8333333333333333), (0.6653333333333333, 0.998, 0.0, 0.7990392313851081, -0.025837119466440094, 0.499, -0.0020000000000000018, 0.499, 0.8327774810858923), (0.6666666666666666, 1.0, 0.0, 0.8, 0.0, 0.5, 0.0, 0.5, 0.8333333333333333), (0.6666666666666666, 1.0, 0.0, 0.8, 0.0, 0.5, 0.0, 0.5, 0.8333333333333333), (0.6666666666666666, 1.0, 0.0, 0.8, 0.0, 0.5, 0.0, 0.5, 0.8333333333333333)]\n"
     ]
    },
    {
     "name": "stderr",
     "output_type": "stream",
     "text": [
      "/mnt/sypark0215/anaconda3/envs/sersnet/lib/python3.8/site-packages/sklearn/metrics/_classification.py:846: RuntimeWarning: invalid value encountered in double_scalars\n",
      "  mcc = cov_ytyp / np.sqrt(cov_ytyt * cov_ypyp)\n"
     ]
    },
    {
     "name": "stdout",
     "output_type": "stream",
     "text": [
      "[49  1  1 99]\n",
      " \n",
      "Training/ Validation / Test BACC : 1.0 / 0.99 / 0.985  \n",
      "Training/ Validation / Test Youden-index: 1.0 / 0.98 / 0.97  \n",
      "Training/ Validation / Test MCC: 1.0 / 0.9850365626224087 / 0.97  \n",
      "Training/ Validation / Test AUC: 1.0 / 0.99 / 0.985  \n",
      "Training/ Validation / Test AUPR: 1.0 / 0.995049504950495 / 0.9933333333333333\n",
      "[(0.6666666666666666, 1.0, 0.0, 0.8, 0.0, 0.5, 0.0, 0.5, 0.8333333333333333), (0.6653333333333333, 0.998, 0.0, 0.7990392313851081, -0.025837119466440094, 0.499, -0.0020000000000000018, 0.499, 0.8327774810858923), (0.6666666666666666, 1.0, 0.0, 0.8, 0.0, 0.5, 0.0, 0.5, 0.8333333333333333), (0.6666666666666666, 1.0, 0.0, 0.8, 0.0, 0.5, 0.0, 0.5, 0.8333333333333333), (0.6666666666666666, 1.0, 0.0, 0.8, 0.0, 0.5, 0.0, 0.5, 0.8333333333333333), (0.6666666666666666, 1.0, 0.0, 0.8, 0.0, 0.5, 0.0, 0.5, 0.8333333333333333)]\n"
     ]
    },
    {
     "name": "stderr",
     "output_type": "stream",
     "text": [
      "/mnt/sypark0215/anaconda3/envs/sersnet/lib/python3.8/site-packages/sklearn/metrics/_classification.py:846: RuntimeWarning: invalid value encountered in double_scalars\n",
      "  mcc = cov_ytyp / np.sqrt(cov_ytyt * cov_ypyp)\n"
     ]
    },
    {
     "name": "stdout",
     "output_type": "stream",
     "text": [
      "[ 49   1   0 100]\n",
      " \n",
      "Training/ Validation / Test BACC : 1.0 / 1.0 / 0.99  \n",
      "Training/ Validation / Test Youden-index: 1.0 / 1.0 / 0.98  \n",
      "Training/ Validation / Test MCC: 1.0 / 1.0 / 0.9850365626224087  \n",
      "Training/ Validation / Test AUC: 1.0 / 1.0 / 0.99  \n",
      "Training/ Validation / Test AUPR: 1.0 / 1.0 / 0.995049504950495\n",
      "[(0.6666666666666666, 1.0, 0.0, 0.8, 0.0, 0.5, 0.0, 0.5, 0.8333333333333333), (0.6653333333333333, 0.998, 0.0, 0.7990392313851081, -0.025837119466440094, 0.499, -0.0020000000000000018, 0.499, 0.8327774810858923), (0.6666666666666666, 1.0, 0.0, 0.8, 0.0, 0.5, 0.0, 0.5, 0.8333333333333333), (0.6666666666666666, 1.0, 0.0, 0.8, 0.0, 0.5, 0.0, 0.5, 0.8333333333333333), (0.6666666666666666, 1.0, 0.0, 0.8, 0.0, 0.5, 0.0, 0.5, 0.8333333333333333), (0.6666666666666666, 1.0, 0.0, 0.8, 0.0, 0.5, 0.0, 0.5, 0.8333333333333333), (0.6666666666666666, 1.0, 0.0, 0.8, 0.0, 0.5, 0.0, 0.5, 0.8333333333333333)]\n"
     ]
    },
    {
     "name": "stderr",
     "output_type": "stream",
     "text": [
      "/mnt/sypark0215/anaconda3/envs/sersnet/lib/python3.8/site-packages/sklearn/metrics/_classification.py:846: RuntimeWarning: invalid value encountered in double_scalars\n",
      "  mcc = cov_ytyp / np.sqrt(cov_ytyt * cov_ypyp)\n"
     ]
    },
    {
     "name": "stdout",
     "output_type": "stream",
     "text": [
      "[ 44   6   0 100]\n",
      " \n",
      "Training/ Validation / Test BACC : 1.0 / 0.99 / 0.94  \n",
      "Training/ Validation / Test Youden-index: 1.0 / 0.98 / 0.8799999999999999  \n",
      "Training/ Validation / Test MCC: 1.0 / 0.9850365626224087 / 0.9111469032188404  \n",
      "Training/ Validation / Test AUC: 1.0 / 0.99 / 0.94  \n",
      "Training/ Validation / Test AUPR: 1.0 / 0.995049504950495 / 0.9716981132075472\n",
      "[(0.6666666666666666, 1.0, 0.0, 0.8, 0.0, 0.5, 0.0, 0.5, 0.8333333333333333), (0.6653333333333333, 0.998, 0.0, 0.7990392313851081, -0.025837119466440094, 0.499, -0.0020000000000000018, 0.499, 0.8327774810858923), (0.6666666666666666, 1.0, 0.0, 0.8, 0.0, 0.5, 0.0, 0.5, 0.8333333333333333), (0.6666666666666666, 1.0, 0.0, 0.8, 0.0, 0.5, 0.0, 0.5, 0.8333333333333333), (0.6666666666666666, 1.0, 0.0, 0.8, 0.0, 0.5, 0.0, 0.5, 0.8333333333333333), (0.6666666666666666, 1.0, 0.0, 0.8, 0.0, 0.5, 0.0, 0.5, 0.8333333333333333), (0.6666666666666666, 1.0, 0.0, 0.8, 0.0, 0.5, 0.0, 0.5, 0.8333333333333333), (0.6666666666666666, 1.0, 0.0, 0.8, 0.0, 0.5, 0.0, 0.5, 0.8333333333333333)]\n"
     ]
    },
    {
     "name": "stderr",
     "output_type": "stream",
     "text": [
      "/mnt/sypark0215/anaconda3/envs/sersnet/lib/python3.8/site-packages/sklearn/metrics/_classification.py:846: RuntimeWarning: invalid value encountered in double_scalars\n",
      "  mcc = cov_ytyp / np.sqrt(cov_ytyt * cov_ypyp)\n"
     ]
    },
    {
     "name": "stdout",
     "output_type": "stream",
     "text": [
      "[ 50   0   0 100]\n",
      " \n",
      "Training/ Validation / Test BACC : 1.0 / 1.0 / 1.0  \n",
      "Training/ Validation / Test Youden-index: 1.0 / 1.0 / 1.0  \n",
      "Training/ Validation / Test MCC: 1.0 / 1.0 / 1.0  \n",
      "Training/ Validation / Test AUC: 1.0 / 1.0 / 1.0  \n",
      "Training/ Validation / Test AUPR: 1.0 / 1.0 / 1.0\n",
      "[(0.6666666666666666, 1.0, 0.0, 0.8, 0.0, 0.5, 0.0, 0.5, 0.8333333333333333), (0.6653333333333333, 0.998, 0.0, 0.7990392313851081, -0.025837119466440094, 0.499, -0.0020000000000000018, 0.499, 0.8327774810858923), (0.6666666666666666, 1.0, 0.0, 0.8, 0.0, 0.5, 0.0, 0.5, 0.8333333333333333), (0.6666666666666666, 1.0, 0.0, 0.8, 0.0, 0.5, 0.0, 0.5, 0.8333333333333333), (0.6666666666666666, 1.0, 0.0, 0.8, 0.0, 0.5, 0.0, 0.5, 0.8333333333333333), (0.6666666666666666, 1.0, 0.0, 0.8, 0.0, 0.5, 0.0, 0.5, 0.8333333333333333), (0.6666666666666666, 1.0, 0.0, 0.8, 0.0, 0.5, 0.0, 0.5, 0.8333333333333333), (0.6666666666666666, 1.0, 0.0, 0.8, 0.0, 0.5, 0.0, 0.5, 0.8333333333333333), (0.6666666666666666, 1.0, 0.0, 0.8, 0.0, 0.5, 0.0, 0.5, 0.8333333333333333)]\n"
     ]
    },
    {
     "name": "stderr",
     "output_type": "stream",
     "text": [
      "/mnt/sypark0215/anaconda3/envs/sersnet/lib/python3.8/site-packages/sklearn/metrics/_classification.py:846: RuntimeWarning: invalid value encountered in double_scalars\n",
      "  mcc = cov_ytyp / np.sqrt(cov_ytyt * cov_ypyp)\n"
     ]
    },
    {
     "name": "stdout",
     "output_type": "stream",
     "text": [
      "[ 50   0   0 100]\n",
      " \n",
      "Training/ Validation / Test BACC : 1.0 / 0.97 / 1.0  \n",
      "Training/ Validation / Test Youden-index: 1.0 / 0.94 / 1.0  \n",
      "Training/ Validation / Test MCC: 1.0 / 0.9553121789359229 / 1.0  \n",
      "Training/ Validation / Test AUC: 1.0 / 0.97 / 1.0  \n",
      "Training/ Validation / Test AUPR: 1.0 / 0.9854368932038835 / 1.0\n",
      "[(0.6666666666666666, 1.0, 0.0, 0.8, 0.0, 0.5, 0.0, 0.5, 0.8333333333333333), (0.6653333333333333, 0.998, 0.0, 0.7990392313851081, -0.025837119466440094, 0.499, -0.0020000000000000018, 0.499, 0.8327774810858923), (0.6666666666666666, 1.0, 0.0, 0.8, 0.0, 0.5, 0.0, 0.5, 0.8333333333333333), (0.6666666666666666, 1.0, 0.0, 0.8, 0.0, 0.5, 0.0, 0.5, 0.8333333333333333), (0.6666666666666666, 1.0, 0.0, 0.8, 0.0, 0.5, 0.0, 0.5, 0.8333333333333333), (0.6666666666666666, 1.0, 0.0, 0.8, 0.0, 0.5, 0.0, 0.5, 0.8333333333333333), (0.6666666666666666, 1.0, 0.0, 0.8, 0.0, 0.5, 0.0, 0.5, 0.8333333333333333), (0.6666666666666666, 1.0, 0.0, 0.8, 0.0, 0.5, 0.0, 0.5, 0.8333333333333333), (0.6666666666666666, 1.0, 0.0, 0.8, 0.0, 0.5, 0.0, 0.5, 0.8333333333333333), (0.6666666666666666, 1.0, 0.0, 0.8, 0.0, 0.5, 0.0, 0.5, 0.8333333333333333)]\n",
      "[ 50   0   0 100]\n"
     ]
    },
    {
     "name": "stderr",
     "output_type": "stream",
     "text": [
      "/mnt/sypark0215/anaconda3/envs/sersnet/lib/python3.8/site-packages/sklearn/metrics/_classification.py:846: RuntimeWarning: invalid value encountered in double_scalars\n",
      "  mcc = cov_ytyp / np.sqrt(cov_ytyt * cov_ypyp)\n",
      "/mnt/sypark0215/anaconda3/envs/sersnet/lib/python3.8/site-packages/sklearn/metrics/_classification.py:846: RuntimeWarning: invalid value encountered in double_scalars\n",
      "  mcc = cov_ytyp / np.sqrt(cov_ytyt * cov_ypyp)\n"
     ]
    },
    {
     "name": "stdout",
     "output_type": "stream",
     "text": [
      " \n",
      "Training/ Validation / Test BACC : 1.0 / 1.0 / 1.0  \n",
      "Training/ Validation / Test Youden-index: 1.0 / 1.0 / 1.0  \n",
      "Training/ Validation / Test MCC: 1.0 / 1.0 / 1.0  \n",
      "Training/ Validation / Test AUC: 1.0 / 1.0 / 1.0  \n",
      "Training/ Validation / Test AUPR: 1.0 / 1.0 / 1.0\n",
      "[(0.6666666666666666, 1.0, 0.0, 0.8, 0.0, 0.5, 0.0, 0.87442, 0.9297723147516967)]\n",
      "[ 50   0   0 100]\n",
      " \n",
      "Training/ Validation / Test BACC : 1.0 / 1.0 / 1.0  \n",
      "Training/ Validation / Test Youden-index: 1.0 / 1.0 / 1.0  \n",
      "Training/ Validation / Test MCC: 1.0 / 1.0 / 1.0  \n",
      "Training/ Validation / Test AUC: 1.0 / 1.0 / 1.0  \n",
      "Training/ Validation / Test AUPR: 1.0 / 1.0 / 1.0\n"
     ]
    },
    {
     "name": "stderr",
     "output_type": "stream",
     "text": [
      "/mnt/sypark0215/anaconda3/envs/sersnet/lib/python3.8/site-packages/sklearn/metrics/_classification.py:846: RuntimeWarning: invalid value encountered in double_scalars\n",
      "  mcc = cov_ytyp / np.sqrt(cov_ytyt * cov_ypyp)\n",
      "/mnt/sypark0215/anaconda3/envs/sersnet/lib/python3.8/site-packages/sklearn/metrics/_classification.py:846: RuntimeWarning: invalid value encountered in double_scalars\n",
      "  mcc = cov_ytyp / np.sqrt(cov_ytyt * cov_ypyp)\n"
     ]
    },
    {
     "name": "stdout",
     "output_type": "stream",
     "text": [
      "[(0.6666666666666666, 1.0, 0.0, 0.8, 0.0, 0.5, 0.0, 0.87442, 0.9297723147516967), (0.6666666666666666, 1.0, 0.0, 0.8, 0.0, 0.5, 0.0, 0.879886, 0.9322700931624849)]\n",
      "[ 50   0   0 100]\n",
      " \n",
      "Training/ Validation / Test BACC : 1.0 / 1.0 / 1.0  \n",
      "Training/ Validation / Test Youden-index: 1.0 / 1.0 / 1.0  \n",
      "Training/ Validation / Test MCC: 1.0 / 1.0 / 1.0  \n",
      "Training/ Validation / Test AUC: 1.0 / 1.0 / 1.0  \n",
      "Training/ Validation / Test AUPR: 1.0 / 1.0 / 1.0\n",
      "[(0.6666666666666666, 1.0, 0.0, 0.8, 0.0, 0.5, 0.0, 0.87442, 0.9297723147516967), (0.6666666666666666, 1.0, 0.0, 0.8, 0.0, 0.5, 0.0, 0.879886, 0.9322700931624849), (0.6666666666666666, 1.0, 0.0, 0.8, 0.0, 0.5, 0.0, 0.8733600000000001, 0.929114828352499)]\n",
      "[ 50   0   0 100]\n",
      " \n",
      "Training/ Validation / Test BACC : 1.0 / 1.0 / 1.0  \n",
      "Training/ Validation / Test Youden-index: 1.0 / 1.0 / 1.0  \n",
      "Training/ Validation / Test MCC: 1.0 / 1.0 / 1.0  \n",
      "Training/ Validation / Test AUC: 1.0 / 1.0 / 1.0  \n",
      "Training/ Validation / Test AUPR: 1.0 / 1.0 / 1.0\n",
      "[(0.6666666666666666, 1.0, 0.0, 0.8, 0.0, 0.5, 0.0, 0.87442, 0.9297723147516967), (0.6666666666666666, 1.0, 0.0, 0.8, 0.0, 0.5, 0.0, 0.879886, 0.9322700931624849), (0.6666666666666666, 1.0, 0.0, 0.8, 0.0, 0.5, 0.0, 0.8733600000000001, 0.929114828352499), (0.6666666666666666, 1.0, 0.0, 0.8, 0.0, 0.5, 0.0, 0.8784349999999999, 0.9313045040200629)]\n",
      "[ 50   0   0 100]\n",
      " \n",
      "Training/ Validation / Test BACC : 1.0 / 1.0 / 1.0  \n",
      "Training/ Validation / Test Youden-index: 1.0 / 1.0 / 1.0  \n",
      "Training/ Validation / Test MCC: 1.0 / 1.0 / 1.0  \n",
      "Training/ Validation / Test AUC: 1.0 / 1.0 / 1.0  \n",
      "Training/ Validation / Test AUPR: 1.0 / 1.0 / 1.0\n",
      "[(0.6666666666666666, 1.0, 0.0, 0.8, 0.0, 0.5, 0.0, 0.87442, 0.9297723147516967), (0.6666666666666666, 1.0, 0.0, 0.8, 0.0, 0.5, 0.0, 0.879886, 0.9322700931624849), (0.6666666666666666, 1.0, 0.0, 0.8, 0.0, 0.5, 0.0, 0.8733600000000001, 0.929114828352499), (0.6666666666666666, 1.0, 0.0, 0.8, 0.0, 0.5, 0.0, 0.8784349999999999, 0.9313045040200629), (0.6666666666666666, 1.0, 0.0, 0.8, 0.0, 0.5, 0.0, 0.8823810000000001, 0.9330513294025883)]\n"
     ]
    },
    {
     "name": "stderr",
     "output_type": "stream",
     "text": [
      "/mnt/sypark0215/anaconda3/envs/sersnet/lib/python3.8/site-packages/sklearn/metrics/_classification.py:846: RuntimeWarning: invalid value encountered in double_scalars\n",
      "  mcc = cov_ytyp / np.sqrt(cov_ytyt * cov_ypyp)\n",
      "/mnt/sypark0215/anaconda3/envs/sersnet/lib/python3.8/site-packages/sklearn/metrics/_classification.py:846: RuntimeWarning: invalid value encountered in double_scalars\n",
      "  mcc = cov_ytyp / np.sqrt(cov_ytyt * cov_ypyp)\n"
     ]
    },
    {
     "name": "stdout",
     "output_type": "stream",
     "text": [
      "[ 50   0   0 100]\n",
      " \n",
      "Training/ Validation / Test BACC : 1.0 / 1.0 / 1.0  \n",
      "Training/ Validation / Test Youden-index: 1.0 / 1.0 / 1.0  \n",
      "Training/ Validation / Test MCC: 1.0 / 1.0 / 1.0  \n",
      "Training/ Validation / Test AUC: 1.0 / 1.0 / 1.0  \n",
      "Training/ Validation / Test AUPR: 1.0 / 1.0 / 1.0\n",
      "[(0.6666666666666666, 1.0, 0.0, 0.8, 0.0, 0.5, 0.0, 0.87442, 0.9297723147516967), (0.6666666666666666, 1.0, 0.0, 0.8, 0.0, 0.5, 0.0, 0.879886, 0.9322700931624849), (0.6666666666666666, 1.0, 0.0, 0.8, 0.0, 0.5, 0.0, 0.8733600000000001, 0.929114828352499), (0.6666666666666666, 1.0, 0.0, 0.8, 0.0, 0.5, 0.0, 0.8784349999999999, 0.9313045040200629), (0.6666666666666666, 1.0, 0.0, 0.8, 0.0, 0.5, 0.0, 0.8823810000000001, 0.9330513294025883), (0.6666666666666666, 1.0, 0.0, 0.8, 0.0, 0.5, 0.0, 0.8723379999999998, 0.9290568498805193)]\n",
      "[ 50   0   0 100]\n",
      " \n",
      "Training/ Validation / Test BACC : 1.0 / 1.0 / 1.0  \n",
      "Training/ Validation / Test Youden-index: 1.0 / 1.0 / 1.0  \n",
      "Training/ Validation / Test MCC: 1.0 / 1.0 / 1.0  \n",
      "Training/ Validation / Test AUC: 1.0 / 1.0 / 1.0  \n",
      "Training/ Validation / Test AUPR: 1.0 / 1.0 / 1.0\n",
      "[(0.6666666666666666, 1.0, 0.0, 0.8, 0.0, 0.5, 0.0, 0.87442, 0.9297723147516967), (0.6666666666666666, 1.0, 0.0, 0.8, 0.0, 0.5, 0.0, 0.879886, 0.9322700931624849), (0.6666666666666666, 1.0, 0.0, 0.8, 0.0, 0.5, 0.0, 0.8733600000000001, 0.929114828352499), (0.6666666666666666, 1.0, 0.0, 0.8, 0.0, 0.5, 0.0, 0.8784349999999999, 0.9313045040200629), (0.6666666666666666, 1.0, 0.0, 0.8, 0.0, 0.5, 0.0, 0.8823810000000001, 0.9330513294025883), (0.6666666666666666, 1.0, 0.0, 0.8, 0.0, 0.5, 0.0, 0.8723379999999998, 0.9290568498805193), (0.6666666666666666, 1.0, 0.0, 0.8, 0.0, 0.5, 0.0, 0.889786, 0.9371052674520393)]\n"
     ]
    },
    {
     "name": "stderr",
     "output_type": "stream",
     "text": [
      "/mnt/sypark0215/anaconda3/envs/sersnet/lib/python3.8/site-packages/sklearn/metrics/_classification.py:846: RuntimeWarning: invalid value encountered in double_scalars\n",
      "  mcc = cov_ytyp / np.sqrt(cov_ytyt * cov_ypyp)\n",
      "/mnt/sypark0215/anaconda3/envs/sersnet/lib/python3.8/site-packages/sklearn/metrics/_classification.py:846: RuntimeWarning: invalid value encountered in double_scalars\n",
      "  mcc = cov_ytyp / np.sqrt(cov_ytyt * cov_ypyp)\n"
     ]
    },
    {
     "name": "stdout",
     "output_type": "stream",
     "text": [
      "[ 50   0   0 100]\n",
      " \n",
      "Training/ Validation / Test BACC : 1.0 / 1.0 / 1.0  \n",
      "Training/ Validation / Test Youden-index: 1.0 / 1.0 / 1.0  \n",
      "Training/ Validation / Test MCC: 1.0 / 1.0 / 1.0  \n",
      "Training/ Validation / Test AUC: 1.0 / 1.0 / 1.0  \n",
      "Training/ Validation / Test AUPR: 1.0 / 1.0 / 1.0\n",
      "[(0.6666666666666666, 1.0, 0.0, 0.8, 0.0, 0.5, 0.0, 0.87442, 0.9297723147516967), (0.6666666666666666, 1.0, 0.0, 0.8, 0.0, 0.5, 0.0, 0.879886, 0.9322700931624849), (0.6666666666666666, 1.0, 0.0, 0.8, 0.0, 0.5, 0.0, 0.8733600000000001, 0.929114828352499), (0.6666666666666666, 1.0, 0.0, 0.8, 0.0, 0.5, 0.0, 0.8784349999999999, 0.9313045040200629), (0.6666666666666666, 1.0, 0.0, 0.8, 0.0, 0.5, 0.0, 0.8823810000000001, 0.9330513294025883), (0.6666666666666666, 1.0, 0.0, 0.8, 0.0, 0.5, 0.0, 0.8723379999999998, 0.9290568498805193), (0.6666666666666666, 1.0, 0.0, 0.8, 0.0, 0.5, 0.0, 0.889786, 0.9371052674520393), (0.6666666666666666, 1.0, 0.0, 0.8, 0.0, 0.5, 0.0, 0.871357, 0.9282307221353392)]\n",
      "[ 50   0   0 100]\n",
      " \n",
      "Training/ Validation / Test BACC : 1.0 / 1.0 / 1.0  \n",
      "Training/ Validation / Test Youden-index: 1.0 / 1.0 / 1.0  \n",
      "Training/ Validation / Test MCC: 1.0 / 1.0 / 1.0  \n",
      "Training/ Validation / Test AUC: 1.0 / 1.0 / 1.0  \n",
      "Training/ Validation / Test AUPR: 1.0 / 1.0 / 1.0\n",
      "[(0.6666666666666666, 1.0, 0.0, 0.8, 0.0, 0.5, 0.0, 0.87442, 0.9297723147516967), (0.6666666666666666, 1.0, 0.0, 0.8, 0.0, 0.5, 0.0, 0.879886, 0.9322700931624849), (0.6666666666666666, 1.0, 0.0, 0.8, 0.0, 0.5, 0.0, 0.8733600000000001, 0.929114828352499), (0.6666666666666666, 1.0, 0.0, 0.8, 0.0, 0.5, 0.0, 0.8784349999999999, 0.9313045040200629), (0.6666666666666666, 1.0, 0.0, 0.8, 0.0, 0.5, 0.0, 0.8823810000000001, 0.9330513294025883), (0.6666666666666666, 1.0, 0.0, 0.8, 0.0, 0.5, 0.0, 0.8723379999999998, 0.9290568498805193), (0.6666666666666666, 1.0, 0.0, 0.8, 0.0, 0.5, 0.0, 0.889786, 0.9371052674520393), (0.6666666666666666, 1.0, 0.0, 0.8, 0.0, 0.5, 0.0, 0.871357, 0.9282307221353392), (0.6666666666666666, 1.0, 0.0, 0.8, 0.0, 0.5, 0.0, 0.877712, 0.9308257835740725)]\n"
     ]
    },
    {
     "name": "stderr",
     "output_type": "stream",
     "text": [
      "/mnt/sypark0215/anaconda3/envs/sersnet/lib/python3.8/site-packages/sklearn/metrics/_classification.py:846: RuntimeWarning: invalid value encountered in double_scalars\n",
      "  mcc = cov_ytyp / np.sqrt(cov_ytyt * cov_ypyp)\n",
      "/mnt/sypark0215/anaconda3/envs/sersnet/lib/python3.8/site-packages/sklearn/metrics/_classification.py:846: RuntimeWarning: invalid value encountered in double_scalars\n",
      "  mcc = cov_ytyp / np.sqrt(cov_ytyt * cov_ypyp)\n"
     ]
    },
    {
     "name": "stdout",
     "output_type": "stream",
     "text": [
      "[ 50   0   0 100]\n",
      " \n",
      "Training/ Validation / Test BACC : 1.0 / 1.0 / 1.0  \n",
      "Training/ Validation / Test Youden-index: 1.0 / 1.0 / 1.0  \n",
      "Training/ Validation / Test MCC: 1.0 / 1.0 / 1.0  \n",
      "Training/ Validation / Test AUC: 1.0 / 1.0 / 1.0  \n",
      "Training/ Validation / Test AUPR: 1.0 / 1.0 / 1.0\n",
      "[(0.6666666666666666, 1.0, 0.0, 0.8, 0.0, 0.5, 0.0, 0.87442, 0.9297723147516967), (0.6666666666666666, 1.0, 0.0, 0.8, 0.0, 0.5, 0.0, 0.879886, 0.9322700931624849), (0.6666666666666666, 1.0, 0.0, 0.8, 0.0, 0.5, 0.0, 0.8733600000000001, 0.929114828352499), (0.6666666666666666, 1.0, 0.0, 0.8, 0.0, 0.5, 0.0, 0.8784349999999999, 0.9313045040200629), (0.6666666666666666, 1.0, 0.0, 0.8, 0.0, 0.5, 0.0, 0.8823810000000001, 0.9330513294025883), (0.6666666666666666, 1.0, 0.0, 0.8, 0.0, 0.5, 0.0, 0.8723379999999998, 0.9290568498805193), (0.6666666666666666, 1.0, 0.0, 0.8, 0.0, 0.5, 0.0, 0.889786, 0.9371052674520393), (0.6666666666666666, 1.0, 0.0, 0.8, 0.0, 0.5, 0.0, 0.871357, 0.9282307221353392), (0.6666666666666666, 1.0, 0.0, 0.8, 0.0, 0.5, 0.0, 0.877712, 0.9308257835740725), (0.6666666666666666, 1.0, 0.0, 0.8, 0.0, 0.5, 0.0, 0.8913559999999999, 0.9378754584686027)]\n"
     ]
    },
    {
     "name": "stderr",
     "output_type": "stream",
     "text": [
      "/mnt/sypark0215/anaconda3/envs/sersnet/lib/python3.8/site-packages/sklearn/metrics/_classification.py:846: RuntimeWarning: invalid value encountered in double_scalars\n",
      "  mcc = cov_ytyp / np.sqrt(cov_ytyt * cov_ypyp)\n"
     ]
    },
    {
     "name": "stdout",
     "output_type": "stream",
     "text": [
      "[ 49   1   0 100]\n",
      " \n",
      "Training/ Validation / Test BACC : 1.0 / 1.0 / 0.99  \n",
      "Training/ Validation / Test Youden-index: 1.0 / 1.0 / 0.98  \n",
      "Training/ Validation / Test MCC: 1.0 / 1.0 / 0.9850365626224087  \n",
      "Training/ Validation / Test AUC: 1.0 / 1.0 / 1.0  \n",
      "Training/ Validation / Test AUPR: 1.0 / 1.0 / 1.0\n",
      "[(0.6666666666666666, 1.0, 0.0, 0.8, 0.0, 0.5, 0.0, 0.9502629999999999, 0.981336752474864)]\n"
     ]
    },
    {
     "name": "stderr",
     "output_type": "stream",
     "text": [
      "/mnt/sypark0215/anaconda3/envs/sersnet/lib/python3.8/site-packages/sklearn/metrics/_classification.py:846: RuntimeWarning: invalid value encountered in double_scalars\n",
      "  mcc = cov_ytyp / np.sqrt(cov_ytyt * cov_ypyp)\n"
     ]
    },
    {
     "name": "stdout",
     "output_type": "stream",
     "text": [
      "[ 50   0   0 100]\n",
      " \n",
      "Training/ Validation / Test BACC : 1.0 / 1.0 / 1.0  \n",
      "Training/ Validation / Test Youden-index: 1.0 / 1.0 / 1.0  \n",
      "Training/ Validation / Test MCC: 1.0 / 1.0 / 1.0  \n",
      "Training/ Validation / Test AUC: 1.0 / 1.0 / 1.0  \n",
      "Training/ Validation / Test AUPR: 1.0 / 1.0 / 1.0\n",
      "[(0.6666666666666666, 1.0, 0.0, 0.8, 0.0, 0.5, 0.0, 0.9502629999999999, 0.981336752474864), (0.6666666666666666, 1.0, 0.0, 0.8, 0.0, 0.5, 0.0, 0.787149, 0.9237686513629841)]\n"
     ]
    },
    {
     "name": "stderr",
     "output_type": "stream",
     "text": [
      "/mnt/sypark0215/anaconda3/envs/sersnet/lib/python3.8/site-packages/sklearn/metrics/_classification.py:846: RuntimeWarning: invalid value encountered in double_scalars\n",
      "  mcc = cov_ytyp / np.sqrt(cov_ytyt * cov_ypyp)\n"
     ]
    },
    {
     "name": "stdout",
     "output_type": "stream",
     "text": [
      "[ 49   1   0 100]\n",
      " \n",
      "Training/ Validation / Test BACC : 1.0 / 1.0 / 0.99  \n",
      "Training/ Validation / Test Youden-index: 1.0 / 1.0 / 0.98  \n",
      "Training/ Validation / Test MCC: 1.0 / 1.0 / 0.9850365626224087  \n",
      "Training/ Validation / Test AUC: 1.0 / 1.0 / 0.9998  \n",
      "Training/ Validation / Test AUPR: 1.0 / 1.0 / 0.999900495049505\n",
      "[(0.6666666666666666, 1.0, 0.0, 0.8, 0.0, 0.5, 0.0, 0.9502629999999999, 0.981336752474864), (0.6666666666666666, 1.0, 0.0, 0.8, 0.0, 0.5, 0.0, 0.787149, 0.9237686513629841), (0.6666666666666666, 1.0, 0.0, 0.8, 0.0, 0.5, 0.0, 0.455567, 0.8072978258078632)]\n"
     ]
    },
    {
     "name": "stderr",
     "output_type": "stream",
     "text": [
      "/mnt/sypark0215/anaconda3/envs/sersnet/lib/python3.8/site-packages/sklearn/metrics/_classification.py:846: RuntimeWarning: invalid value encountered in double_scalars\n",
      "  mcc = cov_ytyp / np.sqrt(cov_ytyt * cov_ypyp)\n"
     ]
    },
    {
     "name": "stdout",
     "output_type": "stream",
     "text": [
      "[ 50   0   0 100]\n",
      " \n",
      "Training/ Validation / Test BACC : 1.0 / 1.0 / 1.0  \n",
      "Training/ Validation / Test Youden-index: 1.0 / 1.0 / 1.0  \n",
      "Training/ Validation / Test MCC: 1.0 / 1.0 / 1.0  \n",
      "Training/ Validation / Test AUC: 1.0 / 1.0 / 1.0  \n",
      "Training/ Validation / Test AUPR: 1.0 / 1.0 / 1.0\n",
      "[(0.6666666666666666, 1.0, 0.0, 0.8, 0.0, 0.5, 0.0, 0.9502629999999999, 0.981336752474864), (0.6666666666666666, 1.0, 0.0, 0.8, 0.0, 0.5, 0.0, 0.787149, 0.9237686513629841), (0.6666666666666666, 1.0, 0.0, 0.8, 0.0, 0.5, 0.0, 0.455567, 0.8072978258078632), (0.6666666666666666, 1.0, 0.0, 0.8, 0.0, 0.5, 0.0, 0.48798199999999997, 0.8256029621294825)]\n"
     ]
    },
    {
     "name": "stderr",
     "output_type": "stream",
     "text": [
      "/mnt/sypark0215/anaconda3/envs/sersnet/lib/python3.8/site-packages/sklearn/metrics/_classification.py:846: RuntimeWarning: invalid value encountered in double_scalars\n",
      "  mcc = cov_ytyp / np.sqrt(cov_ytyt * cov_ypyp)\n"
     ]
    },
    {
     "name": "stdout",
     "output_type": "stream",
     "text": [
      "[ 49   1   0 100]\n",
      " \n",
      "Training/ Validation / Test BACC : 1.0 / 1.0 / 0.99  \n",
      "Training/ Validation / Test Youden-index: 1.0 / 1.0 / 0.98  \n",
      "Training/ Validation / Test MCC: 1.0 / 1.0 / 0.9850365626224087  \n",
      "Training/ Validation / Test AUC: 1.0 / 1.0 / 1.0  \n",
      "Training/ Validation / Test AUPR: 1.0 / 1.0 / 1.0\n",
      "[(0.6666666666666666, 1.0, 0.0, 0.8, 0.0, 0.5, 0.0, 0.9502629999999999, 0.981336752474864), (0.6666666666666666, 1.0, 0.0, 0.8, 0.0, 0.5, 0.0, 0.787149, 0.9237686513629841), (0.6666666666666666, 1.0, 0.0, 0.8, 0.0, 0.5, 0.0, 0.455567, 0.8072978258078632), (0.6666666666666666, 1.0, 0.0, 0.8, 0.0, 0.5, 0.0, 0.48798199999999997, 0.8256029621294825), (0.6666666666666666, 1.0, 0.0, 0.8, 0.0, 0.5, 0.0, 0.8026029999999998, 0.9292853849719039)]\n"
     ]
    },
    {
     "name": "stderr",
     "output_type": "stream",
     "text": [
      "/mnt/sypark0215/anaconda3/envs/sersnet/lib/python3.8/site-packages/sklearn/metrics/_classification.py:846: RuntimeWarning: invalid value encountered in double_scalars\n",
      "  mcc = cov_ytyp / np.sqrt(cov_ytyt * cov_ypyp)\n"
     ]
    },
    {
     "name": "stdout",
     "output_type": "stream",
     "text": [
      "[ 50   0   0 100]\n",
      " \n",
      "Training/ Validation / Test BACC : 1.0 / 1.0 / 1.0  \n",
      "Training/ Validation / Test Youden-index: 1.0 / 1.0 / 1.0  \n",
      "Training/ Validation / Test MCC: 1.0 / 1.0 / 1.0  \n",
      "Training/ Validation / Test AUC: 1.0 / 1.0 / 0.9999999999999999  \n",
      "Training/ Validation / Test AUPR: 1.0 / 1.0 / 1.0\n",
      "[(0.6666666666666666, 1.0, 0.0, 0.8, 0.0, 0.5, 0.0, 0.9502629999999999, 0.981336752474864), (0.6666666666666666, 1.0, 0.0, 0.8, 0.0, 0.5, 0.0, 0.787149, 0.9237686513629841), (0.6666666666666666, 1.0, 0.0, 0.8, 0.0, 0.5, 0.0, 0.455567, 0.8072978258078632), (0.6666666666666666, 1.0, 0.0, 0.8, 0.0, 0.5, 0.0, 0.48798199999999997, 0.8256029621294825), (0.6666666666666666, 1.0, 0.0, 0.8, 0.0, 0.5, 0.0, 0.8026029999999998, 0.9292853849719039), (0.6666666666666666, 1.0, 0.0, 0.8, 0.0, 0.5, 0.0, 0.7170620000000001, 0.9044002416800825)]\n"
     ]
    },
    {
     "name": "stderr",
     "output_type": "stream",
     "text": [
      "/mnt/sypark0215/anaconda3/envs/sersnet/lib/python3.8/site-packages/sklearn/metrics/_classification.py:846: RuntimeWarning: invalid value encountered in double_scalars\n",
      "  mcc = cov_ytyp / np.sqrt(cov_ytyt * cov_ypyp)\n"
     ]
    },
    {
     "name": "stdout",
     "output_type": "stream",
     "text": [
      "[ 50   0   0 100]\n",
      " \n",
      "Training/ Validation / Test BACC : 1.0 / 1.0 / 1.0  \n",
      "Training/ Validation / Test Youden-index: 1.0 / 1.0 / 1.0  \n",
      "Training/ Validation / Test MCC: 1.0 / 1.0 / 1.0  \n",
      "Training/ Validation / Test AUC: 1.0 / 1.0 / 1.0  \n",
      "Training/ Validation / Test AUPR: 1.0 / 1.0 / 1.0\n",
      "[(0.6666666666666666, 1.0, 0.0, 0.8, 0.0, 0.5, 0.0, 0.9502629999999999, 0.981336752474864), (0.6666666666666666, 1.0, 0.0, 0.8, 0.0, 0.5, 0.0, 0.787149, 0.9237686513629841), (0.6666666666666666, 1.0, 0.0, 0.8, 0.0, 0.5, 0.0, 0.455567, 0.8072978258078632), (0.6666666666666666, 1.0, 0.0, 0.8, 0.0, 0.5, 0.0, 0.48798199999999997, 0.8256029621294825), (0.6666666666666666, 1.0, 0.0, 0.8, 0.0, 0.5, 0.0, 0.8026029999999998, 0.9292853849719039), (0.6666666666666666, 1.0, 0.0, 0.8, 0.0, 0.5, 0.0, 0.7170620000000001, 0.9044002416800825), (0.6666666666666666, 1.0, 0.0, 0.8, 0.0, 0.5, 0.0, 0.498545, 0.8281670934461516)]\n"
     ]
    },
    {
     "name": "stderr",
     "output_type": "stream",
     "text": [
      "/mnt/sypark0215/anaconda3/envs/sersnet/lib/python3.8/site-packages/sklearn/metrics/_classification.py:846: RuntimeWarning: invalid value encountered in double_scalars\n",
      "  mcc = cov_ytyp / np.sqrt(cov_ytyt * cov_ypyp)\n"
     ]
    },
    {
     "name": "stdout",
     "output_type": "stream",
     "text": [
      "[ 50   0   0 100]\n",
      " \n",
      "Training/ Validation / Test BACC : 1.0 / 1.0 / 1.0  \n",
      "Training/ Validation / Test Youden-index: 1.0 / 1.0 / 1.0  \n",
      "Training/ Validation / Test MCC: 1.0 / 1.0 / 1.0  \n",
      "Training/ Validation / Test AUC: 1.0 / 1.0 / 1.0  \n",
      "Training/ Validation / Test AUPR: 1.0 / 1.0 / 1.0\n",
      "[(0.6666666666666666, 1.0, 0.0, 0.8, 0.0, 0.5, 0.0, 0.9502629999999999, 0.981336752474864), (0.6666666666666666, 1.0, 0.0, 0.8, 0.0, 0.5, 0.0, 0.787149, 0.9237686513629841), (0.6666666666666666, 1.0, 0.0, 0.8, 0.0, 0.5, 0.0, 0.455567, 0.8072978258078632), (0.6666666666666666, 1.0, 0.0, 0.8, 0.0, 0.5, 0.0, 0.48798199999999997, 0.8256029621294825), (0.6666666666666666, 1.0, 0.0, 0.8, 0.0, 0.5, 0.0, 0.8026029999999998, 0.9292853849719039), (0.6666666666666666, 1.0, 0.0, 0.8, 0.0, 0.5, 0.0, 0.7170620000000001, 0.9044002416800825), (0.6666666666666666, 1.0, 0.0, 0.8, 0.0, 0.5, 0.0, 0.498545, 0.8281670934461516), (0.6666666666666666, 1.0, 0.0, 0.8, 0.0, 0.5, 0.0, 0.582603, 0.843349246981209)]\n"
     ]
    },
    {
     "name": "stderr",
     "output_type": "stream",
     "text": [
      "/mnt/sypark0215/anaconda3/envs/sersnet/lib/python3.8/site-packages/sklearn/metrics/_classification.py:846: RuntimeWarning: invalid value encountered in double_scalars\n",
      "  mcc = cov_ytyp / np.sqrt(cov_ytyt * cov_ypyp)\n"
     ]
    },
    {
     "name": "stdout",
     "output_type": "stream",
     "text": [
      "[ 50   0   0 100]\n",
      " \n",
      "Training/ Validation / Test BACC : 1.0 / 0.99 / 1.0  \n",
      "Training/ Validation / Test Youden-index: 1.0 / 0.98 / 1.0  \n",
      "Training/ Validation / Test MCC: 1.0 / 0.9850365626224087 / 1.0  \n",
      "Training/ Validation / Test AUC: 1.0 / 0.9995 / 1.0  \n",
      "Training/ Validation / Test AUPR: 1.0 / 0.9997494849484949 / 1.0\n",
      "[(0.6666666666666666, 1.0, 0.0, 0.8, 0.0, 0.5, 0.0, 0.9502629999999999, 0.981336752474864), (0.6666666666666666, 1.0, 0.0, 0.8, 0.0, 0.5, 0.0, 0.787149, 0.9237686513629841), (0.6666666666666666, 1.0, 0.0, 0.8, 0.0, 0.5, 0.0, 0.455567, 0.8072978258078632), (0.6666666666666666, 1.0, 0.0, 0.8, 0.0, 0.5, 0.0, 0.48798199999999997, 0.8256029621294825), (0.6666666666666666, 1.0, 0.0, 0.8, 0.0, 0.5, 0.0, 0.8026029999999998, 0.9292853849719039), (0.6666666666666666, 1.0, 0.0, 0.8, 0.0, 0.5, 0.0, 0.7170620000000001, 0.9044002416800825), (0.6666666666666666, 1.0, 0.0, 0.8, 0.0, 0.5, 0.0, 0.498545, 0.8281670934461516), (0.6666666666666666, 1.0, 0.0, 0.8, 0.0, 0.5, 0.0, 0.582603, 0.843349246981209), (0.6666666666666666, 1.0, 0.0, 0.8, 0.0, 0.5, 0.0, 0.47248, 0.8164333639852466)]\n"
     ]
    },
    {
     "name": "stderr",
     "output_type": "stream",
     "text": [
      "/mnt/sypark0215/anaconda3/envs/sersnet/lib/python3.8/site-packages/sklearn/metrics/_classification.py:846: RuntimeWarning: invalid value encountered in double_scalars\n",
      "  mcc = cov_ytyp / np.sqrt(cov_ytyt * cov_ypyp)\n"
     ]
    },
    {
     "name": "stdout",
     "output_type": "stream",
     "text": [
      "[ 50   0   0 100]\n",
      " \n",
      "Training/ Validation / Test BACC : 1.0 / 0.99 / 1.0  \n",
      "Training/ Validation / Test Youden-index: 1.0 / 0.98 / 1.0  \n",
      "Training/ Validation / Test MCC: 1.0 / 0.9850365626224087 / 1.0  \n",
      "Training/ Validation / Test AUC: 1.0 / 1.0 / 1.0  \n",
      "Training/ Validation / Test AUPR: 1.0 / 1.0 / 1.0\n",
      "[(0.6666666666666666, 1.0, 0.0, 0.8, 0.0, 0.5, 0.0, 0.9502629999999999, 0.981336752474864), (0.6666666666666666, 1.0, 0.0, 0.8, 0.0, 0.5, 0.0, 0.787149, 0.9237686513629841), (0.6666666666666666, 1.0, 0.0, 0.8, 0.0, 0.5, 0.0, 0.455567, 0.8072978258078632), (0.6666666666666666, 1.0, 0.0, 0.8, 0.0, 0.5, 0.0, 0.48798199999999997, 0.8256029621294825), (0.6666666666666666, 1.0, 0.0, 0.8, 0.0, 0.5, 0.0, 0.8026029999999998, 0.9292853849719039), (0.6666666666666666, 1.0, 0.0, 0.8, 0.0, 0.5, 0.0, 0.7170620000000001, 0.9044002416800825), (0.6666666666666666, 1.0, 0.0, 0.8, 0.0, 0.5, 0.0, 0.498545, 0.8281670934461516), (0.6666666666666666, 1.0, 0.0, 0.8, 0.0, 0.5, 0.0, 0.582603, 0.843349246981209), (0.6666666666666666, 1.0, 0.0, 0.8, 0.0, 0.5, 0.0, 0.47248, 0.8164333639852466), (0.6666666666666666, 1.0, 0.0, 0.8, 0.0, 0.5, 0.0, 0.45847200000000005, 0.809030092935984)]\n"
     ]
    },
    {
     "name": "stderr",
     "output_type": "stream",
     "text": [
      "/mnt/sypark0215/anaconda3/envs/sersnet/lib/python3.8/site-packages/sklearn/metrics/_classification.py:846: RuntimeWarning: invalid value encountered in double_scalars\n",
      "  mcc = cov_ytyp / np.sqrt(cov_ytyt * cov_ypyp)\n"
     ]
    },
    {
     "name": "stdout",
     "output_type": "stream",
     "text": [
      "[ 50   0   0 100]\n",
      " \n",
      "Training/ Validation / Test BACC : 1.0 / 1.0 / 1.0  \n",
      "Training/ Validation / Test Youden-index: 1.0 / 1.0 / 1.0  \n",
      "Training/ Validation / Test MCC: 1.0 / 1.0 / 1.0  \n",
      "Training/ Validation / Test AUC: 1.0 / 1.0 / 1.0  \n",
      "Training/ Validation / Test AUPR: 1.0 / 1.0 / 1.0\n",
      "[(0.6666666666666666, 1.0, 0.0, 0.8, 0.0, 0.5, 0.0, 0.802346, 0.902007711503686)]\n"
     ]
    },
    {
     "name": "stderr",
     "output_type": "stream",
     "text": [
      "/mnt/sypark0215/anaconda3/envs/sersnet/lib/python3.8/site-packages/sklearn/metrics/_classification.py:846: RuntimeWarning: invalid value encountered in double_scalars\n",
      "  mcc = cov_ytyp / np.sqrt(cov_ytyt * cov_ypyp)\n"
     ]
    },
    {
     "name": "stdout",
     "output_type": "stream",
     "text": [
      "[ 50   0   0 100]\n",
      " \n",
      "Training/ Validation / Test BACC : 1.0 / 1.0 / 1.0  \n",
      "Training/ Validation / Test Youden-index: 1.0 / 1.0 / 1.0  \n",
      "Training/ Validation / Test MCC: 1.0 / 1.0 / 1.0  \n",
      "Training/ Validation / Test AUC: 1.0 / 1.0 / 1.0  \n",
      "Training/ Validation / Test AUPR: 1.0 / 1.0 / 1.0\n",
      "[(0.6666666666666666, 1.0, 0.0, 0.8, 0.0, 0.5, 0.0, 0.802346, 0.902007711503686), (0.6666666666666666, 1.0, 0.0, 0.8, 0.0, 0.5, 0.0, 0.8027500000000001, 0.9020923091617595)]\n"
     ]
    },
    {
     "name": "stderr",
     "output_type": "stream",
     "text": [
      "/mnt/sypark0215/anaconda3/envs/sersnet/lib/python3.8/site-packages/sklearn/metrics/_classification.py:846: RuntimeWarning: invalid value encountered in double_scalars\n",
      "  mcc = cov_ytyp / np.sqrt(cov_ytyt * cov_ypyp)\n"
     ]
    },
    {
     "name": "stdout",
     "output_type": "stream",
     "text": [
      "[ 50   0   0 100]\n",
      " \n",
      "Training/ Validation / Test BACC : 1.0 / 1.0 / 1.0  \n",
      "Training/ Validation / Test Youden-index: 1.0 / 1.0 / 1.0  \n",
      "Training/ Validation / Test MCC: 1.0 / 1.0 / 1.0  \n",
      "Training/ Validation / Test AUC: 1.0 / 1.0 / 1.0  \n",
      "Training/ Validation / Test AUPR: 1.0 / 1.0 / 1.0\n",
      "[(0.6666666666666666, 1.0, 0.0, 0.8, 0.0, 0.5, 0.0, 0.802346, 0.902007711503686), (0.6666666666666666, 1.0, 0.0, 0.8, 0.0, 0.5, 0.0, 0.8027500000000001, 0.9020923091617595), (0.6666666666666666, 1.0, 0.0, 0.8, 0.0, 0.5, 0.0, 0.78073, 0.8926575186722339)]\n"
     ]
    },
    {
     "name": "stderr",
     "output_type": "stream",
     "text": [
      "/mnt/sypark0215/anaconda3/envs/sersnet/lib/python3.8/site-packages/sklearn/metrics/_classification.py:846: RuntimeWarning: invalid value encountered in double_scalars\n",
      "  mcc = cov_ytyp / np.sqrt(cov_ytyt * cov_ypyp)\n"
     ]
    },
    {
     "name": "stdout",
     "output_type": "stream",
     "text": [
      "[ 50   0   0 100]\n",
      " \n",
      "Training/ Validation / Test BACC : 1.0 / 1.0 / 1.0  \n",
      "Training/ Validation / Test Youden-index: 1.0 / 1.0 / 1.0  \n",
      "Training/ Validation / Test MCC: 1.0 / 1.0 / 1.0  \n",
      "Training/ Validation / Test AUC: 1.0 / 1.0 / 1.0  \n",
      "Training/ Validation / Test AUPR: 1.0 / 1.0 / 1.0\n",
      "[(0.6666666666666666, 1.0, 0.0, 0.8, 0.0, 0.5, 0.0, 0.802346, 0.902007711503686), (0.6666666666666666, 1.0, 0.0, 0.8, 0.0, 0.5, 0.0, 0.8027500000000001, 0.9020923091617595), (0.6666666666666666, 1.0, 0.0, 0.8, 0.0, 0.5, 0.0, 0.78073, 0.8926575186722339), (0.6666666666666666, 1.0, 0.0, 0.8, 0.0, 0.5, 0.0, 0.776278, 0.8909604781083112)]\n"
     ]
    },
    {
     "name": "stderr",
     "output_type": "stream",
     "text": [
      "/mnt/sypark0215/anaconda3/envs/sersnet/lib/python3.8/site-packages/sklearn/metrics/_classification.py:846: RuntimeWarning: invalid value encountered in double_scalars\n",
      "  mcc = cov_ytyp / np.sqrt(cov_ytyt * cov_ypyp)\n"
     ]
    },
    {
     "name": "stdout",
     "output_type": "stream",
     "text": [
      "[ 50   0   0 100]\n",
      " \n",
      "Training/ Validation / Test BACC : 1.0 / 1.0 / 1.0  \n",
      "Training/ Validation / Test Youden-index: 1.0 / 1.0 / 1.0  \n",
      "Training/ Validation / Test MCC: 1.0 / 1.0 / 1.0  \n",
      "Training/ Validation / Test AUC: 1.0 / 1.0 / 1.0  \n",
      "Training/ Validation / Test AUPR: 1.0 / 1.0 / 1.0\n",
      "[(0.6666666666666666, 1.0, 0.0, 0.8, 0.0, 0.5, 0.0, 0.802346, 0.902007711503686), (0.6666666666666666, 1.0, 0.0, 0.8, 0.0, 0.5, 0.0, 0.8027500000000001, 0.9020923091617595), (0.6666666666666666, 1.0, 0.0, 0.8, 0.0, 0.5, 0.0, 0.78073, 0.8926575186722339), (0.6666666666666666, 1.0, 0.0, 0.8, 0.0, 0.5, 0.0, 0.776278, 0.8909604781083112), (0.6666666666666666, 1.0, 0.0, 0.8, 0.0, 0.5, 0.0, 0.796112, 0.8988304764756914)]\n"
     ]
    },
    {
     "name": "stderr",
     "output_type": "stream",
     "text": [
      "/mnt/sypark0215/anaconda3/envs/sersnet/lib/python3.8/site-packages/sklearn/metrics/_classification.py:846: RuntimeWarning: invalid value encountered in double_scalars\n",
      "  mcc = cov_ytyp / np.sqrt(cov_ytyt * cov_ypyp)\n"
     ]
    },
    {
     "name": "stdout",
     "output_type": "stream",
     "text": [
      "[ 50   0   0 100]\n",
      " \n",
      "Training/ Validation / Test BACC : 1.0 / 1.0 / 1.0  \n",
      "Training/ Validation / Test Youden-index: 1.0 / 1.0 / 1.0  \n",
      "Training/ Validation / Test MCC: 1.0 / 1.0 / 1.0  \n",
      "Training/ Validation / Test AUC: 1.0 / 1.0 / 1.0  \n",
      "Training/ Validation / Test AUPR: 1.0 / 1.0 / 1.0\n",
      "[(0.6666666666666666, 1.0, 0.0, 0.8, 0.0, 0.5, 0.0, 0.802346, 0.902007711503686), (0.6666666666666666, 1.0, 0.0, 0.8, 0.0, 0.5, 0.0, 0.8027500000000001, 0.9020923091617595), (0.6666666666666666, 1.0, 0.0, 0.8, 0.0, 0.5, 0.0, 0.78073, 0.8926575186722339), (0.6666666666666666, 1.0, 0.0, 0.8, 0.0, 0.5, 0.0, 0.776278, 0.8909604781083112), (0.6666666666666666, 1.0, 0.0, 0.8, 0.0, 0.5, 0.0, 0.796112, 0.8988304764756914), (0.6666666666666666, 1.0, 0.0, 0.8, 0.0, 0.5, 0.0, 0.795042, 0.89828882663349)]\n"
     ]
    },
    {
     "name": "stderr",
     "output_type": "stream",
     "text": [
      "/mnt/sypark0215/anaconda3/envs/sersnet/lib/python3.8/site-packages/sklearn/metrics/_classification.py:846: RuntimeWarning: invalid value encountered in double_scalars\n",
      "  mcc = cov_ytyp / np.sqrt(cov_ytyt * cov_ypyp)\n"
     ]
    },
    {
     "name": "stdout",
     "output_type": "stream",
     "text": [
      "[ 50   0   0 100]\n",
      " \n",
      "Training/ Validation / Test BACC : 1.0 / 1.0 / 1.0  \n",
      "Training/ Validation / Test Youden-index: 1.0 / 1.0 / 1.0  \n",
      "Training/ Validation / Test MCC: 1.0 / 1.0 / 1.0  \n",
      "Training/ Validation / Test AUC: 1.0 / 1.0 / 1.0  \n",
      "Training/ Validation / Test AUPR: 1.0 / 1.0 / 1.0\n",
      "[(0.6666666666666666, 1.0, 0.0, 0.8, 0.0, 0.5, 0.0, 0.802346, 0.902007711503686), (0.6666666666666666, 1.0, 0.0, 0.8, 0.0, 0.5, 0.0, 0.8027500000000001, 0.9020923091617595), (0.6666666666666666, 1.0, 0.0, 0.8, 0.0, 0.5, 0.0, 0.78073, 0.8926575186722339), (0.6666666666666666, 1.0, 0.0, 0.8, 0.0, 0.5, 0.0, 0.776278, 0.8909604781083112), (0.6666666666666666, 1.0, 0.0, 0.8, 0.0, 0.5, 0.0, 0.796112, 0.8988304764756914), (0.6666666666666666, 1.0, 0.0, 0.8, 0.0, 0.5, 0.0, 0.795042, 0.89828882663349), (0.6666666666666666, 1.0, 0.0, 0.8, 0.0, 0.5, 0.0, 0.80276, 0.9020963184523755)]\n"
     ]
    },
    {
     "name": "stderr",
     "output_type": "stream",
     "text": [
      "/mnt/sypark0215/anaconda3/envs/sersnet/lib/python3.8/site-packages/sklearn/metrics/_classification.py:846: RuntimeWarning: invalid value encountered in double_scalars\n",
      "  mcc = cov_ytyp / np.sqrt(cov_ytyt * cov_ypyp)\n"
     ]
    },
    {
     "name": "stdout",
     "output_type": "stream",
     "text": [
      "[ 50   0   0 100]\n",
      " \n",
      "Training/ Validation / Test BACC : 1.0 / 1.0 / 1.0  \n",
      "Training/ Validation / Test Youden-index: 1.0 / 1.0 / 1.0  \n",
      "Training/ Validation / Test MCC: 1.0 / 1.0 / 1.0  \n",
      "Training/ Validation / Test AUC: 1.0 / 1.0 / 1.0  \n",
      "Training/ Validation / Test AUPR: 1.0 / 1.0 / 1.0\n",
      "[(0.6666666666666666, 1.0, 0.0, 0.8, 0.0, 0.5, 0.0, 0.802346, 0.902007711503686), (0.6666666666666666, 1.0, 0.0, 0.8, 0.0, 0.5, 0.0, 0.8027500000000001, 0.9020923091617595), (0.6666666666666666, 1.0, 0.0, 0.8, 0.0, 0.5, 0.0, 0.78073, 0.8926575186722339), (0.6666666666666666, 1.0, 0.0, 0.8, 0.0, 0.5, 0.0, 0.776278, 0.8909604781083112), (0.6666666666666666, 1.0, 0.0, 0.8, 0.0, 0.5, 0.0, 0.796112, 0.8988304764756914), (0.6666666666666666, 1.0, 0.0, 0.8, 0.0, 0.5, 0.0, 0.795042, 0.89828882663349), (0.6666666666666666, 1.0, 0.0, 0.8, 0.0, 0.5, 0.0, 0.80276, 0.9020963184523755), (0.6666666666666666, 1.0, 0.0, 0.8, 0.0, 0.5, 0.0, 0.8026099999999999, 0.9020091096123486)]\n"
     ]
    },
    {
     "name": "stderr",
     "output_type": "stream",
     "text": [
      "/mnt/sypark0215/anaconda3/envs/sersnet/lib/python3.8/site-packages/sklearn/metrics/_classification.py:846: RuntimeWarning: invalid value encountered in double_scalars\n",
      "  mcc = cov_ytyp / np.sqrt(cov_ytyt * cov_ypyp)\n"
     ]
    },
    {
     "name": "stdout",
     "output_type": "stream",
     "text": [
      "[ 50   0   0 100]\n",
      " \n",
      "Training/ Validation / Test BACC : 1.0 / 1.0 / 1.0  \n",
      "Training/ Validation / Test Youden-index: 1.0 / 1.0 / 1.0  \n",
      "Training/ Validation / Test MCC: 1.0 / 1.0 / 1.0  \n",
      "Training/ Validation / Test AUC: 1.0 / 1.0 / 1.0  \n",
      "Training/ Validation / Test AUPR: 1.0 / 1.0 / 1.0\n",
      "[(0.6666666666666666, 1.0, 0.0, 0.8, 0.0, 0.5, 0.0, 0.802346, 0.902007711503686), (0.6666666666666666, 1.0, 0.0, 0.8, 0.0, 0.5, 0.0, 0.8027500000000001, 0.9020923091617595), (0.6666666666666666, 1.0, 0.0, 0.8, 0.0, 0.5, 0.0, 0.78073, 0.8926575186722339), (0.6666666666666666, 1.0, 0.0, 0.8, 0.0, 0.5, 0.0, 0.776278, 0.8909604781083112), (0.6666666666666666, 1.0, 0.0, 0.8, 0.0, 0.5, 0.0, 0.796112, 0.8988304764756914), (0.6666666666666666, 1.0, 0.0, 0.8, 0.0, 0.5, 0.0, 0.795042, 0.89828882663349), (0.6666666666666666, 1.0, 0.0, 0.8, 0.0, 0.5, 0.0, 0.80276, 0.9020963184523755), (0.6666666666666666, 1.0, 0.0, 0.8, 0.0, 0.5, 0.0, 0.8026099999999999, 0.9020091096123486), (0.6666666666666666, 1.0, 0.0, 0.8, 0.0, 0.5, 0.0, 0.802752, 0.9022150177759195)]\n"
     ]
    },
    {
     "name": "stderr",
     "output_type": "stream",
     "text": [
      "/mnt/sypark0215/anaconda3/envs/sersnet/lib/python3.8/site-packages/sklearn/metrics/_classification.py:846: RuntimeWarning: invalid value encountered in double_scalars\n",
      "  mcc = cov_ytyp / np.sqrt(cov_ytyt * cov_ypyp)\n"
     ]
    },
    {
     "name": "stdout",
     "output_type": "stream",
     "text": [
      "[ 50   0   0 100]\n",
      " \n",
      "Training/ Validation / Test BACC : 1.0 / 1.0 / 1.0  \n",
      "Training/ Validation / Test Youden-index: 1.0 / 1.0 / 1.0  \n",
      "Training/ Validation / Test MCC: 1.0 / 1.0 / 1.0  \n",
      "Training/ Validation / Test AUC: 1.0 / 1.0 / 1.0  \n",
      "Training/ Validation / Test AUPR: 1.0 / 1.0 / 1.0\n",
      "[(0.6666666666666666, 1.0, 0.0, 0.8, 0.0, 0.5, 0.0, 0.802346, 0.902007711503686), (0.6666666666666666, 1.0, 0.0, 0.8, 0.0, 0.5, 0.0, 0.8027500000000001, 0.9020923091617595), (0.6666666666666666, 1.0, 0.0, 0.8, 0.0, 0.5, 0.0, 0.78073, 0.8926575186722339), (0.6666666666666666, 1.0, 0.0, 0.8, 0.0, 0.5, 0.0, 0.776278, 0.8909604781083112), (0.6666666666666666, 1.0, 0.0, 0.8, 0.0, 0.5, 0.0, 0.796112, 0.8988304764756914), (0.6666666666666666, 1.0, 0.0, 0.8, 0.0, 0.5, 0.0, 0.795042, 0.89828882663349), (0.6666666666666666, 1.0, 0.0, 0.8, 0.0, 0.5, 0.0, 0.80276, 0.9020963184523755), (0.6666666666666666, 1.0, 0.0, 0.8, 0.0, 0.5, 0.0, 0.8026099999999999, 0.9020091096123486), (0.6666666666666666, 1.0, 0.0, 0.8, 0.0, 0.5, 0.0, 0.802752, 0.9022150177759195), (0.6666666666666666, 1.0, 0.0, 0.8, 0.0, 0.5, 0.0, 0.817582, 0.9084824378302826)]\n"
     ]
    },
    {
     "name": "stderr",
     "output_type": "stream",
     "text": [
      "/mnt/sypark0215/anaconda3/envs/sersnet/lib/python3.8/site-packages/sklearn/metrics/_classification.py:846: RuntimeWarning: invalid value encountered in double_scalars\n",
      "  mcc = cov_ytyp / np.sqrt(cov_ytyt * cov_ypyp)\n"
     ]
    },
    {
     "name": "stdout",
     "output_type": "stream",
     "text": [
      "[ 50   0   0 100]\n",
      " \n",
      "Training/ Validation / Test BACC : 1.0 / 1.0 / 1.0  \n",
      "Training/ Validation / Test Youden-index: 1.0 / 1.0 / 1.0  \n",
      "Training/ Validation / Test MCC: 1.0 / 1.0 / 1.0  \n",
      "Training/ Validation / Test AUC: 1.0 / 1.0 / 1.0  \n",
      "Training/ Validation / Test AUPR: 1.0 / 1.0 / 1.0\n"
     ]
    },
    {
     "name": "stderr",
     "output_type": "stream",
     "text": [
      "/mnt/sypark0215/anaconda3/envs/sersnet/lib/python3.8/site-packages/sklearn/metrics/_classification.py:846: RuntimeWarning: invalid value encountered in double_scalars\n",
      "  mcc = cov_ytyp / np.sqrt(cov_ytyt * cov_ypyp)\n"
     ]
    },
    {
     "name": "stdout",
     "output_type": "stream",
     "text": [
      "[(0.6666666666666666, 1.0, 0.0, 0.8, 0.0, 0.5, 0.0, 0.24058800000000002, 0.5581529468889391)]\n",
      "[ 50   0   0 100]\n",
      " \n",
      "Training/ Validation / Test BACC : 1.0 / 1.0 / 1.0  \n",
      "Training/ Validation / Test Youden-index: 1.0 / 1.0 / 1.0  \n",
      "Training/ Validation / Test MCC: 1.0 / 1.0 / 1.0  \n",
      "Training/ Validation / Test AUC: 1.0 / 1.0 / 1.0  \n",
      "Training/ Validation / Test AUPR: 1.0 / 1.0 / 1.0\n"
     ]
    },
    {
     "name": "stderr",
     "output_type": "stream",
     "text": [
      "/mnt/sypark0215/anaconda3/envs/sersnet/lib/python3.8/site-packages/sklearn/metrics/_classification.py:846: RuntimeWarning: invalid value encountered in double_scalars\n",
      "  mcc = cov_ytyp / np.sqrt(cov_ytyt * cov_ypyp)\n"
     ]
    },
    {
     "name": "stdout",
     "output_type": "stream",
     "text": [
      "[(0.6666666666666666, 1.0, 0.0, 0.8, 0.0, 0.5, 0.0, 0.24058800000000002, 0.5581529468889391), (0.6666666666666666, 1.0, 0.0, 0.8, 0.0, 0.5, 0.0, 0.30886, 0.6223630511059755)]\n",
      "[ 50   0   0 100]\n",
      " \n",
      "Training/ Validation / Test BACC : 1.0 / 1.0 / 1.0  \n",
      "Training/ Validation / Test Youden-index: 1.0 / 1.0 / 1.0  \n",
      "Training/ Validation / Test MCC: 1.0 / 1.0 / 1.0  \n",
      "Training/ Validation / Test AUC: 1.0 / 1.0 / 1.0  \n",
      "Training/ Validation / Test AUPR: 1.0 / 1.0 / 1.0\n"
     ]
    },
    {
     "name": "stderr",
     "output_type": "stream",
     "text": [
      "/mnt/sypark0215/anaconda3/envs/sersnet/lib/python3.8/site-packages/sklearn/metrics/_classification.py:846: RuntimeWarning: invalid value encountered in double_scalars\n",
      "  mcc = cov_ytyp / np.sqrt(cov_ytyt * cov_ypyp)\n"
     ]
    },
    {
     "name": "stdout",
     "output_type": "stream",
     "text": [
      "[(0.6666666666666666, 1.0, 0.0, 0.8, 0.0, 0.5, 0.0, 0.24058800000000002, 0.5581529468889391), (0.6666666666666666, 1.0, 0.0, 0.8, 0.0, 0.5, 0.0, 0.30886, 0.6223630511059755), (0.6666666666666666, 1.0, 0.0, 0.8, 0.0, 0.5, 0.0, 0.263872, 0.581244814684415)]\n",
      "[ 50   0   0 100]\n",
      " \n",
      "Training/ Validation / Test BACC : 1.0 / 1.0 / 1.0  \n",
      "Training/ Validation / Test Youden-index: 1.0 / 1.0 / 1.0  \n",
      "Training/ Validation / Test MCC: 1.0 / 1.0 / 1.0  \n",
      "Training/ Validation / Test AUC: 1.0 / 1.0 / 1.0  \n",
      "Training/ Validation / Test AUPR: 1.0 / 1.0 / 1.0\n"
     ]
    },
    {
     "name": "stderr",
     "output_type": "stream",
     "text": [
      "/mnt/sypark0215/anaconda3/envs/sersnet/lib/python3.8/site-packages/sklearn/metrics/_classification.py:846: RuntimeWarning: invalid value encountered in double_scalars\n",
      "  mcc = cov_ytyp / np.sqrt(cov_ytyt * cov_ypyp)\n"
     ]
    },
    {
     "name": "stdout",
     "output_type": "stream",
     "text": [
      "[(0.6666666666666666, 1.0, 0.0, 0.8, 0.0, 0.5, 0.0, 0.24058800000000002, 0.5581529468889391), (0.6666666666666666, 1.0, 0.0, 0.8, 0.0, 0.5, 0.0, 0.30886, 0.6223630511059755), (0.6666666666666666, 1.0, 0.0, 0.8, 0.0, 0.5, 0.0, 0.263872, 0.581244814684415), (0.6666666666666666, 1.0, 0.0, 0.8, 0.0, 0.5, 0.0, 0.277184, 0.5938703809706661)]\n",
      "[ 50   0   0 100]\n",
      " \n",
      "Training/ Validation / Test BACC : 1.0 / 1.0 / 1.0  \n",
      "Training/ Validation / Test Youden-index: 1.0 / 1.0 / 1.0  \n",
      "Training/ Validation / Test MCC: 1.0 / 1.0 / 1.0  \n",
      "Training/ Validation / Test AUC: 1.0 / 1.0 / 1.0  \n",
      "Training/ Validation / Test AUPR: 1.0 / 1.0 / 1.0\n"
     ]
    },
    {
     "name": "stderr",
     "output_type": "stream",
     "text": [
      "/mnt/sypark0215/anaconda3/envs/sersnet/lib/python3.8/site-packages/sklearn/metrics/_classification.py:846: RuntimeWarning: invalid value encountered in double_scalars\n",
      "  mcc = cov_ytyp / np.sqrt(cov_ytyt * cov_ypyp)\n"
     ]
    },
    {
     "name": "stdout",
     "output_type": "stream",
     "text": [
      "[(0.6666666666666666, 1.0, 0.0, 0.8, 0.0, 0.5, 0.0, 0.24058800000000002, 0.5581529468889391), (0.6666666666666666, 1.0, 0.0, 0.8, 0.0, 0.5, 0.0, 0.30886, 0.6223630511059755), (0.6666666666666666, 1.0, 0.0, 0.8, 0.0, 0.5, 0.0, 0.263872, 0.581244814684415), (0.6666666666666666, 1.0, 0.0, 0.8, 0.0, 0.5, 0.0, 0.277184, 0.5938703809706661), (0.6666666666666666, 1.0, 0.0, 0.8, 0.0, 0.5, 0.0, 0.246934, 0.5650929682248205)]\n",
      "[ 50   0   0 100]\n",
      " \n",
      "Training/ Validation / Test BACC : 1.0 / 1.0 / 1.0  \n",
      "Training/ Validation / Test Youden-index: 1.0 / 1.0 / 1.0  \n",
      "Training/ Validation / Test MCC: 1.0 / 1.0 / 1.0  \n",
      "Training/ Validation / Test AUC: 1.0 / 1.0 / 1.0  \n",
      "Training/ Validation / Test AUPR: 1.0 / 1.0 / 1.0\n"
     ]
    },
    {
     "name": "stderr",
     "output_type": "stream",
     "text": [
      "/mnt/sypark0215/anaconda3/envs/sersnet/lib/python3.8/site-packages/sklearn/metrics/_classification.py:846: RuntimeWarning: invalid value encountered in double_scalars\n",
      "  mcc = cov_ytyp / np.sqrt(cov_ytyt * cov_ypyp)\n"
     ]
    },
    {
     "name": "stdout",
     "output_type": "stream",
     "text": [
      "[(0.6666666666666666, 1.0, 0.0, 0.8, 0.0, 0.5, 0.0, 0.24058800000000002, 0.5581529468889391), (0.6666666666666666, 1.0, 0.0, 0.8, 0.0, 0.5, 0.0, 0.30886, 0.6223630511059755), (0.6666666666666666, 1.0, 0.0, 0.8, 0.0, 0.5, 0.0, 0.263872, 0.581244814684415), (0.6666666666666666, 1.0, 0.0, 0.8, 0.0, 0.5, 0.0, 0.277184, 0.5938703809706661), (0.6666666666666666, 1.0, 0.0, 0.8, 0.0, 0.5, 0.0, 0.246934, 0.5650929682248205), (0.6666666666666666, 1.0, 0.0, 0.8, 0.0, 0.5, 0.0, 0.262926, 0.5800823606076461)]\n",
      "[ 50   0   0 100]\n",
      " \n",
      "Training/ Validation / Test BACC : 1.0 / 1.0 / 1.0  \n",
      "Training/ Validation / Test Youden-index: 1.0 / 1.0 / 1.0  \n",
      "Training/ Validation / Test MCC: 1.0 / 1.0 / 1.0  \n",
      "Training/ Validation / Test AUC: 1.0 / 1.0 / 1.0  \n",
      "Training/ Validation / Test AUPR: 1.0 / 1.0 / 1.0\n"
     ]
    },
    {
     "name": "stderr",
     "output_type": "stream",
     "text": [
      "/mnt/sypark0215/anaconda3/envs/sersnet/lib/python3.8/site-packages/sklearn/metrics/_classification.py:846: RuntimeWarning: invalid value encountered in double_scalars\n",
      "  mcc = cov_ytyp / np.sqrt(cov_ytyt * cov_ypyp)\n"
     ]
    },
    {
     "name": "stdout",
     "output_type": "stream",
     "text": [
      "[(0.6666666666666666, 1.0, 0.0, 0.8, 0.0, 0.5, 0.0, 0.24058800000000002, 0.5581529468889391), (0.6666666666666666, 1.0, 0.0, 0.8, 0.0, 0.5, 0.0, 0.30886, 0.6223630511059755), (0.6666666666666666, 1.0, 0.0, 0.8, 0.0, 0.5, 0.0, 0.263872, 0.581244814684415), (0.6666666666666666, 1.0, 0.0, 0.8, 0.0, 0.5, 0.0, 0.277184, 0.5938703809706661), (0.6666666666666666, 1.0, 0.0, 0.8, 0.0, 0.5, 0.0, 0.246934, 0.5650929682248205), (0.6666666666666666, 1.0, 0.0, 0.8, 0.0, 0.5, 0.0, 0.262926, 0.5800823606076461), (0.6666666666666666, 1.0, 0.0, 0.8, 0.0, 0.5, 0.0, 0.262536, 0.5792150836872529)]\n",
      "[ 50   0   0 100]\n",
      " \n",
      "Training/ Validation / Test BACC : 1.0 / 1.0 / 1.0  \n",
      "Training/ Validation / Test Youden-index: 1.0 / 1.0 / 1.0  \n",
      "Training/ Validation / Test MCC: 1.0 / 1.0 / 1.0  \n",
      "Training/ Validation / Test AUC: 1.0 / 1.0 / 1.0  \n",
      "Training/ Validation / Test AUPR: 1.0 / 1.0 / 1.0\n"
     ]
    },
    {
     "name": "stderr",
     "output_type": "stream",
     "text": [
      "/mnt/sypark0215/anaconda3/envs/sersnet/lib/python3.8/site-packages/sklearn/metrics/_classification.py:846: RuntimeWarning: invalid value encountered in double_scalars\n",
      "  mcc = cov_ytyp / np.sqrt(cov_ytyt * cov_ypyp)\n"
     ]
    },
    {
     "name": "stdout",
     "output_type": "stream",
     "text": [
      "[(0.6666666666666666, 1.0, 0.0, 0.8, 0.0, 0.5, 0.0, 0.24058800000000002, 0.5581529468889391), (0.6666666666666666, 1.0, 0.0, 0.8, 0.0, 0.5, 0.0, 0.30886, 0.6223630511059755), (0.6666666666666666, 1.0, 0.0, 0.8, 0.0, 0.5, 0.0, 0.263872, 0.581244814684415), (0.6666666666666666, 1.0, 0.0, 0.8, 0.0, 0.5, 0.0, 0.277184, 0.5938703809706661), (0.6666666666666666, 1.0, 0.0, 0.8, 0.0, 0.5, 0.0, 0.246934, 0.5650929682248205), (0.6666666666666666, 1.0, 0.0, 0.8, 0.0, 0.5, 0.0, 0.262926, 0.5800823606076461), (0.6666666666666666, 1.0, 0.0, 0.8, 0.0, 0.5, 0.0, 0.262536, 0.5792150836872529), (0.6666666666666666, 1.0, 0.0, 0.8, 0.0, 0.5, 0.0, 0.197376, 0.520797512488792)]\n",
      "[ 50   0   0 100]\n",
      " \n",
      "Training/ Validation / Test BACC : 1.0 / 1.0 / 1.0  \n",
      "Training/ Validation / Test Youden-index: 1.0 / 1.0 / 1.0  \n",
      "Training/ Validation / Test MCC: 1.0 / 1.0 / 1.0  \n",
      "Training/ Validation / Test AUC: 1.0 / 1.0 / 1.0  \n",
      "Training/ Validation / Test AUPR: 1.0 / 1.0 / 1.0\n"
     ]
    },
    {
     "name": "stderr",
     "output_type": "stream",
     "text": [
      "/mnt/sypark0215/anaconda3/envs/sersnet/lib/python3.8/site-packages/sklearn/metrics/_classification.py:846: RuntimeWarning: invalid value encountered in double_scalars\n",
      "  mcc = cov_ytyp / np.sqrt(cov_ytyt * cov_ypyp)\n"
     ]
    },
    {
     "name": "stdout",
     "output_type": "stream",
     "text": [
      "[(0.6666666666666666, 1.0, 0.0, 0.8, 0.0, 0.5, 0.0, 0.24058800000000002, 0.5581529468889391), (0.6666666666666666, 1.0, 0.0, 0.8, 0.0, 0.5, 0.0, 0.30886, 0.6223630511059755), (0.6666666666666666, 1.0, 0.0, 0.8, 0.0, 0.5, 0.0, 0.263872, 0.581244814684415), (0.6666666666666666, 1.0, 0.0, 0.8, 0.0, 0.5, 0.0, 0.277184, 0.5938703809706661), (0.6666666666666666, 1.0, 0.0, 0.8, 0.0, 0.5, 0.0, 0.246934, 0.5650929682248205), (0.6666666666666666, 1.0, 0.0, 0.8, 0.0, 0.5, 0.0, 0.262926, 0.5800823606076461), (0.6666666666666666, 1.0, 0.0, 0.8, 0.0, 0.5, 0.0, 0.262536, 0.5792150836872529), (0.6666666666666666, 1.0, 0.0, 0.8, 0.0, 0.5, 0.0, 0.197376, 0.520797512488792), (0.6666666666666666, 1.0, 0.0, 0.8, 0.0, 0.5, 0.0, 0.2051, 0.5275051323789485)]\n",
      "[ 50   0   0 100]\n",
      " \n",
      "Training/ Validation / Test BACC : 1.0 / 1.0 / 1.0  \n",
      "Training/ Validation / Test Youden-index: 1.0 / 1.0 / 1.0  \n",
      "Training/ Validation / Test MCC: 1.0 / 1.0 / 1.0  \n",
      "Training/ Validation / Test AUC: 1.0 / 1.0 / 1.0  \n",
      "Training/ Validation / Test AUPR: 1.0 / 1.0 / 1.0\n"
     ]
    },
    {
     "name": "stderr",
     "output_type": "stream",
     "text": [
      "/mnt/sypark0215/anaconda3/envs/sersnet/lib/python3.8/site-packages/sklearn/metrics/_classification.py:846: RuntimeWarning: invalid value encountered in double_scalars\n",
      "  mcc = cov_ytyp / np.sqrt(cov_ytyt * cov_ypyp)\n"
     ]
    },
    {
     "name": "stdout",
     "output_type": "stream",
     "text": [
      "[(0.6666666666666666, 1.0, 0.0, 0.8, 0.0, 0.5, 0.0, 0.24058800000000002, 0.5581529468889391), (0.6666666666666666, 1.0, 0.0, 0.8, 0.0, 0.5, 0.0, 0.30886, 0.6223630511059755), (0.6666666666666666, 1.0, 0.0, 0.8, 0.0, 0.5, 0.0, 0.263872, 0.581244814684415), (0.6666666666666666, 1.0, 0.0, 0.8, 0.0, 0.5, 0.0, 0.277184, 0.5938703809706661), (0.6666666666666666, 1.0, 0.0, 0.8, 0.0, 0.5, 0.0, 0.246934, 0.5650929682248205), (0.6666666666666666, 1.0, 0.0, 0.8, 0.0, 0.5, 0.0, 0.262926, 0.5800823606076461), (0.6666666666666666, 1.0, 0.0, 0.8, 0.0, 0.5, 0.0, 0.262536, 0.5792150836872529), (0.6666666666666666, 1.0, 0.0, 0.8, 0.0, 0.5, 0.0, 0.197376, 0.520797512488792), (0.6666666666666666, 1.0, 0.0, 0.8, 0.0, 0.5, 0.0, 0.2051, 0.5275051323789485), (0.6666666666666666, 1.0, 0.0, 0.8, 0.0, 0.5, 0.0, 0.12800799999999998, 0.48024174235103206)]\n",
      "[ 50   0   0 100]\n",
      " \n",
      "Training/ Validation / Test BACC : 1.0 / 1.0 / 1.0  \n",
      "Training/ Validation / Test Youden-index: 1.0 / 1.0 / 1.0  \n",
      "Training/ Validation / Test MCC: 1.0 / 1.0 / 1.0  \n",
      "Training/ Validation / Test AUC: 1.0 / 1.0 / 1.0  \n",
      "Training/ Validation / Test AUPR: 1.0 / 1.0 / 1.0\n",
      "[(0.6666666666666666, 1.0, 0.0, 0.8, 0.0, 0.5, 0.0, 0.5, 0.8333333333333333)]\n"
     ]
    },
    {
     "name": "stderr",
     "output_type": "stream",
     "text": [
      "/mnt/sypark0215/anaconda3/envs/sersnet/lib/python3.8/site-packages/sklearn/metrics/_classification.py:846: RuntimeWarning: invalid value encountered in double_scalars\n",
      "  mcc = cov_ytyp / np.sqrt(cov_ytyt * cov_ypyp)\n"
     ]
    },
    {
     "name": "stdout",
     "output_type": "stream",
     "text": [
      "[ 50   0   0 100]\n",
      " \n",
      "Training/ Validation / Test BACC : 1.0 / 0.995 / 1.0  \n",
      "Training/ Validation / Test Youden-index: 1.0 / 0.99 / 1.0  \n",
      "Training/ Validation / Test MCC: 1.0 / 0.985184366143778 / 1.0  \n",
      "Training/ Validation / Test AUC: 1.0 / 1.0 / 1.0  \n",
      "Training/ Validation / Test AUPR: 1.0 / 1.0 / 1.0\n",
      "[(0.6666666666666666, 1.0, 0.0, 0.8, 0.0, 0.5, 0.0, 0.5, 0.8333333333333333), (0.6666666666666666, 1.0, 0.0, 0.8, 0.0, 0.5, 0.0, 0.5, 0.8333333333333333)]\n"
     ]
    },
    {
     "name": "stderr",
     "output_type": "stream",
     "text": [
      "/mnt/sypark0215/anaconda3/envs/sersnet/lib/python3.8/site-packages/sklearn/metrics/_classification.py:846: RuntimeWarning: invalid value encountered in double_scalars\n",
      "  mcc = cov_ytyp / np.sqrt(cov_ytyt * cov_ypyp)\n"
     ]
    },
    {
     "name": "stdout",
     "output_type": "stream",
     "text": [
      "[ 50   0   0 100]\n",
      " \n",
      "Training/ Validation / Test BACC : 1.0 / 1.0 / 1.0  \n",
      "Training/ Validation / Test Youden-index: 1.0 / 1.0 / 1.0  \n",
      "Training/ Validation / Test MCC: 1.0 / 1.0 / 1.0  \n",
      "Training/ Validation / Test AUC: 1.0 / 1.0 / 1.0  \n",
      "Training/ Validation / Test AUPR: 1.0 / 1.0 / 1.0\n",
      "[(0.6666666666666666, 1.0, 0.0, 0.8, 0.0, 0.5, 0.0, 0.5, 0.8333333333333333), (0.6666666666666666, 1.0, 0.0, 0.8, 0.0, 0.5, 0.0, 0.5, 0.8333333333333333), (0.6666666666666666, 1.0, 0.0, 0.8, 0.0, 0.5, 0.0, 0.5, 0.8333333333333333)]\n"
     ]
    },
    {
     "name": "stderr",
     "output_type": "stream",
     "text": [
      "/mnt/sypark0215/anaconda3/envs/sersnet/lib/python3.8/site-packages/sklearn/metrics/_classification.py:846: RuntimeWarning: invalid value encountered in double_scalars\n",
      "  mcc = cov_ytyp / np.sqrt(cov_ytyt * cov_ypyp)\n"
     ]
    },
    {
     "name": "stdout",
     "output_type": "stream",
     "text": [
      "[ 50   0   0 100]\n",
      " \n",
      "Training/ Validation / Test BACC : 1.0 / 1.0 / 1.0  \n",
      "Training/ Validation / Test Youden-index: 1.0 / 1.0 / 1.0  \n",
      "Training/ Validation / Test MCC: 1.0 / 1.0 / 1.0  \n",
      "Training/ Validation / Test AUC: 1.0 / 1.0 / 1.0  \n",
      "Training/ Validation / Test AUPR: 1.0 / 1.0 / 1.0\n",
      "[(0.6666666666666666, 1.0, 0.0, 0.8, 0.0, 0.5, 0.0, 0.5, 0.8333333333333333), (0.6666666666666666, 1.0, 0.0, 0.8, 0.0, 0.5, 0.0, 0.5, 0.8333333333333333), (0.6666666666666666, 1.0, 0.0, 0.8, 0.0, 0.5, 0.0, 0.5, 0.8333333333333333), (0.6666666666666666, 1.0, 0.0, 0.8, 0.0, 0.5, 0.0, 0.5, 0.8333333333333333)]\n"
     ]
    },
    {
     "name": "stderr",
     "output_type": "stream",
     "text": [
      "/mnt/sypark0215/anaconda3/envs/sersnet/lib/python3.8/site-packages/sklearn/metrics/_classification.py:846: RuntimeWarning: invalid value encountered in double_scalars\n",
      "  mcc = cov_ytyp / np.sqrt(cov_ytyt * cov_ypyp)\n"
     ]
    },
    {
     "name": "stdout",
     "output_type": "stream",
     "text": [
      "[ 50   0   0 100]\n",
      " \n",
      "Training/ Validation / Test BACC : 1.0 / 1.0 / 1.0  \n",
      "Training/ Validation / Test Youden-index: 1.0 / 1.0 / 1.0  \n",
      "Training/ Validation / Test MCC: 1.0 / 1.0 / 1.0  \n",
      "Training/ Validation / Test AUC: 1.0 / 1.0 / 1.0  \n",
      "Training/ Validation / Test AUPR: 1.0 / 1.0 / 1.0\n",
      "[(0.6666666666666666, 1.0, 0.0, 0.8, 0.0, 0.5, 0.0, 0.5, 0.8333333333333333), (0.6666666666666666, 1.0, 0.0, 0.8, 0.0, 0.5, 0.0, 0.5, 0.8333333333333333), (0.6666666666666666, 1.0, 0.0, 0.8, 0.0, 0.5, 0.0, 0.5, 0.8333333333333333), (0.6666666666666666, 1.0, 0.0, 0.8, 0.0, 0.5, 0.0, 0.5, 0.8333333333333333), (0.6666666666666666, 1.0, 0.0, 0.8, 0.0, 0.5, 0.0, 0.5, 0.8333333333333333)]\n"
     ]
    },
    {
     "name": "stderr",
     "output_type": "stream",
     "text": [
      "/mnt/sypark0215/anaconda3/envs/sersnet/lib/python3.8/site-packages/sklearn/metrics/_classification.py:846: RuntimeWarning: invalid value encountered in double_scalars\n",
      "  mcc = cov_ytyp / np.sqrt(cov_ytyt * cov_ypyp)\n"
     ]
    },
    {
     "name": "stdout",
     "output_type": "stream",
     "text": [
      "[ 50   0   0 100]\n",
      " \n",
      "Training/ Validation / Test BACC : 0.99875 / 1.0 / 1.0  \n",
      "Training/ Validation / Test Youden-index: 0.9975 / 1.0 / 1.0  \n",
      "Training/ Validation / Test MCC: 0.9962616691576747 / 1.0 / 1.0  \n",
      "Training/ Validation / Test AUC: 1.0 / 1.0 / 1.0  \n",
      "Training/ Validation / Test AUPR: 1.0 / 1.0 / 1.0\n",
      "[(0.6666666666666666, 1.0, 0.0, 0.8, 0.0, 0.5, 0.0, 0.5, 0.8333333333333333), (0.6666666666666666, 1.0, 0.0, 0.8, 0.0, 0.5, 0.0, 0.5, 0.8333333333333333), (0.6666666666666666, 1.0, 0.0, 0.8, 0.0, 0.5, 0.0, 0.5, 0.8333333333333333), (0.6666666666666666, 1.0, 0.0, 0.8, 0.0, 0.5, 0.0, 0.5, 0.8333333333333333), (0.6666666666666666, 1.0, 0.0, 0.8, 0.0, 0.5, 0.0, 0.5, 0.8333333333333333), (0.6666666666666666, 1.0, 0.0, 0.8, 0.0, 0.5, 0.0, 0.5, 0.8333333333333333)]\n"
     ]
    },
    {
     "name": "stderr",
     "output_type": "stream",
     "text": [
      "/mnt/sypark0215/anaconda3/envs/sersnet/lib/python3.8/site-packages/sklearn/metrics/_classification.py:846: RuntimeWarning: invalid value encountered in double_scalars\n",
      "  mcc = cov_ytyp / np.sqrt(cov_ytyt * cov_ypyp)\n"
     ]
    },
    {
     "name": "stdout",
     "output_type": "stream",
     "text": [
      "[50  0  1 99]\n",
      " \n",
      "Training/ Validation / Test BACC : 1.0 / 0.995 / 0.995  \n",
      "Training/ Validation / Test Youden-index: 1.0 / 0.99 / 0.99  \n",
      "Training/ Validation / Test MCC: 1.0 / 0.985184366143778 / 0.985184366143778  \n",
      "Training/ Validation / Test AUC: 1.0 / 1.0 / 1.0  \n",
      "Training/ Validation / Test AUPR: 1.0 / 1.0 / 1.0\n",
      "[(0.6666666666666666, 1.0, 0.0, 0.8, 0.0, 0.5, 0.0, 0.5, 0.8333333333333333), (0.6666666666666666, 1.0, 0.0, 0.8, 0.0, 0.5, 0.0, 0.5, 0.8333333333333333), (0.6666666666666666, 1.0, 0.0, 0.8, 0.0, 0.5, 0.0, 0.5, 0.8333333333333333), (0.6666666666666666, 1.0, 0.0, 0.8, 0.0, 0.5, 0.0, 0.5, 0.8333333333333333), (0.6666666666666666, 1.0, 0.0, 0.8, 0.0, 0.5, 0.0, 0.5, 0.8333333333333333), (0.6666666666666666, 1.0, 0.0, 0.8, 0.0, 0.5, 0.0, 0.5, 0.8333333333333333), (0.6666666666666666, 1.0, 0.0, 0.8, 0.0, 0.5, 0.0, 0.5, 0.8333333333333333)]\n"
     ]
    },
    {
     "name": "stderr",
     "output_type": "stream",
     "text": [
      "/mnt/sypark0215/anaconda3/envs/sersnet/lib/python3.8/site-packages/sklearn/metrics/_classification.py:846: RuntimeWarning: invalid value encountered in double_scalars\n",
      "  mcc = cov_ytyp / np.sqrt(cov_ytyt * cov_ypyp)\n"
     ]
    },
    {
     "name": "stdout",
     "output_type": "stream",
     "text": [
      "[ 50   0   0 100]\n",
      " \n",
      "Training/ Validation / Test BACC : 1.0 / 0.995 / 1.0  \n",
      "Training/ Validation / Test Youden-index: 1.0 / 0.99 / 1.0  \n",
      "Training/ Validation / Test MCC: 1.0 / 0.985184366143778 / 1.0  \n",
      "Training/ Validation / Test AUC: 1.0 / 1.0 / 1.0  \n",
      "Training/ Validation / Test AUPR: 1.0 / 1.0 / 1.0\n",
      "[(0.6666666666666666, 1.0, 0.0, 0.8, 0.0, 0.5, 0.0, 0.5, 0.8333333333333333), (0.6666666666666666, 1.0, 0.0, 0.8, 0.0, 0.5, 0.0, 0.5, 0.8333333333333333), (0.6666666666666666, 1.0, 0.0, 0.8, 0.0, 0.5, 0.0, 0.5, 0.8333333333333333), (0.6666666666666666, 1.0, 0.0, 0.8, 0.0, 0.5, 0.0, 0.5, 0.8333333333333333), (0.6666666666666666, 1.0, 0.0, 0.8, 0.0, 0.5, 0.0, 0.5, 0.8333333333333333), (0.6666666666666666, 1.0, 0.0, 0.8, 0.0, 0.5, 0.0, 0.5, 0.8333333333333333), (0.6666666666666666, 1.0, 0.0, 0.8, 0.0, 0.5, 0.0, 0.5, 0.8333333333333333), (0.6666666666666666, 1.0, 0.0, 0.8, 0.0, 0.5, 0.0, 0.5, 0.8333333333333333)]\n"
     ]
    },
    {
     "name": "stderr",
     "output_type": "stream",
     "text": [
      "/mnt/sypark0215/anaconda3/envs/sersnet/lib/python3.8/site-packages/sklearn/metrics/_classification.py:846: RuntimeWarning: invalid value encountered in double_scalars\n",
      "  mcc = cov_ytyp / np.sqrt(cov_ytyt * cov_ypyp)\n"
     ]
    },
    {
     "name": "stdout",
     "output_type": "stream",
     "text": [
      "[ 50   0   0 100]\n",
      " \n",
      "Training/ Validation / Test BACC : 1.0 / 1.0 / 1.0  \n",
      "Training/ Validation / Test Youden-index: 1.0 / 1.0 / 1.0  \n",
      "Training/ Validation / Test MCC: 1.0 / 1.0 / 1.0  \n",
      "Training/ Validation / Test AUC: 1.0 / 1.0 / 1.0  \n",
      "Training/ Validation / Test AUPR: 1.0 / 1.0 / 1.0\n",
      "[(0.6666666666666666, 1.0, 0.0, 0.8, 0.0, 0.5, 0.0, 0.5, 0.8333333333333333), (0.6666666666666666, 1.0, 0.0, 0.8, 0.0, 0.5, 0.0, 0.5, 0.8333333333333333), (0.6666666666666666, 1.0, 0.0, 0.8, 0.0, 0.5, 0.0, 0.5, 0.8333333333333333), (0.6666666666666666, 1.0, 0.0, 0.8, 0.0, 0.5, 0.0, 0.5, 0.8333333333333333), (0.6666666666666666, 1.0, 0.0, 0.8, 0.0, 0.5, 0.0, 0.5, 0.8333333333333333), (0.6666666666666666, 1.0, 0.0, 0.8, 0.0, 0.5, 0.0, 0.5, 0.8333333333333333), (0.6666666666666666, 1.0, 0.0, 0.8, 0.0, 0.5, 0.0, 0.5, 0.8333333333333333), (0.6666666666666666, 1.0, 0.0, 0.8, 0.0, 0.5, 0.0, 0.5, 0.8333333333333333), (0.6666666666666666, 1.0, 0.0, 0.8, 0.0, 0.5, 0.0, 0.5, 0.8333333333333333)]\n"
     ]
    },
    {
     "name": "stderr",
     "output_type": "stream",
     "text": [
      "/mnt/sypark0215/anaconda3/envs/sersnet/lib/python3.8/site-packages/sklearn/metrics/_classification.py:846: RuntimeWarning: invalid value encountered in double_scalars\n",
      "  mcc = cov_ytyp / np.sqrt(cov_ytyt * cov_ypyp)\n"
     ]
    },
    {
     "name": "stdout",
     "output_type": "stream",
     "text": [
      "[ 50   0   0 100]\n",
      " \n",
      "Training/ Validation / Test BACC : 0.999375 / 0.995 / 1.0  \n",
      "Training/ Validation / Test Youden-index: 0.99875 / 0.99 / 1.0  \n",
      "Training/ Validation / Test MCC: 0.9981279234752164 / 0.985184366143778 / 1.0  \n",
      "Training/ Validation / Test AUC: 1.0 / 1.0 / 1.0  \n",
      "Training/ Validation / Test AUPR: 1.0 / 1.0 / 1.0\n",
      "[(0.6666666666666666, 1.0, 0.0, 0.8, 0.0, 0.5, 0.0, 0.5, 0.8333333333333333), (0.6666666666666666, 1.0, 0.0, 0.8, 0.0, 0.5, 0.0, 0.5, 0.8333333333333333), (0.6666666666666666, 1.0, 0.0, 0.8, 0.0, 0.5, 0.0, 0.5, 0.8333333333333333), (0.6666666666666666, 1.0, 0.0, 0.8, 0.0, 0.5, 0.0, 0.5, 0.8333333333333333), (0.6666666666666666, 1.0, 0.0, 0.8, 0.0, 0.5, 0.0, 0.5, 0.8333333333333333), (0.6666666666666666, 1.0, 0.0, 0.8, 0.0, 0.5, 0.0, 0.5, 0.8333333333333333), (0.6666666666666666, 1.0, 0.0, 0.8, 0.0, 0.5, 0.0, 0.5, 0.8333333333333333), (0.6666666666666666, 1.0, 0.0, 0.8, 0.0, 0.5, 0.0, 0.5, 0.8333333333333333), (0.6666666666666666, 1.0, 0.0, 0.8, 0.0, 0.5, 0.0, 0.5, 0.8333333333333333), (0.6666666666666666, 1.0, 0.0, 0.8, 0.0, 0.5, 0.0, 0.5, 0.8333333333333333)]\n",
      "[50  0 19 81]\n"
     ]
    },
    {
     "name": "stderr",
     "output_type": "stream",
     "text": [
      "/mnt/sypark0215/anaconda3/envs/sersnet/lib/python3.8/site-packages/sklearn/metrics/_classification.py:846: RuntimeWarning: invalid value encountered in double_scalars\n",
      "  mcc = cov_ytyp / np.sqrt(cov_ytyt * cov_ypyp)\n"
     ]
    },
    {
     "name": "stdout",
     "output_type": "stream",
     "text": [
      " \n",
      "Training/ Validation / Test BACC : 0.87 / 0.9099999999999999 / 0.905  \n",
      "Training/ Validation / Test Youden-index: 0.74 / 0.8199999999999998 / 0.81  \n",
      "Training/ Validation / Test MCC: 0.6986117665348258 / 0.7849855705941706 / 0.7661308776828738  \n",
      "Training/ Validation / Test AUC: 0.8875359375 / 0.9244 / 0.915  \n",
      "Training/ Validation / Test AUPR: 0.9575536929545667 / 0.9700146803882759 / 0.9716666666666667\n",
      "[(0.6666666666666666, 1.0, 0.0, 0.8, 0.0, 0.5, 0.0, 0.5, 0.8333333333333333)]\n"
     ]
    },
    {
     "name": "stderr",
     "output_type": "stream",
     "text": [
      "/mnt/sypark0215/anaconda3/envs/sersnet/lib/python3.8/site-packages/sklearn/metrics/_classification.py:846: RuntimeWarning: invalid value encountered in double_scalars\n",
      "  mcc = cov_ytyp / np.sqrt(cov_ytyt * cov_ypyp)\n"
     ]
    },
    {
     "name": "stdout",
     "output_type": "stream",
     "text": [
      "[50  0 32 68]\n",
      " \n",
      "Training/ Validation / Test BACC : 0.875625 / 0.87 / 0.8400000000000001  \n",
      "Training/ Validation / Test Youden-index: 0.75125 / 0.74 / 0.6800000000000002  \n",
      "Training/ Validation / Test MCC: 0.7101112452091152 / 0.697926886684224 / 0.6439209162167846  \n",
      "Training/ Validation / Test AUC: 0.8907031249999999 / 0.8847 / 0.87  \n",
      "Training/ Validation / Test AUPR: 0.95844391078111 / 0.9583702125933138 / 0.9566666666666667\n",
      "[(0.6666666666666666, 1.0, 0.0, 0.8, 0.0, 0.5, 0.0, 0.5, 0.8333333333333333), (0.6666666666666666, 1.0, 0.0, 0.8, 0.0, 0.5, 0.0, 0.5, 0.8333333333333333)]\n"
     ]
    },
    {
     "name": "stderr",
     "output_type": "stream",
     "text": [
      "/mnt/sypark0215/anaconda3/envs/sersnet/lib/python3.8/site-packages/sklearn/metrics/_classification.py:846: RuntimeWarning: invalid value encountered in double_scalars\n",
      "  mcc = cov_ytyp / np.sqrt(cov_ytyt * cov_ypyp)\n"
     ]
    },
    {
     "name": "stdout",
     "output_type": "stream",
     "text": [
      "[48  2 19 81]\n",
      " \n",
      "Training/ Validation / Test BACC : 0.888125 / 0.905 / 0.885  \n",
      "Training/ Validation / Test Youden-index: 0.7762500000000001 / 0.81 / 0.77  \n",
      "Training/ Validation / Test MCC: 0.7348376621792271 / 0.7736421443326913 / 0.730128464160456  \n",
      "Training/ Validation / Test AUC: 0.9173 / 0.9289999999999999 / 0.9038  \n",
      "Training/ Validation / Test AUPR: 0.9684909568916092 / 0.9713586294177571 / 0.9620935625406299\n",
      "[(0.6666666666666666, 1.0, 0.0, 0.8, 0.0, 0.5, 0.0, 0.5, 0.8333333333333333), (0.6666666666666666, 1.0, 0.0, 0.8, 0.0, 0.5, 0.0, 0.5, 0.8333333333333333), (0.6666666666666666, 1.0, 0.0, 0.8, 0.0, 0.5, 0.0, 0.5, 0.8333333333333333)]\n"
     ]
    },
    {
     "name": "stderr",
     "output_type": "stream",
     "text": [
      "/mnt/sypark0215/anaconda3/envs/sersnet/lib/python3.8/site-packages/sklearn/metrics/_classification.py:846: RuntimeWarning: invalid value encountered in double_scalars\n",
      "  mcc = cov_ytyp / np.sqrt(cov_ytyt * cov_ypyp)\n"
     ]
    },
    {
     "name": "stdout",
     "output_type": "stream",
     "text": [
      "[48  2 22 78]\n",
      " \n",
      "Training/ Validation / Test BACC : 0.88125 / 0.865 / 0.87  \n",
      "Training/ Validation / Test Youden-index: 0.7625 / 0.73 / 0.74  \n",
      "Training/ Validation / Test MCC: 0.7210139971393178 / 0.6883117863443018 / 0.6992342750670704  \n",
      "Training/ Validation / Test AUC: 0.8958 / 0.8943 / 0.8844  \n",
      "Training/ Validation / Test AUPR: 0.9609192599735259 / 0.9613491278641633 / 0.9555578787598453\n",
      "[(0.6666666666666666, 1.0, 0.0, 0.8, 0.0, 0.5, 0.0, 0.5, 0.8333333333333333), (0.6666666666666666, 1.0, 0.0, 0.8, 0.0, 0.5, 0.0, 0.5, 0.8333333333333333), (0.6666666666666666, 1.0, 0.0, 0.8, 0.0, 0.5, 0.0, 0.5, 0.8333333333333333), (0.6666666666666666, 1.0, 0.0, 0.8, 0.0, 0.5, 0.0, 0.5, 0.8333333333333333)]\n"
     ]
    },
    {
     "name": "stderr",
     "output_type": "stream",
     "text": [
      "/mnt/sypark0215/anaconda3/envs/sersnet/lib/python3.8/site-packages/sklearn/metrics/_classification.py:846: RuntimeWarning: invalid value encountered in double_scalars\n",
      "  mcc = cov_ytyp / np.sqrt(cov_ytyt * cov_ypyp)\n"
     ]
    },
    {
     "name": "stdout",
     "output_type": "stream",
     "text": [
      "[48  2 29 71]\n",
      " \n",
      "Training/ Validation / Test BACC : 0.88125 / 0.8999999999999999 / 0.835  \n",
      "Training/ Validation / Test Youden-index: 0.7625 / 0.7999999999999998 / 0.6699999999999999  \n",
      "Training/ Validation / Test MCC: 0.7210139971393178 / 0.7585750276991751 / 0.6319067757816623  \n",
      "Training/ Validation / Test AUC: 0.8976 / 0.9147 / 0.8542  \n",
      "Training/ Validation / Test AUPR: 0.9614947419375064 / 0.9688330727639892 / 0.944293601426406\n",
      "[(0.6666666666666666, 1.0, 0.0, 0.8, 0.0, 0.5, 0.0, 0.5, 0.8333333333333333), (0.6666666666666666, 1.0, 0.0, 0.8, 0.0, 0.5, 0.0, 0.5, 0.8333333333333333), (0.6666666666666666, 1.0, 0.0, 0.8, 0.0, 0.5, 0.0, 0.5, 0.8333333333333333), (0.6666666666666666, 1.0, 0.0, 0.8, 0.0, 0.5, 0.0, 0.5, 0.8333333333333333), (0.6666666666666666, 1.0, 0.0, 0.8, 0.0, 0.5, 0.0, 0.5, 0.8333333333333333)]\n"
     ]
    },
    {
     "name": "stderr",
     "output_type": "stream",
     "text": [
      "/mnt/sypark0215/anaconda3/envs/sersnet/lib/python3.8/site-packages/sklearn/metrics/_classification.py:846: RuntimeWarning: invalid value encountered in double_scalars\n",
      "  mcc = cov_ytyp / np.sqrt(cov_ytyt * cov_ypyp)\n"
     ]
    },
    {
     "name": "stdout",
     "output_type": "stream",
     "text": [
      "[49  1 27 73]\n",
      " \n",
      "Training/ Validation / Test BACC : 0.880625 / 0.905 / 0.855  \n",
      "Training/ Validation / Test Youden-index: 0.76125 / 0.81 / 0.71  \n",
      "Training/ Validation / Test MCC: 0.7197405077467259 / 0.7736421443326913 / 0.6694539291841839  \n",
      "Training/ Validation / Test AUC: 0.8999874999999999 / 0.9289999999999999 / 0.8745999999999999  \n",
      "Training/ Validation / Test AUPR: 0.9622465016842556 / 0.9713586294177571 / 0.9547334227176332\n",
      "[(0.6666666666666666, 1.0, 0.0, 0.8, 0.0, 0.5, 0.0, 0.5, 0.8333333333333333), (0.6666666666666666, 1.0, 0.0, 0.8, 0.0, 0.5, 0.0, 0.5, 0.8333333333333333), (0.6666666666666666, 1.0, 0.0, 0.8, 0.0, 0.5, 0.0, 0.5, 0.8333333333333333), (0.6666666666666666, 1.0, 0.0, 0.8, 0.0, 0.5, 0.0, 0.5, 0.8333333333333333), (0.6666666666666666, 1.0, 0.0, 0.8, 0.0, 0.5, 0.0, 0.5, 0.8333333333333333), (0.6666666666666666, 1.0, 0.0, 0.8, 0.0, 0.5, 0.0, 0.5, 0.8333333333333333)]\n"
     ]
    },
    {
     "name": "stderr",
     "output_type": "stream",
     "text": [
      "/mnt/sypark0215/anaconda3/envs/sersnet/lib/python3.8/site-packages/sklearn/metrics/_classification.py:846: RuntimeWarning: invalid value encountered in double_scalars\n",
      "  mcc = cov_ytyp / np.sqrt(cov_ytyt * cov_ypyp)\n"
     ]
    },
    {
     "name": "stdout",
     "output_type": "stream",
     "text": [
      "[49  1 19 81]\n",
      " \n",
      "Training/ Validation / Test BACC : 0.87875 / 0.895 / 0.895  \n",
      "Training/ Validation / Test Youden-index: 0.7575000000000001 / 0.79 / 0.79  \n",
      "Training/ Validation / Test MCC: 0.7161949880041312 / 0.7480845938400881 / 0.7480845938400881  \n",
      "Training/ Validation / Test AUC: 0.9047109375000001 / 0.9048 / 0.9244  \n",
      "Training/ Validation / Test AUPR: 0.9634221859947509 / 0.9654747561675272 / 0.9719494805837936\n",
      "[(0.6666666666666666, 1.0, 0.0, 0.8, 0.0, 0.5, 0.0, 0.5, 0.8333333333333333), (0.6666666666666666, 1.0, 0.0, 0.8, 0.0, 0.5, 0.0, 0.5, 0.8333333333333333), (0.6666666666666666, 1.0, 0.0, 0.8, 0.0, 0.5, 0.0, 0.5, 0.8333333333333333), (0.6666666666666666, 1.0, 0.0, 0.8, 0.0, 0.5, 0.0, 0.5, 0.8333333333333333), (0.6666666666666666, 1.0, 0.0, 0.8, 0.0, 0.5, 0.0, 0.5, 0.8333333333333333), (0.6666666666666666, 1.0, 0.0, 0.8, 0.0, 0.5, 0.0, 0.5, 0.8333333333333333), (0.6666666666666666, 1.0, 0.0, 0.8, 0.0, 0.5, 0.0, 0.5, 0.8333333333333333)]\n"
     ]
    },
    {
     "name": "stderr",
     "output_type": "stream",
     "text": [
      "/mnt/sypark0215/anaconda3/envs/sersnet/lib/python3.8/site-packages/sklearn/metrics/_classification.py:846: RuntimeWarning: invalid value encountered in double_scalars\n",
      "  mcc = cov_ytyp / np.sqrt(cov_ytyt * cov_ypyp)\n"
     ]
    },
    {
     "name": "stdout",
     "output_type": "stream",
     "text": [
      "[48  2 29 71]\n",
      " \n",
      "Training/ Validation / Test BACC : 0.88625 / 0.86 / 0.835  \n",
      "Training/ Validation / Test Youden-index: 0.7725 / 0.72 / 0.6699999999999999  \n",
      "Training/ Validation / Test MCC: 0.731287721782226 / 0.6788225099390857 / 0.6319067757816623  \n",
      "Training/ Validation / Test AUC: 0.90140625 / 0.8795999999999999 / 0.8542  \n",
      "Training/ Validation / Test AUPR: 0.9628975023278505 / 0.9564879829253581 / 0.944293601426406\n",
      "[(0.6666666666666666, 1.0, 0.0, 0.8, 0.0, 0.5, 0.0, 0.5, 0.8333333333333333), (0.6666666666666666, 1.0, 0.0, 0.8, 0.0, 0.5, 0.0, 0.5, 0.8333333333333333), (0.6666666666666666, 1.0, 0.0, 0.8, 0.0, 0.5, 0.0, 0.5, 0.8333333333333333), (0.6666666666666666, 1.0, 0.0, 0.8, 0.0, 0.5, 0.0, 0.5, 0.8333333333333333), (0.6666666666666666, 1.0, 0.0, 0.8, 0.0, 0.5, 0.0, 0.5, 0.8333333333333333), (0.6666666666666666, 1.0, 0.0, 0.8, 0.0, 0.5, 0.0, 0.5, 0.8333333333333333), (0.6666666666666666, 1.0, 0.0, 0.8, 0.0, 0.5, 0.0, 0.5, 0.8333333333333333), (0.6666666666666666, 1.0, 0.0, 0.8, 0.0, 0.5, 0.0, 0.5, 0.8333333333333333)]\n"
     ]
    },
    {
     "name": "stderr",
     "output_type": "stream",
     "text": [
      "/mnt/sypark0215/anaconda3/envs/sersnet/lib/python3.8/site-packages/sklearn/metrics/_classification.py:846: RuntimeWarning: invalid value encountered in double_scalars\n",
      "  mcc = cov_ytyp / np.sqrt(cov_ytyt * cov_ypyp)\n"
     ]
    },
    {
     "name": "stdout",
     "output_type": "stream",
     "text": [
      "[47  3 20 80]\n",
      " \n",
      "Training/ Validation / Test BACC : 0.879375 / 0.87 / 0.87  \n",
      "Training/ Validation / Test Youden-index: 0.75875 / 0.74 / 0.74  \n",
      "Training/ Validation / Test MCC: 0.7172005421662777 / 0.6977407149243606 / 0.701681900621737  \n",
      "Training/ Validation / Test AUC: 0.893925 / 0.905 / 0.8841  \n",
      "Training/ Validation / Test AUPR: 0.960251520741031 / 0.9683333333333333 / 0.9531784935324648\n",
      "[(0.6666666666666666, 1.0, 0.0, 0.8, 0.0, 0.5, 0.0, 0.5, 0.8333333333333333), (0.6666666666666666, 1.0, 0.0, 0.8, 0.0, 0.5, 0.0, 0.5, 0.8333333333333333), (0.6666666666666666, 1.0, 0.0, 0.8, 0.0, 0.5, 0.0, 0.5, 0.8333333333333333), (0.6666666666666666, 1.0, 0.0, 0.8, 0.0, 0.5, 0.0, 0.5, 0.8333333333333333), (0.6666666666666666, 1.0, 0.0, 0.8, 0.0, 0.5, 0.0, 0.5, 0.8333333333333333), (0.6666666666666666, 1.0, 0.0, 0.8, 0.0, 0.5, 0.0, 0.5, 0.8333333333333333), (0.6666666666666666, 1.0, 0.0, 0.8, 0.0, 0.5, 0.0, 0.5, 0.8333333333333333), (0.6666666666666666, 1.0, 0.0, 0.8, 0.0, 0.5, 0.0, 0.5, 0.8333333333333333), (0.6666666666666666, 1.0, 0.0, 0.8, 0.0, 0.5, 0.0, 0.5, 0.8333333333333333)]\n"
     ]
    },
    {
     "name": "stderr",
     "output_type": "stream",
     "text": [
      "/mnt/sypark0215/anaconda3/envs/sersnet/lib/python3.8/site-packages/sklearn/metrics/_classification.py:846: RuntimeWarning: invalid value encountered in double_scalars\n",
      "  mcc = cov_ytyp / np.sqrt(cov_ytyt * cov_ypyp)\n"
     ]
    },
    {
     "name": "stdout",
     "output_type": "stream",
     "text": [
      "[47  3 18 82]\n",
      " \n",
      "Training/ Validation / Test BACC : 0.880625 / 0.89 / 0.8799999999999999  \n",
      "Training/ Validation / Test Youden-index: 0.76125 / 0.78 / 0.7599999999999998  \n",
      "Training/ Validation / Test MCC: 0.7194782693049248 / 0.7377556599909154 / 0.722990271114831  \n",
      "Training/ Validation / Test AUC: 0.9043296875 / 0.9193999999999999 / 0.8890999999999999  \n",
      "Training/ Validation / Test AUPR: 0.9640361615505014 / 0.9702091908062878 / 0.9550576633219446\n",
      "[(0.6666666666666666, 1.0, 0.0, 0.8, 0.0, 0.5, 0.0, 0.5, 0.8333333333333333), (0.6666666666666666, 1.0, 0.0, 0.8, 0.0, 0.5, 0.0, 0.5, 0.8333333333333333), (0.6666666666666666, 1.0, 0.0, 0.8, 0.0, 0.5, 0.0, 0.5, 0.8333333333333333), (0.6666666666666666, 1.0, 0.0, 0.8, 0.0, 0.5, 0.0, 0.5, 0.8333333333333333), (0.6666666666666666, 1.0, 0.0, 0.8, 0.0, 0.5, 0.0, 0.5, 0.8333333333333333), (0.6666666666666666, 1.0, 0.0, 0.8, 0.0, 0.5, 0.0, 0.5, 0.8333333333333333), (0.6666666666666666, 1.0, 0.0, 0.8, 0.0, 0.5, 0.0, 0.5, 0.8333333333333333), (0.6666666666666666, 1.0, 0.0, 0.8, 0.0, 0.5, 0.0, 0.5, 0.8333333333333333), (0.6666666666666666, 1.0, 0.0, 0.8, 0.0, 0.5, 0.0, 0.5, 0.8333333333333333), (0.6666666666666666, 1.0, 0.0, 0.8, 0.0, 0.5, 0.0, 0.5, 0.8333333333333333)]\n"
     ]
    },
    {
     "name": "stderr",
     "output_type": "stream",
     "text": [
      "/mnt/sypark0215/anaconda3/envs/sersnet/lib/python3.8/site-packages/sklearn/metrics/_classification.py:846: RuntimeWarning: invalid value encountered in double_scalars\n",
      "  mcc = cov_ytyp / np.sqrt(cov_ytyt * cov_ypyp)\n"
     ]
    },
    {
     "name": "stdout",
     "output_type": "stream",
     "text": [
      "[ 50   0   0 100]\n",
      " \n",
      "Training/ Validation / Test BACC : 1.0 / 0.975 / 1.0  \n",
      "Training/ Validation / Test Youden-index: 1.0 / 0.95 / 1.0  \n",
      "Training/ Validation / Test MCC: 1.0 / 0.9548823821339676 / 1.0  \n",
      "Training/ Validation / Test AUC: 1.0 / 0.975 / 1.0  \n",
      "Training/ Validation / Test AUPR: 1.0 / 0.9884323432343234 / 1.0\n",
      "[(0.666, 0.998, 0.002, 0.7993592310772928, 0.0, 0.5, 0.0, 0.5, 0.8329999999999999)]\n",
      "[50  0  2 98]\n",
      " \n",
      "Training/ Validation / Test BACC : 1.0 / 0.995 / 0.99  \n",
      "Training/ Validation / Test Youden-index: 1.0 / 0.99 / 0.98  \n",
      "Training/ Validation / Test MCC: 1.0 / 0.985184366143778 / 0.9707253433941511  \n",
      "Training/ Validation / Test AUC: 1.0 / 0.995 / 0.99  \n",
      "Training/ Validation / Test AUPR: 1.0 / 0.9983333333333333 / 0.9966666666666667\n",
      "[(0.666, 0.998, 0.002, 0.7993592310772928, 0.0, 0.5, 0.0, 0.5, 0.8329999999999999), (0.666, 0.998, 0.002, 0.7993592310772928, 0.0, 0.5, 0.0, 0.5, 0.8329999999999999)]\n",
      "[ 47   3   0 100]\n",
      " \n",
      "Training/ Validation / Test BACC : 1.0 / 0.98 / 0.97  \n",
      "Training/ Validation / Test Youden-index: 1.0 / 0.96 / 0.94  \n",
      "Training/ Validation / Test MCC: 1.0 / 0.9553302944424514 / 0.9553121789359229  \n",
      "Training/ Validation / Test AUC: 1.0 / 0.98 / 0.97  \n",
      "Training/ Validation / Test AUPR: 1.0 / 0.9916161616161616 / 0.9854368932038835\n",
      "[(0.666, 0.998, 0.002, 0.7993592310772928, 0.0, 0.5, 0.0, 0.5, 0.8329999999999999), (0.666, 0.998, 0.002, 0.7993592310772928, 0.0, 0.5, 0.0, 0.5, 0.8329999999999999), (0.6653333333333333, 0.998, 0.0, 0.7990392313851081, -0.025837119466440094, 0.499, -0.0020000000000000018, 0.499, 0.8327774810858923)]\n",
      "[50  0  1 99]\n",
      " \n",
      "Training/ Validation / Test BACC : 1.0 / 1.0 / 0.995  \n",
      "Training/ Validation / Test Youden-index: 1.0 / 1.0 / 0.99  \n",
      "Training/ Validation / Test MCC: 1.0 / 1.0 / 0.985184366143778  \n",
      "Training/ Validation / Test AUC: 1.0 / 1.0 / 0.995  \n",
      "Training/ Validation / Test AUPR: 1.0 / 1.0 / 0.9983333333333333\n",
      "[(0.666, 0.998, 0.002, 0.7993592310772928, 0.0, 0.5, 0.0, 0.5, 0.8329999999999999), (0.666, 0.998, 0.002, 0.7993592310772928, 0.0, 0.5, 0.0, 0.5, 0.8329999999999999), (0.6653333333333333, 0.998, 0.0, 0.7990392313851081, -0.025837119466440094, 0.499, -0.0020000000000000018, 0.499, 0.8327774810858923), (0.6653333333333333, 0.997, 0.002, 0.7988782051282052, -0.009140905301589133, 0.4995, -0.0010000000000000009, 0.4995, 0.8327219251336899)]\n",
      "[ 48   2   0 100]\n",
      " \n",
      "Training/ Validation / Test BACC : 1.0 / 0.99 / 0.98  \n",
      "Training/ Validation / Test Youden-index: 1.0 / 0.98 / 0.96  \n",
      "Training/ Validation / Test MCC: 1.0 / 0.9850365626224087 / 0.9701425001453319  \n",
      "Training/ Validation / Test AUC: 1.0 / 0.99 / 0.98  \n",
      "Training/ Validation / Test AUPR: 1.0 / 0.995049504950495 / 0.9901960784313726\n",
      "[(0.666, 0.998, 0.002, 0.7993592310772928, 0.0, 0.5, 0.0, 0.5, 0.8329999999999999), (0.666, 0.998, 0.002, 0.7993592310772928, 0.0, 0.5, 0.0, 0.5, 0.8329999999999999), (0.6653333333333333, 0.998, 0.0, 0.7990392313851081, -0.025837119466440094, 0.499, -0.0020000000000000018, 0.499, 0.8327774810858923), (0.6653333333333333, 0.997, 0.002, 0.7988782051282052, -0.009140905301589133, 0.4995, -0.0010000000000000009, 0.4995, 0.8327219251336899), (0.6693333333333333, 0.996, 0.016, 0.8006430868167203, 0.06350006350009525, 0.506, 0.01200000000000001, 0.506, 0.8340107526881722)]\n",
      "[ 47   3   0 100]\n",
      " \n",
      "Training/ Validation / Test BACC : 1.0 / 0.985 / 0.97  \n",
      "Training/ Validation / Test Youden-index: 1.0 / 0.97 / 0.94  \n",
      "Training/ Validation / Test MCC: 1.0 / 0.97 / 0.9553121789359229  \n",
      "Training/ Validation / Test AUC: 1.0 / 0.985 / 0.97  \n",
      "Training/ Validation / Test AUPR: 1.0 / 0.9933333333333333 / 0.9854368932038835\n",
      "[(0.666, 0.998, 0.002, 0.7993592310772928, 0.0, 0.5, 0.0, 0.5, 0.8329999999999999), (0.666, 0.998, 0.002, 0.7993592310772928, 0.0, 0.5, 0.0, 0.5, 0.8329999999999999), (0.6653333333333333, 0.998, 0.0, 0.7990392313851081, -0.025837119466440094, 0.499, -0.0020000000000000018, 0.499, 0.8327774810858923), (0.6653333333333333, 0.997, 0.002, 0.7988782051282052, -0.009140905301589133, 0.4995, -0.0010000000000000009, 0.4995, 0.8327219251336899), (0.6693333333333333, 0.996, 0.016, 0.8006430868167203, 0.06350006350009525, 0.506, 0.01200000000000001, 0.506, 0.8340107526881722), (0.6766666666666666, 0.935, 0.16, 0.7940552016985138, 0.1515496573354873, 0.5475, 0.09499999999999997, 0.5475, 0.8341851168511685)]\n",
      "[49  1  2 98]\n",
      " \n",
      "Training/ Validation / Test BACC : 1.0 / 0.975 / 0.98  \n",
      "Training/ Validation / Test Youden-index: 1.0 / 0.95 / 0.96  \n",
      "Training/ Validation / Test MCC: 1.0 / 0.9548823821339676 / 0.9553302944424514  \n",
      "Training/ Validation / Test AUC: 1.0 / 0.975 / 0.98  \n",
      "Training/ Validation / Test AUPR: 1.0 / 0.9884323432343234 / 0.9916161616161616\n",
      "[(0.666, 0.998, 0.002, 0.7993592310772928, 0.0, 0.5, 0.0, 0.5, 0.8329999999999999), (0.666, 0.998, 0.002, 0.7993592310772928, 0.0, 0.5, 0.0, 0.5, 0.8329999999999999), (0.6653333333333333, 0.998, 0.0, 0.7990392313851081, -0.025837119466440094, 0.499, -0.0020000000000000018, 0.499, 0.8327774810858923), (0.6653333333333333, 0.997, 0.002, 0.7988782051282052, -0.009140905301589133, 0.4995, -0.0010000000000000009, 0.4995, 0.8327219251336899), (0.6693333333333333, 0.996, 0.016, 0.8006430868167203, 0.06350006350009525, 0.506, 0.01200000000000001, 0.506, 0.8340107526881722), (0.6766666666666666, 0.935, 0.16, 0.7940552016985138, 0.1515496573354873, 0.5475, 0.09499999999999997, 0.5475, 0.8341851168511685), (0.6706666666666666, 0.996, 0.02, 0.8012872083668544, 0.0784389122147471, 0.508, 0.016000000000000014, 0.508, 0.8344611933602512)]\n",
      "[50  0  1 99]\n",
      " \n",
      "Training/ Validation / Test BACC : 1.0 / 0.995 / 0.995  \n",
      "Training/ Validation / Test Youden-index: 1.0 / 0.99 / 0.99  \n",
      "Training/ Validation / Test MCC: 1.0 / 0.985184366143778 / 0.985184366143778  \n",
      "Training/ Validation / Test AUC: 1.0 / 0.995 / 0.995  \n",
      "Training/ Validation / Test AUPR: 1.0 / 0.9983333333333333 / 0.9983333333333333\n",
      "[(0.666, 0.998, 0.002, 0.7993592310772928, 0.0, 0.5, 0.0, 0.5, 0.8329999999999999), (0.666, 0.998, 0.002, 0.7993592310772928, 0.0, 0.5, 0.0, 0.5, 0.8329999999999999), (0.6653333333333333, 0.998, 0.0, 0.7990392313851081, -0.025837119466440094, 0.499, -0.0020000000000000018, 0.499, 0.8327774810858923), (0.6653333333333333, 0.997, 0.002, 0.7988782051282052, -0.009140905301589133, 0.4995, -0.0010000000000000009, 0.4995, 0.8327219251336899), (0.6693333333333333, 0.996, 0.016, 0.8006430868167203, 0.06350006350009525, 0.506, 0.01200000000000001, 0.506, 0.8340107526881722), (0.6766666666666666, 0.935, 0.16, 0.7940552016985138, 0.1515496573354873, 0.5475, 0.09499999999999997, 0.5475, 0.8341851168511685), (0.6706666666666666, 0.996, 0.02, 0.8012872083668544, 0.0784389122147471, 0.508, 0.016000000000000014, 0.508, 0.8344611933602512), (0.6653333333333333, 0.997, 0.002, 0.7988782051282052, -0.009140905301589133, 0.4995, -0.0010000000000000009, 0.4995, 0.8327219251336899)]\n",
      "[50  0  1 99]\n",
      " \n",
      "Training/ Validation / Test BACC : 1.0 / 1.0 / 0.995  \n",
      "Training/ Validation / Test Youden-index: 1.0 / 1.0 / 0.99  \n",
      "Training/ Validation / Test MCC: 1.0 / 1.0 / 0.985184366143778  \n",
      "Training/ Validation / Test AUC: 1.0 / 1.0 / 0.995  \n",
      "Training/ Validation / Test AUPR: 1.0 / 1.0 / 0.9983333333333333\n",
      "[(0.666, 0.998, 0.002, 0.7993592310772928, 0.0, 0.5, 0.0, 0.5, 0.8329999999999999), (0.666, 0.998, 0.002, 0.7993592310772928, 0.0, 0.5, 0.0, 0.5, 0.8329999999999999), (0.6653333333333333, 0.998, 0.0, 0.7990392313851081, -0.025837119466440094, 0.499, -0.0020000000000000018, 0.499, 0.8327774810858923), (0.6653333333333333, 0.997, 0.002, 0.7988782051282052, -0.009140905301589133, 0.4995, -0.0010000000000000009, 0.4995, 0.8327219251336899), (0.6693333333333333, 0.996, 0.016, 0.8006430868167203, 0.06350006350009525, 0.506, 0.01200000000000001, 0.506, 0.8340107526881722), (0.6766666666666666, 0.935, 0.16, 0.7940552016985138, 0.1515496573354873, 0.5475, 0.09499999999999997, 0.5475, 0.8341851168511685), (0.6706666666666666, 0.996, 0.02, 0.8012872083668544, 0.0784389122147471, 0.508, 0.016000000000000014, 0.508, 0.8344611933602512), (0.6653333333333333, 0.997, 0.002, 0.7988782051282052, -0.009140905301589133, 0.4995, -0.0010000000000000009, 0.4995, 0.8327219251336899), (0.666, 0.998, 0.002, 0.7993592310772928, 0.0, 0.5, 0.0, 0.5, 0.8329999999999999)]\n",
      "[50  0  3 97]\n",
      " \n",
      "Training/ Validation / Test BACC : 1.0 / 1.0 / 0.985  \n",
      "Training/ Validation / Test Youden-index: 1.0 / 1.0 / 0.97  \n",
      "Training/ Validation / Test MCC: 1.0 / 1.0 / 0.9566056343251599  \n",
      "Training/ Validation / Test AUC: 1.0 / 1.0 / 0.985  \n",
      "Training/ Validation / Test AUPR: 1.0 / 1.0 / 0.995\n",
      "[(0.666, 0.998, 0.002, 0.7993592310772928, 0.0, 0.5, 0.0, 0.5, 0.8329999999999999), (0.666, 0.998, 0.002, 0.7993592310772928, 0.0, 0.5, 0.0, 0.5, 0.8329999999999999), (0.6653333333333333, 0.998, 0.0, 0.7990392313851081, -0.025837119466440094, 0.499, -0.0020000000000000018, 0.499, 0.8327774810858923), (0.6653333333333333, 0.997, 0.002, 0.7988782051282052, -0.009140905301589133, 0.4995, -0.0010000000000000009, 0.4995, 0.8327219251336899), (0.6693333333333333, 0.996, 0.016, 0.8006430868167203, 0.06350006350009525, 0.506, 0.01200000000000001, 0.506, 0.8340107526881722), (0.6766666666666666, 0.935, 0.16, 0.7940552016985138, 0.1515496573354873, 0.5475, 0.09499999999999997, 0.5475, 0.8341851168511685), (0.6706666666666666, 0.996, 0.02, 0.8012872083668544, 0.0784389122147471, 0.508, 0.016000000000000014, 0.508, 0.8344611933602512), (0.6653333333333333, 0.997, 0.002, 0.7988782051282052, -0.009140905301589133, 0.4995, -0.0010000000000000009, 0.4995, 0.8327219251336899), (0.666, 0.998, 0.002, 0.7993592310772928, 0.0, 0.5, 0.0, 0.5, 0.8329999999999999), (0.666, 0.998, 0.002, 0.7993592310772928, 0.0, 0.5, 0.0, 0.5, 0.8329999999999999)]\n"
     ]
    },
    {
     "name": "stderr",
     "output_type": "stream",
     "text": [
      "/mnt/sypark0215/anaconda3/envs/sersnet/lib/python3.8/site-packages/sklearn/linear_model/_logistic.py:762: ConvergenceWarning: lbfgs failed to converge (status=1):\n",
      "STOP: TOTAL NO. of ITERATIONS REACHED LIMIT.\n",
      "\n",
      "Increase the number of iterations (max_iter) or scale the data as shown in:\n",
      "    https://scikit-learn.org/stable/modules/preprocessing.html\n",
      "Please also refer to the documentation for alternative solver options:\n",
      "    https://scikit-learn.org/stable/modules/linear_model.html#logistic-regression\n",
      "  n_iter_i = _check_optimize_result(\n",
      "/mnt/sypark0215/anaconda3/envs/sersnet/lib/python3.8/site-packages/sklearn/metrics/_classification.py:846: RuntimeWarning: invalid value encountered in double_scalars\n",
      "  mcc = cov_ytyp / np.sqrt(cov_ytyt * cov_ypyp)\n",
      "/mnt/sypark0215/anaconda3/envs/sersnet/lib/python3.8/site-packages/sklearn/linear_model/_logistic.py:762: ConvergenceWarning: lbfgs failed to converge (status=1):\n",
      "STOP: TOTAL NO. of ITERATIONS REACHED LIMIT.\n",
      "\n",
      "Increase the number of iterations (max_iter) or scale the data as shown in:\n",
      "    https://scikit-learn.org/stable/modules/preprocessing.html\n",
      "Please also refer to the documentation for alternative solver options:\n",
      "    https://scikit-learn.org/stable/modules/linear_model.html#logistic-regression\n",
      "  n_iter_i = _check_optimize_result(\n"
     ]
    },
    {
     "name": "stdout",
     "output_type": "stream",
     "text": [
      "[ 50   0   0 100]\n",
      " \n",
      "Training/ Validation / Test BACC : 1.0 / 1.0 / 1.0  \n",
      "Training/ Validation / Test Youden-index: 1.0 / 1.0 / 1.0  \n",
      "Training/ Validation / Test MCC: 1.0 / 1.0 / 1.0  \n",
      "Training/ Validation / Test AUC: 1.0 / 1.0 / 1.0  \n",
      "Training/ Validation / Test AUPR: 1.0 / 1.0 / 1.0\n",
      "[(0.6666666666666666, 1.0, 0.0, 0.8, 0.0, 0.5, 0.0, 0.5, 0.8333333333333333)]\n",
      "[ 50   0   0 100]\n",
      " \n",
      "Training/ Validation / Test BACC : 1.0 / 1.0 / 1.0  \n",
      "Training/ Validation / Test Youden-index: 1.0 / 1.0 / 1.0  \n",
      "Training/ Validation / Test MCC: 1.0 / 1.0 / 1.0  \n",
      "Training/ Validation / Test AUC: 1.0 / 1.0 / 1.0  \n",
      "Training/ Validation / Test AUPR: 1.0 / 1.0 / 1.0\n"
     ]
    },
    {
     "name": "stderr",
     "output_type": "stream",
     "text": [
      "/mnt/sypark0215/anaconda3/envs/sersnet/lib/python3.8/site-packages/sklearn/metrics/_classification.py:846: RuntimeWarning: invalid value encountered in double_scalars\n",
      "  mcc = cov_ytyp / np.sqrt(cov_ytyt * cov_ypyp)\n",
      "/mnt/sypark0215/anaconda3/envs/sersnet/lib/python3.8/site-packages/sklearn/linear_model/_logistic.py:762: ConvergenceWarning: lbfgs failed to converge (status=1):\n",
      "STOP: TOTAL NO. of ITERATIONS REACHED LIMIT.\n",
      "\n",
      "Increase the number of iterations (max_iter) or scale the data as shown in:\n",
      "    https://scikit-learn.org/stable/modules/preprocessing.html\n",
      "Please also refer to the documentation for alternative solver options:\n",
      "    https://scikit-learn.org/stable/modules/linear_model.html#logistic-regression\n",
      "  n_iter_i = _check_optimize_result(\n",
      "/mnt/sypark0215/anaconda3/envs/sersnet/lib/python3.8/site-packages/sklearn/metrics/_classification.py:846: RuntimeWarning: invalid value encountered in double_scalars\n",
      "  mcc = cov_ytyp / np.sqrt(cov_ytyt * cov_ypyp)\n"
     ]
    },
    {
     "name": "stdout",
     "output_type": "stream",
     "text": [
      "[(0.6666666666666666, 1.0, 0.0, 0.8, 0.0, 0.5, 0.0, 0.5, 0.8333333333333333), (0.6666666666666666, 1.0, 0.0, 0.8, 0.0, 0.5, 0.0, 0.5, 0.8333333333333333)]\n",
      "[ 49   1   0 100]\n",
      " \n",
      "Training/ Validation / Test BACC : 1.0 / 1.0 / 0.99  \n",
      "Training/ Validation / Test Youden-index: 1.0 / 1.0 / 0.98  \n",
      "Training/ Validation / Test MCC: 1.0 / 1.0 / 0.9850365626224087  \n",
      "Training/ Validation / Test AUC: 1.0 / 1.0 / 0.9972  \n",
      "Training/ Validation / Test AUPR: 1.0 / 1.0 / 0.9985078476119168\n",
      "[(0.6666666666666666, 1.0, 0.0, 0.8, 0.0, 0.5, 0.0, 0.5, 0.8333333333333333), (0.6666666666666666, 1.0, 0.0, 0.8, 0.0, 0.5, 0.0, 0.5, 0.8333333333333333), (0.6666666666666666, 1.0, 0.0, 0.8, 0.0, 0.5, 0.0, 0.5, 0.8333333333333333)]\n"
     ]
    },
    {
     "name": "stderr",
     "output_type": "stream",
     "text": [
      "/mnt/sypark0215/anaconda3/envs/sersnet/lib/python3.8/site-packages/sklearn/linear_model/_logistic.py:762: ConvergenceWarning: lbfgs failed to converge (status=1):\n",
      "STOP: TOTAL NO. of ITERATIONS REACHED LIMIT.\n",
      "\n",
      "Increase the number of iterations (max_iter) or scale the data as shown in:\n",
      "    https://scikit-learn.org/stable/modules/preprocessing.html\n",
      "Please also refer to the documentation for alternative solver options:\n",
      "    https://scikit-learn.org/stable/modules/linear_model.html#logistic-regression\n",
      "  n_iter_i = _check_optimize_result(\n",
      "/mnt/sypark0215/anaconda3/envs/sersnet/lib/python3.8/site-packages/sklearn/metrics/_classification.py:846: RuntimeWarning: invalid value encountered in double_scalars\n",
      "  mcc = cov_ytyp / np.sqrt(cov_ytyt * cov_ypyp)\n",
      "/mnt/sypark0215/anaconda3/envs/sersnet/lib/python3.8/site-packages/sklearn/linear_model/_logistic.py:762: ConvergenceWarning: lbfgs failed to converge (status=1):\n",
      "STOP: TOTAL NO. of ITERATIONS REACHED LIMIT.\n",
      "\n",
      "Increase the number of iterations (max_iter) or scale the data as shown in:\n",
      "    https://scikit-learn.org/stable/modules/preprocessing.html\n",
      "Please also refer to the documentation for alternative solver options:\n",
      "    https://scikit-learn.org/stable/modules/linear_model.html#logistic-regression\n",
      "  n_iter_i = _check_optimize_result(\n"
     ]
    },
    {
     "name": "stdout",
     "output_type": "stream",
     "text": [
      "[ 50   0   0 100]\n",
      " \n",
      "Training/ Validation / Test BACC : 1.0 / 0.99 / 1.0  \n",
      "Training/ Validation / Test Youden-index: 1.0 / 0.98 / 1.0  \n",
      "Training/ Validation / Test MCC: 1.0 / 0.9850365626224087 / 1.0  \n",
      "Training/ Validation / Test AUC: 1.0 / 0.9972 / 1.0  \n",
      "Training/ Validation / Test AUPR: 1.0 / 0.9985078476119168 / 1.0\n",
      "[(0.6666666666666666, 1.0, 0.0, 0.8, 0.0, 0.5, 0.0, 0.5, 0.8333333333333333), (0.6666666666666666, 1.0, 0.0, 0.8, 0.0, 0.5, 0.0, 0.5, 0.8333333333333333), (0.6666666666666666, 1.0, 0.0, 0.8, 0.0, 0.5, 0.0, 0.5, 0.8333333333333333), (0.6666666666666666, 1.0, 0.0, 0.8, 0.0, 0.5, 0.0, 0.5, 0.8333333333333333)]\n",
      "[50  0  1 99]\n",
      " \n",
      "Training/ Validation / Test BACC : 1.0 / 0.99 / 0.995  \n",
      "Training/ Validation / Test Youden-index: 1.0 / 0.98 / 0.99  \n",
      "Training/ Validation / Test MCC: 1.0 / 0.9850365626224087 / 0.985184366143778  \n",
      "Training/ Validation / Test AUC: 1.0 / 0.9992 / 1.0  \n",
      "Training/ Validation / Test AUPR: 1.0 / 0.9995958977404158 / 1.0\n"
     ]
    },
    {
     "name": "stderr",
     "output_type": "stream",
     "text": [
      "/mnt/sypark0215/anaconda3/envs/sersnet/lib/python3.8/site-packages/sklearn/metrics/_classification.py:846: RuntimeWarning: invalid value encountered in double_scalars\n",
      "  mcc = cov_ytyp / np.sqrt(cov_ytyt * cov_ypyp)\n",
      "/mnt/sypark0215/anaconda3/envs/sersnet/lib/python3.8/site-packages/sklearn/linear_model/_logistic.py:762: ConvergenceWarning: lbfgs failed to converge (status=1):\n",
      "STOP: TOTAL NO. of ITERATIONS REACHED LIMIT.\n",
      "\n",
      "Increase the number of iterations (max_iter) or scale the data as shown in:\n",
      "    https://scikit-learn.org/stable/modules/preprocessing.html\n",
      "Please also refer to the documentation for alternative solver options:\n",
      "    https://scikit-learn.org/stable/modules/linear_model.html#logistic-regression\n",
      "  n_iter_i = _check_optimize_result(\n",
      "/mnt/sypark0215/anaconda3/envs/sersnet/lib/python3.8/site-packages/sklearn/metrics/_classification.py:846: RuntimeWarning: invalid value encountered in double_scalars\n",
      "  mcc = cov_ytyp / np.sqrt(cov_ytyt * cov_ypyp)\n"
     ]
    },
    {
     "name": "stdout",
     "output_type": "stream",
     "text": [
      "[(0.6666666666666666, 1.0, 0.0, 0.8, 0.0, 0.5, 0.0, 0.5, 0.8333333333333333), (0.6666666666666666, 1.0, 0.0, 0.8, 0.0, 0.5, 0.0, 0.5, 0.8333333333333333), (0.6666666666666666, 1.0, 0.0, 0.8, 0.0, 0.5, 0.0, 0.5, 0.8333333333333333), (0.6666666666666666, 1.0, 0.0, 0.8, 0.0, 0.5, 0.0, 0.5, 0.8333333333333333), (0.6666666666666666, 1.0, 0.0, 0.8, 0.0, 0.5, 0.0, 0.5, 0.8333333333333333)]\n",
      "[50  0  2 98]\n",
      " \n",
      "Training/ Validation / Test BACC : 1.0 / 1.0 / 0.99  \n",
      "Training/ Validation / Test Youden-index: 1.0 / 1.0 / 0.98  \n",
      "Training/ Validation / Test MCC: 1.0 / 1.0 / 0.9707253433941511  \n",
      "Training/ Validation / Test AUC: 1.0 / 1.0 / 0.99  \n",
      "Training/ Validation / Test AUPR: 1.0 / 1.0 / 0.99665548098434\n",
      "[(0.6666666666666666, 1.0, 0.0, 0.8, 0.0, 0.5, 0.0, 0.5, 0.8333333333333333), (0.6666666666666666, 1.0, 0.0, 0.8, 0.0, 0.5, 0.0, 0.5, 0.8333333333333333), (0.6666666666666666, 1.0, 0.0, 0.8, 0.0, 0.5, 0.0, 0.5, 0.8333333333333333), (0.6666666666666666, 1.0, 0.0, 0.8, 0.0, 0.5, 0.0, 0.5, 0.8333333333333333), (0.6666666666666666, 1.0, 0.0, 0.8, 0.0, 0.5, 0.0, 0.5, 0.8333333333333333), (0.6666666666666666, 1.0, 0.0, 0.8, 0.0, 0.5, 0.0, 0.5, 0.8333333333333333)]\n"
     ]
    },
    {
     "name": "stderr",
     "output_type": "stream",
     "text": [
      "/mnt/sypark0215/anaconda3/envs/sersnet/lib/python3.8/site-packages/sklearn/linear_model/_logistic.py:762: ConvergenceWarning: lbfgs failed to converge (status=1):\n",
      "STOP: TOTAL NO. of ITERATIONS REACHED LIMIT.\n",
      "\n",
      "Increase the number of iterations (max_iter) or scale the data as shown in:\n",
      "    https://scikit-learn.org/stable/modules/preprocessing.html\n",
      "Please also refer to the documentation for alternative solver options:\n",
      "    https://scikit-learn.org/stable/modules/linear_model.html#logistic-regression\n",
      "  n_iter_i = _check_optimize_result(\n",
      "/mnt/sypark0215/anaconda3/envs/sersnet/lib/python3.8/site-packages/sklearn/metrics/_classification.py:846: RuntimeWarning: invalid value encountered in double_scalars\n",
      "  mcc = cov_ytyp / np.sqrt(cov_ytyt * cov_ypyp)\n"
     ]
    },
    {
     "name": "stdout",
     "output_type": "stream",
     "text": [
      "[50  0  1 99]\n",
      " \n",
      "Training/ Validation / Test BACC : 1.0 / 0.995 / 0.995  \n",
      "Training/ Validation / Test Youden-index: 1.0 / 0.99 / 0.99  \n",
      "Training/ Validation / Test MCC: 1.0 / 0.985184366143778 / 0.985184366143778  \n",
      "Training/ Validation / Test AUC: 1.0 / 1.0 / 1.0  \n",
      "Training/ Validation / Test AUPR: 1.0 / 1.0 / 1.0\n",
      "[(0.6666666666666666, 1.0, 0.0, 0.8, 0.0, 0.5, 0.0, 0.5, 0.8333333333333333), (0.6666666666666666, 1.0, 0.0, 0.8, 0.0, 0.5, 0.0, 0.5, 0.8333333333333333), (0.6666666666666666, 1.0, 0.0, 0.8, 0.0, 0.5, 0.0, 0.5, 0.8333333333333333), (0.6666666666666666, 1.0, 0.0, 0.8, 0.0, 0.5, 0.0, 0.5, 0.8333333333333333), (0.6666666666666666, 1.0, 0.0, 0.8, 0.0, 0.5, 0.0, 0.5, 0.8333333333333333), (0.6666666666666666, 1.0, 0.0, 0.8, 0.0, 0.5, 0.0, 0.5, 0.8333333333333333), (0.6666666666666666, 1.0, 0.0, 0.8, 0.0, 0.5, 0.0, 0.5, 0.8333333333333333)]\n"
     ]
    },
    {
     "name": "stderr",
     "output_type": "stream",
     "text": [
      "/mnt/sypark0215/anaconda3/envs/sersnet/lib/python3.8/site-packages/sklearn/linear_model/_logistic.py:762: ConvergenceWarning: lbfgs failed to converge (status=1):\n",
      "STOP: TOTAL NO. of ITERATIONS REACHED LIMIT.\n",
      "\n",
      "Increase the number of iterations (max_iter) or scale the data as shown in:\n",
      "    https://scikit-learn.org/stable/modules/preprocessing.html\n",
      "Please also refer to the documentation for alternative solver options:\n",
      "    https://scikit-learn.org/stable/modules/linear_model.html#logistic-regression\n",
      "  n_iter_i = _check_optimize_result(\n",
      "/mnt/sypark0215/anaconda3/envs/sersnet/lib/python3.8/site-packages/sklearn/metrics/_classification.py:846: RuntimeWarning: invalid value encountered in double_scalars\n",
      "  mcc = cov_ytyp / np.sqrt(cov_ytyt * cov_ypyp)\n",
      "/mnt/sypark0215/anaconda3/envs/sersnet/lib/python3.8/site-packages/sklearn/linear_model/_logistic.py:762: ConvergenceWarning: lbfgs failed to converge (status=1):\n",
      "STOP: TOTAL NO. of ITERATIONS REACHED LIMIT.\n",
      "\n",
      "Increase the number of iterations (max_iter) or scale the data as shown in:\n",
      "    https://scikit-learn.org/stable/modules/preprocessing.html\n",
      "Please also refer to the documentation for alternative solver options:\n",
      "    https://scikit-learn.org/stable/modules/linear_model.html#logistic-regression\n",
      "  n_iter_i = _check_optimize_result(\n"
     ]
    },
    {
     "name": "stdout",
     "output_type": "stream",
     "text": [
      "[ 50   0   0 100]\n",
      " \n",
      "Training/ Validation / Test BACC : 1.0 / 0.99 / 1.0  \n",
      "Training/ Validation / Test Youden-index: 1.0 / 0.98 / 1.0  \n",
      "Training/ Validation / Test MCC: 1.0 / 0.9850365626224087 / 1.0  \n",
      "Training/ Validation / Test AUC: 1.0 / 1.0 / 1.0  \n",
      "Training/ Validation / Test AUPR: 1.0 / 1.0 / 1.0\n",
      "[(0.6666666666666666, 1.0, 0.0, 0.8, 0.0, 0.5, 0.0, 0.5, 0.8333333333333333), (0.6666666666666666, 1.0, 0.0, 0.8, 0.0, 0.5, 0.0, 0.5, 0.8333333333333333), (0.6666666666666666, 1.0, 0.0, 0.8, 0.0, 0.5, 0.0, 0.5, 0.8333333333333333), (0.6666666666666666, 1.0, 0.0, 0.8, 0.0, 0.5, 0.0, 0.5, 0.8333333333333333), (0.6666666666666666, 1.0, 0.0, 0.8, 0.0, 0.5, 0.0, 0.5, 0.8333333333333333), (0.6666666666666666, 1.0, 0.0, 0.8, 0.0, 0.5, 0.0, 0.5, 0.8333333333333333), (0.6666666666666666, 1.0, 0.0, 0.8, 0.0, 0.5, 0.0, 0.5, 0.8333333333333333), (0.6666666666666666, 1.0, 0.0, 0.8, 0.0, 0.5, 0.0, 0.5, 0.8333333333333333)]\n",
      "[50  0  2 98]\n",
      " \n",
      "Training/ Validation / Test BACC : 1.0 / 1.0 / 0.99  \n",
      "Training/ Validation / Test Youden-index: 1.0 / 1.0 / 0.98  \n",
      "Training/ Validation / Test MCC: 1.0 / 1.0 / 0.9707253433941511  \n",
      "Training/ Validation / Test AUC: 1.0 / 1.0 / 0.9864  \n",
      "Training/ Validation / Test AUPR: 1.0 / 1.0 / 0.9951103881461437\n"
     ]
    },
    {
     "name": "stderr",
     "output_type": "stream",
     "text": [
      "/mnt/sypark0215/anaconda3/envs/sersnet/lib/python3.8/site-packages/sklearn/metrics/_classification.py:846: RuntimeWarning: invalid value encountered in double_scalars\n",
      "  mcc = cov_ytyp / np.sqrt(cov_ytyt * cov_ypyp)\n",
      "/mnt/sypark0215/anaconda3/envs/sersnet/lib/python3.8/site-packages/sklearn/linear_model/_logistic.py:762: ConvergenceWarning: lbfgs failed to converge (status=1):\n",
      "STOP: TOTAL NO. of ITERATIONS REACHED LIMIT.\n",
      "\n",
      "Increase the number of iterations (max_iter) or scale the data as shown in:\n",
      "    https://scikit-learn.org/stable/modules/preprocessing.html\n",
      "Please also refer to the documentation for alternative solver options:\n",
      "    https://scikit-learn.org/stable/modules/linear_model.html#logistic-regression\n",
      "  n_iter_i = _check_optimize_result(\n",
      "/mnt/sypark0215/anaconda3/envs/sersnet/lib/python3.8/site-packages/sklearn/metrics/_classification.py:846: RuntimeWarning: invalid value encountered in double_scalars\n",
      "  mcc = cov_ytyp / np.sqrt(cov_ytyt * cov_ypyp)\n"
     ]
    },
    {
     "name": "stdout",
     "output_type": "stream",
     "text": [
      "[(0.6666666666666666, 1.0, 0.0, 0.8, 0.0, 0.5, 0.0, 0.5, 0.8333333333333333), (0.6666666666666666, 1.0, 0.0, 0.8, 0.0, 0.5, 0.0, 0.5, 0.8333333333333333), (0.6666666666666666, 1.0, 0.0, 0.8, 0.0, 0.5, 0.0, 0.5, 0.8333333333333333), (0.6666666666666666, 1.0, 0.0, 0.8, 0.0, 0.5, 0.0, 0.5, 0.8333333333333333), (0.6666666666666666, 1.0, 0.0, 0.8, 0.0, 0.5, 0.0, 0.5, 0.8333333333333333), (0.6666666666666666, 1.0, 0.0, 0.8, 0.0, 0.5, 0.0, 0.5, 0.8333333333333333), (0.6666666666666666, 1.0, 0.0, 0.8, 0.0, 0.5, 0.0, 0.5, 0.8333333333333333), (0.6666666666666666, 1.0, 0.0, 0.8, 0.0, 0.5, 0.0, 0.5, 0.8333333333333333), (0.6666666666666666, 1.0, 0.0, 0.8, 0.0, 0.5, 0.0, 0.5, 0.8333333333333333)]\n",
      "[ 50   0   0 100]\n",
      " \n",
      "Training/ Validation / Test BACC : 1.0 / 0.99 / 1.0  \n",
      "Training/ Validation / Test Youden-index: 1.0 / 0.98 / 1.0  \n",
      "Training/ Validation / Test MCC: 1.0 / 0.9850365626224087 / 1.0  \n",
      "Training/ Validation / Test AUC: 1.0 / 0.9998 / 1.0  \n",
      "Training/ Validation / Test AUPR: 1.0 / 0.999900495049505 / 1.0\n",
      "[(0.6666666666666666, 1.0, 0.0, 0.8, 0.0, 0.5, 0.0, 0.5, 0.8333333333333333), (0.6666666666666666, 1.0, 0.0, 0.8, 0.0, 0.5, 0.0, 0.5, 0.8333333333333333), (0.6666666666666666, 1.0, 0.0, 0.8, 0.0, 0.5, 0.0, 0.5, 0.8333333333333333), (0.6666666666666666, 1.0, 0.0, 0.8, 0.0, 0.5, 0.0, 0.5, 0.8333333333333333), (0.6666666666666666, 1.0, 0.0, 0.8, 0.0, 0.5, 0.0, 0.5, 0.8333333333333333), (0.6666666666666666, 1.0, 0.0, 0.8, 0.0, 0.5, 0.0, 0.5, 0.8333333333333333), (0.6666666666666666, 1.0, 0.0, 0.8, 0.0, 0.5, 0.0, 0.5, 0.8333333333333333), (0.6666666666666666, 1.0, 0.0, 0.8, 0.0, 0.5, 0.0, 0.5, 0.8333333333333333), (0.6666666666666666, 1.0, 0.0, 0.8, 0.0, 0.5, 0.0, 0.5, 0.8333333333333333), (0.6666666666666666, 1.0, 0.0, 0.8, 0.0, 0.5, 0.0, 0.5, 0.8333333333333333)]\n",
      "[ 48   2   0 100]\n",
      " \n",
      "Training/ Validation / Test BACC : 1.0 / 1.0 / 0.98  \n",
      "Training/ Validation / Test Youden-index: 1.0 / 1.0 / 0.96  \n",
      "Training/ Validation / Test MCC: 1.0 / 1.0 / 0.9701425001453319  \n",
      "Training/ Validation / Test AUC: 1.0 / 1.0 / 0.9994999999999999  \n",
      "Training/ Validation / Test AUPR: 1.0 / 1.0 / 0.9997494849484949\n",
      "[(0.666, 0.998, 0.002, 0.7993592310772928, 0.0, 0.5, 0.0, 0.8030940000000001, 0.9168942082192282)]\n",
      "[ 48   2   0 100]\n",
      " \n",
      "Training/ Validation / Test BACC : 1.0 / 1.0 / 0.98  \n",
      "Training/ Validation / Test Youden-index: 1.0 / 1.0 / 0.96  \n",
      "Training/ Validation / Test MCC: 1.0 / 1.0 / 0.9701425001453319  \n",
      "Training/ Validation / Test AUC: 1.0 / 1.0 / 0.9996  \n",
      "Training/ Validation / Test AUPR: 1.0 / 1.0 / 0.9997999899989999\n",
      "[(0.666, 0.998, 0.002, 0.7993592310772928, 0.0, 0.5, 0.0, 0.8030940000000001, 0.9168942082192282), (0.666, 0.998, 0.002, 0.7993592310772928, 0.0, 0.5, 0.0, 0.7907620000000001, 0.908269952236354)]\n",
      "[ 49   1   0 100]\n",
      " \n",
      "Training/ Validation / Test BACC : 1.0 / 0.99 / 0.99  \n",
      "Training/ Validation / Test Youden-index: 1.0 / 0.98 / 0.98  \n",
      "Training/ Validation / Test MCC: 1.0 / 0.9850365626224087 / 0.9850365626224087  \n",
      "Training/ Validation / Test AUC: 1.0 / 1.0 / 1.0  \n",
      "Training/ Validation / Test AUPR: 1.0 / 1.0 / 1.0\n",
      "[(0.666, 0.998, 0.002, 0.7993592310772928, 0.0, 0.5, 0.0, 0.8030940000000001, 0.9168942082192282), (0.666, 0.998, 0.002, 0.7993592310772928, 0.0, 0.5, 0.0, 0.7907620000000001, 0.908269952236354), (0.666, 0.998, 0.002, 0.7993592310772928, 0.0, 0.5, 0.0, 0.819136, 0.9179261725239001)]\n",
      "[ 50   0   0 100]\n",
      " \n",
      "Training/ Validation / Test BACC : 1.0 / 1.0 / 1.0  \n",
      "Training/ Validation / Test Youden-index: 1.0 / 1.0 / 1.0  \n",
      "Training/ Validation / Test MCC: 1.0 / 1.0 / 1.0  \n",
      "Training/ Validation / Test AUC: 1.0 / 1.0 / 1.0  \n",
      "Training/ Validation / Test AUPR: 1.0 / 1.0 / 1.0\n",
      "[(0.666, 0.998, 0.002, 0.7993592310772928, 0.0, 0.5, 0.0, 0.8030940000000001, 0.9168942082192282), (0.666, 0.998, 0.002, 0.7993592310772928, 0.0, 0.5, 0.0, 0.7907620000000001, 0.908269952236354), (0.666, 0.998, 0.002, 0.7993592310772928, 0.0, 0.5, 0.0, 0.819136, 0.9179261725239001), (0.666, 0.998, 0.002, 0.7993592310772928, 0.0, 0.5, 0.0, 0.8097620000000001, 0.9168027711235994)]\n",
      "[ 49   1   0 100]\n",
      " \n",
      "Training/ Validation / Test BACC : 1.0 / 0.99 / 0.99  \n",
      "Training/ Validation / Test Youden-index: 1.0 / 0.98 / 0.98  \n",
      "Training/ Validation / Test MCC: 1.0 / 0.9850365626224087 / 0.9850365626224087  \n",
      "Training/ Validation / Test AUC: 1.0 / 1.0 / 0.9995999999999999  \n",
      "Training/ Validation / Test AUPR: 1.0 / 1.0 / 0.9997999899989999\n",
      "[(0.666, 0.998, 0.002, 0.7993592310772928, 0.0, 0.5, 0.0, 0.8030940000000001, 0.9168942082192282), (0.666, 0.998, 0.002, 0.7993592310772928, 0.0, 0.5, 0.0, 0.7907620000000001, 0.908269952236354), (0.666, 0.998, 0.002, 0.7993592310772928, 0.0, 0.5, 0.0, 0.819136, 0.9179261725239001), (0.666, 0.998, 0.002, 0.7993592310772928, 0.0, 0.5, 0.0, 0.8097620000000001, 0.9168027711235994), (0.666, 0.998, 0.002, 0.7993592310772928, 0.0, 0.5, 0.0, 0.847925, 0.9353452447354853)]\n",
      "[ 49   1   0 100]\n",
      " \n",
      "Training/ Validation / Test BACC : 1.0 / 1.0 / 0.99  \n",
      "Training/ Validation / Test Youden-index: 1.0 / 1.0 / 0.98  \n",
      "Training/ Validation / Test MCC: 1.0 / 1.0 / 0.9850365626224087  \n",
      "Training/ Validation / Test AUC: 1.0 / 1.0 / 1.0  \n",
      "Training/ Validation / Test AUPR: 1.0 / 1.0 / 1.0\n",
      "[(0.666, 0.998, 0.002, 0.7993592310772928, 0.0, 0.5, 0.0, 0.8030940000000001, 0.9168942082192282), (0.666, 0.998, 0.002, 0.7993592310772928, 0.0, 0.5, 0.0, 0.7907620000000001, 0.908269952236354), (0.666, 0.998, 0.002, 0.7993592310772928, 0.0, 0.5, 0.0, 0.819136, 0.9179261725239001), (0.666, 0.998, 0.002, 0.7993592310772928, 0.0, 0.5, 0.0, 0.8097620000000001, 0.9168027711235994), (0.666, 0.998, 0.002, 0.7993592310772928, 0.0, 0.5, 0.0, 0.847925, 0.9353452447354853), (0.666, 0.998, 0.002, 0.7993592310772928, 0.0, 0.5, 0.0, 0.69861, 0.8625028833150379)]\n",
      "[ 49   1   0 100]\n",
      " \n",
      "Training/ Validation / Test BACC : 1.0 / 0.99 / 0.99  \n",
      "Training/ Validation / Test Youden-index: 1.0 / 0.98 / 0.98  \n",
      "Training/ Validation / Test MCC: 1.0 / 0.9850365626224087 / 0.9850365626224087  \n",
      "Training/ Validation / Test AUC: 1.0 / 1.0 / 1.0  \n",
      "Training/ Validation / Test AUPR: 1.0 / 1.0 / 1.0\n",
      "[(0.666, 0.998, 0.002, 0.7993592310772928, 0.0, 0.5, 0.0, 0.8030940000000001, 0.9168942082192282), (0.666, 0.998, 0.002, 0.7993592310772928, 0.0, 0.5, 0.0, 0.7907620000000001, 0.908269952236354), (0.666, 0.998, 0.002, 0.7993592310772928, 0.0, 0.5, 0.0, 0.819136, 0.9179261725239001), (0.666, 0.998, 0.002, 0.7993592310772928, 0.0, 0.5, 0.0, 0.8097620000000001, 0.9168027711235994), (0.666, 0.998, 0.002, 0.7993592310772928, 0.0, 0.5, 0.0, 0.847925, 0.9353452447354853), (0.666, 0.998, 0.002, 0.7993592310772928, 0.0, 0.5, 0.0, 0.69861, 0.8625028833150379), (0.666, 0.998, 0.002, 0.7993592310772928, 0.0, 0.5, 0.0, 0.738032, 0.8883506893978568)]\n",
      "[ 50   0   0 100]\n",
      " \n",
      "Training/ Validation / Test BACC : 1.0 / 1.0 / 1.0  \n",
      "Training/ Validation / Test Youden-index: 1.0 / 1.0 / 1.0  \n",
      "Training/ Validation / Test MCC: 1.0 / 1.0 / 1.0  \n",
      "Training/ Validation / Test AUC: 1.0 / 1.0 / 1.0  \n",
      "Training/ Validation / Test AUPR: 1.0 / 1.0 / 1.0\n",
      "[(0.666, 0.998, 0.002, 0.7993592310772928, 0.0, 0.5, 0.0, 0.8030940000000001, 0.9168942082192282), (0.666, 0.998, 0.002, 0.7993592310772928, 0.0, 0.5, 0.0, 0.7907620000000001, 0.908269952236354), (0.666, 0.998, 0.002, 0.7993592310772928, 0.0, 0.5, 0.0, 0.819136, 0.9179261725239001), (0.666, 0.998, 0.002, 0.7993592310772928, 0.0, 0.5, 0.0, 0.8097620000000001, 0.9168027711235994), (0.666, 0.998, 0.002, 0.7993592310772928, 0.0, 0.5, 0.0, 0.847925, 0.9353452447354853), (0.666, 0.998, 0.002, 0.7993592310772928, 0.0, 0.5, 0.0, 0.69861, 0.8625028833150379), (0.666, 0.998, 0.002, 0.7993592310772928, 0.0, 0.5, 0.0, 0.738032, 0.8883506893978568), (0.666, 0.998, 0.002, 0.7993592310772928, 0.0, 0.5, 0.0, 0.740571, 0.8861704171811238)]\n",
      "[ 49   1   0 100]\n",
      " \n",
      "Training/ Validation / Test BACC : 1.0 / 0.99 / 0.99  \n",
      "Training/ Validation / Test Youden-index: 1.0 / 0.98 / 0.98  \n",
      "Training/ Validation / Test MCC: 1.0 / 0.9850365626224087 / 0.9850365626224087  \n",
      "Training/ Validation / Test AUC: 1.0 / 1.0 / 1.0  \n",
      "Training/ Validation / Test AUPR: 1.0 / 1.0 / 1.0\n",
      "[(0.666, 0.998, 0.002, 0.7993592310772928, 0.0, 0.5, 0.0, 0.8030940000000001, 0.9168942082192282), (0.666, 0.998, 0.002, 0.7993592310772928, 0.0, 0.5, 0.0, 0.7907620000000001, 0.908269952236354), (0.666, 0.998, 0.002, 0.7993592310772928, 0.0, 0.5, 0.0, 0.819136, 0.9179261725239001), (0.666, 0.998, 0.002, 0.7993592310772928, 0.0, 0.5, 0.0, 0.8097620000000001, 0.9168027711235994), (0.666, 0.998, 0.002, 0.7993592310772928, 0.0, 0.5, 0.0, 0.847925, 0.9353452447354853), (0.666, 0.998, 0.002, 0.7993592310772928, 0.0, 0.5, 0.0, 0.69861, 0.8625028833150379), (0.666, 0.998, 0.002, 0.7993592310772928, 0.0, 0.5, 0.0, 0.738032, 0.8883506893978568), (0.666, 0.998, 0.002, 0.7993592310772928, 0.0, 0.5, 0.0, 0.740571, 0.8861704171811238), (0.666, 0.998, 0.002, 0.7993592310772928, 0.0, 0.5, 0.0, 0.679063, 0.861504813155078)]\n"
     ]
    },
    {
     "name": "stdout",
     "output_type": "stream",
     "text": [
      "[ 50   0   0 100]\n",
      " \n",
      "Training/ Validation / Test BACC : 1.0 / 1.0 / 1.0  \n",
      "Training/ Validation / Test Youden-index: 1.0 / 1.0 / 1.0  \n",
      "Training/ Validation / Test MCC: 1.0 / 1.0 / 1.0  \n",
      "Training/ Validation / Test AUC: 1.0 / 1.0 / 1.0  \n",
      "Training/ Validation / Test AUPR: 1.0 / 1.0 / 1.0\n",
      "[(0.666, 0.998, 0.002, 0.7993592310772928, 0.0, 0.5, 0.0, 0.8030940000000001, 0.9168942082192282), (0.666, 0.998, 0.002, 0.7993592310772928, 0.0, 0.5, 0.0, 0.7907620000000001, 0.908269952236354), (0.666, 0.998, 0.002, 0.7993592310772928, 0.0, 0.5, 0.0, 0.819136, 0.9179261725239001), (0.666, 0.998, 0.002, 0.7993592310772928, 0.0, 0.5, 0.0, 0.8097620000000001, 0.9168027711235994), (0.666, 0.998, 0.002, 0.7993592310772928, 0.0, 0.5, 0.0, 0.847925, 0.9353452447354853), (0.666, 0.998, 0.002, 0.7993592310772928, 0.0, 0.5, 0.0, 0.69861, 0.8625028833150379), (0.666, 0.998, 0.002, 0.7993592310772928, 0.0, 0.5, 0.0, 0.738032, 0.8883506893978568), (0.666, 0.998, 0.002, 0.7993592310772928, 0.0, 0.5, 0.0, 0.740571, 0.8861704171811238), (0.666, 0.998, 0.002, 0.7993592310772928, 0.0, 0.5, 0.0, 0.679063, 0.861504813155078), (0.666, 0.998, 0.002, 0.7993592310772928, 0.0, 0.5, 0.0, 0.827574, 0.9255745072668243)]\n",
      "[ 50   0   0 100]\n",
      " \n",
      "Training/ Validation / Test BACC : 1.0 / 1.0 / 1.0  \n",
      "Training/ Validation / Test Youden-index: 1.0 / 1.0 / 1.0  \n",
      "Training/ Validation / Test MCC: 1.0 / 1.0 / 1.0  \n",
      "Training/ Validation / Test AUC: 1.0 / 1.0 / 1.0  \n",
      "Training/ Validation / Test AUPR: 1.0 / 1.0 / 1.0\n",
      "[(0.666, 0.998, 0.002, 0.7993592310772928, 0.0, 0.5, 0.0, 0.44960100000000003, 0.8041608711799083)]\n",
      "[ 50   0   0 100]\n",
      " \n",
      "Training/ Validation / Test BACC : 1.0 / 1.0 / 1.0  \n",
      "Training/ Validation / Test Youden-index: 1.0 / 1.0 / 1.0  \n",
      "Training/ Validation / Test MCC: 1.0 / 1.0 / 1.0  \n",
      "Training/ Validation / Test AUC: 1.0 / 1.0 / 1.0  \n",
      "Training/ Validation / Test AUPR: 1.0 / 1.0 / 1.0\n",
      "[(0.666, 0.998, 0.002, 0.7993592310772928, 0.0, 0.5, 0.0, 0.44960100000000003, 0.8041608711799083), (0.666, 0.998, 0.002, 0.7993592310772928, 0.0, 0.5, 0.0, 0.414172, 0.7828926969950187)]\n",
      "[ 50   0   0 100]\n",
      " \n",
      "Training/ Validation / Test BACC : 1.0 / 1.0 / 1.0  \n",
      "Training/ Validation / Test Youden-index: 1.0 / 1.0 / 1.0  \n",
      "Training/ Validation / Test MCC: 1.0 / 1.0 / 1.0  \n",
      "Training/ Validation / Test AUC: 1.0 / 1.0 / 1.0  \n",
      "Training/ Validation / Test AUPR: 1.0 / 1.0 / 1.0\n",
      "[(0.666, 0.998, 0.002, 0.7993592310772928, 0.0, 0.5, 0.0, 0.44960100000000003, 0.8041608711799083), (0.666, 0.998, 0.002, 0.7993592310772928, 0.0, 0.5, 0.0, 0.414172, 0.7828926969950187), (0.666, 0.998, 0.002, 0.7993592310772928, 0.0, 0.5, 0.0, 0.41666699999999995, 0.7844189290812957)]\n",
      "[ 50   0   0 100]\n",
      " \n",
      "Training/ Validation / Test BACC : 1.0 / 1.0 / 1.0  \n",
      "Training/ Validation / Test Youden-index: 1.0 / 1.0 / 1.0  \n",
      "Training/ Validation / Test MCC: 1.0 / 1.0 / 1.0  \n",
      "Training/ Validation / Test AUC: 1.0 / 1.0 / 1.0  \n",
      "Training/ Validation / Test AUPR: 1.0 / 1.0 / 1.0\n",
      "[(0.666, 0.998, 0.002, 0.7993592310772928, 0.0, 0.5, 0.0, 0.44960100000000003, 0.8041608711799083), (0.666, 0.998, 0.002, 0.7993592310772928, 0.0, 0.5, 0.0, 0.414172, 0.7828926969950187), (0.666, 0.998, 0.002, 0.7993592310772928, 0.0, 0.5, 0.0, 0.41666699999999995, 0.7844189290812957), (0.666, 0.998, 0.002, 0.7993592310772928, 0.0, 0.5, 0.0, 0.416168, 0.7841140354900871)]\n",
      "[ 50   0   0 100]\n",
      " \n",
      "Training/ Validation / Test BACC : 1.0 / 0.99 / 1.0  \n",
      "Training/ Validation / Test Youden-index: 1.0 / 0.98 / 1.0  \n",
      "Training/ Validation / Test MCC: 1.0 / 0.9850365626224087 / 1.0  \n",
      "Training/ Validation / Test AUC: 1.0 / 1.0 / 1.0  \n",
      "Training/ Validation / Test AUPR: 1.0 / 1.0 / 1.0\n",
      "[(0.666, 0.998, 0.002, 0.7993592310772928, 0.0, 0.5, 0.0, 0.44960100000000003, 0.8041608711799083), (0.666, 0.998, 0.002, 0.7993592310772928, 0.0, 0.5, 0.0, 0.414172, 0.7828926969950187), (0.666, 0.998, 0.002, 0.7993592310772928, 0.0, 0.5, 0.0, 0.41666699999999995, 0.7844189290812957), (0.666, 0.998, 0.002, 0.7993592310772928, 0.0, 0.5, 0.0, 0.416168, 0.7841140354900871), (0.666, 0.998, 0.002, 0.7993592310772928, 0.0, 0.5, 0.0, 0.483533, 0.8237516033647057)]\n",
      "[ 50   0   0 100]\n",
      " \n",
      "Training/ Validation / Test BACC : 1.0 / 1.0 / 1.0  \n",
      "Training/ Validation / Test Youden-index: 1.0 / 1.0 / 1.0  \n",
      "Training/ Validation / Test MCC: 1.0 / 1.0 / 1.0  \n",
      "Training/ Validation / Test AUC: 1.0 / 1.0 / 1.0  \n",
      "Training/ Validation / Test AUPR: 1.0 / 1.0 / 1.0\n",
      "[(0.666, 0.998, 0.002, 0.7993592310772928, 0.0, 0.5, 0.0, 0.44960100000000003, 0.8041608711799083), (0.666, 0.998, 0.002, 0.7993592310772928, 0.0, 0.5, 0.0, 0.414172, 0.7828926969950187), (0.666, 0.998, 0.002, 0.7993592310772928, 0.0, 0.5, 0.0, 0.41666699999999995, 0.7844189290812957), (0.666, 0.998, 0.002, 0.7993592310772928, 0.0, 0.5, 0.0, 0.416168, 0.7841140354900871), (0.666, 0.998, 0.002, 0.7993592310772928, 0.0, 0.5, 0.0, 0.483533, 0.8237516033647057), (0.666, 0.998, 0.002, 0.7993592310772928, 0.0, 0.5, 0.0, 0.411178, 0.7810553690424549)]\n",
      "[ 50   0   0 100]\n",
      " \n",
      "Training/ Validation / Test BACC : 1.0 / 1.0 / 1.0  \n",
      "Training/ Validation / Test Youden-index: 1.0 / 1.0 / 1.0  \n",
      "Training/ Validation / Test MCC: 1.0 / 1.0 / 1.0  \n",
      "Training/ Validation / Test AUC: 1.0 / 1.0 / 1.0  \n",
      "Training/ Validation / Test AUPR: 1.0 / 1.0 / 1.0\n",
      "[(0.666, 0.998, 0.002, 0.7993592310772928, 0.0, 0.5, 0.0, 0.44960100000000003, 0.8041608711799083), (0.666, 0.998, 0.002, 0.7993592310772928, 0.0, 0.5, 0.0, 0.414172, 0.7828926969950187), (0.666, 0.998, 0.002, 0.7993592310772928, 0.0, 0.5, 0.0, 0.41666699999999995, 0.7844189290812957), (0.666, 0.998, 0.002, 0.7993592310772928, 0.0, 0.5, 0.0, 0.416168, 0.7841140354900871), (0.666, 0.998, 0.002, 0.7993592310772928, 0.0, 0.5, 0.0, 0.483533, 0.8237516033647057), (0.666, 0.998, 0.002, 0.7993592310772928, 0.0, 0.5, 0.0, 0.411178, 0.7810553690424549), (0.666, 0.998, 0.002, 0.7993592310772928, 0.0, 0.5, 0.0, 0.41666699999999995, 0.7844189288572605)]\n",
      "[ 50   0   0 100]\n",
      " \n",
      "Training/ Validation / Test BACC : 1.0 / 1.0 / 1.0  \n",
      "Training/ Validation / Test Youden-index: 1.0 / 1.0 / 1.0  \n",
      "Training/ Validation / Test MCC: 1.0 / 1.0 / 1.0  \n",
      "Training/ Validation / Test AUC: 1.0 / 1.0 / 1.0  \n",
      "Training/ Validation / Test AUPR: 1.0 / 1.0 / 1.0\n",
      "[(0.666, 0.998, 0.002, 0.7993592310772928, 0.0, 0.5, 0.0, 0.44960100000000003, 0.8041608711799083), (0.666, 0.998, 0.002, 0.7993592310772928, 0.0, 0.5, 0.0, 0.414172, 0.7828926969950187), (0.666, 0.998, 0.002, 0.7993592310772928, 0.0, 0.5, 0.0, 0.41666699999999995, 0.7844189290812957), (0.666, 0.998, 0.002, 0.7993592310772928, 0.0, 0.5, 0.0, 0.416168, 0.7841140354900871), (0.666, 0.998, 0.002, 0.7993592310772928, 0.0, 0.5, 0.0, 0.483533, 0.8237516033647057), (0.666, 0.998, 0.002, 0.7993592310772928, 0.0, 0.5, 0.0, 0.411178, 0.7810553690424549), (0.666, 0.998, 0.002, 0.7993592310772928, 0.0, 0.5, 0.0, 0.41666699999999995, 0.7844189288572605), (0.666, 0.998, 0.002, 0.7993592310772928, 0.0, 0.5, 0.0, 0.419162, 0.7859407550757791)]\n",
      "[ 50   0   0 100]\n",
      " \n",
      "Training/ Validation / Test BACC : 1.0 / 1.0 / 1.0  \n",
      "Training/ Validation / Test Youden-index: 1.0 / 1.0 / 1.0  \n",
      "Training/ Validation / Test MCC: 1.0 / 1.0 / 1.0  \n",
      "Training/ Validation / Test AUC: 1.0 / 1.0 / 1.0  \n",
      "Training/ Validation / Test AUPR: 1.0 / 1.0 / 1.0\n",
      "[(0.666, 0.998, 0.002, 0.7993592310772928, 0.0, 0.5, 0.0, 0.44960100000000003, 0.8041608711799083), (0.666, 0.998, 0.002, 0.7993592310772928, 0.0, 0.5, 0.0, 0.414172, 0.7828926969950187), (0.666, 0.998, 0.002, 0.7993592310772928, 0.0, 0.5, 0.0, 0.41666699999999995, 0.7844189290812957), (0.666, 0.998, 0.002, 0.7993592310772928, 0.0, 0.5, 0.0, 0.416168, 0.7841140354900871), (0.666, 0.998, 0.002, 0.7993592310772928, 0.0, 0.5, 0.0, 0.483533, 0.8237516033647057), (0.666, 0.998, 0.002, 0.7993592310772928, 0.0, 0.5, 0.0, 0.411178, 0.7810553690424549), (0.666, 0.998, 0.002, 0.7993592310772928, 0.0, 0.5, 0.0, 0.41666699999999995, 0.7844189288572605), (0.666, 0.998, 0.002, 0.7993592310772928, 0.0, 0.5, 0.0, 0.419162, 0.7859407550757791), (0.666, 0.998, 0.002, 0.7993592310772928, 0.0, 0.5, 0.0, 0.414172, 0.7828926971627703)]\n",
      "[ 50   0   0 100]\n",
      " \n",
      "Training/ Validation / Test BACC : 1.0 / 1.0 / 1.0  \n",
      "Training/ Validation / Test Youden-index: 1.0 / 1.0 / 1.0  \n",
      "Training/ Validation / Test MCC: 1.0 / 1.0 / 1.0  \n",
      "Training/ Validation / Test AUC: 1.0 / 1.0 / 1.0  \n",
      "Training/ Validation / Test AUPR: 1.0 / 1.0 / 1.0\n"
     ]
    },
    {
     "name": "stdout",
     "output_type": "stream",
     "text": [
      "[(0.666, 0.998, 0.002, 0.7993592310772928, 0.0, 0.5, 0.0, 0.44960100000000003, 0.8041608711799083), (0.666, 0.998, 0.002, 0.7993592310772928, 0.0, 0.5, 0.0, 0.414172, 0.7828926969950187), (0.666, 0.998, 0.002, 0.7993592310772928, 0.0, 0.5, 0.0, 0.41666699999999995, 0.7844189290812957), (0.666, 0.998, 0.002, 0.7993592310772928, 0.0, 0.5, 0.0, 0.416168, 0.7841140354900871), (0.666, 0.998, 0.002, 0.7993592310772928, 0.0, 0.5, 0.0, 0.483533, 0.8237516033647057), (0.666, 0.998, 0.002, 0.7993592310772928, 0.0, 0.5, 0.0, 0.411178, 0.7810553690424549), (0.666, 0.998, 0.002, 0.7993592310772928, 0.0, 0.5, 0.0, 0.41666699999999995, 0.7844189288572605), (0.666, 0.998, 0.002, 0.7993592310772928, 0.0, 0.5, 0.0, 0.419162, 0.7859407550757791), (0.666, 0.998, 0.002, 0.7993592310772928, 0.0, 0.5, 0.0, 0.414172, 0.7828926971627703), (0.666, 0.998, 0.002, 0.7993592310772928, 0.0, 0.5, 0.0, 0.41666699999999995, 0.7844189292378976)]\n",
      "[ 48   2   0 100]\n",
      " \n",
      "Training/ Validation / Test BACC : 0.9762500000000001 / 0.965 / 0.98  \n",
      "Training/ Validation / Test Youden-index: 0.9525000000000001 / 0.9299999999999999 / 0.96  \n",
      "Training/ Validation / Test MCC: 0.9645739631583108 / 0.9398255470157904 / 0.9701425001453319  \n",
      "Training/ Validation / Test AUC: 0.98726875 / 0.9845999999999999 / 0.9868  \n",
      "Training/ Validation / Test AUPR: 0.9915409168085216 / 0.9874921745410133 / 0.9894016769204201\n"
     ]
    }
   ],
   "source": [
    "perf_raw_r6g_1 = get_all_clf_res(r6g_b1_raw, r6g_b2_raw, 'r6g_b1b2', 'raw')\n",
    "perf_raw_r6g_2 = get_all_clf_res(r6g_b2_raw, r6g_b1_raw, 'r6g_b2b1', 'raw')\n",
    "\n",
    "perf_psn_r6g_1 = get_all_clf_res(r6g_b1_psn, r6g_b2_psn, 'r6g_b1b2', 'psn')\n",
    "perf_psn_r6g_2 = get_all_clf_res(r6g_b2_psn, r6g_b1_psn, 'r6g_b2b1', 'psn')\n",
    "\n",
    "perf_bn_r6g_1 = get_all_clf_res(r6g_b1_bn, r6g_b2_bn, 'r6g_b1b2', 'bn')\n",
    "perf_bn_r6g_2 = get_all_clf_res(r6g_b2_bn, r6g_b1_bn, 'r6g_b2b1', 'bn')"
   ]
  }
 ],
 "metadata": {
  "kernelspec": {
   "display_name": "Python 3",
   "language": "python",
   "name": "python3"
  },
  "language_info": {
   "codemirror_mode": {
    "name": "ipython",
    "version": 3
   },
   "file_extension": ".py",
   "mimetype": "text/x-python",
   "name": "python",
   "nbconvert_exporter": "python",
   "pygments_lexer": "ipython3",
   "version": "3.8.5"
  }
 },
 "nbformat": 4,
 "nbformat_minor": 4
}
